{
 "cells": [
  {
   "cell_type": "code",
   "execution_count": 15,
   "metadata": {},
   "outputs": [
    {
     "data": {
      "text/html": [
       "<div>\n",
       "<style scoped>\n",
       "    .dataframe tbody tr th:only-of-type {\n",
       "        vertical-align: middle;\n",
       "    }\n",
       "\n",
       "    .dataframe tbody tr th {\n",
       "        vertical-align: top;\n",
       "    }\n",
       "\n",
       "    .dataframe thead th {\n",
       "        text-align: right;\n",
       "    }\n",
       "</style>\n",
       "<table border=\"1\" class=\"dataframe\">\n",
       "  <thead>\n",
       "    <tr style=\"text-align: right;\">\n",
       "      <th></th>\n",
       "      <th>query_id</th>\n",
       "      <th>query</th>\n",
       "      <th>question</th>\n",
       "      <th>narrative</th>\n",
       "    </tr>\n",
       "  </thead>\n",
       "  <tbody>\n",
       "    <tr>\n",
       "      <th>0</th>\n",
       "      <td>1</td>\n",
       "      <td>coronavirus origin</td>\n",
       "      <td>what is the origin of COVID-19</td>\n",
       "      <td>seeking range of information about the SARS-Co...</td>\n",
       "    </tr>\n",
       "    <tr>\n",
       "      <th>1</th>\n",
       "      <td>2</td>\n",
       "      <td>coronavirus response to weather changes</td>\n",
       "      <td>how does the coronavirus respond to changes in...</td>\n",
       "      <td>seeking range of information about the SARS-Co...</td>\n",
       "    </tr>\n",
       "    <tr>\n",
       "      <th>2</th>\n",
       "      <td>3</td>\n",
       "      <td>coronavirus immunity</td>\n",
       "      <td>will SARS-CoV2 infected people develop immunit...</td>\n",
       "      <td>seeking studies of immunity developed due to i...</td>\n",
       "    </tr>\n",
       "    <tr>\n",
       "      <th>3</th>\n",
       "      <td>4</td>\n",
       "      <td>how do people die from the coronavirus</td>\n",
       "      <td>what causes death from Covid-19?</td>\n",
       "      <td>Studies looking at mechanisms of death from Co...</td>\n",
       "    </tr>\n",
       "    <tr>\n",
       "      <th>4</th>\n",
       "      <td>5</td>\n",
       "      <td>animal models of COVID-19</td>\n",
       "      <td>what drugs have been active against SARS-CoV o...</td>\n",
       "      <td>Papers that describe the results  of testing d...</td>\n",
       "    </tr>\n",
       "  </tbody>\n",
       "</table>\n",
       "</div>"
      ],
      "text/plain": [
       "  query_id                                    query  \\\n",
       "0        1                       coronavirus origin   \n",
       "1        2  coronavirus response to weather changes   \n",
       "2        3                     coronavirus immunity   \n",
       "3        4   how do people die from the coronavirus   \n",
       "4        5                animal models of COVID-19   \n",
       "\n",
       "                                            question  \\\n",
       "0                     what is the origin of COVID-19   \n",
       "1  how does the coronavirus respond to changes in...   \n",
       "2  will SARS-CoV2 infected people develop immunit...   \n",
       "3                   what causes death from Covid-19?   \n",
       "4  what drugs have been active against SARS-CoV o...   \n",
       "\n",
       "                                           narrative  \n",
       "0  seeking range of information about the SARS-Co...  \n",
       "1  seeking range of information about the SARS-Co...  \n",
       "2  seeking studies of immunity developed due to i...  \n",
       "3  Studies looking at mechanisms of death from Co...  \n",
       "4  Papers that describe the results  of testing d...  "
      ]
     },
     "execution_count": 15,
     "metadata": {},
     "output_type": "execute_result"
    }
   ],
   "source": [
    "import requests\n",
    "import xml.etree.ElementTree as ET\n",
    "import pandas as pd\n",
    "import os\n",
    "\n",
    "#  URL for the topic queries\n",
    "url = \"https://ir.nist.gov/covidSubmit/data/topics-rnd1.xml\"\n",
    "\n",
    "#  Télécharger le fichier XML\n",
    "response = requests.get(url)\n",
    "response.raise_for_status()  #  To verify the file was correctly downloaded\n",
    "\n",
    "#  Parse the XML content\n",
    "root = ET.fromstring(response.content)\n",
    "\n",
    "#  Extract the topics\n",
    "queries = []\n",
    "for topic in root.findall(\"topic\"):\n",
    "    query_id = topic.attrib.get(\"number\")\n",
    "    query_text = topic.find(\"query\").text.strip() if topic.find(\"query\") is not None else \"\"\n",
    "    question = topic.find(\"question\").text.strip() if topic.find(\"question\") is not None else \"\"\n",
    "    narrative = topic.find(\"narrative\").text.strip() if topic.find(\"narrative\") is not None else \"\"\n",
    "    \n",
    "    queries.append({\n",
    "        \"query_id\": query_id,\n",
    "        \"query\": query_text,\n",
    "        \"question\": question,\n",
    "        \"narrative\": narrative\n",
    "    })\n",
    "\n",
    "#  Convert to DataFrame\n",
    "queries_df = pd.DataFrame(queries)\n",
    "\n",
    "#  Save into the data/ folder\n",
    "#  Create the folder if it does not exist\n",
    "os.makedirs(\"\\S2\\TAL\\Projet\\data\", exist_ok=True)\n",
    "queries_df.to_csv(\"\\S2\\TAL\\Projet\\data\\queries_rnd1.csv\", index=False)\n",
    "\n",
    "#  Display the first rows\n",
    "queries_df.head()\n"
   ]
  },
  {
   "cell_type": "code",
   "execution_count": 8,
   "metadata": {},
   "outputs": [
    {
     "data": {
      "text/plain": [
       "'Studies looking at mechanisms of death from Covid-19.'"
      ]
     },
     "execution_count": 8,
     "metadata": {},
     "output_type": "execute_result"
    }
   ],
   "source": [
    "queries_df.iloc[3]['narrative']"
   ]
  },
  {
   "cell_type": "code",
   "execution_count": 12,
   "metadata": {},
   "outputs": [
    {
     "data": {
      "text/plain": [
       "numpy.int64"
      ]
     },
     "execution_count": 12,
     "metadata": {},
     "output_type": "execute_result"
    }
   ],
   "source": [
    "type(queries_df['query_id'][0])"
   ]
  },
  {
   "cell_type": "markdown",
   "metadata": {},
   "source": [
    "### Narratives are not answers, but descriptions explaining what a relevant answer should contain."
   ]
  },
  {
   "cell_type": "markdown",
   "metadata": {},
   "source": [
    "### Loading and saving qrels"
   ]
  },
  {
   "cell_type": "code",
   "execution_count": 16,
   "metadata": {},
   "outputs": [
    {
     "name": "stdout",
     "output_type": "stream",
     "text": [
      "Fichier qrels_rnd1.csv prêt et sauvegardé dans data/\n"
     ]
    }
   ],
   "source": [
    "import pandas as pd\n",
    "import requests\n",
    "import os\n",
    "\n",
    "#  URL du fichier qrels\n",
    "url = \"https://ir.nist.gov/covidSubmit/data/qrels-rnd1.txt\"\n",
    "\n",
    "#  Créer le dossier 'data' s’il n’existe pas\n",
    "os.makedirs(\"\\S2\\TAL\\Projet\\data\", exist_ok=True)\n",
    "\n",
    "#  Télécharger le fichier\n",
    "response = requests.get(url)\n",
    "response.raise_for_status()\n",
    "\n",
    "#  Sauvegarder temporairement dans un fichier texte\n",
    "qrels_path = \"\\S2\\TAL\\Projet\\data/qrels-rnd1.txt\"\n",
    "with open(qrels_path, \"wb\") as f:\n",
    "    f.write(response.content)\n",
    "\n",
    "#  Charger le fichier dans un DataFrame\n",
    "qrels_df = pd.read_csv(qrels_path, sep=\" \", header=None, names=[\"query_id\", \"ignored\", \"doc_id\", \"relevance\"])\n",
    "\n",
    "#  Supprimer la colonne inutile\n",
    "qrels_df.drop(columns=[\"ignored\"], inplace=True)\n",
    "\n",
    "#  Le type des query_id a été constaté comme étant float, changeons le type \n",
    "qrels_df[\"query_id\"] = qrels_df[\"query_id\"].astype(int)\n",
    "\n",
    "#  Sauvegarder au format CSV propre\n",
    "qrels_df.to_csv(\"\\S2\\TAL\\Projet\\data/qrels_rnd1.csv\", index=False)\n",
    "\n",
    "print(\"Fichier qrels_rnd1.csv prêt et sauvegardé dans data/\")\n"
   ]
  },
  {
   "cell_type": "code",
   "execution_count": 21,
   "metadata": {},
   "outputs": [
    {
     "data": {
      "text/plain": [
       "(51078, 18)"
      ]
     },
     "execution_count": 21,
     "metadata": {},
     "output_type": "execute_result"
    }
   ],
   "source": [
    "metadata = pd.read_csv(\"\\S2\\TAL\\Projet\\data\\metadata.csv\")\n",
    "\n",
    "metadata.shape"
   ]
  },
  {
   "cell_type": "code",
   "execution_count": 22,
   "metadata": {},
   "outputs": [
    {
     "data": {
      "text/html": [
       "<div>\n",
       "<style scoped>\n",
       "    .dataframe tbody tr th:only-of-type {\n",
       "        vertical-align: middle;\n",
       "    }\n",
       "\n",
       "    .dataframe tbody tr th {\n",
       "        vertical-align: top;\n",
       "    }\n",
       "\n",
       "    .dataframe thead th {\n",
       "        text-align: right;\n",
       "    }\n",
       "</style>\n",
       "<table border=\"1\" class=\"dataframe\">\n",
       "  <thead>\n",
       "    <tr style=\"text-align: right;\">\n",
       "      <th></th>\n",
       "      <th>cord_uid</th>\n",
       "      <th>sha</th>\n",
       "      <th>source_x</th>\n",
       "      <th>title</th>\n",
       "      <th>doi</th>\n",
       "      <th>pmcid</th>\n",
       "      <th>pubmed_id</th>\n",
       "      <th>license</th>\n",
       "      <th>abstract</th>\n",
       "      <th>publish_time</th>\n",
       "      <th>authors</th>\n",
       "      <th>journal</th>\n",
       "      <th>Microsoft Academic Paper ID</th>\n",
       "      <th>WHO #Covidence</th>\n",
       "      <th>has_pdf_parse</th>\n",
       "      <th>has_pmc_xml_parse</th>\n",
       "      <th>full_text_file</th>\n",
       "      <th>url</th>\n",
       "    </tr>\n",
       "  </thead>\n",
       "  <tbody>\n",
       "    <tr>\n",
       "      <th>0</th>\n",
       "      <td>xqhn0vbp</td>\n",
       "      <td>1e1286db212100993d03cc22374b624f7caee956</td>\n",
       "      <td>PMC</td>\n",
       "      <td>Airborne rhinovirus detection and effect of ul...</td>\n",
       "      <td>10.1186/1471-2458-3-5</td>\n",
       "      <td>PMC140314</td>\n",
       "      <td>12525263.0</td>\n",
       "      <td>no-cc</td>\n",
       "      <td>BACKGROUND: Rhinovirus, the most common cause ...</td>\n",
       "      <td>2003-01-13</td>\n",
       "      <td>Myatt, Theodore A; Johnston, Sebastian L; Rudn...</td>\n",
       "      <td>BMC Public Health</td>\n",
       "      <td>NaN</td>\n",
       "      <td>NaN</td>\n",
       "      <td>True</td>\n",
       "      <td>True</td>\n",
       "      <td>custom_license</td>\n",
       "      <td>https://www.ncbi.nlm.nih.gov/pmc/articles/PMC1...</td>\n",
       "    </tr>\n",
       "    <tr>\n",
       "      <th>1</th>\n",
       "      <td>gi6uaa83</td>\n",
       "      <td>8ae137c8da1607b3a8e4c946c07ca8bda67f88ac</td>\n",
       "      <td>PMC</td>\n",
       "      <td>Discovering human history from stomach bacteria</td>\n",
       "      <td>10.1186/gb-2003-4-5-213</td>\n",
       "      <td>PMC156578</td>\n",
       "      <td>12734001.0</td>\n",
       "      <td>no-cc</td>\n",
       "      <td>Recent analyses of human pathogens have reveal...</td>\n",
       "      <td>2003-04-28</td>\n",
       "      <td>Disotell, Todd R</td>\n",
       "      <td>Genome Biol</td>\n",
       "      <td>NaN</td>\n",
       "      <td>NaN</td>\n",
       "      <td>True</td>\n",
       "      <td>True</td>\n",
       "      <td>custom_license</td>\n",
       "      <td>https://www.ncbi.nlm.nih.gov/pmc/articles/PMC1...</td>\n",
       "    </tr>\n",
       "    <tr>\n",
       "      <th>2</th>\n",
       "      <td>le0ogx1s</td>\n",
       "      <td>NaN</td>\n",
       "      <td>PMC</td>\n",
       "      <td>A new recruit for the army of the men of death</td>\n",
       "      <td>10.1186/gb-2003-4-7-113</td>\n",
       "      <td>PMC193621</td>\n",
       "      <td>12844350.0</td>\n",
       "      <td>no-cc</td>\n",
       "      <td>The army of the men of death, in John Bunyan's...</td>\n",
       "      <td>2003-06-27</td>\n",
       "      <td>Petsko, Gregory A</td>\n",
       "      <td>Genome Biol</td>\n",
       "      <td>NaN</td>\n",
       "      <td>NaN</td>\n",
       "      <td>False</td>\n",
       "      <td>True</td>\n",
       "      <td>custom_license</td>\n",
       "      <td>https://www.ncbi.nlm.nih.gov/pmc/articles/PMC1...</td>\n",
       "    </tr>\n",
       "    <tr>\n",
       "      <th>3</th>\n",
       "      <td>fy4w7xz8</td>\n",
       "      <td>0104f6ceccf92ae8567a0102f89cbb976969a774</td>\n",
       "      <td>PMC</td>\n",
       "      <td>Association of HLA class I with severe acute r...</td>\n",
       "      <td>10.1186/1471-2350-4-9</td>\n",
       "      <td>PMC212558</td>\n",
       "      <td>12969506.0</td>\n",
       "      <td>no-cc</td>\n",
       "      <td>BACKGROUND: The human leukocyte antigen (HLA) ...</td>\n",
       "      <td>2003-09-12</td>\n",
       "      <td>Lin, Marie; Tseng, Hsiang-Kuang; Trejaut, Jean...</td>\n",
       "      <td>BMC Med Genet</td>\n",
       "      <td>NaN</td>\n",
       "      <td>NaN</td>\n",
       "      <td>True</td>\n",
       "      <td>True</td>\n",
       "      <td>custom_license</td>\n",
       "      <td>https://www.ncbi.nlm.nih.gov/pmc/articles/PMC2...</td>\n",
       "    </tr>\n",
       "    <tr>\n",
       "      <th>4</th>\n",
       "      <td>0qaoam29</td>\n",
       "      <td>5b68a553a7cbbea13472721cd1ad617d42b40c26</td>\n",
       "      <td>PMC</td>\n",
       "      <td>A double epidemic model for the SARS propagation</td>\n",
       "      <td>10.1186/1471-2334-3-19</td>\n",
       "      <td>PMC222908</td>\n",
       "      <td>12964944.0</td>\n",
       "      <td>no-cc</td>\n",
       "      <td>BACKGROUND: An epidemic of a Severe Acute Resp...</td>\n",
       "      <td>2003-09-10</td>\n",
       "      <td>Ng, Tuen Wai; Turinici, Gabriel; Danchin, Antoine</td>\n",
       "      <td>BMC Infect Dis</td>\n",
       "      <td>NaN</td>\n",
       "      <td>NaN</td>\n",
       "      <td>True</td>\n",
       "      <td>True</td>\n",
       "      <td>custom_license</td>\n",
       "      <td>https://www.ncbi.nlm.nih.gov/pmc/articles/PMC2...</td>\n",
       "    </tr>\n",
       "  </tbody>\n",
       "</table>\n",
       "</div>"
      ],
      "text/plain": [
       "   cord_uid                                       sha source_x  \\\n",
       "0  xqhn0vbp  1e1286db212100993d03cc22374b624f7caee956      PMC   \n",
       "1  gi6uaa83  8ae137c8da1607b3a8e4c946c07ca8bda67f88ac      PMC   \n",
       "2  le0ogx1s                                       NaN      PMC   \n",
       "3  fy4w7xz8  0104f6ceccf92ae8567a0102f89cbb976969a774      PMC   \n",
       "4  0qaoam29  5b68a553a7cbbea13472721cd1ad617d42b40c26      PMC   \n",
       "\n",
       "                                               title                      doi  \\\n",
       "0  Airborne rhinovirus detection and effect of ul...    10.1186/1471-2458-3-5   \n",
       "1    Discovering human history from stomach bacteria  10.1186/gb-2003-4-5-213   \n",
       "2     A new recruit for the army of the men of death  10.1186/gb-2003-4-7-113   \n",
       "3  Association of HLA class I with severe acute r...    10.1186/1471-2350-4-9   \n",
       "4   A double epidemic model for the SARS propagation   10.1186/1471-2334-3-19   \n",
       "\n",
       "       pmcid   pubmed_id license  \\\n",
       "0  PMC140314  12525263.0   no-cc   \n",
       "1  PMC156578  12734001.0   no-cc   \n",
       "2  PMC193621  12844350.0   no-cc   \n",
       "3  PMC212558  12969506.0   no-cc   \n",
       "4  PMC222908  12964944.0   no-cc   \n",
       "\n",
       "                                            abstract publish_time  \\\n",
       "0  BACKGROUND: Rhinovirus, the most common cause ...   2003-01-13   \n",
       "1  Recent analyses of human pathogens have reveal...   2003-04-28   \n",
       "2  The army of the men of death, in John Bunyan's...   2003-06-27   \n",
       "3  BACKGROUND: The human leukocyte antigen (HLA) ...   2003-09-12   \n",
       "4  BACKGROUND: An epidemic of a Severe Acute Resp...   2003-09-10   \n",
       "\n",
       "                                             authors            journal  \\\n",
       "0  Myatt, Theodore A; Johnston, Sebastian L; Rudn...  BMC Public Health   \n",
       "1                                   Disotell, Todd R        Genome Biol   \n",
       "2                                  Petsko, Gregory A        Genome Biol   \n",
       "3  Lin, Marie; Tseng, Hsiang-Kuang; Trejaut, Jean...      BMC Med Genet   \n",
       "4  Ng, Tuen Wai; Turinici, Gabriel; Danchin, Antoine     BMC Infect Dis   \n",
       "\n",
       "   Microsoft Academic Paper ID WHO #Covidence  has_pdf_parse  \\\n",
       "0                          NaN            NaN           True   \n",
       "1                          NaN            NaN           True   \n",
       "2                          NaN            NaN          False   \n",
       "3                          NaN            NaN           True   \n",
       "4                          NaN            NaN           True   \n",
       "\n",
       "   has_pmc_xml_parse  full_text_file  \\\n",
       "0               True  custom_license   \n",
       "1               True  custom_license   \n",
       "2               True  custom_license   \n",
       "3               True  custom_license   \n",
       "4               True  custom_license   \n",
       "\n",
       "                                                 url  \n",
       "0  https://www.ncbi.nlm.nih.gov/pmc/articles/PMC1...  \n",
       "1  https://www.ncbi.nlm.nih.gov/pmc/articles/PMC1...  \n",
       "2  https://www.ncbi.nlm.nih.gov/pmc/articles/PMC1...  \n",
       "3  https://www.ncbi.nlm.nih.gov/pmc/articles/PMC2...  \n",
       "4  https://www.ncbi.nlm.nih.gov/pmc/articles/PMC2...  "
      ]
     },
     "execution_count": 22,
     "metadata": {},
     "output_type": "execute_result"
    }
   ],
   "source": [
    "metadata.head()"
   ]
  },
  {
   "cell_type": "markdown",
   "metadata": {},
   "source": [
    "### Sélection des colonnes qui vont nous être utiles ici (cord_uid, title et abstract)"
   ]
  },
  {
   "cell_type": "code",
   "execution_count": 23,
   "metadata": {},
   "outputs": [],
   "source": [
    "#  Garder uniquement les colonnes utiles\n",
    "docs = metadata[[\"cord_uid\", \"title\", \"abstract\"]].dropna(subset=[\"abstract\"])"
   ]
  },
  {
   "cell_type": "code",
   "execution_count": 24,
   "metadata": {},
   "outputs": [],
   "source": [
    "#  Fusionner le titre et le résumé pour créer le texte de recherche\n",
    "docs[\"text\"] = docs[\"title\"].fillna(\"\") + \". \" + docs[\"abstract\"]"
   ]
  },
  {
   "cell_type": "code",
   "execution_count": 25,
   "metadata": {},
   "outputs": [],
   "source": [
    "#  Facultatif : supprimer les doublons\n",
    "docs = docs.drop_duplicates(subset=\"cord_uid\")"
   ]
  },
  {
   "cell_type": "code",
   "execution_count": 26,
   "metadata": {},
   "outputs": [
    {
     "data": {
      "text/html": [
       "<div>\n",
       "<style scoped>\n",
       "    .dataframe tbody tr th:only-of-type {\n",
       "        vertical-align: middle;\n",
       "    }\n",
       "\n",
       "    .dataframe tbody tr th {\n",
       "        vertical-align: top;\n",
       "    }\n",
       "\n",
       "    .dataframe thead th {\n",
       "        text-align: right;\n",
       "    }\n",
       "</style>\n",
       "<table border=\"1\" class=\"dataframe\">\n",
       "  <thead>\n",
       "    <tr style=\"text-align: right;\">\n",
       "      <th></th>\n",
       "      <th>cord_uid</th>\n",
       "      <th>text</th>\n",
       "    </tr>\n",
       "  </thead>\n",
       "  <tbody>\n",
       "    <tr>\n",
       "      <th>0</th>\n",
       "      <td>xqhn0vbp</td>\n",
       "      <td>Airborne rhinovirus detection and effect of ul...</td>\n",
       "    </tr>\n",
       "    <tr>\n",
       "      <th>1</th>\n",
       "      <td>gi6uaa83</td>\n",
       "      <td>Discovering human history from stomach bacteri...</td>\n",
       "    </tr>\n",
       "    <tr>\n",
       "      <th>2</th>\n",
       "      <td>le0ogx1s</td>\n",
       "      <td>A new recruit for the army of the men of death...</td>\n",
       "    </tr>\n",
       "    <tr>\n",
       "      <th>3</th>\n",
       "      <td>fy4w7xz8</td>\n",
       "      <td>Association of HLA class I with severe acute r...</td>\n",
       "    </tr>\n",
       "    <tr>\n",
       "      <th>4</th>\n",
       "      <td>0qaoam29</td>\n",
       "      <td>A double epidemic model for the SARS propagati...</td>\n",
       "    </tr>\n",
       "  </tbody>\n",
       "</table>\n",
       "</div>"
      ],
      "text/plain": [
       "   cord_uid                                               text\n",
       "0  xqhn0vbp  Airborne rhinovirus detection and effect of ul...\n",
       "1  gi6uaa83  Discovering human history from stomach bacteri...\n",
       "2  le0ogx1s  A new recruit for the army of the men of death...\n",
       "3  fy4w7xz8  Association of HLA class I with severe acute r...\n",
       "4  0qaoam29  A double epidemic model for the SARS propagati..."
      ]
     },
     "execution_count": 26,
     "metadata": {},
     "output_type": "execute_result"
    }
   ],
   "source": [
    "docs[[\"cord_uid\", \"text\"]].head()"
   ]
  },
  {
   "cell_type": "markdown",
   "metadata": {},
   "source": [
    "#### Approche proposée par Julia"
   ]
  },
  {
   "cell_type": "code",
   "execution_count": 1,
   "metadata": {},
   "outputs": [
    {
     "name": "stderr",
     "output_type": "stream",
     "text": [
      "[INFO] [starting] building docstore\n",
      "[INFO] If you have a local copy of https://ai2-semanticscholar-cord-19.s3-us-west-2.amazonaws.com/2020-04-10/metadata.csv, you can symlink it here to avoid downloading it again: C:\\Users\\12407156\\.ir_datasets\\downloads\\42a21f386be86c24647a41bedde34046\n",
      "[INFO] [starting] https://ai2-semanticscholar-cord-19.s3-us-west-2.amazonaws.com/2020-04-10/metadata.csv\n",
      "                               \n",
      "\u001b[A                                                                                                                               [INFO] [finished] https://ai2-semanticscholar-cord-19.s3-us-west-2.amazonaws.com/2020-04-10/metadata.csv: [00:16] [77.3MB] [4.61MB/s]\n",
      "docs_iter: 51078doc [00:22, 2260.65doc/s]\n",
      "[INFO] [finished] docs_iter: [00:22] [51078doc] [2260.65doc/s]\n",
      "[INFO] [finished] building docstore [22.62s]\n",
      "Processing Round1: 51078it [00:07, 7060.36it/s] \n"
     ]
    },
    {
     "name": "stdout",
     "output_type": "stream",
     "text": [
      "Fichier sauvegardé pour Round 1 uniquement.\n"
     ]
    }
   ],
   "source": [
    "import pandas as pd\n",
    "import ir_datasets\n",
    "from nltk.tokenize import RegexpTokenizer\n",
    "from sklearn.feature_extraction.text import ENGLISH_STOP_WORDS\n",
    "from tqdm import tqdm\n",
    "\n",
    "#  Charger uniquement round1\n",
    "dataset = ir_datasets.load(\"cord19/trec-covid/round1\")\n",
    "\n",
    "#  Prétraitement\n",
    "tokenizer = RegexpTokenizer(r'\\w+')\n",
    "stop_words = ENGLISH_STOP_WORDS\n",
    "\n",
    "def preprocess(text):\n",
    "    tokens = tokenizer.tokenize(text.lower())\n",
    "    return \" \".join([t for t in tokens if t not in stop_words])\n",
    "\n",
    "#  Préparer corpus\n",
    "documents = []\n",
    "for doc in tqdm(dataset.docs_iter(), desc=\"Processing Round1\"):\n",
    "    title = doc.title or \"\"\n",
    "    abstract = doc.abstract or \"\"\n",
    "    full_text = f\"{title} {abstract}\".strip()\n",
    "    \n",
    "    if full_text:\n",
    "        processed = preprocess(full_text)\n",
    "        documents.append({\n",
    "            \"doc_id\": doc.doc_id,\n",
    "            \"title\": title,\n",
    "            \"abstract\": abstract,\n",
    "            \"processed_text\": processed\n",
    "        })\n"
   ]
  },
  {
   "cell_type": "code",
   "execution_count": 4,
   "metadata": {},
   "outputs": [
    {
     "name": "stdout",
     "output_type": "stream",
     "text": [
      "Fichier sauvegardé pour Round 1 uniquement.\n"
     ]
    }
   ],
   "source": [
    "import os\n",
    "df = pd.DataFrame(documents)\n",
    "df.to_csv(\"\\S2\\TAL\\Projet\\data\\cord19_round1_preprocessed.csv\", index=False)\n",
    "print(\"Fichier sauvegardé pour Round 1 uniquement.\")"
   ]
  },
  {
   "cell_type": "code",
   "execution_count": null,
   "metadata": {},
   "outputs": [
    {
     "data": {
      "text/html": [
       "<div>\n",
       "<style scoped>\n",
       "    .dataframe tbody tr th:only-of-type {\n",
       "        vertical-align: middle;\n",
       "    }\n",
       "\n",
       "    .dataframe tbody tr th {\n",
       "        vertical-align: top;\n",
       "    }\n",
       "\n",
       "    .dataframe thead th {\n",
       "        text-align: right;\n",
       "    }\n",
       "</style>\n",
       "<table border=\"1\" class=\"dataframe\">\n",
       "  <thead>\n",
       "    <tr style=\"text-align: right;\">\n",
       "      <th></th>\n",
       "      <th>query_id</th>\n",
       "      <th>query</th>\n",
       "      <th>question</th>\n",
       "      <th>narrative</th>\n",
       "    </tr>\n",
       "  </thead>\n",
       "  <tbody>\n",
       "    <tr>\n",
       "      <th>0</th>\n",
       "      <td>1</td>\n",
       "      <td>coronavirus origin</td>\n",
       "      <td>what is the origin of COVID-19</td>\n",
       "      <td>seeking range of information about the SARS-Co...</td>\n",
       "    </tr>\n",
       "    <tr>\n",
       "      <th>1</th>\n",
       "      <td>2</td>\n",
       "      <td>coronavirus response to weather changes</td>\n",
       "      <td>how does the coronavirus respond to changes in...</td>\n",
       "      <td>seeking range of information about the SARS-Co...</td>\n",
       "    </tr>\n",
       "    <tr>\n",
       "      <th>2</th>\n",
       "      <td>3</td>\n",
       "      <td>coronavirus immunity</td>\n",
       "      <td>will SARS-CoV2 infected people develop immunit...</td>\n",
       "      <td>seeking studies of immunity developed due to i...</td>\n",
       "    </tr>\n",
       "    <tr>\n",
       "      <th>3</th>\n",
       "      <td>4</td>\n",
       "      <td>how do people die from the coronavirus</td>\n",
       "      <td>what causes death from Covid-19?</td>\n",
       "      <td>Studies looking at mechanisms of death from Co...</td>\n",
       "    </tr>\n",
       "    <tr>\n",
       "      <th>4</th>\n",
       "      <td>5</td>\n",
       "      <td>animal models of COVID-19</td>\n",
       "      <td>what drugs have been active against SARS-CoV o...</td>\n",
       "      <td>Papers that describe the results  of testing d...</td>\n",
       "    </tr>\n",
       "  </tbody>\n",
       "</table>\n",
       "</div>"
      ],
      "text/plain": [
       "   query_id                                    query  \\\n",
       "0         1                       coronavirus origin   \n",
       "1         2  coronavirus response to weather changes   \n",
       "2         3                     coronavirus immunity   \n",
       "3         4   how do people die from the coronavirus   \n",
       "4         5                animal models of COVID-19   \n",
       "\n",
       "                                            question  \\\n",
       "0                     what is the origin of COVID-19   \n",
       "1  how does the coronavirus respond to changes in...   \n",
       "2  will SARS-CoV2 infected people develop immunit...   \n",
       "3                   what causes death from Covid-19?   \n",
       "4  what drugs have been active against SARS-CoV o...   \n",
       "\n",
       "                                           narrative  \n",
       "0  seeking range of information about the SARS-Co...  \n",
       "1  seeking range of information about the SARS-Co...  \n",
       "2  seeking studies of immunity developed due to i...  \n",
       "3  Studies looking at mechanisms of death from Co...  \n",
       "4  Papers that describe the results  of testing d...  "
      ]
     },
     "execution_count": 5,
     "metadata": {},
     "output_type": "execute_result"
    }
   ],
   "source": [
    "#  On peut maintenant concevoir le premier modèle pour la recherche d'informations dans les données médicales que nous\n",
    "#  venons de charger \n",
    "\n",
    "# # Nous avons déjà les requêtes ainsi que les bons documents (qrels) pour l'évaluation du modèle \n",
    "queries_df = pd.read_csv(\"\\S2\\TAL\\Projet\\data\\queries_rnd1.csv\")\n",
    "queries_df.head()\n"
   ]
  },
  {
   "cell_type": "code",
   "execution_count": 17,
   "metadata": {},
   "outputs": [
    {
     "data": {
      "text/html": [
       "<div>\n",
       "<style scoped>\n",
       "    .dataframe tbody tr th:only-of-type {\n",
       "        vertical-align: middle;\n",
       "    }\n",
       "\n",
       "    .dataframe tbody tr th {\n",
       "        vertical-align: top;\n",
       "    }\n",
       "\n",
       "    .dataframe thead th {\n",
       "        text-align: right;\n",
       "    }\n",
       "</style>\n",
       "<table border=\"1\" class=\"dataframe\">\n",
       "  <thead>\n",
       "    <tr style=\"text-align: right;\">\n",
       "      <th></th>\n",
       "      <th>query_id</th>\n",
       "      <th>doc_id</th>\n",
       "      <th>relevance</th>\n",
       "    </tr>\n",
       "  </thead>\n",
       "  <tbody>\n",
       "    <tr>\n",
       "      <th>0</th>\n",
       "      <td>0</td>\n",
       "      <td>010vptx3</td>\n",
       "      <td>2</td>\n",
       "    </tr>\n",
       "    <tr>\n",
       "      <th>1</th>\n",
       "      <td>1</td>\n",
       "      <td>02f0opkr</td>\n",
       "      <td>1</td>\n",
       "    </tr>\n",
       "    <tr>\n",
       "      <th>2</th>\n",
       "      <td>1</td>\n",
       "      <td>04ftw7k9</td>\n",
       "      <td>0</td>\n",
       "    </tr>\n",
       "    <tr>\n",
       "      <th>3</th>\n",
       "      <td>1</td>\n",
       "      <td>05qglt1f</td>\n",
       "      <td>0</td>\n",
       "    </tr>\n",
       "    <tr>\n",
       "      <th>4</th>\n",
       "      <td>1</td>\n",
       "      <td>0604jed8</td>\n",
       "      <td>0</td>\n",
       "    </tr>\n",
       "  </tbody>\n",
       "</table>\n",
       "</div>"
      ],
      "text/plain": [
       "   query_id    doc_id  relevance\n",
       "0         0  010vptx3          2\n",
       "1         1  02f0opkr          1\n",
       "2         1  04ftw7k9          0\n",
       "3         1  05qglt1f          0\n",
       "4         1  0604jed8          0"
      ]
     },
     "execution_count": 17,
     "metadata": {},
     "output_type": "execute_result"
    }
   ],
   "source": [
    "qrels_df = pd.read_csv(\"\\S2\\TAL\\Projet\\data\\qrels_rnd1.csv\")\n",
    "qrels_df.head()"
   ]
  },
  {
   "cell_type": "markdown",
   "metadata": {},
   "source": [
    "### Conception du premier modèle basé sur le calcul des similarités entre les requêtes(vectorisées) et la représentation TF-IDF de chaque document de notre corpus (matrice de vecteurs)\n",
    "\n",
    "Nous utiliserons la librairie sklearn de python ainsi que le calcul de similarité cosinus pour faire cela "
   ]
  },
  {
   "cell_type": "code",
   "execution_count": 19,
   "metadata": {},
   "outputs": [],
   "source": [
    "# # Chargement des données traitées\n",
    "\n",
    "import pandas as pd\n",
    "\n",
    "#  Charger le corpus traité\n",
    "corpus_df = pd.read_csv(\"\\S2\\TAL\\Projet\\data\\cord19_round1_preprocessed.csv\")\n",
    "#  Supprimer les documents sans texte\n",
    "corpus_df = corpus_df.dropna(subset=[\"processed_text\"])\n",
    "\n",
    "documents = corpus_df[\"processed_text\"].tolist()\n",
    "doc_ids = corpus_df[\"doc_id\"].tolist()\n"
   ]
  },
  {
   "cell_type": "code",
   "execution_count": 20,
   "metadata": {},
   "outputs": [],
   "source": [
    "# # Représentation des documents en vecteur de poids TF-IDF \n",
    "\n",
    "from sklearn.feature_extraction.text import TfidfVectorizer\n",
    "\n",
    "#  Initialiser le vecteur TF-IDF\n",
    "vectorizer = TfidfVectorizer()\n",
    "tfidf_matrix = vectorizer.fit_transform(documents)  #  sparse matrix\n"
   ]
  },
  {
   "cell_type": "markdown",
   "metadata": {},
   "source": [
    "### Appliquons la recherche des documents pour une requête, nous allons vectoriser la requête, faire le calcul de similarité cosinus puis retourner les k premiers documents qui ont une plus grande similarité cosinus "
   ]
  },
  {
   "cell_type": "code",
   "execution_count": 21,
   "metadata": {},
   "outputs": [
    {
     "name": "stdout",
     "output_type": "stream",
     "text": [
      "\n",
      "Score: 0.6458\n",
      "Doc ID: 73xil5op\n",
      "Bat origin of a new human coronavirus: there and back again\n",
      "\n",
      "Score: 0.4850\n",
      "Doc ID: 6foz003n\n",
      "Diversity of Coronaviruses in Bats: Insights Into Origin of SARS Coronavirus\n",
      "\n",
      "Score: 0.4542\n",
      "Doc ID: 29wzpwvr\n",
      "Coronavirus\n",
      "\n",
      "Score: 0.3915\n",
      "Doc ID: gv1k7u7j\n",
      "Strategies to trace back the origin of COVID-19\n",
      "\n",
      "Score: 0.3599\n",
      "Doc ID: mv3crcsh\n",
      "Mosaic Evolution of the Severe Acute Respiratory Syndrome Coronavirus\n",
      "\n",
      "Score: 0.3486\n",
      "Doc ID: wuegn0jg\n",
      "Bat-Origin Coronaviruses Expand Their Host Range to Pigs\n",
      "\n",
      "Score: 0.3371\n",
      "Doc ID: 9dj07sac\n",
      "The prevalence, origin, and prevention of six human coronaviruses\n",
      "\n",
      "Score: 0.3348\n",
      "Doc ID: 80e5xkht\n",
      "Reacting to the emergence of swine-origin influenza A H1N1\n",
      "\n",
      "Score: 0.3270\n",
      "Doc ID: kh21pnbw\n",
      "New coronavirus\n",
      "\n",
      "Score: 0.3127\n",
      "Doc ID: amr9p1w1\n",
      "What next for the coronavirus response?\n"
     ]
    }
   ],
   "source": [
    "from sklearn.metrics.pairwise import cosine_similarity\n",
    "\n",
    "#  Exemple de requête : query_id = 1\n",
    "from nltk.tokenize import RegexpTokenizer\n",
    "from sklearn.feature_extraction.text import ENGLISH_STOP_WORDS\n",
    "\n",
    "tokenizer = RegexpTokenizer(r'\\w+')\n",
    "stop_words = ENGLISH_STOP_WORDS\n",
    "\n",
    "def preprocess(text):\n",
    "    tokens = tokenizer.tokenize(text.lower())\n",
    "    return \" \".join([word for word in tokens if word not in stop_words])\n",
    "\n",
    "#  Exemple d'une requête (tu pourras automatiser ça ensuite)\n",
    "query = \"coronavirus origin\"\n",
    "processed_query = preprocess(query)\n",
    "\n",
    "#  Vectoriser la requête\n",
    "query_vec = vectorizer.transform([processed_query])\n",
    "\n",
    "#  Calculer la similarité cosinus\n",
    "cos_sim = cosine_similarity(query_vec, tfidf_matrix).flatten()\n",
    "\n",
    "#  Récupérer les top-k documents les plus similaires\n",
    "top_k = 10\n",
    "top_indices = cos_sim.argsort()[::-1][:top_k]\n",
    "\n",
    "#  Affichage des résultats\n",
    "for i in top_indices:\n",
    "    print(f\"\\nScore: {cos_sim[i]:.4f}\")\n",
    "    print(f\"Doc ID: {doc_ids[i]}\")\n",
    "    print(corpus_df.iloc[i]['title'])\n"
   ]
  },
  {
   "cell_type": "markdown",
   "metadata": {},
   "source": [
    "### Construction d'une fonction que nous allons utiliser de manière générale pour l'évaluation de chaque mopdèle (ici nous évaluerons avec toutes les métriques vues en cours)"
   ]
  },
  {
   "cell_type": "code",
   "execution_count": 34,
   "metadata": {},
   "outputs": [],
   "source": [
    "import numpy as np\n",
    "\n",
    "def precision_at_k(predicted, relevant, k):\n",
    "    if not predicted or not relevant:\n",
    "        return 0.0\n",
    "    predicted_k = predicted[:k]\n",
    "    hits = len(set(predicted_k) & set(relevant))\n",
    "    return hits / k\n",
    "\n",
    "def recall_at_k(predicted, relevant, k):\n",
    "    if not predicted or not relevant:\n",
    "        return 0.0\n",
    "    predicted_k = predicted[:k]\n",
    "    return len(set(predicted_k) & set(relevant)) / len(relevant)\n",
    "\n",
    "def reciprocal_rank(predicted, relevant):\n",
    "    for idx, doc_id in enumerate(predicted):\n",
    "        if doc_id in relevant:\n",
    "            return 1 / (idx + 1)\n",
    "    return 0.0\n",
    "\n",
    "def dcg_at_k(relevances, k):\n",
    "    relevances = np.array(relevances)[:k]\n",
    "    return np.sum(relevances / np.log2(np.arange(2, relevances.size + 2)))\n",
    "\n",
    "def ndcg_at_k(predicted, relevant, k):\n",
    "    #  Relevance vector : 1 si doc dans relevant, sinon 0\n",
    "    relevances = [1 if doc in relevant else 0 for doc in predicted[:k]]\n",
    "    dcg = dcg_at_k(relevances, k)\n",
    "    ideal_relevances = sorted(relevances, reverse=True)\n",
    "    idcg = dcg_at_k(ideal_relevances, k)\n",
    "    return dcg / idcg if idcg > 0 else 0.0\n",
    "\n",
    "\n",
    "def evaluate_model(search_function, queries_df, qrels_df, k=10):\n",
    "    precision_scores = []\n",
    "    recall_scores = []\n",
    "    rr_scores = []\n",
    "    ndcg_scores = []\n",
    "\n",
    "    for _, row in queries_df.iterrows():\n",
    "        qid = str(row[\"query_id\"])\n",
    "        query_text = row[\"query\"]\n",
    "\n",
    "        relevant_docs = qrels_df[qrels_df[\"query_id\"] == qid][\"doc_id\"].tolist()\n",
    "        if not relevant_docs:\n",
    "            continue\n",
    "\n",
    "        predicted_docs = search_function(query_text, top_k=k)\n",
    "        if not predicted_docs:\n",
    "            continue\n",
    "\n",
    "        precision_scores.append(precision_at_k(predicted_docs, relevant_docs, k))\n",
    "        recall_scores.append(recall_at_k(predicted_docs, relevant_docs, k))\n",
    "        rr_scores.append(reciprocal_rank(predicted_docs, relevant_docs))\n",
    "        ndcg_scores.append(ndcg_at_k(predicted_docs, relevant_docs, k))\n",
    "\n",
    "    return {\n",
    "        \"precision@k\": np.mean(precision_scores),\n",
    "        \"recall@k\": np.mean(recall_scores),\n",
    "        \"MRR\": np.mean(rr_scores),\n",
    "        \"nDCG@k\": np.mean(ndcg_scores)\n",
    "    }\n"
   ]
  },
  {
   "cell_type": "markdown",
   "metadata": {},
   "source": [
    "### Pour s'assurer que tous les types sont alignés "
   ]
  },
  {
   "cell_type": "code",
   "execution_count": 32,
   "metadata": {},
   "outputs": [],
   "source": [
    "#  Forcer les query_id en str dans les deux DataFrames\n",
    "qrels_df[\"query_id\"] = qrels_df[\"query_id\"].astype(str)\n",
    "queries_df[\"query_id\"] = queries_df[\"query_id\"].astype(str)\n",
    "\n",
    "#  Idem pour doc_id (pour être sûr qu’il n’y a pas de soucis de comparaison)\n",
    "qrels_df[\"doc_id\"] = qrels_df[\"doc_id\"].astype(str)\n"
   ]
  },
  {
   "cell_type": "markdown",
   "metadata": {},
   "source": [
    "#### Fonction pour le modèle de recherche tf-idf \n",
    "\n",
    "Cette fonction prend en entrée une requête, le nombre de documents que nous souhaitons retourner, \n",
    "Elle fait le prétraitement sur la requête, vectorise la requête, calcul le score de similarité entre la requête et chaque vecteur de la matrice tf-idf de notre corpus, puis retrourne les k premiers documents qui ont donnés un plus grand score de similarité "
   ]
  },
  {
   "cell_type": "code",
   "execution_count": 26,
   "metadata": {},
   "outputs": [],
   "source": [
    "def search_tfidf(query_text, top_k=10):\n",
    "    processed = preprocess(query_text)\n",
    "    query_vec = vectorizer.transform([processed])\n",
    "    scores = cosine_similarity(query_vec, tfidf_matrix).flatten()\n",
    "    top_indices = scores.argsort()[::-1][:top_k]\n",
    "    return [doc_ids[i] for i in top_indices]\n"
   ]
  },
  {
   "cell_type": "markdown",
   "metadata": {},
   "source": [
    "#### Appliquons la fonction d'évaluation sur notre modèle avec les requêtes de round1 que nous avons téléchargé plus haut "
   ]
  },
  {
   "cell_type": "code",
   "execution_count": 35,
   "metadata": {},
   "outputs": [
    {
     "name": "stdout",
     "output_type": "stream",
     "text": [
      "Résultats pour TF-IDF :\n",
      "- precision@k: 0.4000\n",
      "- recall@k: 0.0007\n",
      "- MRR: 1.0000\n",
      "- nDCG@k: 0.8224\n"
     ]
    }
   ],
   "source": [
    "results = evaluate_model(search_tfidf, queries_df, qrels_df, k=10)\n",
    "\n",
    "print(f\"Résultats pour TF-IDF :\")\n",
    "for metric, score in results.items():\n",
    "    print(f\"- {metric}: {score:.4f}\")\n"
   ]
  },
  {
   "cell_type": "markdown",
   "metadata": {},
   "source": [
    "### Commentaire\n",
    "\n",
    "On se rend compte qur 10 documents retournés, nous avons 4 qui ont été trouvés pertinents \n",
    "\n",
    "et parmi les documents pertinents retrouvés on a peu de documents qui sont réellement pertinents(rappel)\n",
    "\n",
    "Par contre ce qui est interressant ici c'est le fait que le premier document est presque toujours pertinent pour la requête (MRR) et aussi dans l'ensemble le classement que notre modèle fait pour la pertinence des document est considérable "
   ]
  },
  {
   "cell_type": "markdown",
   "metadata": {},
   "source": [
    "Pour le rappel, nous allons essayé d'augmenter K et voir si cela peut améliorer les résultats de l'évaluation "
   ]
  },
  {
   "cell_type": "code",
   "execution_count": 39,
   "metadata": {},
   "outputs": [
    {
     "name": "stdout",
     "output_type": "stream",
     "text": [
      "Résultats pour TF-IDF :\n",
      "- precision@k: 0.2600\n",
      "- recall@k: 0.0086\n",
      "- MRR: 1.0000\n",
      "- nDCG@k: 0.7384\n"
     ]
    }
   ],
   "source": [
    "results = evaluate_model(search_tfidf, queries_df, qrels_df, k=200)\n",
    "\n",
    "print(f\"Résultats pour TF-IDF :\")\n",
    "for metric, score in results.items():\n",
    "    print(f\"- {metric}: {score:.4f}\")\n"
   ]
  },
  {
   "cell_type": "markdown",
   "metadata": {},
   "source": [
    "### Nous allons essayer de tracer une courbe d'évaluation des métriques "
   ]
  },
  {
   "cell_type": "code",
   "execution_count": 40,
   "metadata": {},
   "outputs": [],
   "source": [
    "ks = list(range(5, 105, 5))\n",
    "precision_scores = []\n",
    "recall_scores = []\n",
    "\n",
    "for k in ks:\n",
    "    results = evaluate_model(search_tfidf, queries_df, qrels_df, k=k)\n",
    "    precision_scores.append(results[\"precision@k\"])\n",
    "    recall_scores.append(results[\"recall@k\"])\n"
   ]
  },
  {
   "cell_type": "code",
   "execution_count": 41,
   "metadata": {},
   "outputs": [
    {
     "data": {
      "image/png": "[encoded data removed]",
      "text/plain": [
       "<Figure size 800x600 with 1 Axes>"
      ]
     },
     "metadata": {},
     "output_type": "display_data"
    }
   ],
   "source": [
    "import matplotlib.pyplot as plt\n",
    "\n",
    "plt.figure(figsize=(8, 6))\n",
    "plt.plot(recall_scores, precision_scores, marker='o')\n",
    "plt.title(\"Courbe Précision vs Rappel (TF-IDF)\")\n",
    "plt.xlabel(\"Rappel\")\n",
    "plt.ylabel(\"Précision\")\n",
    "plt.grid(True)\n",
    "plt.show()\n"
   ]
  },
  {
   "cell_type": "markdown",
   "metadata": {},
   "source": [
    "### Commentaire\n",
    "\n",
    "Nous observons un comportement typique des moteurs de recherche \n",
    "\n",
    "Plus on ramène des documents, plus on a la chance d'avoir des documents pertinents c'est pour cela que le rappel augmente, par contre plus on ramène aussi des documents moins pertinents c'est pour cela que la précision baisse ici \n",
    "\n",
    "Mais avec cette représentation, on ne s'arrête pas uniquement à la précision et au rappel, nous regardons aussi l'ordre de pertinence des documents retournés et ici on se rend compte que le modèle fait un très bon tris ici"
   ]
  }
 ],
 "metadata": {
  "kernelspec": {
   "display_name": "Python 3",
   "language": "python",
   "name": "python3"
  },
  "language_info": {
   "codemirror_mode": {
    "name": "ipython",
    "version": 3
   },
   "file_extension": ".py",
   "mimetype": "text/x-python",
   "name": "python",
   "nbconvert_exporter": "python",
   "pygments_lexer": "ipython3",
   "version": "3.11.9"
  }
 },
 "nbformat": 4,
 "nbformat_minor": 2
}
