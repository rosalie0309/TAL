{
 "cells": [
  {
   "cell_type": "code",
<<<<<<< HEAD
   "execution_count": 70,
=======
   "execution_count": 15,
>>>>>>> f28671f (first commit for this project)
   "metadata": {},
   "outputs": [
    {
     "data": {
      "text/html": [
       "<div>\n",
       "<style scoped>\n",
       "    .dataframe tbody tr th:only-of-type {\n",
       "        vertical-align: middle;\n",
       "    }\n",
       "\n",
       "    .dataframe tbody tr th {\n",
       "        vertical-align: top;\n",
       "    }\n",
       "\n",
       "    .dataframe thead th {\n",
       "        text-align: right;\n",
       "    }\n",
       "</style>\n",
       "<table border=\"1\" class=\"dataframe\">\n",
       "  <thead>\n",
       "    <tr style=\"text-align: right;\">\n",
       "      <th></th>\n",
       "      <th>query_id</th>\n",
       "      <th>query</th>\n",
       "      <th>question</th>\n",
       "      <th>narrative</th>\n",
       "    </tr>\n",
       "  </thead>\n",
       "  <tbody>\n",
       "    <tr>\n",
       "      <th>0</th>\n",
       "      <td>1</td>\n",
       "      <td>coronavirus origin</td>\n",
       "      <td>what is the origin of COVID-19</td>\n",
       "      <td>seeking range of information about the SARS-Co...</td>\n",
       "    </tr>\n",
       "    <tr>\n",
       "      <th>1</th>\n",
       "      <td>2</td>\n",
       "      <td>coronavirus response to weather changes</td>\n",
       "      <td>how does the coronavirus respond to changes in...</td>\n",
       "      <td>seeking range of information about the SARS-Co...</td>\n",
       "    </tr>\n",
       "    <tr>\n",
       "      <th>2</th>\n",
       "      <td>3</td>\n",
       "      <td>coronavirus immunity</td>\n",
       "      <td>will SARS-CoV2 infected people develop immunit...</td>\n",
       "      <td>seeking studies of immunity developed due to i...</td>\n",
       "    </tr>\n",
       "    <tr>\n",
       "      <th>3</th>\n",
       "      <td>4</td>\n",
       "      <td>how do people die from the coronavirus</td>\n",
       "      <td>what causes death from Covid-19?</td>\n",
       "      <td>Studies looking at mechanisms of death from Co...</td>\n",
       "    </tr>\n",
       "    <tr>\n",
       "      <th>4</th>\n",
       "      <td>5</td>\n",
       "      <td>animal models of COVID-19</td>\n",
       "      <td>what drugs have been active against SARS-CoV o...</td>\n",
       "      <td>Papers that describe the results  of testing d...</td>\n",
       "    </tr>\n",
       "  </tbody>\n",
       "</table>\n",
       "</div>"
      ],
      "text/plain": [
       "  query_id                                    query  \\\n",
       "0        1                       coronavirus origin   \n",
       "1        2  coronavirus response to weather changes   \n",
       "2        3                     coronavirus immunity   \n",
       "3        4   how do people die from the coronavirus   \n",
       "4        5                animal models of COVID-19   \n",
       "\n",
       "                                            question  \\\n",
       "0                     what is the origin of COVID-19   \n",
       "1  how does the coronavirus respond to changes in...   \n",
       "2  will SARS-CoV2 infected people develop immunit...   \n",
       "3                   what causes death from Covid-19?   \n",
       "4  what drugs have been active against SARS-CoV o...   \n",
       "\n",
       "                                           narrative  \n",
       "0  seeking range of information about the SARS-Co...  \n",
       "1  seeking range of information about the SARS-Co...  \n",
       "2  seeking studies of immunity developed due to i...  \n",
       "3  Studies looking at mechanisms of death from Co...  \n",
       "4  Papers that describe the results  of testing d...  "
      ]
     },
<<<<<<< HEAD
     "execution_count": 70,
=======
     "execution_count": 15,
>>>>>>> f28671f (first commit for this project)
     "metadata": {},
     "output_type": "execute_result"
    }
   ],
   "source": [
    "import requests\n",
    "import xml.etree.ElementTree as ET\n",
    "import pandas as pd\n",
    "import os\n",
    "\n",
    "# URL des topics (queries)\n",
    "url = \"https://ir.nist.gov/covidSubmit/data/topics-rnd1.xml\"\n",
    "\n",
    "# Télécharger le fichier XML\n",
    "response = requests.get(url)\n",
    "response.raise_for_status()  # Pour vérifier qu'on a bien téléchargé\n",
    "\n",
    "# Parser le contenu XML\n",
    "root = ET.fromstring(response.content)\n",
    "\n",
    "# Extraire les topics\n",
    "queries = []\n",
    "for topic in root.findall(\"topic\"):\n",
    "    query_id = topic.attrib.get(\"number\")\n",
    "    query_text = topic.find(\"query\").text.strip() if topic.find(\"query\") is not None else \"\"\n",
    "    question = topic.find(\"question\").text.strip() if topic.find(\"question\") is not None else \"\"\n",
    "    narrative = topic.find(\"narrative\").text.strip() if topic.find(\"narrative\") is not None else \"\"\n",
    "    \n",
    "    queries.append({\n",
    "        \"query_id\": query_id,\n",
    "        \"query\": query_text,\n",
    "        \"question\": question,\n",
    "        \"narrative\": narrative\n",
    "    })\n",
    "\n",
    "# Convertir en DataFrame\n",
    "queries_df = pd.DataFrame(queries)\n",
    "\n",
    "# Sauvegarder dans le dossier data/\n",
    "# Créer le dossier 'data' s'il n'existe pas\n",
    "os.makedirs(\"\\S2\\TAL\\Projet\\data\", exist_ok=True)\n",
    "queries_df.to_csv(\"\\S2\\TAL\\Projet\\data\\queries_rnd1.csv\", index=False)\n",
    "\n",
    "# Affichage des premières lignes\n",
    "queries_df.head()\n"
   ]
  },
  {
   "cell_type": "code",
<<<<<<< HEAD
   "execution_count": 71,
=======
   "execution_count": 8,
>>>>>>> f28671f (first commit for this project)
   "metadata": {},
   "outputs": [
    {
     "data": {
      "text/plain": [
       "'Studies looking at mechanisms of death from Covid-19.'"
      ]
     },
<<<<<<< HEAD
     "execution_count": 71,
=======
     "execution_count": 8,
>>>>>>> f28671f (first commit for this project)
     "metadata": {},
     "output_type": "execute_result"
    }
   ],
   "source": [
    "queries_df.iloc[3]['narrative']"
   ]
  },
  {
   "cell_type": "code",
<<<<<<< HEAD
   "execution_count": 72,
=======
   "execution_count": 12,
>>>>>>> f28671f (first commit for this project)
   "metadata": {},
   "outputs": [
    {
     "data": {
      "text/plain": [
<<<<<<< HEAD
       "str"
      ]
     },
     "execution_count": 72,
=======
       "numpy.int64"
      ]
     },
     "execution_count": 12,
>>>>>>> f28671f (first commit for this project)
     "metadata": {},
     "output_type": "execute_result"
    }
   ],
   "source": [
    "type(queries_df['query_id'][0])"
   ]
  },
  {
   "cell_type": "markdown",
   "metadata": {},
   "source": [
    "### Les narratives ne sont pas des réponses, mais des descriptions qui expliquent ce que doit contenir une réponse pertinente."
   ]
  },
  {
   "cell_type": "markdown",
   "metadata": {},
   "source": [
    "### Chargement et sauvegarde des qrels"
   ]
  },
  {
   "cell_type": "code",
<<<<<<< HEAD
   "execution_count": 73,
=======
   "execution_count": 16,
>>>>>>> f28671f (first commit for this project)
   "metadata": {},
   "outputs": [
    {
     "name": "stdout",
     "output_type": "stream",
     "text": [
      "Fichier qrels_rnd1.csv prêt et sauvegardé dans data/\n"
     ]
    }
   ],
   "source": [
    "import pandas as pd\n",
    "import requests\n",
    "import os\n",
    "\n",
    "# URL du fichier qrels\n",
    "url = \"https://ir.nist.gov/covidSubmit/data/qrels-rnd1.txt\"\n",
    "\n",
    "# Créer le dossier 'data' s’il n’existe pas\n",
    "os.makedirs(\"\\S2\\TAL\\Projet\\data\", exist_ok=True)\n",
    "\n",
    "# Télécharger le fichier\n",
    "response = requests.get(url)\n",
    "response.raise_for_status()\n",
    "\n",
    "# Sauvegarder temporairement dans un fichier texte\n",
    "qrels_path = \"\\S2\\TAL\\Projet\\data/qrels-rnd1.txt\"\n",
    "with open(qrels_path, \"wb\") as f:\n",
    "    f.write(response.content)\n",
    "\n",
    "# Charger le fichier dans un DataFrame\n",
    "qrels_df = pd.read_csv(qrels_path, sep=\" \", header=None, names=[\"query_id\", \"ignored\", \"doc_id\", \"relevance\"])\n",
    "\n",
    "# Supprimer la colonne inutile\n",
    "qrels_df.drop(columns=[\"ignored\"], inplace=True)\n",
    "\n",
    "# Le type des query_id a été constaté comme étant float, changeons le type \n",
    "qrels_df[\"query_id\"] = qrels_df[\"query_id\"].astype(int)\n",
    "\n",
    "# Sauvegarder au format CSV propre\n",
    "qrels_df.to_csv(\"\\S2\\TAL\\Projet\\data/qrels_rnd1.csv\", index=False)\n",
    "\n",
    "print(\"Fichier qrels_rnd1.csv prêt et sauvegardé dans data/\")\n"
   ]
  },
  {
   "cell_type": "code",
<<<<<<< HEAD
   "execution_count": 74,
=======
   "execution_count": 21,
>>>>>>> f28671f (first commit for this project)
   "metadata": {},
   "outputs": [
    {
     "data": {
      "text/plain": [
       "(51078, 18)"
      ]
     },
<<<<<<< HEAD
     "execution_count": 74,
=======
     "execution_count": 21,
>>>>>>> f28671f (first commit for this project)
     "metadata": {},
     "output_type": "execute_result"
    }
   ],
   "source": [
    "metadata = pd.read_csv(\"\\S2\\TAL\\Projet\\data\\metadata.csv\")\n",
    "\n",
    "metadata.shape"
   ]
  },
  {
   "cell_type": "code",
<<<<<<< HEAD
   "execution_count": 75,
=======
   "execution_count": 22,
>>>>>>> f28671f (first commit for this project)
   "metadata": {},
   "outputs": [
    {
     "data": {
      "text/html": [
       "<div>\n",
       "<style scoped>\n",
       "    .dataframe tbody tr th:only-of-type {\n",
       "        vertical-align: middle;\n",
       "    }\n",
       "\n",
       "    .dataframe tbody tr th {\n",
       "        vertical-align: top;\n",
       "    }\n",
       "\n",
       "    .dataframe thead th {\n",
       "        text-align: right;\n",
       "    }\n",
       "</style>\n",
       "<table border=\"1\" class=\"dataframe\">\n",
       "  <thead>\n",
       "    <tr style=\"text-align: right;\">\n",
       "      <th></th>\n",
       "      <th>cord_uid</th>\n",
       "      <th>sha</th>\n",
       "      <th>source_x</th>\n",
       "      <th>title</th>\n",
       "      <th>doi</th>\n",
       "      <th>pmcid</th>\n",
       "      <th>pubmed_id</th>\n",
       "      <th>license</th>\n",
       "      <th>abstract</th>\n",
       "      <th>publish_time</th>\n",
       "      <th>authors</th>\n",
       "      <th>journal</th>\n",
       "      <th>Microsoft Academic Paper ID</th>\n",
       "      <th>WHO #Covidence</th>\n",
       "      <th>has_pdf_parse</th>\n",
       "      <th>has_pmc_xml_parse</th>\n",
       "      <th>full_text_file</th>\n",
       "      <th>url</th>\n",
       "    </tr>\n",
       "  </thead>\n",
       "  <tbody>\n",
       "    <tr>\n",
       "      <th>0</th>\n",
       "      <td>xqhn0vbp</td>\n",
       "      <td>1e1286db212100993d03cc22374b624f7caee956</td>\n",
       "      <td>PMC</td>\n",
       "      <td>Airborne rhinovirus detection and effect of ul...</td>\n",
       "      <td>10.1186/1471-2458-3-5</td>\n",
       "      <td>PMC140314</td>\n",
       "      <td>12525263.0</td>\n",
       "      <td>no-cc</td>\n",
       "      <td>BACKGROUND: Rhinovirus, the most common cause ...</td>\n",
       "      <td>2003-01-13</td>\n",
       "      <td>Myatt, Theodore A; Johnston, Sebastian L; Rudn...</td>\n",
       "      <td>BMC Public Health</td>\n",
       "      <td>NaN</td>\n",
       "      <td>NaN</td>\n",
       "      <td>True</td>\n",
       "      <td>True</td>\n",
       "      <td>custom_license</td>\n",
       "      <td>https://www.ncbi.nlm.nih.gov/pmc/articles/PMC1...</td>\n",
       "    </tr>\n",
       "    <tr>\n",
       "      <th>1</th>\n",
       "      <td>gi6uaa83</td>\n",
       "      <td>8ae137c8da1607b3a8e4c946c07ca8bda67f88ac</td>\n",
       "      <td>PMC</td>\n",
       "      <td>Discovering human history from stomach bacteria</td>\n",
       "      <td>10.1186/gb-2003-4-5-213</td>\n",
       "      <td>PMC156578</td>\n",
       "      <td>12734001.0</td>\n",
       "      <td>no-cc</td>\n",
       "      <td>Recent analyses of human pathogens have reveal...</td>\n",
       "      <td>2003-04-28</td>\n",
       "      <td>Disotell, Todd R</td>\n",
       "      <td>Genome Biol</td>\n",
       "      <td>NaN</td>\n",
       "      <td>NaN</td>\n",
       "      <td>True</td>\n",
       "      <td>True</td>\n",
       "      <td>custom_license</td>\n",
       "      <td>https://www.ncbi.nlm.nih.gov/pmc/articles/PMC1...</td>\n",
       "    </tr>\n",
       "    <tr>\n",
       "      <th>2</th>\n",
       "      <td>le0ogx1s</td>\n",
       "      <td>NaN</td>\n",
       "      <td>PMC</td>\n",
       "      <td>A new recruit for the army of the men of death</td>\n",
       "      <td>10.1186/gb-2003-4-7-113</td>\n",
       "      <td>PMC193621</td>\n",
       "      <td>12844350.0</td>\n",
       "      <td>no-cc</td>\n",
       "      <td>The army of the men of death, in John Bunyan's...</td>\n",
       "      <td>2003-06-27</td>\n",
       "      <td>Petsko, Gregory A</td>\n",
       "      <td>Genome Biol</td>\n",
       "      <td>NaN</td>\n",
       "      <td>NaN</td>\n",
       "      <td>False</td>\n",
       "      <td>True</td>\n",
       "      <td>custom_license</td>\n",
       "      <td>https://www.ncbi.nlm.nih.gov/pmc/articles/PMC1...</td>\n",
       "    </tr>\n",
       "    <tr>\n",
       "      <th>3</th>\n",
       "      <td>fy4w7xz8</td>\n",
       "      <td>0104f6ceccf92ae8567a0102f89cbb976969a774</td>\n",
       "      <td>PMC</td>\n",
       "      <td>Association of HLA class I with severe acute r...</td>\n",
       "      <td>10.1186/1471-2350-4-9</td>\n",
       "      <td>PMC212558</td>\n",
       "      <td>12969506.0</td>\n",
       "      <td>no-cc</td>\n",
       "      <td>BACKGROUND: The human leukocyte antigen (HLA) ...</td>\n",
       "      <td>2003-09-12</td>\n",
       "      <td>Lin, Marie; Tseng, Hsiang-Kuang; Trejaut, Jean...</td>\n",
       "      <td>BMC Med Genet</td>\n",
       "      <td>NaN</td>\n",
       "      <td>NaN</td>\n",
       "      <td>True</td>\n",
       "      <td>True</td>\n",
       "      <td>custom_license</td>\n",
       "      <td>https://www.ncbi.nlm.nih.gov/pmc/articles/PMC2...</td>\n",
       "    </tr>\n",
       "    <tr>\n",
       "      <th>4</th>\n",
       "      <td>0qaoam29</td>\n",
       "      <td>5b68a553a7cbbea13472721cd1ad617d42b40c26</td>\n",
       "      <td>PMC</td>\n",
       "      <td>A double epidemic model for the SARS propagation</td>\n",
       "      <td>10.1186/1471-2334-3-19</td>\n",
       "      <td>PMC222908</td>\n",
       "      <td>12964944.0</td>\n",
       "      <td>no-cc</td>\n",
       "      <td>BACKGROUND: An epidemic of a Severe Acute Resp...</td>\n",
       "      <td>2003-09-10</td>\n",
       "      <td>Ng, Tuen Wai; Turinici, Gabriel; Danchin, Antoine</td>\n",
       "      <td>BMC Infect Dis</td>\n",
       "      <td>NaN</td>\n",
       "      <td>NaN</td>\n",
       "      <td>True</td>\n",
       "      <td>True</td>\n",
       "      <td>custom_license</td>\n",
       "      <td>https://www.ncbi.nlm.nih.gov/pmc/articles/PMC2...</td>\n",
       "    </tr>\n",
       "  </tbody>\n",
       "</table>\n",
       "</div>"
      ],
      "text/plain": [
       "   cord_uid                                       sha source_x  \\\n",
       "0  xqhn0vbp  1e1286db212100993d03cc22374b624f7caee956      PMC   \n",
       "1  gi6uaa83  8ae137c8da1607b3a8e4c946c07ca8bda67f88ac      PMC   \n",
       "2  le0ogx1s                                       NaN      PMC   \n",
       "3  fy4w7xz8  0104f6ceccf92ae8567a0102f89cbb976969a774      PMC   \n",
       "4  0qaoam29  5b68a553a7cbbea13472721cd1ad617d42b40c26      PMC   \n",
       "\n",
       "                                               title                      doi  \\\n",
       "0  Airborne rhinovirus detection and effect of ul...    10.1186/1471-2458-3-5   \n",
       "1    Discovering human history from stomach bacteria  10.1186/gb-2003-4-5-213   \n",
       "2     A new recruit for the army of the men of death  10.1186/gb-2003-4-7-113   \n",
       "3  Association of HLA class I with severe acute r...    10.1186/1471-2350-4-9   \n",
       "4   A double epidemic model for the SARS propagation   10.1186/1471-2334-3-19   \n",
       "\n",
       "       pmcid   pubmed_id license  \\\n",
       "0  PMC140314  12525263.0   no-cc   \n",
       "1  PMC156578  12734001.0   no-cc   \n",
       "2  PMC193621  12844350.0   no-cc   \n",
       "3  PMC212558  12969506.0   no-cc   \n",
       "4  PMC222908  12964944.0   no-cc   \n",
       "\n",
       "                                            abstract publish_time  \\\n",
       "0  BACKGROUND: Rhinovirus, the most common cause ...   2003-01-13   \n",
       "1  Recent analyses of human pathogens have reveal...   2003-04-28   \n",
       "2  The army of the men of death, in John Bunyan's...   2003-06-27   \n",
       "3  BACKGROUND: The human leukocyte antigen (HLA) ...   2003-09-12   \n",
       "4  BACKGROUND: An epidemic of a Severe Acute Resp...   2003-09-10   \n",
       "\n",
       "                                             authors            journal  \\\n",
       "0  Myatt, Theodore A; Johnston, Sebastian L; Rudn...  BMC Public Health   \n",
       "1                                   Disotell, Todd R        Genome Biol   \n",
       "2                                  Petsko, Gregory A        Genome Biol   \n",
       "3  Lin, Marie; Tseng, Hsiang-Kuang; Trejaut, Jean...      BMC Med Genet   \n",
       "4  Ng, Tuen Wai; Turinici, Gabriel; Danchin, Antoine     BMC Infect Dis   \n",
       "\n",
       "   Microsoft Academic Paper ID WHO #Covidence  has_pdf_parse  \\\n",
       "0                          NaN            NaN           True   \n",
       "1                          NaN            NaN           True   \n",
       "2                          NaN            NaN          False   \n",
       "3                          NaN            NaN           True   \n",
       "4                          NaN            NaN           True   \n",
       "\n",
       "   has_pmc_xml_parse  full_text_file  \\\n",
       "0               True  custom_license   \n",
       "1               True  custom_license   \n",
       "2               True  custom_license   \n",
       "3               True  custom_license   \n",
       "4               True  custom_license   \n",
       "\n",
       "                                                 url  \n",
       "0  https://www.ncbi.nlm.nih.gov/pmc/articles/PMC1...  \n",
       "1  https://www.ncbi.nlm.nih.gov/pmc/articles/PMC1...  \n",
       "2  https://www.ncbi.nlm.nih.gov/pmc/articles/PMC1...  \n",
       "3  https://www.ncbi.nlm.nih.gov/pmc/articles/PMC2...  \n",
       "4  https://www.ncbi.nlm.nih.gov/pmc/articles/PMC2...  "
      ]
     },
<<<<<<< HEAD
     "execution_count": 75,
=======
     "execution_count": 22,
>>>>>>> f28671f (first commit for this project)
     "metadata": {},
     "output_type": "execute_result"
    }
   ],
   "source": [
    "metadata.head()"
   ]
  },
  {
   "cell_type": "markdown",
   "metadata": {},
   "source": [
    "### Sélection des colonnes qui vont nous être utiles ici (cord_uid, title et abstract)"
   ]
  },
  {
   "cell_type": "code",
<<<<<<< HEAD
   "execution_count": 76,
=======
   "execution_count": 23,
>>>>>>> f28671f (first commit for this project)
   "metadata": {},
   "outputs": [],
   "source": [
    "# Garder uniquement les colonnes utiles\n",
    "docs = metadata[[\"cord_uid\", \"title\", \"abstract\"]].dropna(subset=[\"abstract\"])"
   ]
  },
  {
   "cell_type": "code",
<<<<<<< HEAD
   "execution_count": 77,
=======
   "execution_count": 24,
>>>>>>> f28671f (first commit for this project)
   "metadata": {},
   "outputs": [],
   "source": [
    "# Fusionner le titre et le résumé pour créer le texte de recherche\n",
    "docs[\"text\"] = docs[\"title\"].fillna(\"\") + \". \" + docs[\"abstract\"]"
   ]
  },
  {
   "cell_type": "code",
<<<<<<< HEAD
   "execution_count": 78,
   "metadata": {},
   "outputs": [
    {
     "data": {
      "text/html": [
       "<div>\n",
       "<style scoped>\n",
       "    .dataframe tbody tr th:only-of-type {\n",
       "        vertical-align: middle;\n",
       "    }\n",
       "\n",
       "    .dataframe tbody tr th {\n",
       "        vertical-align: top;\n",
       "    }\n",
       "\n",
       "    .dataframe thead th {\n",
       "        text-align: right;\n",
       "    }\n",
       "</style>\n",
       "<table border=\"1\" class=\"dataframe\">\n",
       "  <thead>\n",
       "    <tr style=\"text-align: right;\">\n",
       "      <th></th>\n",
       "      <th>cord_uid</th>\n",
       "      <th>title</th>\n",
       "      <th>abstract</th>\n",
       "      <th>text</th>\n",
       "    </tr>\n",
       "  </thead>\n",
       "  <tbody>\n",
       "    <tr>\n",
       "      <th>0</th>\n",
       "      <td>xqhn0vbp</td>\n",
       "      <td>Airborne rhinovirus detection and effect of ul...</td>\n",
       "      <td>BACKGROUND: Rhinovirus, the most common cause ...</td>\n",
       "      <td>Airborne rhinovirus detection and effect of ul...</td>\n",
       "    </tr>\n",
       "    <tr>\n",
       "      <th>1</th>\n",
       "      <td>gi6uaa83</td>\n",
       "      <td>Discovering human history from stomach bacteria</td>\n",
       "      <td>Recent analyses of human pathogens have reveal...</td>\n",
       "      <td>Discovering human history from stomach bacteri...</td>\n",
       "    </tr>\n",
       "    <tr>\n",
       "      <th>2</th>\n",
       "      <td>le0ogx1s</td>\n",
       "      <td>A new recruit for the army of the men of death</td>\n",
       "      <td>The army of the men of death, in John Bunyan's...</td>\n",
       "      <td>A new recruit for the army of the men of death...</td>\n",
       "    </tr>\n",
       "    <tr>\n",
       "      <th>3</th>\n",
       "      <td>fy4w7xz8</td>\n",
       "      <td>Association of HLA class I with severe acute r...</td>\n",
       "      <td>BACKGROUND: The human leukocyte antigen (HLA) ...</td>\n",
       "      <td>Association of HLA class I with severe acute r...</td>\n",
       "    </tr>\n",
       "    <tr>\n",
       "      <th>4</th>\n",
       "      <td>0qaoam29</td>\n",
       "      <td>A double epidemic model for the SARS propagation</td>\n",
       "      <td>BACKGROUND: An epidemic of a Severe Acute Resp...</td>\n",
       "      <td>A double epidemic model for the SARS propagati...</td>\n",
       "    </tr>\n",
       "  </tbody>\n",
       "</table>\n",
       "</div>"
      ],
      "text/plain": [
       "   cord_uid                                              title  \\\n",
       "0  xqhn0vbp  Airborne rhinovirus detection and effect of ul...   \n",
       "1  gi6uaa83    Discovering human history from stomach bacteria   \n",
       "2  le0ogx1s     A new recruit for the army of the men of death   \n",
       "3  fy4w7xz8  Association of HLA class I with severe acute r...   \n",
       "4  0qaoam29   A double epidemic model for the SARS propagation   \n",
       "\n",
       "                                            abstract  \\\n",
       "0  BACKGROUND: Rhinovirus, the most common cause ...   \n",
       "1  Recent analyses of human pathogens have reveal...   \n",
       "2  The army of the men of death, in John Bunyan's...   \n",
       "3  BACKGROUND: The human leukocyte antigen (HLA) ...   \n",
       "4  BACKGROUND: An epidemic of a Severe Acute Resp...   \n",
       "\n",
       "                                                text  \n",
       "0  Airborne rhinovirus detection and effect of ul...  \n",
       "1  Discovering human history from stomach bacteri...  \n",
       "2  A new recruit for the army of the men of death...  \n",
       "3  Association of HLA class I with severe acute r...  \n",
       "4  A double epidemic model for the SARS propagati...  "
      ]
     },
     "execution_count": 78,
     "metadata": {},
     "output_type": "execute_result"
    }
   ],
   "source": [
    "docs.head()"
   ]
  },
  {
   "cell_type": "code",
   "execution_count": 79,
=======
   "execution_count": 25,
>>>>>>> f28671f (first commit for this project)
   "metadata": {},
   "outputs": [],
   "source": [
    "# Facultatif : supprimer les doublons\n",
    "docs = docs.drop_duplicates(subset=\"cord_uid\")"
   ]
  },
  {
   "cell_type": "code",
<<<<<<< HEAD
   "execution_count": 80,
=======
   "execution_count": 26,
>>>>>>> f28671f (first commit for this project)
   "metadata": {},
   "outputs": [
    {
     "data": {
      "text/html": [
       "<div>\n",
       "<style scoped>\n",
       "    .dataframe tbody tr th:only-of-type {\n",
       "        vertical-align: middle;\n",
       "    }\n",
       "\n",
       "    .dataframe tbody tr th {\n",
       "        vertical-align: top;\n",
       "    }\n",
       "\n",
       "    .dataframe thead th {\n",
       "        text-align: right;\n",
       "    }\n",
       "</style>\n",
       "<table border=\"1\" class=\"dataframe\">\n",
       "  <thead>\n",
       "    <tr style=\"text-align: right;\">\n",
       "      <th></th>\n",
       "      <th>cord_uid</th>\n",
       "      <th>text</th>\n",
       "    </tr>\n",
       "  </thead>\n",
       "  <tbody>\n",
       "    <tr>\n",
       "      <th>0</th>\n",
       "      <td>xqhn0vbp</td>\n",
       "      <td>Airborne rhinovirus detection and effect of ul...</td>\n",
       "    </tr>\n",
       "    <tr>\n",
       "      <th>1</th>\n",
       "      <td>gi6uaa83</td>\n",
       "      <td>Discovering human history from stomach bacteri...</td>\n",
       "    </tr>\n",
       "    <tr>\n",
       "      <th>2</th>\n",
       "      <td>le0ogx1s</td>\n",
       "      <td>A new recruit for the army of the men of death...</td>\n",
       "    </tr>\n",
       "    <tr>\n",
       "      <th>3</th>\n",
       "      <td>fy4w7xz8</td>\n",
       "      <td>Association of HLA class I with severe acute r...</td>\n",
       "    </tr>\n",
       "    <tr>\n",
       "      <th>4</th>\n",
       "      <td>0qaoam29</td>\n",
       "      <td>A double epidemic model for the SARS propagati...</td>\n",
       "    </tr>\n",
       "  </tbody>\n",
       "</table>\n",
       "</div>"
      ],
      "text/plain": [
       "   cord_uid                                               text\n",
       "0  xqhn0vbp  Airborne rhinovirus detection and effect of ul...\n",
       "1  gi6uaa83  Discovering human history from stomach bacteri...\n",
       "2  le0ogx1s  A new recruit for the army of the men of death...\n",
       "3  fy4w7xz8  Association of HLA class I with severe acute r...\n",
       "4  0qaoam29  A double epidemic model for the SARS propagati..."
      ]
     },
<<<<<<< HEAD
     "execution_count": 80,
=======
     "execution_count": 26,
>>>>>>> f28671f (first commit for this project)
     "metadata": {},
     "output_type": "execute_result"
    }
   ],
   "source": [
    "docs[[\"cord_uid\", \"text\"]].head()"
   ]
  },
  {
   "cell_type": "markdown",
   "metadata": {},
   "source": [
    "#### Approche proposée par Julia"
   ]
  },
  {
   "cell_type": "code",
<<<<<<< HEAD
   "execution_count": 81,
=======
   "execution_count": 1,
>>>>>>> f28671f (first commit for this project)
   "metadata": {},
   "outputs": [
    {
     "name": "stderr",
     "output_type": "stream",
     "text": [
<<<<<<< HEAD
      "Processing Round1: 51078it [00:07, 6387.36it/s] \n"
=======
      "[INFO] [starting] building docstore\n",
      "[INFO] If you have a local copy of https://ai2-semanticscholar-cord-19.s3-us-west-2.amazonaws.com/2020-04-10/metadata.csv, you can symlink it here to avoid downloading it again: C:\\Users\\12407156\\.ir_datasets\\downloads\\42a21f386be86c24647a41bedde34046\n",
      "[INFO] [starting] https://ai2-semanticscholar-cord-19.s3-us-west-2.amazonaws.com/2020-04-10/metadata.csv\n",
      "                               \n",
      "\u001b[A                                                                                                                               [INFO] [finished] https://ai2-semanticscholar-cord-19.s3-us-west-2.amazonaws.com/2020-04-10/metadata.csv: [00:16] [77.3MB] [4.61MB/s]\n",
      "docs_iter: 51078doc [00:22, 2260.65doc/s]\n",
      "[INFO] [finished] docs_iter: [00:22] [51078doc] [2260.65doc/s]\n",
      "[INFO] [finished] building docstore [22.62s]\n",
      "Processing Round1: 51078it [00:07, 7060.36it/s] \n"
     ]
    },
    {
     "name": "stdout",
     "output_type": "stream",
     "text": [
      "Fichier sauvegardé pour Round 1 uniquement.\n"
>>>>>>> f28671f (first commit for this project)
     ]
    }
   ],
   "source": [
    "import pandas as pd\n",
    "import ir_datasets\n",
    "from nltk.tokenize import RegexpTokenizer\n",
    "from sklearn.feature_extraction.text import ENGLISH_STOP_WORDS\n",
    "from tqdm import tqdm\n",
    "\n",
    "# Charger uniquement round1\n",
    "dataset = ir_datasets.load(\"cord19/trec-covid/round1\")\n",
    "\n",
    "# Prétraitement\n",
    "tokenizer = RegexpTokenizer(r'\\w+')\n",
    "stop_words = ENGLISH_STOP_WORDS\n",
    "\n",
    "def preprocess(text):\n",
    "    tokens = tokenizer.tokenize(text.lower())\n",
    "    return \" \".join([t for t in tokens if t not in stop_words])\n",
    "\n",
    "# Préparer corpus\n",
    "documents = []\n",
    "for doc in tqdm(dataset.docs_iter(), desc=\"Processing Round1\"):\n",
    "    title = doc.title or \"\"\n",
    "    abstract = doc.abstract or \"\"\n",
    "    full_text = f\"{title} {abstract}\".strip()\n",
    "    \n",
    "    if full_text:\n",
    "        processed = preprocess(full_text)\n",
    "        documents.append({\n",
    "            \"doc_id\": doc.doc_id,\n",
    "            \"title\": title,\n",
    "            \"abstract\": abstract,\n",
    "            \"processed_text\": processed\n",
    "        })\n"
   ]
  },
  {
   "cell_type": "code",
<<<<<<< HEAD
   "execution_count": 82,
=======
   "execution_count": 4,
>>>>>>> f28671f (first commit for this project)
   "metadata": {},
   "outputs": [
    {
     "name": "stdout",
     "output_type": "stream",
     "text": [
      "Fichier sauvegardé pour Round 1 uniquement.\n"
     ]
    }
   ],
   "source": [
    "import os\n",
    "df = pd.DataFrame(documents)\n",
    "df.to_csv(\"\\S2\\TAL\\Projet\\data\\cord19_round1_preprocessed.csv\", index=False)\n",
    "print(\"Fichier sauvegardé pour Round 1 uniquement.\")"
   ]
  },
  {
   "cell_type": "code",
<<<<<<< HEAD
   "execution_count": 83,
=======
   "execution_count": null,
>>>>>>> f28671f (first commit for this project)
   "metadata": {},
   "outputs": [
    {
     "data": {
      "text/html": [
       "<div>\n",
       "<style scoped>\n",
       "    .dataframe tbody tr th:only-of-type {\n",
       "        vertical-align: middle;\n",
       "    }\n",
       "\n",
       "    .dataframe tbody tr th {\n",
       "        vertical-align: top;\n",
       "    }\n",
       "\n",
       "    .dataframe thead th {\n",
       "        text-align: right;\n",
       "    }\n",
       "</style>\n",
       "<table border=\"1\" class=\"dataframe\">\n",
       "  <thead>\n",
       "    <tr style=\"text-align: right;\">\n",
       "      <th></th>\n",
       "      <th>query_id</th>\n",
       "      <th>query</th>\n",
       "      <th>question</th>\n",
       "      <th>narrative</th>\n",
       "    </tr>\n",
       "  </thead>\n",
       "  <tbody>\n",
       "    <tr>\n",
       "      <th>0</th>\n",
       "      <td>1</td>\n",
       "      <td>coronavirus origin</td>\n",
       "      <td>what is the origin of COVID-19</td>\n",
       "      <td>seeking range of information about the SARS-Co...</td>\n",
       "    </tr>\n",
       "    <tr>\n",
       "      <th>1</th>\n",
       "      <td>2</td>\n",
       "      <td>coronavirus response to weather changes</td>\n",
       "      <td>how does the coronavirus respond to changes in...</td>\n",
       "      <td>seeking range of information about the SARS-Co...</td>\n",
       "    </tr>\n",
       "    <tr>\n",
       "      <th>2</th>\n",
       "      <td>3</td>\n",
       "      <td>coronavirus immunity</td>\n",
       "      <td>will SARS-CoV2 infected people develop immunit...</td>\n",
       "      <td>seeking studies of immunity developed due to i...</td>\n",
       "    </tr>\n",
       "    <tr>\n",
       "      <th>3</th>\n",
       "      <td>4</td>\n",
       "      <td>how do people die from the coronavirus</td>\n",
       "      <td>what causes death from Covid-19?</td>\n",
       "      <td>Studies looking at mechanisms of death from Co...</td>\n",
       "    </tr>\n",
       "    <tr>\n",
       "      <th>4</th>\n",
       "      <td>5</td>\n",
       "      <td>animal models of COVID-19</td>\n",
       "      <td>what drugs have been active against SARS-CoV o...</td>\n",
       "      <td>Papers that describe the results  of testing d...</td>\n",
       "    </tr>\n",
       "  </tbody>\n",
       "</table>\n",
       "</div>"
      ],
      "text/plain": [
       "   query_id                                    query  \\\n",
       "0         1                       coronavirus origin   \n",
       "1         2  coronavirus response to weather changes   \n",
       "2         3                     coronavirus immunity   \n",
       "3         4   how do people die from the coronavirus   \n",
       "4         5                animal models of COVID-19   \n",
       "\n",
       "                                            question  \\\n",
       "0                     what is the origin of COVID-19   \n",
       "1  how does the coronavirus respond to changes in...   \n",
       "2  will SARS-CoV2 infected people develop immunit...   \n",
       "3                   what causes death from Covid-19?   \n",
       "4  what drugs have been active against SARS-CoV o...   \n",
       "\n",
       "                                           narrative  \n",
       "0  seeking range of information about the SARS-Co...  \n",
       "1  seeking range of information about the SARS-Co...  \n",
       "2  seeking studies of immunity developed due to i...  \n",
       "3  Studies looking at mechanisms of death from Co...  \n",
       "4  Papers that describe the results  of testing d...  "
      ]
     },
<<<<<<< HEAD
     "execution_count": 83,
=======
     "execution_count": 5,
>>>>>>> f28671f (first commit for this project)
     "metadata": {},
     "output_type": "execute_result"
    }
   ],
   "source": [
    "# On peut maintenant concevoir le premier modèle pour la recherche d'informations dans les données médicales que nous\n",
    "# venons de charger \n",
    "\n",
    "## Nous avons déjà les requêtes ainsi que les bons documents (qrels) pour l'évaluation du modèle \n",
    "queries_df = pd.read_csv(\"\\S2\\TAL\\Projet\\data\\queries_rnd1.csv\")\n",
    "queries_df.head()\n"
   ]
  },
  {
   "cell_type": "code",
<<<<<<< HEAD
   "execution_count": 84,
=======
   "execution_count": 17,
>>>>>>> f28671f (first commit for this project)
   "metadata": {},
   "outputs": [
    {
     "data": {
      "text/html": [
       "<div>\n",
       "<style scoped>\n",
       "    .dataframe tbody tr th:only-of-type {\n",
       "        vertical-align: middle;\n",
       "    }\n",
       "\n",
       "    .dataframe tbody tr th {\n",
       "        vertical-align: top;\n",
       "    }\n",
       "\n",
       "    .dataframe thead th {\n",
       "        text-align: right;\n",
       "    }\n",
       "</style>\n",
       "<table border=\"1\" class=\"dataframe\">\n",
       "  <thead>\n",
       "    <tr style=\"text-align: right;\">\n",
       "      <th></th>\n",
       "      <th>query_id</th>\n",
       "      <th>doc_id</th>\n",
       "      <th>relevance</th>\n",
       "    </tr>\n",
       "  </thead>\n",
       "  <tbody>\n",
       "    <tr>\n",
       "      <th>0</th>\n",
       "      <td>0</td>\n",
       "      <td>010vptx3</td>\n",
       "      <td>2</td>\n",
       "    </tr>\n",
       "    <tr>\n",
       "      <th>1</th>\n",
       "      <td>1</td>\n",
       "      <td>02f0opkr</td>\n",
       "      <td>1</td>\n",
       "    </tr>\n",
       "    <tr>\n",
       "      <th>2</th>\n",
       "      <td>1</td>\n",
       "      <td>04ftw7k9</td>\n",
       "      <td>0</td>\n",
       "    </tr>\n",
       "    <tr>\n",
       "      <th>3</th>\n",
       "      <td>1</td>\n",
       "      <td>05qglt1f</td>\n",
       "      <td>0</td>\n",
       "    </tr>\n",
       "    <tr>\n",
       "      <th>4</th>\n",
       "      <td>1</td>\n",
       "      <td>0604jed8</td>\n",
       "      <td>0</td>\n",
       "    </tr>\n",
       "  </tbody>\n",
       "</table>\n",
       "</div>"
      ],
      "text/plain": [
       "   query_id    doc_id  relevance\n",
       "0         0  010vptx3          2\n",
       "1         1  02f0opkr          1\n",
       "2         1  04ftw7k9          0\n",
       "3         1  05qglt1f          0\n",
       "4         1  0604jed8          0"
      ]
     },
<<<<<<< HEAD
     "execution_count": 84,
=======
     "execution_count": 17,
>>>>>>> f28671f (first commit for this project)
     "metadata": {},
     "output_type": "execute_result"
    }
   ],
   "source": [
    "qrels_df = pd.read_csv(\"\\S2\\TAL\\Projet\\data\\qrels_rnd1.csv\")\n",
    "qrels_df.head()"
   ]
  },
  {
   "cell_type": "markdown",
   "metadata": {},
   "source": [
    "### Conception du premier modèle basé sur le calcul des similarités entre les requêtes(vectorisées) et la représentation TF-IDF de chaque document de notre corpus (matrice de vecteurs)\n",
    "\n",
    "Nous utiliserons la librairie sklearn de python ainsi que le calcul de similarité cosinus pour faire cela "
   ]
  },
  {
   "cell_type": "code",
<<<<<<< HEAD
   "execution_count": 85,
=======
   "execution_count": 19,
>>>>>>> f28671f (first commit for this project)
   "metadata": {},
   "outputs": [],
   "source": [
    "## Chargement des données traitées\n",
    "\n",
    "import pandas as pd\n",
    "\n",
    "# Charger le corpus traité\n",
    "corpus_df = pd.read_csv(\"\\S2\\TAL\\Projet\\data\\cord19_round1_preprocessed.csv\")\n",
    "# Supprimer les documents sans texte\n",
    "corpus_df = corpus_df.dropna(subset=[\"processed_text\"])\n",
    "\n",
    "documents = corpus_df[\"processed_text\"].tolist()\n",
    "doc_ids = corpus_df[\"doc_id\"].tolist()\n"
   ]
  },
  {
   "cell_type": "code",
<<<<<<< HEAD
   "execution_count": 86,
=======
   "execution_count": 20,
>>>>>>> f28671f (first commit for this project)
   "metadata": {},
   "outputs": [],
   "source": [
    "## Représentation des documents en vecteur de poids TF-IDF \n",
    "\n",
    "from sklearn.feature_extraction.text import TfidfVectorizer\n",
    "\n",
    "# Initialiser le vecteur TF-IDF\n",
    "vectorizer = TfidfVectorizer()\n",
    "tfidf_matrix = vectorizer.fit_transform(documents)  # sparse matrix\n"
   ]
  },
  {
   "cell_type": "markdown",
   "metadata": {},
   "source": [
    "### Appliquons la recherche des documents pour une requête, nous allons vectoriser la requête, faire le calcul de similarité cosinus puis retourner les k premiers documents qui ont une plus grande similarité cosinus "
   ]
  },
  {
   "cell_type": "code",
<<<<<<< HEAD
   "execution_count": 87,
=======
   "execution_count": 21,
>>>>>>> f28671f (first commit for this project)
   "metadata": {},
   "outputs": [
    {
     "name": "stdout",
     "output_type": "stream",
     "text": [
      "\n",
      "Score: 0.6458\n",
      "Doc ID: 73xil5op\n",
      "Bat origin of a new human coronavirus: there and back again\n",
      "\n",
      "Score: 0.4850\n",
      "Doc ID: 6foz003n\n",
      "Diversity of Coronaviruses in Bats: Insights Into Origin of SARS Coronavirus\n",
      "\n",
      "Score: 0.4542\n",
      "Doc ID: 29wzpwvr\n",
      "Coronavirus\n",
      "\n",
      "Score: 0.3915\n",
      "Doc ID: gv1k7u7j\n",
      "Strategies to trace back the origin of COVID-19\n",
      "\n",
      "Score: 0.3599\n",
      "Doc ID: mv3crcsh\n",
      "Mosaic Evolution of the Severe Acute Respiratory Syndrome Coronavirus\n",
      "\n",
      "Score: 0.3486\n",
      "Doc ID: wuegn0jg\n",
      "Bat-Origin Coronaviruses Expand Their Host Range to Pigs\n",
      "\n",
      "Score: 0.3371\n",
      "Doc ID: 9dj07sac\n",
      "The prevalence, origin, and prevention of six human coronaviruses\n",
      "\n",
      "Score: 0.3348\n",
      "Doc ID: 80e5xkht\n",
      "Reacting to the emergence of swine-origin influenza A H1N1\n",
      "\n",
      "Score: 0.3270\n",
      "Doc ID: kh21pnbw\n",
      "New coronavirus\n",
      "\n",
      "Score: 0.3127\n",
      "Doc ID: amr9p1w1\n",
      "What next for the coronavirus response?\n"
     ]
    }
   ],
   "source": [
    "from sklearn.metrics.pairwise import cosine_similarity\n",
    "\n",
    "# Exemple de requête : query_id = 1\n",
    "from nltk.tokenize import RegexpTokenizer\n",
    "from sklearn.feature_extraction.text import ENGLISH_STOP_WORDS\n",
    "\n",
    "tokenizer = RegexpTokenizer(r'\\w+')\n",
    "stop_words = ENGLISH_STOP_WORDS\n",
    "\n",
    "def preprocess(text):\n",
    "    tokens = tokenizer.tokenize(text.lower())\n",
    "    return \" \".join([word for word in tokens if word not in stop_words])\n",
    "\n",
    "# Exemple d'une requête (tu pourras automatiser ça ensuite)\n",
    "query = \"coronavirus origin\"\n",
    "processed_query = preprocess(query)\n",
    "\n",
    "# Vectoriser la requête\n",
    "query_vec = vectorizer.transform([processed_query])\n",
    "\n",
    "# Calculer la similarité cosinus\n",
    "cos_sim = cosine_similarity(query_vec, tfidf_matrix).flatten()\n",
    "\n",
    "# Récupérer les top-k documents les plus similaires\n",
    "top_k = 10\n",
    "top_indices = cos_sim.argsort()[::-1][:top_k]\n",
    "\n",
    "# Affichage des résultats\n",
    "for i in top_indices:\n",
    "    print(f\"\\nScore: {cos_sim[i]:.4f}\")\n",
    "    print(f\"Doc ID: {doc_ids[i]}\")\n",
    "    print(corpus_df.iloc[i]['title'])\n"
   ]
  },
  {
   "cell_type": "markdown",
   "metadata": {},
   "source": [
    "### Construction d'une fonction que nous allons utiliser de manière générale pour l'évaluation de chaque mopdèle (ici nous évaluerons avec toutes les métriques vues en cours)"
   ]
  },
  {
   "cell_type": "code",
<<<<<<< HEAD
   "execution_count": 88,
=======
   "execution_count": 34,
>>>>>>> f28671f (first commit for this project)
   "metadata": {},
   "outputs": [],
   "source": [
    "import numpy as np\n",
    "\n",
    "def precision_at_k(predicted, relevant, k):\n",
    "    if not predicted or not relevant:\n",
    "        return 0.0\n",
    "    predicted_k = predicted[:k]\n",
    "    hits = len(set(predicted_k) & set(relevant))\n",
    "    return hits / k\n",
    "\n",
    "def recall_at_k(predicted, relevant, k):\n",
    "    if not predicted or not relevant:\n",
    "        return 0.0\n",
    "    predicted_k = predicted[:k]\n",
    "    return len(set(predicted_k) & set(relevant)) / len(relevant)\n",
    "\n",
    "def reciprocal_rank(predicted, relevant):\n",
    "    for idx, doc_id in enumerate(predicted):\n",
    "        if doc_id in relevant:\n",
    "            return 1 / (idx + 1)\n",
    "    return 0.0\n",
    "\n",
    "def dcg_at_k(relevances, k):\n",
    "    relevances = np.array(relevances)[:k]\n",
    "    return np.sum(relevances / np.log2(np.arange(2, relevances.size + 2)))\n",
    "\n",
    "def ndcg_at_k(predicted, relevant, k):\n",
    "    # Relevance vector : 1 si doc dans relevant, sinon 0\n",
    "    relevances = [1 if doc in relevant else 0 for doc in predicted[:k]]\n",
    "    dcg = dcg_at_k(relevances, k)\n",
    "    ideal_relevances = sorted(relevances, reverse=True)\n",
    "    idcg = dcg_at_k(ideal_relevances, k)\n",
    "    return dcg / idcg if idcg > 0 else 0.0\n",
    "\n",
    "\n",
    "def evaluate_model(search_function, queries_df, qrels_df, k=10):\n",
    "    precision_scores = []\n",
    "    recall_scores = []\n",
    "    rr_scores = []\n",
    "    ndcg_scores = []\n",
    "\n",
    "    for _, row in queries_df.iterrows():\n",
    "        qid = str(row[\"query_id\"])\n",
    "        query_text = row[\"query\"]\n",
    "\n",
    "        relevant_docs = qrels_df[qrels_df[\"query_id\"] == qid][\"doc_id\"].tolist()\n",
    "        if not relevant_docs:\n",
    "            continue\n",
    "\n",
    "        predicted_docs = search_function(query_text, top_k=k)\n",
    "        if not predicted_docs:\n",
    "            continue\n",
    "\n",
    "        precision_scores.append(precision_at_k(predicted_docs, relevant_docs, k))\n",
    "        recall_scores.append(recall_at_k(predicted_docs, relevant_docs, k))\n",
    "        rr_scores.append(reciprocal_rank(predicted_docs, relevant_docs))\n",
    "        ndcg_scores.append(ndcg_at_k(predicted_docs, relevant_docs, k))\n",
    "\n",
    "    return {\n",
    "        \"precision@k\": np.mean(precision_scores),\n",
    "        \"recall@k\": np.mean(recall_scores),\n",
    "        \"MRR\": np.mean(rr_scores),\n",
    "        \"nDCG@k\": np.mean(ndcg_scores)\n",
    "    }\n"
   ]
  },
  {
   "cell_type": "markdown",
   "metadata": {},
   "source": [
    "### Pour s'assurer que tous les types sont alignés "
   ]
  },
  {
   "cell_type": "code",
<<<<<<< HEAD
   "execution_count": 89,
=======
   "execution_count": 32,
>>>>>>> f28671f (first commit for this project)
   "metadata": {},
   "outputs": [],
   "source": [
    "# Forcer les query_id en str dans les deux DataFrames\n",
    "qrels_df[\"query_id\"] = qrels_df[\"query_id\"].astype(str)\n",
    "queries_df[\"query_id\"] = queries_df[\"query_id\"].astype(str)\n",
    "\n",
    "# Idem pour doc_id (pour être sûr qu’il n’y a pas de soucis de comparaison)\n",
    "qrels_df[\"doc_id\"] = qrels_df[\"doc_id\"].astype(str)\n"
   ]
  },
  {
   "cell_type": "markdown",
   "metadata": {},
   "source": [
    "#### Fonction pour le modèle de recherche tf-idf \n",
    "\n",
    "Cette fonction prend en entrée une requête, le nombre de documents que nous souhaitons retourner, \n",
    "Elle fait le prétraitement sur la requête, vectorise la requête, calcul le score de similarité entre la requête et chaque vecteur de la matrice tf-idf de notre corpus, puis retrourne les k premiers documents qui ont donnés un plus grand score de similarité "
   ]
  },
  {
   "cell_type": "code",
<<<<<<< HEAD
   "execution_count": 90,
=======
   "execution_count": 26,
>>>>>>> f28671f (first commit for this project)
   "metadata": {},
   "outputs": [],
   "source": [
    "def search_tfidf(query_text, top_k=10):\n",
    "    processed = preprocess(query_text)\n",
    "    query_vec = vectorizer.transform([processed])\n",
    "    scores = cosine_similarity(query_vec, tfidf_matrix).flatten()\n",
    "    top_indices = scores.argsort()[::-1][:top_k]\n",
    "    return [doc_ids[i] for i in top_indices]\n"
   ]
  },
  {
   "cell_type": "markdown",
   "metadata": {},
   "source": [
    "#### Appliquons la fonction d'évaluation sur notre modèle avec les requêtes de round1 que nous avons téléchargé plus haut "
   ]
  },
  {
   "cell_type": "code",
<<<<<<< HEAD
   "execution_count": 91,
=======
   "execution_count": 35,
>>>>>>> f28671f (first commit for this project)
   "metadata": {},
   "outputs": [
    {
     "name": "stdout",
     "output_type": "stream",
     "text": [
      "Résultats pour TF-IDF :\n",
      "- precision@k: 0.4000\n",
      "- recall@k: 0.0007\n",
      "- MRR: 1.0000\n",
      "- nDCG@k: 0.8224\n"
     ]
    }
   ],
   "source": [
    "results = evaluate_model(search_tfidf, queries_df, qrels_df, k=10)\n",
    "\n",
    "print(f\"Résultats pour TF-IDF :\")\n",
    "for metric, score in results.items():\n",
    "    print(f\"- {metric}: {score:.4f}\")\n"
   ]
  },
  {
   "cell_type": "markdown",
   "metadata": {},
   "source": [
    "### Commentaire\n",
    "\n",
    "On se rend compte qur 10 documents retournés, nous avons 4 qui ont été trouvés pertinents \n",
    "\n",
    "et parmi les documents pertinents retrouvés on a peu de documents qui sont réellement pertinents(rappel)\n",
    "\n",
    "Par contre ce qui est interressant ici c'est le fait que le premier document est presque toujours pertinent pour la requête (MRR) et aussi dans l'ensemble le classement que notre modèle fait pour la pertinence des document est considérable "
   ]
  },
  {
   "cell_type": "markdown",
   "metadata": {},
   "source": [
    "Pour le rappel, nous allons essayé d'augmenter K et voir si cela peut améliorer les résultats de l'évaluation "
   ]
  },
  {
   "cell_type": "code",
<<<<<<< HEAD
   "execution_count": 92,
=======
   "execution_count": 39,
>>>>>>> f28671f (first commit for this project)
   "metadata": {},
   "outputs": [
    {
     "name": "stdout",
     "output_type": "stream",
     "text": [
      "Résultats pour TF-IDF :\n",
      "- precision@k: 0.2600\n",
      "- recall@k: 0.0086\n",
      "- MRR: 1.0000\n",
      "- nDCG@k: 0.7384\n"
     ]
    }
   ],
   "source": [
    "results = evaluate_model(search_tfidf, queries_df, qrels_df, k=200)\n",
    "\n",
    "print(f\"Résultats pour TF-IDF :\")\n",
    "for metric, score in results.items():\n",
    "    print(f\"- {metric}: {score:.4f}\")\n"
   ]
  },
  {
   "cell_type": "markdown",
   "metadata": {},
   "source": [
    "### Nous allons essayer de tracer une courbe d'évaluation des métriques "
   ]
  },
  {
   "cell_type": "code",
<<<<<<< HEAD
   "execution_count": 93,
=======
   "execution_count": 40,
>>>>>>> f28671f (first commit for this project)
   "metadata": {},
   "outputs": [],
   "source": [
    "ks = list(range(5, 105, 5))\n",
    "precision_scores = []\n",
    "recall_scores = []\n",
    "\n",
    "for k in ks:\n",
    "    results = evaluate_model(search_tfidf, queries_df, qrels_df, k=k)\n",
    "    precision_scores.append(results[\"precision@k\"])\n",
    "    recall_scores.append(results[\"recall@k\"])\n"
   ]
  },
  {
   "cell_type": "code",
<<<<<<< HEAD
   "execution_count": 94,
=======
   "execution_count": 41,
>>>>>>> f28671f (first commit for this project)
   "metadata": {},
   "outputs": [
    {
     "data": {
      "image/png": "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",
      "text/plain": [
       "<Figure size 800x600 with 1 Axes>"
      ]
     },
     "metadata": {},
     "output_type": "display_data"
    }
   ],
   "source": [
    "import matplotlib.pyplot as plt\n",
    "\n",
    "plt.figure(figsize=(8, 6))\n",
    "plt.plot(recall_scores, precision_scores, marker='o')\n",
    "plt.title(\"Courbe Précision vs Rappel (TF-IDF)\")\n",
    "plt.xlabel(\"Rappel\")\n",
    "plt.ylabel(\"Précision\")\n",
    "plt.grid(True)\n",
    "plt.show()\n"
   ]
  },
  {
   "cell_type": "markdown",
   "metadata": {},
   "source": [
    "### Commentaire\n",
    "\n",
    "Nous observons un comportement typique des moteurs de recherche \n",
    "\n",
    "Plus on ramène des documents, plus on a la chance d'avoir des documents pertinents c'est pour cela que le rappel augmente, par contre plus on ramène aussi des documents moins pertinents c'est pour cela que la précision baisse ici \n",
    "\n",
    "Mais avec cette représentation, on ne s'arrête pas uniquement à la précision et au rappel, nous regardons aussi l'ordre de pertinence des documents retournés et ici on se rend compte que le modèle fait un très bon tris ici"
   ]
<<<<<<< HEAD
  },
  {
   "cell_type": "markdown",
   "metadata": {},
   "source": [
    "### Nous allons maintenant utiliser l'approche wordvec pour représenter nos documents du corpus \n",
    "\n",
    "Ceci permettra de gérer la semantique des mots, la ressemblance entre les mots ce qui est important dans notre cas\n",
    "\n",
    "Ceci produira un moteur de recherche semantique simple \n",
    "\n"
   ]
  },
  {
   "cell_type": "code",
   "execution_count": 95,
   "metadata": {},
   "outputs": [],
   "source": [
    "import numpy as np\n",
    "\n",
    "def load_glove_embeddings(file_path):\n",
    "    embeddings = {}\n",
    "    with open(file_path, 'r', encoding='utf-8') as f:\n",
    "        for line in f:\n",
    "            values = line.strip().split()\n",
    "            word = values[0]\n",
    "            vec = np.array(values[1:], dtype=np.float32)\n",
    "            embeddings[word] = vec\n",
    "    return embeddings\n",
    "\n",
    "embeddings = load_glove_embeddings(\"\\S2\\TAL\\Projet\\data\\glove.6B.300d.txt\")"
   ]
  },
  {
   "cell_type": "code",
   "execution_count": 96,
   "metadata": {},
   "outputs": [],
   "source": [
    "def text_to_embedding(text, embeddings, dim=300):\n",
    "    words = text.lower().split()\n",
    "    vectors = [embeddings[word] for word in words if word in embeddings]\n",
    "    if not vectors:\n",
    "        return np.zeros(dim)\n",
    "    return np.mean(vectors, axis=0)\n",
    "\n",
    "# Appliquer à tout le corpus\n",
    "corpus_vectors = np.array([\n",
    "    text_to_embedding(text, embeddings) \n",
    "    for text in corpus_df[\"processed_text\"]\n",
    "])\n"
   ]
  },
  {
   "cell_type": "markdown",
   "metadata": {},
   "source": [
    "### Définition de la fonction pour ce deuxième modèle "
   ]
  },
  {
   "cell_type": "code",
   "execution_count": 97,
   "metadata": {},
   "outputs": [],
   "source": [
    "from sklearn.metrics.pairwise import cosine_similarity\n",
    "\n",
    "def search_semantic(query_text, top_k=10):\n",
    "    processed = preprocess(query_text)\n",
    "    query_vec = text_to_embedding(processed, embeddings)\n",
    "    sims = cosine_similarity([query_vec], corpus_vectors).flatten()\n",
    "    top_indices = sims.argsort()[::-1][:top_k]\n",
    "    return [corpus_df.iloc[i][\"doc_id\"] for i in top_indices]\n"
   ]
  },
  {
   "cell_type": "markdown",
   "metadata": {},
   "source": [
    "#### Evaluation de ce modèle "
   ]
  },
  {
   "cell_type": "code",
   "execution_count": 98,
   "metadata": {},
   "outputs": [
    {
     "name": "stdout",
     "output_type": "stream",
     "text": [
      "📊 Résultats du moteur sémantique (GloVe) :\n",
      " - precision@k: 0.3000\n",
      " - recall@k: 0.0005\n",
      " - MRR: 0.5000\n",
      " - nDCG@k: 0.5854\n"
     ]
    }
   ],
   "source": [
    "results_semantic = evaluate_model(search_semantic, queries_df, qrels_df, k=10)\n",
    "\n",
    "print(\"📊 Résultats du moteur sémantique (GloVe) :\")\n",
    "for metric, score in results_semantic.items():\n",
    "    print(f\" - {metric}: {score:.4f}\")\n"
   ]
  },
  {
   "cell_type": "markdown",
   "metadata": {},
   "source": [
    "### Commentaire \n",
    "\n",
    "On constate ici que ce modèle n'est pas mieux que le modèle vectoriel basé sur tf-idf que nous avons fait plus haut "
   ]
  },
  {
   "cell_type": "markdown",
   "metadata": {},
   "source": [
    "### Essayons un modèle plus avancé ici BM25"
   ]
  },
  {
   "cell_type": "code",
   "execution_count": 99,
   "metadata": {},
   "outputs": [],
   "source": [
    "## Préparons les documents pour BM25\n",
    "\n",
    "from rank_bm25 import BM25Okapi\n",
    "from nltk.tokenize import RegexpTokenizer\n",
    "from sklearn.feature_extraction.text import ENGLISH_STOP_WORDS\n",
    "\n",
    "tokenizer = RegexpTokenizer(r'\\w+')\n",
    "stop_words = ENGLISH_STOP_WORDS\n",
    "\n",
    "def preprocess_bm25(text):\n",
    "    return [word for word in tokenizer.tokenize(text.lower()) if word not in stop_words]\n",
    "\n",
    "# Tokenisation du corpus\n",
    "tokenized_corpus = [preprocess_bm25(text) for text in corpus_df[\"processed_text\"]]\n"
   ]
  },
  {
   "cell_type": "markdown",
   "metadata": {},
   "source": [
    "### Initialisation du modèle"
   ]
  },
  {
   "cell_type": "code",
   "execution_count": 100,
   "metadata": {},
   "outputs": [],
   "source": [
    "bm25_model = BM25Okapi(tokenized_corpus)\n"
   ]
  },
  {
   "cell_type": "markdown",
   "metadata": {},
   "source": [
    "#### Fonction qui fera la recherche des documents pour chaque requête avec le modèle que nous venons d'initialiser "
   ]
  },
  {
   "cell_type": "code",
   "execution_count": 101,
   "metadata": {},
   "outputs": [],
   "source": [
    "def search_bm25(query_text, top_k=10):\n",
    "    query_tokens = preprocess_bm25(query_text)\n",
    "    scores = bm25_model.get_scores(query_tokens)\n",
    "    top_indices = scores.argsort()[::-1][:top_k]\n",
    "    return [corpus_df.iloc[i][\"doc_id\"] for i in top_indices]\n"
   ]
  },
  {
   "cell_type": "code",
   "execution_count": 102,
   "metadata": {},
   "outputs": [
    {
     "name": "stdout",
     "output_type": "stream",
     "text": [
      "📊 Résultats du moteur BM25 :\n",
      " - precision@k: 0.5000\n",
      " - recall@k: 0.0008\n",
      " - MRR: 1.0000\n",
      " - nDCG@k: 0.8268\n"
     ]
    }
   ],
   "source": [
    "results_bm25 = evaluate_model(search_bm25, queries_df, qrels_df, k=10)\n",
    "\n",
    "print(\"📊 Résultats du moteur BM25 :\")\n",
    "for metric, score in results_bm25.items():\n",
    "    print(f\" - {metric}: {score:.4f}\")\n"
   ]
  },
  {
   "cell_type": "code",
   "execution_count": 103,
   "metadata": {},
   "outputs": [
    {
     "name": "stderr",
     "output_type": "stream",
     "text": [
      "C:\\Users\\12407156\\AppData\\Local\\Temp\\ipykernel_3388\\2919391194.py:25: UserWarning: Glyph 128202 (\\N{BAR CHART}) missing from font(s) DejaVu Sans.\n",
      "  plt.tight_layout()\n",
      "c:\\S2\\TAL\\Projet\\.venv\\Lib\\site-packages\\IPython\\core\\pylabtools.py:170: UserWarning: Glyph 128202 (\\N{BAR CHART}) missing from font(s) DejaVu Sans.\n",
      "  fig.canvas.print_figure(bytes_io, **kw)\n"
     ]
    },
    {
     "data": {
      "image/png": "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",
      "text/plain": [
       "<Figure size 1000x600 with 1 Axes>"
      ]
     },
     "metadata": {},
     "output_type": "display_data"
    }
   ],
   "source": [
    "import matplotlib.pyplot as plt\n",
    "\n",
    "# Données\n",
    "models = [\"TF-IDF\", \"GloVe\", \"BM25\"]\n",
    "precision = [0.4, 0.3, 0.5]\n",
    "recall = [0.0007, 0.0005, 0.0008]\n",
    "mrr = [1.0, 0.5, 1.0]\n",
    "ndcg = [0.8224, 0.5854, 0.8268]\n",
    "\n",
    "# Tracé\n",
    "x = range(len(models))\n",
    "width = 0.2\n",
    "\n",
    "plt.figure(figsize=(10,6))\n",
    "plt.bar([i - 1.5*width for i in x], precision, width=width, label=\"Precision@10\")\n",
    "plt.bar([i - 0.5*width for i in x], recall, width=width, label=\"Recall@10\")\n",
    "plt.bar([i + 0.5*width for i in x], mrr, width=width, label=\"MRR\")\n",
    "plt.bar([i + 1.5*width for i in x], ndcg, width=width, label=\"nDCG@10\")\n",
    "\n",
    "plt.xticks(x, models)\n",
    "plt.ylabel(\"Score\")\n",
    "plt.title(\"📊 Comparaison des modèles de recherche (k=10)\")\n",
    "plt.legend()\n",
    "plt.grid(True, linestyle='--', alpha=0.6)\n",
    "plt.tight_layout()\n",
    "plt.show()\n"
   ]
  },
  {
   "cell_type": "markdown",
   "metadata": {},
   "source": [
    "#### Nous allons maintenant travailler avec une technique basée sur le PRF (pseudo Relevance Feedback) \n",
    "\n",
    "On récupère les premiers résultats d'une requête on capture les mots clés dans ces résultats et on forme une nouvelle requete avec cela puis on fait à nouveau la recherche "
   ]
  },
  {
   "cell_type": "code",
   "execution_count": 104,
   "metadata": {},
   "outputs": [],
   "source": [
    "## Fonction pour enrichir la requête \n",
    "\n",
    "from sklearn.feature_extraction.text import TfidfVectorizer\n",
    "\n",
    "def expand_query_with_top_terms_tfidf(query_text, top_docs, corpus_df, top_n_terms=5):\n",
    "    # Récupérer les textes des documents sélectionnés\n",
    "    top_texts = corpus_df[corpus_df[\"doc_id\"].isin(top_docs)][\"processed_text\"].tolist()\n",
    "\n",
    "    # Calculer TF-IDF sur ces documents\n",
    "    vectorizer = TfidfVectorizer()\n",
    "    X = vectorizer.fit_transform(top_texts)\n",
    "    tfidf_scores = X.sum(axis=0).A1  # Somme des scores TF-IDF par mot\n",
    "    words = vectorizer.get_feature_names_out()\n",
    "\n",
    "    # Sélectionner les top_n_terms les mieux scorés\n",
    "    top_terms = [words[i] for i in tfidf_scores.argsort()[::-1][:top_n_terms]]\n",
    "\n",
    "    # Étendre la requête\n",
    "    expanded_query = query_text + \" \" + \" \".join(top_terms)\n",
    "    return expanded_query\n",
    "\n"
   ]
  },
  {
   "cell_type": "code",
   "execution_count": 105,
   "metadata": {},
   "outputs": [],
   "source": [
    "## Fonction de recherche avec PRF\n",
    "\n",
    "def search_tfidf_prf_tfidf_expansion(query_text, top_k=10, feedback_k=10, top_n_terms=5):\n",
    "    # Recherche initiale\n",
    "    initial_top_docs = search_tfidf(query_text, top_k=feedback_k)\n",
    "\n",
    "    # Expansion avec termes à fort TF-IDF\n",
    "    expanded_query = expand_query_with_top_terms_tfidf(query_text, initial_top_docs, corpus_df, top_n_terms)\n",
    "\n",
    "    # Recherche finale\n",
    "    final_top_docs = search_tfidf(expanded_query, top_k=top_k)\n",
    "    return final_top_docs\n"
   ]
  },
  {
   "cell_type": "code",
   "execution_count": 106,
   "metadata": {},
   "outputs": [
    {
     "name": "stdout",
     "output_type": "stream",
     "text": [
      "📊 Résultats du moteur TF-IDF avec PRF (TF-IDF-weighted expansion) :\n",
      " - precision@k: 0.2000\n",
      " - recall@k: 0.0003\n",
      " - MRR: 1.0000\n",
      " - nDCG@k: 0.8316\n"
     ]
    }
   ],
   "source": [
    "### Evaluation du nouveau moteur de recherche avec notre fonction \n",
    "results_prf_tfidf = evaluate_model(search_tfidf_prf_tfidf_expansion, queries_df, qrels_df, k=10)\n",
    "\n",
    "print(\"📊 Résultats du moteur TF-IDF avec PRF (TF-IDF-weighted expansion) :\")\n",
    "for metric, score in results_prf_tfidf.items():\n",
    "    print(f\" - {metric}: {score:.4f}\")\n",
    "\n"
   ]
  },
  {
   "cell_type": "markdown",
   "metadata": {},
   "source": [
    "### Reformulation avec WordNet pour voir si la précision et le rappel vont augmenter"
   ]
  },
  {
   "cell_type": "code",
   "execution_count": 107,
   "metadata": {},
   "outputs": [
    {
     "name": "stderr",
     "output_type": "stream",
     "text": [
      "[nltk_data] Downloading package wordnet to\n",
      "[nltk_data]     C:\\Users\\12407156\\AppData\\Roaming\\nltk_data...\n",
      "[nltk_data]   Package wordnet is already up-to-date!\n",
      "[nltk_data] Downloading package omw-1.4 to\n",
      "[nltk_data]     C:\\Users\\12407156\\AppData\\Roaming\\nltk_data...\n",
      "[nltk_data]   Package omw-1.4 is already up-to-date!\n"
     ]
    }
   ],
   "source": [
    "import nltk\n",
    "nltk.download('wordnet')\n",
    "nltk.download('omw-1.4')\n",
    "\n",
    "from nltk.corpus import wordnet as wn\n"
   ]
  },
  {
   "cell_type": "code",
   "execution_count": 108,
   "metadata": {},
   "outputs": [],
   "source": [
    "## Fonction pour récupérer les synonyms\n",
    "\n",
    "def get_synonyms(word):\n",
    "    synonyms = set()\n",
    "    for syn in wn.synsets(word):\n",
    "        for lemma in syn.lemmas():\n",
    "            synonym = lemma.name().replace('_', ' ')\n",
    "            if synonym != word:\n",
    "                synonyms.add(synonym)\n",
    "    return list(synonyms)\n"
   ]
  },
  {
   "cell_type": "code",
   "execution_count": 109,
   "metadata": {},
   "outputs": [],
   "source": [
    "## Reformuler la requête avec les synonyms\n",
    "\n",
    "def expand_query_with_synonyms(query, max_synonyms=2):\n",
    "    tokens = tokenizer.tokenize(query.lower())\n",
    "    new_terms = []\n",
    "\n",
    "    for token in tokens:\n",
    "        syns = get_synonyms(token)\n",
    "        new_terms.extend(syns[:max_synonyms])  # Limite à n synonymes par mot\n",
    "\n",
    "    expanded_query = query + \" \" + \" \".join(new_terms)\n",
    "    return expanded_query\n"
   ]
  },
  {
   "cell_type": "code",
   "execution_count": 110,
   "metadata": {},
   "outputs": [],
   "source": [
    "## Recherche TF-IDF avec les synonyms \n",
    "def search_tfidf_synonyms(query_text, top_k=10):\n",
    "    expanded_query = expand_query_with_synonyms(query_text)\n",
    "    return search_tfidf(expanded_query, top_k=top_k)\n"
   ]
  },
  {
   "cell_type": "code",
   "execution_count": 111,
   "metadata": {},
   "outputs": [
    {
     "name": "stdout",
     "output_type": "stream",
     "text": [
      "📊 Résultats du moteur TF-IDF avec reformulation par synonymes (WordNet) :\n",
      " - precision@k: 0.1000\n",
      " - recall@k: 0.0002\n",
      " - MRR: 0.2500\n",
      " - nDCG@k: 0.4307\n"
     ]
    }
   ],
   "source": [
    "results_synonyms = evaluate_model(search_tfidf_synonyms, queries_df, qrels_df, k=10)\n",
    "\n",
    "print(\"📊 Résultats du moteur TF-IDF avec reformulation par synonymes (WordNet) :\")\n",
    "for metric, score in results_synonyms.items():\n",
    "    print(f\" - {metric}: {score:.4f}\")\n"
   ]
  },
  {
   "cell_type": "markdown",
   "metadata": {},
   "source": [
    "### Combinons TF-IDF, PRF et Synonyms \n",
    "\n"
   ]
  },
  {
   "cell_type": "code",
   "execution_count": 112,
   "metadata": {},
   "outputs": [],
   "source": [
    "def search_tfidf_prf_synonyms(query_text, top_k=10, feedback_k=10, top_n_terms=5, max_synonyms=2):\n",
    "    # Étendre la requête avec des synonymes\n",
    "    tokens = tokenizer.tokenize(query_text.lower())\n",
    "    synonym_terms = []\n",
    "    for token in tokens:\n",
    "        syns = get_synonyms(token)\n",
    "        synonym_terms.extend(syns[:max_synonyms])\n",
    "    \n",
    "    synonym_expanded_query = query_text + \" \" + \" \".join(synonym_terms)\n",
    "\n",
    "    # Recherche initiale avec requête enrichie par synonymes\n",
    "    initial_top_docs = search_tfidf(synonym_expanded_query, top_k=feedback_k)\n",
    "\n",
    "    # Expansion avec PRF (mots TF-IDF discriminants)\n",
    "    final_query = expand_query_with_top_terms_tfidf(synonym_expanded_query, initial_top_docs, corpus_df, top_n_terms)\n",
    "\n",
    "    # Recherche finale\n",
    "    final_top_docs = search_tfidf(final_query, top_k=top_k)\n",
    "    return final_top_docs\n"
   ]
  },
  {
   "cell_type": "code",
   "execution_count": 113,
   "metadata": {},
   "outputs": [
    {
     "name": "stdout",
     "output_type": "stream",
     "text": [
      "📊 Résultats du moteur TF-IDF avec PRF + Synonymes :\n",
      " - precision@k: 0.0000\n",
      " - recall@k: 0.0000\n",
      " - MRR: 0.0000\n",
      " - nDCG@k: 0.0000\n"
     ]
    }
   ],
   "source": [
    "results_prf_syn = evaluate_model(search_tfidf_prf_synonyms, queries_df, qrels_df, k=10)\n",
    "\n",
    "print(\"📊 Résultats du moteur TF-IDF avec PRF + Synonymes :\")\n",
    "for metric, score in results_prf_syn.items():\n",
    "    print(f\" - {metric}: {score:.4f}\")\n"
   ]
  },
  {
   "cell_type": "markdown",
   "metadata": {},
   "source": [
    "### Nous avons vraiment essayé mais le rappel et la précision ne veulent pas changer\n",
    "\n",
    "le vocabulaire dans le cadre médical a beaucoup de synonyms et aussi les mots de WordNet n'est pas assez enrichie pour le cadre médical, lorsqu'on fait du PRF les mots pris pour relancer une nouvelle requête sont probablement hors de sens \n",
    "\n",
    "### Utilisons maintenant une autre approche avec un modèle pré-entrainé SBERT "
   ]
  },
  {
   "cell_type": "code",
   "execution_count": 114,
   "metadata": {},
   "outputs": [],
   "source": [
    "from sentence_transformers import SentenceTransformer\n",
    "import numpy as np\n",
    "\n",
    "model = SentenceTransformer('all-MiniLM-L6-v2')  # Léger et rapide\n"
   ]
  },
  {
   "cell_type": "code",
   "execution_count": null,
   "metadata": {},
   "outputs": [],
   "source": [
    "## Encoder le corpus \n",
    "corpus_sentences = corpus_df[\"processed_text\"].tolist()\n",
    "corpus_embeddings = model.encode(corpus_sentences, show_progress_bar=True)\n",
    "\n",
    "\n",
    "# Sauvegarde\n",
    "np.save(\"corpus_embeddings.npy\", corpus_embeddings)"
   ]
  },
  {
   "cell_type": "code",
   "execution_count": 116,
   "metadata": {},
   "outputs": [],
   "source": [
    "### Fonction SBERT \n",
    "from sklearn.metrics.pairwise import cosine_similarity\n",
    "\n",
    "def search_sbert(query_text, top_k=10):\n",
    "    query_embedding = model.encode([query_text])[0]\n",
    "    scores = cosine_similarity([query_embedding], corpus_embeddings).flatten()\n",
    "    top_indices = scores.argsort()[::-1][:top_k]\n",
    "    return [corpus_df.iloc[i][\"doc_id\"] for i in top_indices]\n"
   ]
  },
  {
   "cell_type": "code",
   "execution_count": 117,
   "metadata": {},
   "outputs": [
    {
     "name": "stdout",
     "output_type": "stream",
     "text": [
      "📊 Résultats du moteur SBERT :\n",
      " - precision@k: 0.1000\n",
      " - recall@k: 0.0002\n",
      " - MRR: 0.1667\n",
      " - nDCG@k: 0.3562\n"
     ]
    }
   ],
   "source": [
    "results_sbert = evaluate_model(search_sbert, queries_df, qrels_df, k=10)\n",
    "\n",
    "print(\"📊 Résultats du moteur SBERT :\")\n",
    "for metric, score in results_sbert.items():\n",
    "    print(f\" - {metric}: {score:.4f}\")\n"
   ]
  },
  {
   "cell_type": "code",
   "execution_count": 122,
   "metadata": {},
   "outputs": [],
   "source": [
    "def search_tfidf_rerank_sbert(query_text, tfidf_top_k=100, final_top_k=10):\n",
    "    # Étape 1 : top_k résultats avec TF-IDF\n",
    "    tfidf_candidates = search_tfidf(query_text, top_k=tfidf_top_k)\n",
    "\n",
    "    # Étape 2 : récupérer les textes de ces documents\n",
    "    candidate_texts = corpus_df[corpus_df[\"doc_id\"].isin(tfidf_candidates)][\"processed_text\"].tolist()\n",
    "    candidate_ids = corpus_df[corpus_df[\"doc_id\"].isin(tfidf_candidates)][\"doc_id\"].tolist()\n",
    "\n",
    "    # Étape 3 : encoder les documents et la requête avec SBERT\n",
    "    doc_embeddings = model.encode(candidate_texts)\n",
    "    query_embedding = model.encode([query_text])[0]\n",
    "\n",
    "    # Étape 4 : calculer similarités cosinus\n",
    "    scores = cosine_similarity([query_embedding], doc_embeddings).flatten()\n",
    "    top_indices = scores.argsort()[::-1][:final_top_k]\n",
    "\n",
    "    # Étape 5 : retourner les doc_id reclassés\n",
    "    return [candidate_ids[i] for i in top_indices]\n"
   ]
  },
  {
   "cell_type": "code",
   "execution_count": 123,
   "metadata": {},
   "outputs": [
    {
     "name": "stdout",
     "output_type": "stream",
     "text": [
      "📊 Résultats du moteur TF-IDF + Re-ranking SBERT :\n",
      " - precision@k: 0.1000\n",
      " - recall@k: 0.0002\n",
      " - MRR: 0.2500\n",
      " - nDCG@k: 0.4307\n"
     ]
    }
   ],
   "source": [
    "# ✅ Wrapper à définir avant l'appel de evaluate_model\n",
    "def search_tfidf_rerank_sbert_eval(query_text, top_k=10):\n",
    "    return search_tfidf_rerank_sbert(query_text, tfidf_top_k=100, final_top_k=top_k)\n",
    "\n",
    "# ✅ Ensuite, évaluer en passant le wrapper\n",
    "results_rerank_sbert = evaluate_model(search_tfidf_rerank_sbert_eval, queries_df, qrels_df, k=10)\n",
    "\n",
    "# ✅ Afficher les résultats\n",
    "print(\"📊 Résultats du moteur TF-IDF + Re-ranking SBERT :\")\n",
    "for metric, score in results_rerank_sbert.items():\n",
    "    print(f\" - {metric}: {score:.4f}\")\n"
   ]
  },
  {
   "cell_type": "markdown",
   "metadata": {},
   "source": [
    "### On se rend compte que les modèle avancé ne fonctionnent pas mieux que TF-IDF avec ce corpus, nous allons nous remettre à TF-IDF et améliorer ce moteur de recherche en appliquant certaines techniques:\n",
    "\n",
    "- Utiliser les titres et abstracts uniquement afin d'éviter les textes trop long\n",
    "- Netoyer les données et faire de la Lematisation au lieu du simple stopword que nous avons fait \n",
    "- Passer aux n-gramme au lieu d'un seul mot uniquement "
   ]
  },
  {
   "cell_type": "code",
   "execution_count": 124,
   "metadata": {},
   "outputs": [],
   "source": [
    "# Utilisons title+abstract \n",
    "\n",
    "df[\"fulltext\"] = df[\"title\"].fillna(\"\") + \" \" + df[\"abstract\"].fillna(\"\")\n"
   ]
  },
  {
   "cell_type": "code",
   "execution_count": 125,
   "metadata": {},
   "outputs": [
    {
     "name": "stdout",
     "output_type": "stream",
     "text": [
      "Collecting spacy\n",
      "  Downloading spacy-3.8.5-cp311-cp311-win_amd64.whl.metadata (28 kB)\n",
      "Collecting spacy-legacy<3.1.0,>=3.0.11 (from spacy)\n",
      "  Downloading spacy_legacy-3.0.12-py2.py3-none-any.whl.metadata (2.8 kB)\n",
      "Collecting spacy-loggers<2.0.0,>=1.0.0 (from spacy)\n",
      "  Downloading spacy_loggers-1.0.5-py3-none-any.whl.metadata (23 kB)\n",
      "Collecting murmurhash<1.1.0,>=0.28.0 (from spacy)\n",
      "  Downloading murmurhash-1.0.12-cp311-cp311-win_amd64.whl.metadata (2.2 kB)\n",
      "Collecting cymem<2.1.0,>=2.0.2 (from spacy)\n",
      "  Downloading cymem-2.0.11-cp311-cp311-win_amd64.whl.metadata (8.8 kB)\n",
      "Collecting preshed<3.1.0,>=3.0.2 (from spacy)\n",
      "  Downloading preshed-3.0.9-cp311-cp311-win_amd64.whl.metadata (2.2 kB)\n",
      "Collecting thinc<8.4.0,>=8.3.4 (from spacy)\n",
      "  Downloading thinc-8.3.6-cp311-cp311-win_amd64.whl.metadata (15 kB)\n",
      "Collecting wasabi<1.2.0,>=0.9.1 (from spacy)\n",
      "  Downloading wasabi-1.1.3-py3-none-any.whl.metadata (28 kB)\n",
      "Collecting srsly<3.0.0,>=2.4.3 (from spacy)\n",
      "  Downloading srsly-2.5.1-cp311-cp311-win_amd64.whl.metadata (20 kB)\n",
      "Collecting catalogue<2.1.0,>=2.0.6 (from spacy)\n",
      "  Downloading catalogue-2.0.10-py3-none-any.whl.metadata (14 kB)\n",
      "Collecting weasel<0.5.0,>=0.1.0 (from spacy)\n",
      "  Downloading weasel-0.4.1-py3-none-any.whl.metadata (4.6 kB)\n",
      "Collecting typer<1.0.0,>=0.3.0 (from spacy)\n",
      "  Downloading typer-0.15.2-py3-none-any.whl.metadata (15 kB)\n",
      "Requirement already satisfied: tqdm<5.0.0,>=4.38.0 in c:\\s2\\tal\\projet\\.venv\\lib\\site-packages (from spacy) (4.67.1)\n",
      "Requirement already satisfied: numpy>=1.19.0 in c:\\s2\\tal\\projet\\.venv\\lib\\site-packages (from spacy) (2.2.4)\n",
      "Requirement already satisfied: requests<3.0.0,>=2.13.0 in c:\\s2\\tal\\projet\\.venv\\lib\\site-packages (from spacy) (2.32.3)\n",
      "Collecting pydantic!=1.8,!=1.8.1,<3.0.0,>=1.7.4 (from spacy)\n",
      "  Downloading pydantic-2.11.2-py3-none-any.whl.metadata (64 kB)\n",
      "Requirement already satisfied: jinja2 in c:\\s2\\tal\\projet\\.venv\\lib\\site-packages (from spacy) (3.1.6)\n",
      "Requirement already satisfied: setuptools in c:\\s2\\tal\\projet\\.venv\\lib\\site-packages (from spacy) (65.5.0)\n",
      "Requirement already satisfied: packaging>=20.0 in c:\\s2\\tal\\projet\\.venv\\lib\\site-packages (from spacy) (24.2)\n",
      "Collecting langcodes<4.0.0,>=3.2.0 (from spacy)\n",
      "  Downloading langcodes-3.5.0-py3-none-any.whl.metadata (29 kB)\n",
      "Collecting language-data>=1.2 (from langcodes<4.0.0,>=3.2.0->spacy)\n",
      "  Downloading language_data-1.3.0-py3-none-any.whl.metadata (4.3 kB)\n",
      "Collecting annotated-types>=0.6.0 (from pydantic!=1.8,!=1.8.1,<3.0.0,>=1.7.4->spacy)\n",
      "  Downloading annotated_types-0.7.0-py3-none-any.whl.metadata (15 kB)\n",
      "Collecting pydantic-core==2.33.1 (from pydantic!=1.8,!=1.8.1,<3.0.0,>=1.7.4->spacy)\n",
      "  Downloading pydantic_core-2.33.1-cp311-cp311-win_amd64.whl.metadata (6.9 kB)\n",
      "Requirement already satisfied: typing-extensions>=4.12.2 in c:\\s2\\tal\\projet\\.venv\\lib\\site-packages (from pydantic!=1.8,!=1.8.1,<3.0.0,>=1.7.4->spacy) (4.13.0)\n",
      "Collecting typing-inspection>=0.4.0 (from pydantic!=1.8,!=1.8.1,<3.0.0,>=1.7.4->spacy)\n",
      "  Downloading typing_inspection-0.4.0-py3-none-any.whl.metadata (2.6 kB)\n",
      "Requirement already satisfied: charset-normalizer<4,>=2 in c:\\s2\\tal\\projet\\.venv\\lib\\site-packages (from requests<3.0.0,>=2.13.0->spacy) (3.4.1)\n",
      "Requirement already satisfied: idna<4,>=2.5 in c:\\s2\\tal\\projet\\.venv\\lib\\site-packages (from requests<3.0.0,>=2.13.0->spacy) (3.10)\n",
      "Requirement already satisfied: urllib3<3,>=1.21.1 in c:\\s2\\tal\\projet\\.venv\\lib\\site-packages (from requests<3.0.0,>=2.13.0->spacy) (2.3.0)\n",
      "Requirement already satisfied: certifi>=2017.4.17 in c:\\s2\\tal\\projet\\.venv\\lib\\site-packages (from requests<3.0.0,>=2.13.0->spacy) (2025.1.31)\n",
      "Collecting blis<1.4.0,>=1.3.0 (from thinc<8.4.0,>=8.3.4->spacy)\n",
      "  Downloading blis-1.3.0-cp311-cp311-win_amd64.whl.metadata (7.6 kB)\n",
      "Collecting confection<1.0.0,>=0.0.1 (from thinc<8.4.0,>=8.3.4->spacy)\n",
      "  Downloading confection-0.1.5-py3-none-any.whl.metadata (19 kB)\n",
      "Requirement already satisfied: colorama in c:\\s2\\tal\\projet\\.venv\\lib\\site-packages (from tqdm<5.0.0,>=4.38.0->spacy) (0.4.6)\n",
      "Requirement already satisfied: click>=8.0.0 in c:\\s2\\tal\\projet\\.venv\\lib\\site-packages (from typer<1.0.0,>=0.3.0->spacy) (8.1.8)\n",
      "Collecting shellingham>=1.3.0 (from typer<1.0.0,>=0.3.0->spacy)\n",
      "  Using cached shellingham-1.5.4-py2.py3-none-any.whl.metadata (3.5 kB)\n",
      "Collecting rich>=10.11.0 (from typer<1.0.0,>=0.3.0->spacy)\n",
      "  Downloading rich-14.0.0-py3-none-any.whl.metadata (18 kB)\n",
      "Collecting cloudpathlib<1.0.0,>=0.7.0 (from weasel<0.5.0,>=0.1.0->spacy)\n",
      "  Downloading cloudpathlib-0.21.0-py3-none-any.whl.metadata (14 kB)\n",
      "Collecting smart-open<8.0.0,>=5.2.1 (from weasel<0.5.0,>=0.1.0->spacy)\n",
      "  Downloading smart_open-7.1.0-py3-none-any.whl.metadata (24 kB)\n",
      "Requirement already satisfied: MarkupSafe>=2.0 in c:\\s2\\tal\\projet\\.venv\\lib\\site-packages (from jinja2->spacy) (3.0.2)\n",
      "Collecting marisa-trie>=1.1.0 (from language-data>=1.2->langcodes<4.0.0,>=3.2.0->spacy)\n",
      "  Downloading marisa_trie-1.2.1-cp311-cp311-win_amd64.whl.metadata (9.3 kB)\n",
      "Collecting markdown-it-py>=2.2.0 (from rich>=10.11.0->typer<1.0.0,>=0.3.0->spacy)\n",
      "  Using cached markdown_it_py-3.0.0-py3-none-any.whl.metadata (6.9 kB)\n",
      "Requirement already satisfied: pygments<3.0.0,>=2.13.0 in c:\\s2\\tal\\projet\\.venv\\lib\\site-packages (from rich>=10.11.0->typer<1.0.0,>=0.3.0->spacy) (2.19.1)\n",
      "Collecting wrapt (from smart-open<8.0.0,>=5.2.1->weasel<0.5.0,>=0.1.0->spacy)\n",
      "  Using cached wrapt-1.17.2-cp311-cp311-win_amd64.whl.metadata (6.5 kB)\n",
      "Collecting mdurl~=0.1 (from markdown-it-py>=2.2.0->rich>=10.11.0->typer<1.0.0,>=0.3.0->spacy)\n",
      "  Using cached mdurl-0.1.2-py3-none-any.whl.metadata (1.6 kB)\n",
      "Downloading spacy-3.8.5-cp311-cp311-win_amd64.whl (12.2 MB)\n",
      "   ---------------------------------------- 0.0/12.2 MB ? eta -:--:--\n",
      "   ----------- ---------------------------- 3.4/12.2 MB 18.3 MB/s eta 0:00:01\n",
      "   ----------------------- ---------------- 7.1/12.2 MB 17.4 MB/s eta 0:00:01\n",
      "   ----------------------------------- ---- 10.7/12.2 MB 16.8 MB/s eta 0:00:01\n",
      "   ---------------------------------------- 12.2/12.2 MB 15.9 MB/s eta 0:00:00\n",
      "Downloading catalogue-2.0.10-py3-none-any.whl (17 kB)\n",
      "Downloading cymem-2.0.11-cp311-cp311-win_amd64.whl (39 kB)\n",
      "Downloading langcodes-3.5.0-py3-none-any.whl (182 kB)\n",
      "Downloading murmurhash-1.0.12-cp311-cp311-win_amd64.whl (25 kB)\n",
      "Downloading preshed-3.0.9-cp311-cp311-win_amd64.whl (122 kB)\n",
      "Downloading pydantic-2.11.2-py3-none-any.whl (443 kB)\n",
      "Downloading pydantic_core-2.33.1-cp311-cp311-win_amd64.whl (2.0 MB)\n",
      "   ---------------------------------------- 0.0/2.0 MB ? eta -:--:--\n",
      "   ---------------------------------------- 2.0/2.0 MB 13.5 MB/s eta 0:00:00\n",
      "Downloading spacy_legacy-3.0.12-py2.py3-none-any.whl (29 kB)\n",
      "Downloading spacy_loggers-1.0.5-py3-none-any.whl (22 kB)\n",
      "Downloading srsly-2.5.1-cp311-cp311-win_amd64.whl (632 kB)\n",
      "   ---------------------------------------- 0.0/632.6 kB ? eta -:--:--\n",
      "   --------------------------------------- 632.6/632.6 kB 12.0 MB/s eta 0:00:00\n",
      "Downloading thinc-8.3.6-cp311-cp311-win_amd64.whl (1.8 MB)\n",
      "   ---------------------------------------- 0.0/1.8 MB ? eta -:--:--\n",
      "   ---------------------------------------- 1.8/1.8 MB 16.3 MB/s eta 0:00:00\n",
      "Downloading typer-0.15.2-py3-none-any.whl (45 kB)\n",
      "Downloading wasabi-1.1.3-py3-none-any.whl (27 kB)\n",
      "Downloading weasel-0.4.1-py3-none-any.whl (50 kB)\n",
      "Downloading annotated_types-0.7.0-py3-none-any.whl (13 kB)\n",
      "Downloading blis-1.3.0-cp311-cp311-win_amd64.whl (6.2 MB)\n",
      "   ---------------------------------------- 0.0/6.2 MB ? eta -:--:--\n",
      "   --------------------- ------------------ 3.4/6.2 MB 16.7 MB/s eta 0:00:01\n",
      "   ---------------------------------------- 6.2/6.2 MB 14.7 MB/s eta 0:00:00\n",
      "Downloading cloudpathlib-0.21.0-py3-none-any.whl (52 kB)\n",
      "Downloading confection-0.1.5-py3-none-any.whl (35 kB)\n",
      "Downloading language_data-1.3.0-py3-none-any.whl (5.4 MB)\n",
      "   ---------------------------------------- 0.0/5.4 MB ? eta -:--:--\n",
      "   ------------------------- -------------- 3.4/5.4 MB 16.7 MB/s eta 0:00:01\n",
      "   ---------------------------------------- 5.4/5.4 MB 15.6 MB/s eta 0:00:00\n",
      "Downloading rich-14.0.0-py3-none-any.whl (243 kB)\n",
      "Using cached shellingham-1.5.4-py2.py3-none-any.whl (9.8 kB)\n",
      "Downloading smart_open-7.1.0-py3-none-any.whl (61 kB)\n",
      "Downloading typing_inspection-0.4.0-py3-none-any.whl (14 kB)\n",
      "Downloading marisa_trie-1.2.1-cp311-cp311-win_amd64.whl (152 kB)\n",
      "Using cached markdown_it_py-3.0.0-py3-none-any.whl (87 kB)\n",
      "Using cached wrapt-1.17.2-cp311-cp311-win_amd64.whl (38 kB)\n",
      "Using cached mdurl-0.1.2-py3-none-any.whl (10.0 kB)\n",
      "Installing collected packages: cymem, wrapt, wasabi, typing-inspection, spacy-loggers, spacy-legacy, shellingham, pydantic-core, murmurhash, mdurl, marisa-trie, cloudpathlib, catalogue, blis, annotated-types, srsly, smart-open, pydantic, preshed, markdown-it-py, language-data, rich, langcodes, confection, typer, thinc, weasel, spacy\n",
      "Successfully installed annotated-types-0.7.0 blis-1.3.0 catalogue-2.0.10 cloudpathlib-0.21.0 confection-0.1.5 cymem-2.0.11 langcodes-3.5.0 language-data-1.3.0 marisa-trie-1.2.1 markdown-it-py-3.0.0 mdurl-0.1.2 murmurhash-1.0.12 preshed-3.0.9 pydantic-2.11.2 pydantic-core-2.33.1 rich-14.0.0 shellingham-1.5.4 smart-open-7.1.0 spacy-3.8.5 spacy-legacy-3.0.12 spacy-loggers-1.0.5 srsly-2.5.1 thinc-8.3.6 typer-0.15.2 typing-inspection-0.4.0 wasabi-1.1.3 weasel-0.4.1 wrapt-1.17.2\n",
      "Collecting en-core-web-sm==3.8.0\n",
      "  Downloading https://github.com/explosion/spacy-models/releases/download/en_core_web_sm-3.8.0/en_core_web_sm-3.8.0-py3-none-any.whl (12.8 MB)\n",
      "     ---------------------------------------- 0.0/12.8 MB ? eta -:--:--\n",
      "     ------ --------------------------------- 2.1/12.8 MB 10.7 MB/s eta 0:00:01\n",
      "     -------------- ------------------------- 4.7/12.8 MB 11.9 MB/s eta 0:00:01\n",
      "     ------------------------- -------------- 8.1/12.8 MB 12.9 MB/s eta 0:00:01\n",
      "     ----------------------------------- --- 11.5/12.8 MB 13.9 MB/s eta 0:00:01\n",
      "     --------------------------------------- 12.8/12.8 MB 13.0 MB/s eta 0:00:00\n",
      "Installing collected packages: en-core-web-sm\n",
      "Successfully installed en-core-web-sm-3.8.0\n",
      "\u001b[38;5;2m✔ Download and installation successful\u001b[0m\n",
      "You can now load the package via spacy.load('en_core_web_sm')\n"
     ]
    }
   ],
   "source": [
    "## Nettoyage + lematisation \n",
    "\n",
    "!pip install spacy\n",
    "!python -m spacy download en_core_web_sm\n"
   ]
  },
  {
   "cell_type": "markdown",
   "metadata": {},
   "source": [
    "#### Fonction de prétraitement amélioré "
   ]
  },
  {
   "cell_type": "code",
   "execution_count": 126,
   "metadata": {},
   "outputs": [],
   "source": [
    "import spacy\n",
    "nlp = spacy.load(\"en_core_web_sm\")\n",
    "\n",
    "def preprocess_advanced(text):\n",
    "    doc = nlp(text.lower())\n",
    "    tokens = [token.lemma_ for token in doc if token.is_alpha and not token.is_stop]\n",
    "    return \" \".join(tokens)\n"
   ]
  },
  {
   "cell_type": "code",
   "execution_count": 127,
   "metadata": {},
   "outputs": [
    {
     "name": "stderr",
     "output_type": "stream",
     "text": [
      "100%|██████████| 51069/51069 [38:49<00:00, 21.93it/s]  \n"
     ]
    }
   ],
   "source": [
    "## Application de la fonction sur nos données \n",
    "from tqdm import tqdm\n",
    "tqdm.pandas()\n",
    "\n",
    "df[\"processed_text\"] = df[\"fulltext\"].progress_apply(preprocess_advanced)\n"
   ]
  },
  {
   "cell_type": "code",
   "execution_count": 128,
   "metadata": {},
   "outputs": [],
   "source": [
    "## Améliorons notre vectorizer en intégrant n-gramme afin de construire une nouvelle matrice term-document \n",
    "from sklearn.feature_extraction.text import TfidfVectorizer\n",
    "\n",
    "vectorizer = TfidfVectorizer(\n",
    "    ngram_range=(1, 2),      # unigrams + bigrams\n",
    "    min_df=2,                # ignore mots trop rares\n",
    "    max_df=0.95,             # ignore mots trop fréquents\n",
    "    stop_words='english',   # en plus des stopwords spacy\n",
    "    max_features=10000      # limite mémoire\n",
    ")\n",
    "\n",
    "tfidf_matrix = vectorizer.fit_transform(df[\"processed_text\"])\n"
   ]
  },
  {
   "cell_type": "code",
   "execution_count": 131,
   "metadata": {},
   "outputs": [
    {
     "data": {
      "text/html": [
       "<div>\n",
       "<style scoped>\n",
       "    .dataframe tbody tr th:only-of-type {\n",
       "        vertical-align: middle;\n",
       "    }\n",
       "\n",
       "    .dataframe tbody tr th {\n",
       "        vertical-align: top;\n",
       "    }\n",
       "\n",
       "    .dataframe thead th {\n",
       "        text-align: right;\n",
       "    }\n",
       "</style>\n",
       "<table border=\"1\" class=\"dataframe\">\n",
       "  <thead>\n",
       "    <tr style=\"text-align: right;\">\n",
       "      <th></th>\n",
       "      <th>doc_id</th>\n",
       "      <th>title</th>\n",
       "      <th>abstract</th>\n",
       "      <th>processed_text</th>\n",
       "      <th>fulltext</th>\n",
       "    </tr>\n",
       "  </thead>\n",
       "  <tbody>\n",
       "    <tr>\n",
       "      <th>0</th>\n",
       "      <td>xqhn0vbp</td>\n",
       "      <td>Airborne rhinovirus detection and effect of ul...</td>\n",
       "      <td>BACKGROUND: Rhinovirus, the most common cause ...</td>\n",
       "      <td>airborne rhinovirus detection effect ultraviol...</td>\n",
       "      <td>Airborne rhinovirus detection and effect of ul...</td>\n",
       "    </tr>\n",
       "    <tr>\n",
       "      <th>1</th>\n",
       "      <td>gi6uaa83</td>\n",
       "      <td>Discovering human history from stomach bacteria</td>\n",
       "      <td>Recent analyses of human pathogens have reveal...</td>\n",
       "      <td>discover human history stomach bacteria recent...</td>\n",
       "      <td>Discovering human history from stomach bacteri...</td>\n",
       "    </tr>\n",
       "    <tr>\n",
       "      <th>2</th>\n",
       "      <td>le0ogx1s</td>\n",
       "      <td>A new recruit for the army of the men of death</td>\n",
       "      <td>The army of the men of death, in John Bunyan's...</td>\n",
       "      <td>new recruit army man death army man death john...</td>\n",
       "      <td>A new recruit for the army of the men of death...</td>\n",
       "    </tr>\n",
       "    <tr>\n",
       "      <th>3</th>\n",
       "      <td>fy4w7xz8</td>\n",
       "      <td>Association of HLA class I with severe acute r...</td>\n",
       "      <td>BACKGROUND: The human leukocyte antigen (HLA) ...</td>\n",
       "      <td>association hla class severe acute respiratory...</td>\n",
       "      <td>Association of HLA class I with severe acute r...</td>\n",
       "    </tr>\n",
       "    <tr>\n",
       "      <th>4</th>\n",
       "      <td>0qaoam29</td>\n",
       "      <td>A double epidemic model for the SARS propagation</td>\n",
       "      <td>BACKGROUND: An epidemic of a Severe Acute Resp...</td>\n",
       "      <td>double epidemic model sar propagation backgrou...</td>\n",
       "      <td>A double epidemic model for the SARS propagati...</td>\n",
       "    </tr>\n",
       "  </tbody>\n",
       "</table>\n",
       "</div>"
      ],
      "text/plain": [
       "     doc_id                                              title  \\\n",
       "0  xqhn0vbp  Airborne rhinovirus detection and effect of ul...   \n",
       "1  gi6uaa83    Discovering human history from stomach bacteria   \n",
       "2  le0ogx1s     A new recruit for the army of the men of death   \n",
       "3  fy4w7xz8  Association of HLA class I with severe acute r...   \n",
       "4  0qaoam29   A double epidemic model for the SARS propagation   \n",
       "\n",
       "                                            abstract  \\\n",
       "0  BACKGROUND: Rhinovirus, the most common cause ...   \n",
       "1  Recent analyses of human pathogens have reveal...   \n",
       "2  The army of the men of death, in John Bunyan's...   \n",
       "3  BACKGROUND: The human leukocyte antigen (HLA) ...   \n",
       "4  BACKGROUND: An epidemic of a Severe Acute Resp...   \n",
       "\n",
       "                                      processed_text  \\\n",
       "0  airborne rhinovirus detection effect ultraviol...   \n",
       "1  discover human history stomach bacteria recent...   \n",
       "2  new recruit army man death army man death john...   \n",
       "3  association hla class severe acute respiratory...   \n",
       "4  double epidemic model sar propagation backgrou...   \n",
       "\n",
       "                                            fulltext  \n",
       "0  Airborne rhinovirus detection and effect of ul...  \n",
       "1  Discovering human history from stomach bacteri...  \n",
       "2  A new recruit for the army of the men of death...  \n",
       "3  Association of HLA class I with severe acute r...  \n",
       "4  A double epidemic model for the SARS propagati...  "
      ]
     },
     "execution_count": 131,
     "metadata": {},
     "output_type": "execute_result"
    }
   ],
   "source": [
    "df.head()"
   ]
  },
  {
   "cell_type": "code",
   "execution_count": 132,
   "metadata": {},
   "outputs": [],
   "source": [
    "### Réutilisons notre fonction de recherche tf-idf avec cette nouvelle matrice \n",
    "\n",
    "def search_tfidf(query_text, top_k=10):\n",
    "    query_vec = vectorizer.transform([query_text])\n",
    "    scores = cosine_similarity(query_vec, tfidf_matrix).flatten()\n",
    "    top_indices = scores.argsort()[::-1][:top_k]\n",
    "    return [df.iloc[i][\"doc_id\"] for i in top_indices]\n"
   ]
  },
  {
   "cell_type": "code",
   "execution_count": 140,
   "metadata": {},
   "outputs": [
    {
     "name": "stdout",
     "output_type": "stream",
     "text": [
      "Résultats pour TF-IDF avec lematisation, n-gramme, moins de texte avec k=100 :\n",
      "- precision@k: 0.2600\n",
      "- recall@k: 0.0043\n",
      "- MRR: 0.2500\n",
      "- nDCG@k: 0.6979\n"
     ]
    }
   ],
   "source": [
    "# Evaluation \n",
    "\n",
    "results = evaluate_model(search_tfidf, queries_df, qrels_df, k=100)\n",
    "k = 100\n",
    "print(f\"Résultats pour TF-IDF avec lematisation, n-gramme, moins de texte avec k={k} :\")\n",
    "for metric, score in results.items():\n",
    "    print(f\"- {metric}: {score:.4f}\")\n"
   ]
  },
  {
   "cell_type": "markdown",
   "metadata": {},
   "source": [
    "### On constate que la précision et le rappel ont légèrement augmenté mais les deux autres métrics ont chutées à cause de la difficulté des données dans le cadre médical, il est difficile d'avoir de grande valeurs pour ces deux métriques simultanément "
   ]
  },
  {
   "cell_type": "markdown",
   "metadata": {},
   "source": [
    "Nous avons obtenu un modèle basé sur TF-IDF enrichi par de la lemmatisation, du nettoyage sémantique et des bigrammes. Ce moteur atteint une précision de 26 %, un rappel de 0.43 %, et un nDCG proche de 0.70 avec un k=100. Ces scores sont compétitifs par rapport aux benchmarks du TREC-COVID, tout en conservant une bonne rapidité et une faible complexité computationnelle."
   ]
  },
  {
   "cell_type": "code",
   "execution_count": 142,
   "metadata": {},
   "outputs": [],
   "source": [
    "from sklearn.feature_extraction.text import TfidfVectorizer\n",
    "from nltk.tokenize import RegexpTokenizer\n",
    "from sklearn.feature_extraction.text import ENGLISH_STOP_WORDS\n",
    "import spacy\n",
    "from tqdm import tqdm\n",
    "\n",
    "# Charger spaCy pour la lemmatisation\n",
    "nlp = spacy.load(\"en_core_web_sm\")\n",
    "tokenizer = RegexpTokenizer(r'\\w+')\n",
    "stop_words = ENGLISH_STOP_WORDS\n",
    "\n",
    "def preprocess_advanced(text):\n",
    "    doc = nlp(text.lower())\n",
    "    tokens = [token.lemma_ for token in doc if token.is_alpha and not token.is_stop]\n",
    "    return \" \".join(tokens)\n",
    "\n",
    "def preprocess_and_vectorize_trec(df):\n",
    "    \"\"\"\n",
    "    Prétraite les textes (title + abstract), vectorise avec TF-IDF, et récupère les doc_id.\n",
    "    \"\"\"\n",
    "    tqdm.pandas()\n",
    "    \n",
    "    # Combiner titre et résumé\n",
    "    df[\"fulltext\"] = df[\"title\"].fillna(\"\") + \" \" + df[\"abstract\"].fillna(\"\")\n",
    "    \n",
    "    # Appliquer la lemmatisation\n",
    "    df[\"processed_text\"] = df[\"fulltext\"].progress_apply(preprocess_advanced)\n",
    "    \n",
    "    # TF-IDF vectorisation\n",
    "    vectorizer = TfidfVectorizer(\n",
    "        ngram_range=(1, 2),\n",
    "        min_df=2,\n",
    "        max_df=0.95,\n",
    "        stop_words='english',\n",
    "        max_features=20000\n",
    "    )\n",
    "    \n",
    "    tfidf_matrix = vectorizer.fit_transform(df[\"processed_text\"])\n",
    "    \n",
    "    doc_ids = df[\"doc_id\"].tolist()\n",
    "    \n",
    "    return vectorizer, tfidf_matrix, doc_ids, df\n"
   ]
  },
  {
   "cell_type": "code",
   "execution_count": 147,
   "metadata": {},
   "outputs": [],
   "source": [
    "from sklearn.metrics.pairwise import cosine_similarity\n",
    "\n",
    "def query_documents_trec(vectorizer, tfidf_matrix, doc_ids, df, query_text, N=10):\n",
    "    \"\"\"\n",
    "    Applique une requête textuelle, retourne les N documents les plus similaires avec leur score.\n",
    "    \"\"\"\n",
    "    # Prétraiter la requête\n",
    "    query = preprocess_advanced(query_text)\n",
    "    \n",
    "    # Vectoriser la requête\n",
    "    query_vec = vectorizer.transform([query])\n",
    "    \n",
    "    # Calcul des similarités\n",
    "    similarities = cosine_similarity(query_vec, tfidf_matrix).flatten()\n",
    "    \n",
    "    # Indices triés\n",
    "    top_indices = similarities.argsort()[::-1][:N]\n",
    "    \n",
    "    results = []\n",
    "    for i in top_indices:\n",
    "        results.append({\n",
    "    \"doc_id\": doc_ids[i],\n",
    "    \"title\": df.iloc[i][\"title\"] if isinstance(df.iloc[i][\"title\"], str) else \"\",\n",
    "    \"abstract\": df.iloc[i][\"abstract\"] if isinstance(df.iloc[i][\"abstract\"], str) else \"\",\n",
    "    \"score\": similarities[i]\n",
    "})\n",
    "\n",
    "    \n",
    "    return results\n"
   ]
  },
  {
   "cell_type": "code",
   "execution_count": 148,
   "metadata": {},
   "outputs": [
    {
     "name": "stderr",
     "output_type": "stream",
     "text": [
      "100%|██████████| 51068/51068 [21:05<00:00, 40.36it/s]  \n"
     ]
    }
   ],
   "source": [
    "vectorizer, tfidf_matrix, doc_ids, df = preprocess_and_vectorize_trec(corpus_df)\n",
    "\n",
    "results = query_documents_trec(vectorizer, tfidf_matrix, doc_ids, df, \"covid vaccine long-term effects\", N=5)\n",
    "\n",
    "\n"
   ]
  },
  {
   "cell_type": "code",
   "execution_count": 150,
   "metadata": {},
   "outputs": [
    {
     "name": "stdout",
     "output_type": "stream",
     "text": [
      "\n",
      "🔹 6ytxwx94 - Score: 0.5181\n",
      "Title: Effects of COVID 19 pandemic in daily life\n",
      "Abstract: ...\n",
      "\n",
      "🔹 an45j37f - Score: 0.5083\n",
      "Title: COVID 19 – Journal de bord – 15/03/2020 : premières réflexions\n",
      "Abstract: ...\n",
      "\n",
      "🔹 okjn6hgv - Score: 0.4771\n",
      "Title: Covid -19 in der Praxis\n",
      "Abstract: ...\n",
      "\n",
      "🔹 gzi4tjjv - Score: 0.4181\n",
      "Title: First case of neonatal infection due to COVID 19 in Spain\n",
      "Abstract: ...\n",
      "\n",
      "🔹 g07lj6v8 - Score: 0.4122\n",
      "Title: Fear of COVID 2019: First suicidal case in India !\n",
      "Abstract: ...\n"
     ]
    }
   ],
   "source": [
    "abstract = doc['abstract'] if isinstance(doc['abstract'], str) else \"No abstract available\"\n",
    "\n",
    "for doc in results:\n",
    "    print(f\"\\n🔹 {doc['doc_id']} - Score: {doc['score']:.4f}\")\n",
    "    print(f\"Title: {doc['title']}\")\n",
    "    print(f\"Abstract: {doc['abstract'][:300]}...\")\n"
   ]
  },
  {
   "cell_type": "code",
   "execution_count": 158,
   "metadata": {},
   "outputs": [],
   "source": [
    "## Sauvegarde du model: \n",
    "\n",
    "import pickle\n",
    "from scipy.sparse import save_npz\n",
    "import os\n",
    "\n",
    "# Sauvegarder le vectorizer\n",
    "pickle.dump(vectorizer, open(\"\\S2\\TAL\\Projet\\models/vectorizer.pkl\", \"wb\"))\n",
    "\n",
    "# Sauvegarder la matrice TF-IDF\n",
    "from scipy.sparse import save_npz\n",
    "save_npz(\"\\S2\\TAL\\Projet\\models/tfidf_matrix.npz\", tfidf_matrix)\n",
    "\n",
    "# Sauvegarder le DataFrame des documents\n",
    "df[[\"doc_id\", \"title\", \"abstract\"]].to_csv(\"\\S2\\TAL\\Projet\\models/doc_data.csv\", index=False)\n"
   ]
=======
>>>>>>> f28671f (first commit for this project)
  }
 ],
 "metadata": {
  "kernelspec": {
<<<<<<< HEAD
   "display_name": ".venv",
=======
   "display_name": "Python 3",
>>>>>>> f28671f (first commit for this project)
   "language": "python",
   "name": "python3"
  },
  "language_info": {
   "codemirror_mode": {
    "name": "ipython",
    "version": 3
   },
   "file_extension": ".py",
   "mimetype": "text/x-python",
   "name": "python",
   "nbconvert_exporter": "python",
   "pygments_lexer": "ipython3",
   "version": "3.11.9"
  }
 },
 "nbformat": 4,
 "nbformat_minor": 2
}
