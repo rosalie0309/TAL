{
 "cells": [
  {
   "cell_type": "markdown",
   "metadata": {},
   "source": [
    "## Moteur de recherche sur les données médicales \n",
    "\n",
    "Dans ce projet, nous allons construire un moteur de recherche appliqué aux données médicales issues du challenge TREC-COVID. Afin de respecter la logique pédagogique du cours de Recherche d'Information, nous suivrons une approche progressive :\n",
    "\n",
    "Du modèle le plus simple vers les modèles avancés, en analysant à chaque étape les performances obtenues sur nos données réelles.\n",
    "\n",
    "### Notre objectif \n",
    "**Mettre en œuvre, comparer et analyser différents modèles de recherche d'information, en appliquant l'état de l'art directement sur le corpus TREC-COVID Round 1, un ensemble de documents scientifiques portant sur le COVID-19.**\n",
    "\n",
    "\n",
    "Nous allons commencer par charger les données (ici les documents sur le COVID), puis les requêtes et les qrels pour ces requêtes \n",
    "\n",
    "Nous utilisons la bibliothèque ir_datasets, qui fournit un accès structuré aux documents, aux requêtes (queries) et aux jugements de pertinence (qrels). Cela nous permet de :\n",
    "\n",
    "- Charger directement le Round 1 du corpus, sans passer par un téléchargement manuel.\n",
    "\n",
    "- Éviter le scraping des données sur les liens comme :\n",
    "\n",
    "     - https://ir.nist.gov/covidSubmit/data/topics-rnd1.xml (pour les requêtes)\n",
    "\n",
    "     - https://ir.nist.gov/covidSubmit/data/qrels-rnd1.txt (pour les qrels)\n",
    "\n",
    "\n",
    "\n",
    "#### La structure finale de nos données \n",
    "- Documents : Articles scientifiques (titre, résumé, etc.)\n",
    "\n",
    "- Requêtes : Questions médicales posées dans le cadre du challenge\n",
    "\n",
    "- Qrels : Fichier de pertinence qui indique quels documents sont jugés pertinents pour chaque requête\n"
   ]
  },
  {
   "cell_type": "markdown",
   "metadata": {},
   "source": [
    "### Chargement des données grâce à la librairie ir_dataset"
   ]
  },
  {
   "cell_type": "code",
   "execution_count": 3,
   "metadata": {},
   "outputs": [],
   "source": [
    "import pandas as pd\n",
    "import ir_datasets\n",
    "from nltk.tokenize import RegexpTokenizer\n",
    "from sklearn.feature_extraction.text import ENGLISH_STOP_WORDS\n",
    "from tqdm import tqdm\n",
    "\n",
    "# Charger uniquement round1\n",
    "dataset = ir_datasets.load(\"cord19/trec-covid/round1\")\n",
    "\n",
    "# Ici nous avons juste un objet fourni par la librairie ir_datasets, \n",
    "# qui propose une interface pour accéder aux documents, requêtes, jugements de pertinence, etc."
   ]
  },
  {
   "cell_type": "markdown",
   "metadata": {},
   "source": [
    "Nous allons donc maintenant récupérer les documents de ce dataset que nous venons de charger afin de pouvoir les avoir sous forme de dataFrame ainsi on pourra voir le shape, le header..."
   ]
  },
  {
   "cell_type": "code",
   "execution_count": 4,
   "metadata": {},
   "outputs": [
    {
     "data": {
      "text/plain": [
       "Dataset(id='cord19/trec-covid/round1', provides=['docs', 'queries', 'qrels'])"
      ]
     },
     "execution_count": 4,
     "metadata": {},
     "output_type": "execute_result"
    }
   ],
   "source": [
    "dataset"
   ]
  },
  {
   "cell_type": "code",
   "execution_count": 2,
   "metadata": {},
   "outputs": [
    {
     "name": "stderr",
     "output_type": "stream",
     "text": [
      "Chargement des documents: 51078it [00:00, 97462.97it/s] "
     ]
    },
    {
     "name": "stdout",
     "output_type": "stream",
     "text": [
      "(51078, 3)\n",
      "Index(['doc_id', 'title', 'abstract'], dtype='object')\n"
     ]
    },
    {
     "name": "stderr",
     "output_type": "stream",
     "text": [
      "\n"
     ]
    },
    {
     "data": {
      "text/html": [
       "<div>\n",
       "<style scoped>\n",
       "    .dataframe tbody tr th:only-of-type {\n",
       "        vertical-align: middle;\n",
       "    }\n",
       "\n",
       "    .dataframe tbody tr th {\n",
       "        vertical-align: top;\n",
       "    }\n",
       "\n",
       "    .dataframe thead th {\n",
       "        text-align: right;\n",
       "    }\n",
       "</style>\n",
       "<table border=\"1\" class=\"dataframe\">\n",
       "  <thead>\n",
       "    <tr style=\"text-align: right;\">\n",
       "      <th></th>\n",
       "      <th>doc_id</th>\n",
       "      <th>title</th>\n",
       "      <th>abstract</th>\n",
       "    </tr>\n",
       "  </thead>\n",
       "  <tbody>\n",
       "    <tr>\n",
       "      <th>0</th>\n",
       "      <td>xqhn0vbp</td>\n",
       "      <td>Airborne rhinovirus detection and effect of ul...</td>\n",
       "      <td>BACKGROUND: Rhinovirus, the most common cause ...</td>\n",
       "    </tr>\n",
       "    <tr>\n",
       "      <th>1</th>\n",
       "      <td>gi6uaa83</td>\n",
       "      <td>Discovering human history from stomach bacteria</td>\n",
       "      <td>Recent analyses of human pathogens have reveal...</td>\n",
       "    </tr>\n",
       "    <tr>\n",
       "      <th>2</th>\n",
       "      <td>le0ogx1s</td>\n",
       "      <td>A new recruit for the army of the men of death</td>\n",
       "      <td>The army of the men of death, in John Bunyan's...</td>\n",
       "    </tr>\n",
       "    <tr>\n",
       "      <th>3</th>\n",
       "      <td>fy4w7xz8</td>\n",
       "      <td>Association of HLA class I with severe acute r...</td>\n",
       "      <td>BACKGROUND: The human leukocyte antigen (HLA) ...</td>\n",
       "    </tr>\n",
       "    <tr>\n",
       "      <th>4</th>\n",
       "      <td>0qaoam29</td>\n",
       "      <td>A double epidemic model for the SARS propagation</td>\n",
       "      <td>BACKGROUND: An epidemic of a Severe Acute Resp...</td>\n",
       "    </tr>\n",
       "  </tbody>\n",
       "</table>\n",
       "</div>"
      ],
      "text/plain": [
       "     doc_id                                              title  \\\n",
       "0  xqhn0vbp  Airborne rhinovirus detection and effect of ul...   \n",
       "1  gi6uaa83    Discovering human history from stomach bacteria   \n",
       "2  le0ogx1s     A new recruit for the army of the men of death   \n",
       "3  fy4w7xz8  Association of HLA class I with severe acute r...   \n",
       "4  0qaoam29   A double epidemic model for the SARS propagation   \n",
       "\n",
       "                                            abstract  \n",
       "0  BACKGROUND: Rhinovirus, the most common cause ...  \n",
       "1  Recent analyses of human pathogens have reveal...  \n",
       "2  The army of the men of death, in John Bunyan's...  \n",
       "3  BACKGROUND: The human leukocyte antigen (HLA) ...  \n",
       "4  BACKGROUND: An epidemic of a Severe Acute Resp...  "
      ]
     },
     "execution_count": 2,
     "metadata": {},
     "output_type": "execute_result"
    }
   ],
   "source": [
    "# Préparation\n",
    "docs = []\n",
    "for doc in tqdm(dataset.docs_iter(), desc=\"Chargement des documents\"):\n",
    "    docs.append({\n",
    "        \"doc_id\": doc.doc_id,\n",
    "        \"title\": doc.title,\n",
    "        \"abstract\": doc.abstract\n",
    "    })\n",
    "\n",
    "# Conversion en DataFrame\n",
    "df_docs = pd.DataFrame(docs)\n",
    "\n",
    "# Affichage\n",
    "print(df_docs.shape)\n",
    "print(df_docs.columns)\n",
    "df_docs.head()\n"
   ]
  },
  {
   "cell_type": "markdown",
   "metadata": {},
   "source": [
    "### Chargement des queries et des qrels \n",
    "\n",
    "Nous allons nous servir de l'objet **dataset** chargé pour obtenir les queries et les qrels "
   ]
  },
  {
   "cell_type": "code",
   "execution_count": 3,
   "metadata": {},
   "outputs": [],
   "source": [
    "## Chargement des queries \n",
    "\n",
    "queries_iter = dataset.queries_iter()  # ou dataset.queries\n"
   ]
  },
  {
   "cell_type": "markdown",
   "metadata": {},
   "source": [
    "Nous pouvons maintenant transformer en dataFrame comme avec les documents précédement "
   ]
  },
  {
   "cell_type": "code",
   "execution_count": 4,
   "metadata": {},
   "outputs": [
    {
     "name": "stdout",
     "output_type": "stream",
     "text": [
      "TrecQuery(query_id='1', title='coronavirus origin', description='what is the origin of COVID-19', narrative=\"seeking range of information about the SARS-CoV-2 virus's origin, including its evolution, animal source, and first transmission into humans\")\n"
     ]
    }
   ],
   "source": [
    "first_query = next(dataset.queries_iter())\n",
    "print(first_query)\n"
   ]
  },
  {
   "cell_type": "code",
   "execution_count": 5,
   "metadata": {},
   "outputs": [
    {
     "data": {
      "text/html": [
       "<div>\n",
       "<style scoped>\n",
       "    .dataframe tbody tr th:only-of-type {\n",
       "        vertical-align: middle;\n",
       "    }\n",
       "\n",
       "    .dataframe tbody tr th {\n",
       "        vertical-align: top;\n",
       "    }\n",
       "\n",
       "    .dataframe thead th {\n",
       "        text-align: right;\n",
       "    }\n",
       "</style>\n",
       "<table border=\"1\" class=\"dataframe\">\n",
       "  <thead>\n",
       "    <tr style=\"text-align: right;\">\n",
       "      <th></th>\n",
       "      <th>query_id</th>\n",
       "      <th>title</th>\n",
       "      <th>description</th>\n",
       "      <th>narrative</th>\n",
       "    </tr>\n",
       "  </thead>\n",
       "  <tbody>\n",
       "    <tr>\n",
       "      <th>0</th>\n",
       "      <td>1</td>\n",
       "      <td>coronavirus origin</td>\n",
       "      <td>what is the origin of COVID-19</td>\n",
       "      <td>seeking range of information about the SARS-Co...</td>\n",
       "    </tr>\n",
       "    <tr>\n",
       "      <th>1</th>\n",
       "      <td>2</td>\n",
       "      <td>coronavirus response to weather changes</td>\n",
       "      <td>how does the coronavirus respond to changes in...</td>\n",
       "      <td>seeking range of information about the SARS-Co...</td>\n",
       "    </tr>\n",
       "    <tr>\n",
       "      <th>2</th>\n",
       "      <td>3</td>\n",
       "      <td>coronavirus immunity</td>\n",
       "      <td>will SARS-CoV2 infected people develop immunit...</td>\n",
       "      <td>seeking studies of immunity developed due to i...</td>\n",
       "    </tr>\n",
       "    <tr>\n",
       "      <th>3</th>\n",
       "      <td>4</td>\n",
       "      <td>how do people die from the coronavirus</td>\n",
       "      <td>what causes death from Covid-19?</td>\n",
       "      <td>Studies looking at mechanisms of death from Co...</td>\n",
       "    </tr>\n",
       "    <tr>\n",
       "      <th>4</th>\n",
       "      <td>5</td>\n",
       "      <td>animal models of COVID-19</td>\n",
       "      <td>what drugs have been active against SARS-CoV o...</td>\n",
       "      <td>Papers that describe the results  of testing d...</td>\n",
       "    </tr>\n",
       "  </tbody>\n",
       "</table>\n",
       "</div>"
      ],
      "text/plain": [
       "  query_id                                    title  \\\n",
       "0        1                       coronavirus origin   \n",
       "1        2  coronavirus response to weather changes   \n",
       "2        3                     coronavirus immunity   \n",
       "3        4   how do people die from the coronavirus   \n",
       "4        5                animal models of COVID-19   \n",
       "\n",
       "                                         description  \\\n",
       "0                     what is the origin of COVID-19   \n",
       "1  how does the coronavirus respond to changes in...   \n",
       "2  will SARS-CoV2 infected people develop immunit...   \n",
       "3                   what causes death from Covid-19?   \n",
       "4  what drugs have been active against SARS-CoV o...   \n",
       "\n",
       "                                           narrative  \n",
       "0  seeking range of information about the SARS-Co...  \n",
       "1  seeking range of information about the SARS-Co...  \n",
       "2  seeking studies of immunity developed due to i...  \n",
       "3  Studies looking at mechanisms of death from Co...  \n",
       "4  Papers that describe the results  of testing d...  "
      ]
     },
     "execution_count": 5,
     "metadata": {},
     "output_type": "execute_result"
    }
   ],
   "source": [
    "queries = []\n",
    "for q in dataset.queries_iter():\n",
    "    queries.append({\n",
    "        \"query_id\": q.query_id,\n",
    "        \"title\": q.title,\n",
    "        \"description\": q.description,\n",
    "        \"narrative\": q.narrative\n",
    "    })\n",
    "\n",
    "queries_df = pd.DataFrame(queries)\n",
    "queries_df.head()\n"
   ]
  },
  {
   "cell_type": "code",
   "execution_count": 6,
   "metadata": {},
   "outputs": [],
   "source": [
    "## Chargement des qurels \n",
    "\n",
    "queries_iter = dataset.qrels_iter()"
   ]
  },
  {
   "cell_type": "markdown",
   "metadata": {},
   "source": [
    "On procède comme précédement avec les queries "
   ]
  },
  {
   "cell_type": "code",
   "execution_count": 7,
   "metadata": {},
   "outputs": [
    {
     "data": {
      "text/html": [
       "<div>\n",
       "<style scoped>\n",
       "    .dataframe tbody tr th:only-of-type {\n",
       "        vertical-align: middle;\n",
       "    }\n",
       "\n",
       "    .dataframe tbody tr th {\n",
       "        vertical-align: top;\n",
       "    }\n",
       "\n",
       "    .dataframe thead th {\n",
       "        text-align: right;\n",
       "    }\n",
       "</style>\n",
       "<table border=\"1\" class=\"dataframe\">\n",
       "  <thead>\n",
       "    <tr style=\"text-align: right;\">\n",
       "      <th></th>\n",
       "      <th>query_id</th>\n",
       "      <th>doc_id</th>\n",
       "      <th>relevance</th>\n",
       "    </tr>\n",
       "  </thead>\n",
       "  <tbody>\n",
       "    <tr>\n",
       "      <th>0</th>\n",
       "      <td>1</td>\n",
       "      <td>010vptx3</td>\n",
       "      <td>2</td>\n",
       "    </tr>\n",
       "    <tr>\n",
       "      <th>1</th>\n",
       "      <td>1</td>\n",
       "      <td>02f0opkr</td>\n",
       "      <td>1</td>\n",
       "    </tr>\n",
       "    <tr>\n",
       "      <th>2</th>\n",
       "      <td>1</td>\n",
       "      <td>04ftw7k9</td>\n",
       "      <td>0</td>\n",
       "    </tr>\n",
       "    <tr>\n",
       "      <th>3</th>\n",
       "      <td>1</td>\n",
       "      <td>05qglt1f</td>\n",
       "      <td>0</td>\n",
       "    </tr>\n",
       "    <tr>\n",
       "      <th>4</th>\n",
       "      <td>1</td>\n",
       "      <td>0604jed8</td>\n",
       "      <td>0</td>\n",
       "    </tr>\n",
       "  </tbody>\n",
       "</table>\n",
       "</div>"
      ],
      "text/plain": [
       "  query_id    doc_id  relevance\n",
       "0        1  010vptx3          2\n",
       "1        1  02f0opkr          1\n",
       "2        1  04ftw7k9          0\n",
       "3        1  05qglt1f          0\n",
       "4        1  0604jed8          0"
      ]
     },
     "execution_count": 7,
     "metadata": {},
     "output_type": "execute_result"
    }
   ],
   "source": [
    "qrels = []\n",
    "for qrel in dataset.qrels_iter():\n",
    "    qrels.append({\n",
    "        \"query_id\": qrel.query_id,\n",
    "        \"doc_id\": qrel.doc_id,\n",
    "        \"relevance\": qrel.relevance\n",
    "    })\n",
    "\n",
    "qrels_df = pd.DataFrame(qrels)\n",
    "qrels_df.head()\n"
   ]
  },
  {
   "cell_type": "markdown",
   "metadata": {},
   "source": [
    "### Nettoyage simple\n",
    "\n",
    "Nous allons commencer par effectuer un nettoyage simple pour le moment \n",
    "\n",
    "- Suppression des NAN\n",
    "- Concatenation **title + abstract**\n",
    "- Tokenisation simple "
   ]
  },
  {
   "cell_type": "markdown",
   "metadata": {},
   "source": [
    "### Préparation des outils "
   ]
  },
  {
   "cell_type": "code",
   "execution_count": 8,
   "metadata": {},
   "outputs": [],
   "source": [
    "import pandas as pd\n",
    "from nltk.tokenize import RegexpTokenizer\n",
    "from sklearn.feature_extraction.text import ENGLISH_STOP_WORDS\n",
    "\n",
    "tokenizer = RegexpTokenizer(r'\\w+')  # Garde uniquement les mots alphanumériques\n",
    "stop_words = ENGLISH_STOP_WORDS\n"
   ]
  },
  {
   "cell_type": "markdown",
   "metadata": {},
   "source": [
    "### Fonction de nettoyage simple "
   ]
  },
  {
   "cell_type": "code",
   "execution_count": 9,
   "metadata": {},
   "outputs": [],
   "source": [
    "def clean_text(text):\n",
    "    tokens = tokenizer.tokenize(text.lower())  # minuscules + tokenisation\n",
    "    return [token for token in tokens if token not in stop_words] # On garde ceux qui ne sont pas dans la liste des stopwords\n"
   ]
  },
  {
   "cell_type": "markdown",
   "metadata": {},
   "source": [
    "### Appliquons le nettoyage sur les documents (corpus)"
   ]
  },
  {
   "cell_type": "code",
   "execution_count": 10,
   "metadata": {},
   "outputs": [],
   "source": [
    "\n",
    "## On combine le titre et l'abstract \n",
    "documents_df = pd.DataFrame([\n",
    "    {\n",
    "        \"doc_id\": doc.doc_id,\n",
    "        \"text\": (doc.title or \"\") + (doc.abstract or \"\")\n",
    "    }\n",
    "    for doc in dataset.docs_iter()\n",
    "])\n",
    "\n",
    "# Appliquer le nettoyage\n",
    "documents_df[\"tokens\"] = documents_df[\"text\"].fillna(\"\").apply(clean_text)\n",
    "\n"
   ]
  },
  {
   "cell_type": "code",
   "execution_count": 11,
   "metadata": {},
   "outputs": [
    {
     "data": {
      "text/html": [
       "<div>\n",
       "<style scoped>\n",
       "    .dataframe tbody tr th:only-of-type {\n",
       "        vertical-align: middle;\n",
       "    }\n",
       "\n",
       "    .dataframe tbody tr th {\n",
       "        vertical-align: top;\n",
       "    }\n",
       "\n",
       "    .dataframe thead th {\n",
       "        text-align: right;\n",
       "    }\n",
       "</style>\n",
       "<table border=\"1\" class=\"dataframe\">\n",
       "  <thead>\n",
       "    <tr style=\"text-align: right;\">\n",
       "      <th></th>\n",
       "      <th>doc_id</th>\n",
       "      <th>text</th>\n",
       "      <th>tokens</th>\n",
       "    </tr>\n",
       "  </thead>\n",
       "  <tbody>\n",
       "    <tr>\n",
       "      <th>0</th>\n",
       "      <td>xqhn0vbp</td>\n",
       "      <td>Airborne rhinovirus detection and effect of ul...</td>\n",
       "      <td>[airborne, rhinovirus, detection, effect, ultr...</td>\n",
       "    </tr>\n",
       "    <tr>\n",
       "      <th>1</th>\n",
       "      <td>gi6uaa83</td>\n",
       "      <td>Discovering human history from stomach bacteri...</td>\n",
       "      <td>[discovering, human, history, stomach, bacteri...</td>\n",
       "    </tr>\n",
       "    <tr>\n",
       "      <th>2</th>\n",
       "      <td>le0ogx1s</td>\n",
       "      <td>A new recruit for the army of the men of death...</td>\n",
       "      <td>[new, recruit, army, men, deaththe, army, men,...</td>\n",
       "    </tr>\n",
       "  </tbody>\n",
       "</table>\n",
       "</div>"
      ],
      "text/plain": [
       "     doc_id                                               text  \\\n",
       "0  xqhn0vbp  Airborne rhinovirus detection and effect of ul...   \n",
       "1  gi6uaa83  Discovering human history from stomach bacteri...   \n",
       "2  le0ogx1s  A new recruit for the army of the men of death...   \n",
       "\n",
       "                                              tokens  \n",
       "0  [airborne, rhinovirus, detection, effect, ultr...  \n",
       "1  [discovering, human, history, stomach, bacteri...  \n",
       "2  [new, recruit, army, men, deaththe, army, men,...  "
      ]
     },
     "execution_count": 11,
     "metadata": {},
     "output_type": "execute_result"
    }
   ],
   "source": [
    "documents_df.head(3)"
   ]
  },
  {
   "cell_type": "markdown",
   "metadata": {},
   "source": [
    "#### Nettoyage des requêtes"
   ]
  },
  {
   "cell_type": "code",
   "execution_count": 12,
   "metadata": {},
   "outputs": [],
   "source": [
    "queries_df[\"tokens\"] = queries_df[\"title\"].fillna(\"\").apply(clean_text)\n"
   ]
  },
  {
   "cell_type": "markdown",
   "metadata": {},
   "source": [
    "On nettoie seulement les titres pour les requêtes car c'est la reformulation courte de la requête et c'est ce que l'utilisateur taperait naturellement dans un moteur de recherche.\n",
    "\n",
    "*description* et *narrative* décrivent l'intention complète du sujet, mais ils ne sont pas directement utilisés dans les évaluations (TREC utilise *title* par défaut)"
   ]
  },
  {
   "cell_type": "code",
   "execution_count": 13,
   "metadata": {},
   "outputs": [
    {
     "data": {
      "text/html": [
       "<div>\n",
       "<style scoped>\n",
       "    .dataframe tbody tr th:only-of-type {\n",
       "        vertical-align: middle;\n",
       "    }\n",
       "\n",
       "    .dataframe tbody tr th {\n",
       "        vertical-align: top;\n",
       "    }\n",
       "\n",
       "    .dataframe thead th {\n",
       "        text-align: right;\n",
       "    }\n",
       "</style>\n",
       "<table border=\"1\" class=\"dataframe\">\n",
       "  <thead>\n",
       "    <tr style=\"text-align: right;\">\n",
       "      <th></th>\n",
       "      <th>query_id</th>\n",
       "      <th>title</th>\n",
       "      <th>description</th>\n",
       "      <th>narrative</th>\n",
       "      <th>tokens</th>\n",
       "    </tr>\n",
       "  </thead>\n",
       "  <tbody>\n",
       "    <tr>\n",
       "      <th>0</th>\n",
       "      <td>1</td>\n",
       "      <td>coronavirus origin</td>\n",
       "      <td>what is the origin of COVID-19</td>\n",
       "      <td>seeking range of information about the SARS-Co...</td>\n",
       "      <td>[coronavirus, origin]</td>\n",
       "    </tr>\n",
       "    <tr>\n",
       "      <th>1</th>\n",
       "      <td>2</td>\n",
       "      <td>coronavirus response to weather changes</td>\n",
       "      <td>how does the coronavirus respond to changes in...</td>\n",
       "      <td>seeking range of information about the SARS-Co...</td>\n",
       "      <td>[coronavirus, response, weather, changes]</td>\n",
       "    </tr>\n",
       "    <tr>\n",
       "      <th>2</th>\n",
       "      <td>3</td>\n",
       "      <td>coronavirus immunity</td>\n",
       "      <td>will SARS-CoV2 infected people develop immunit...</td>\n",
       "      <td>seeking studies of immunity developed due to i...</td>\n",
       "      <td>[coronavirus, immunity]</td>\n",
       "    </tr>\n",
       "  </tbody>\n",
       "</table>\n",
       "</div>"
      ],
      "text/plain": [
       "  query_id                                    title  \\\n",
       "0        1                       coronavirus origin   \n",
       "1        2  coronavirus response to weather changes   \n",
       "2        3                     coronavirus immunity   \n",
       "\n",
       "                                         description  \\\n",
       "0                     what is the origin of COVID-19   \n",
       "1  how does the coronavirus respond to changes in...   \n",
       "2  will SARS-CoV2 infected people develop immunit...   \n",
       "\n",
       "                                           narrative  \\\n",
       "0  seeking range of information about the SARS-Co...   \n",
       "1  seeking range of information about the SARS-Co...   \n",
       "2  seeking studies of immunity developed due to i...   \n",
       "\n",
       "                                      tokens  \n",
       "0                      [coronavirus, origin]  \n",
       "1  [coronavirus, response, weather, changes]  \n",
       "2                    [coronavirus, immunity]  "
      ]
     },
     "execution_count": 13,
     "metadata": {},
     "output_type": "execute_result"
    }
   ],
   "source": [
    "queries_df.head(3)"
   ]
  },
  {
   "cell_type": "markdown",
   "metadata": {},
   "source": [
    "### Modèle binaire \n",
    "\n",
    "Nous allons implémenter un modèle binaire ici et voir ce qui en est des performances, nous terminerons par des commentaire à propos de ce modèle \n",
    "\n",
    "- Index inversé (mot et liste des documents où il apparait)\n",
    "- Requête en mode booléen \n",
    "- Recherche des documents concernant certains termes \n",
    "\n",
    "Nous ferons une évaluation simple (couverture de la requête)"
   ]
  },
  {
   "cell_type": "markdown",
   "metadata": {},
   "source": [
    "### Création d'un index inversé sur les documents dont nous venons de faire le nettoyage simple"
   ]
  },
  {
   "cell_type": "code",
   "execution_count": 14,
   "metadata": {},
   "outputs": [],
   "source": [
    "from collections import defaultdict\n",
    "\n",
    "def create_inverted_index(docs_tokens):\n",
    "    \"\"\"\n",
    "    docs_tokens : DataFrame avec colonnes ['doc_id', 'tokens']\n",
    "    Retourne un index inversé : mot → set de doc_ids\n",
    "    \"\"\"\n",
    "    index = defaultdict(set)\n",
    "    for _, row in docs_tokens.iterrows():\n",
    "        doc_id = row[\"doc_id\"]\n",
    "        for token in set(row[\"tokens\"]):  # set pour éviter les doublons\n",
    "            index[token].add(doc_id) # Constituer l'index inversé\n",
    "    return dict(index)\n",
    "\n",
    "# Création de l'index\n",
    "inverted_index = create_inverted_index(documents_df[[\"doc_id\", \"tokens\"]])\n"
   ]
  },
  {
   "cell_type": "code",
   "execution_count": 15,
   "metadata": {},
   "outputs": [],
   "source": [
    "docs_token = documents_df[['doc_id', 'tokens']]"
   ]
  },
  {
   "cell_type": "code",
   "execution_count": 16,
   "metadata": {},
   "outputs": [
    {
     "data": {
      "text/plain": [
       "0    [airborne, rhinovirus, detection, effect, ultr...\n",
       "1    [discovering, human, history, stomach, bacteri...\n",
       "2    [new, recruit, army, men, deaththe, army, men,...\n",
       "Name: tokens, dtype: object"
      ]
     },
     "execution_count": 16,
     "metadata": {},
     "output_type": "execute_result"
    }
   ],
   "source": [
    "documents_df['tokens'].head(3)"
   ]
  },
  {
   "cell_type": "code",
   "execution_count": null,
   "metadata": {},
   "outputs": [],
   "source": [
    "for _,row in docs_token.iterrows():\n",
    "    print(row['doc_id'])"
   ]
  },
  {
   "cell_type": "markdown",
   "metadata": {},
   "source": [
    "### Recherche binaire avec cet index que nous venons de créer \n",
    "\n",
    "Ici nous faisons la recherche AND "
   ]
  },
  {
   "cell_type": "code",
   "execution_count": 18,
   "metadata": {},
   "outputs": [],
   "source": [
    "def boolean_search(query_tokens, index):\n",
    "    \"\"\"\n",
    "    Effectue une recherche binaire avec opérateur AND.\n",
    "    query_tokens : liste de tokens nettoyés\n",
    "    index : dictionnaire mot ==> set(doc_ids)\n",
    "    Retourne l'ensemble des doc_ids correspondant\n",
    "    \"\"\"\n",
    "    if not query_tokens:\n",
    "        return set()\n",
    "\n",
    "    result = index.get(query_tokens[0], set())\n",
    "    for token in query_tokens[1:]:\n",
    "        result = result & index.get(token, set())  # Intersection\n",
    "        if not result:\n",
    "            break  # optimisation : stop si plus aucun document trouvé\n",
    "    return result\n",
    "\n"
   ]
  },
  {
   "cell_type": "markdown",
   "metadata": {},
   "source": [
    "#### Fonction qui se sert de la recherche pour retourner les documents avec les titres et les abstracts "
   ]
  },
  {
   "cell_type": "code",
   "execution_count": 19,
   "metadata": {},
   "outputs": [],
   "source": [
    "def boolean_search_documents(query_text, index, documents_df):\n",
    "    \"\"\"\n",
    "    - query_text : texte brut de la requête (non tokenisé)\n",
    "    - index : index inversé (mot → doc_ids)\n",
    "    - documents_df : DataFrame avec ['doc_id', 'text', 'tokens']\n",
    "\n",
    "    Retourne une liste de dictionnaires avec 'doc_id', 'title', 'abstract'\n",
    "    \"\"\"\n",
    "    query_tokens = clean_text(query_text)\n",
    "    matched_ids = boolean_search(query_tokens, index)\n",
    "\n",
    "    # Récupération des documents correspondant aux doc_ids trouvés\n",
    "    results = documents_df[documents_df['doc_id'].isin(matched_ids)].copy()\n",
    "\n",
    "    # Extraction séparée du titre et abstract\n",
    "    results['title'] = results['text'].apply(lambda t: t.split(\". \")[0] if \". \" in t else t[:100])\n",
    "    results['abstract'] = results['text'].apply(lambda t: t if \". \" not in t else \". \".join(t.split(\". \")[1:]))\n",
    "\n",
    "    return results[['doc_id', 'title', 'abstract']].to_dict(orient='records')\n",
    "\n"
   ]
  },
  {
   "cell_type": "markdown",
   "metadata": {},
   "source": [
    "### Exemple d'usage de ce moteur de recherche booléen "
   ]
  },
  {
   "cell_type": "code",
   "execution_count": 20,
   "metadata": {},
   "outputs": [
    {
     "name": "stdout",
     "output_type": "stream",
     "text": [
      "\n",
      " 1wswi7us\n",
      " Title: Relationship of SARS-CoV to other pathogenic RNA viruses explored by tetranucleotide usage profilingBACKGROUND: The exact origin of the cause of the Severe Acute Respiratory Syndrome (SARS) is still an open question\n",
      " Abstract: The genomic sequence relationship of SARS-CoV with 30 different single-stranded RNA (ssRNA) viruses of various families was studied using two non-standard approaches. Both approaches began with the vectorial profiling of the tetra-nucleotide usage pattern V for each virus. In approach one, a distanc...\n",
      "\n",
      " 8zwsi4nk\n",
      " Title: Date of origin of the SARS coronavirus strainsBACKGROUND: A new respiratory infectious epidemic, severe acute respiratory syndrome (SARS), broke out and spread throughout the world\n",
      " Abstract: By now the putative pathogen of SARS has been identified as a new coronavirus, a single positive-strand RNA virus. RNA viruses commonly have a high rate of genetic mutation. It is therefore important to know the mutation rate of the SARS coronavirus as it spreads through the population. Moreover, fi...\n",
      "\n",
      " 0gmtnkbh\n",
      " Title: Mutational dynamics of the SARS coronavirus in cell culture and human populations isolated in 2003BACKGROUND: The SARS coronavirus is the etiologic agent for the epidemic of the Severe Acute Respiratory Syndrome\n",
      " Abstract: The recent emergence of this new pathogen, the careful tracing of its transmission patterns, and the ability to propagate in culture allows the exploration of the mutational dynamics of the SARS-CoV in human populations. METHODS: We sequenced complete SARS-CoV genomes taken from primary human tissue...\n",
      "\n",
      " 7ecliy9q\n",
      " Title: Inhibition of cytokine gene expression and induction of chemokine genes in non-lymphatic cells infected with SARS coronavirusBACKGROUND: SARS coronavirus (SARS-CoV) is the etiologic agent of the severe acute respiratory syndrome\n",
      " Abstract: SARS-CoV mainly infects tissues of non-lymphatic origin, and the cytokine profile of those cells can determine the course of disease. Here, we investigated the cytokine response of two human non-lymphatic cell lines, Caco-2 and HEK 293, which are fully permissive for SARS-CoV. RESULTS: A comparison ...\n",
      "\n",
      " xad3k5aw\n",
      " Title: Recombinant Canine Coronaviruses in Dogs, EuropeCoronaviruses of potential recombinant origin with porcine transmissible gastroenteritis virus (TGEV), referred to as a new subtype (IIb) of canine coronavirus (CCoV), were recently identified in dogs in Europe\n",
      " Abstract: To assess the distribution of the TGEV-like CCoV subtype, during 2001–2008 we tested fecal samples from dogs with gastroenteritis. Of 1,172 samples, 493 (42.06%) were positive for CCoV. CCoV-II was found in 218 samples, and CCoV-I and CCoV-II genotypes were found in 182. Approximately 20% of the sam...\n",
      "\n",
      " jcu3pasy\n",
      " Title: Recombination in Avian Gamma-Coronavirus Infectious Bronchitis VirusRecombination in the family Coronaviridae has been well documented and is thought to be a contributing factor in the emergence and evolution of different coronaviral genotypes as well as different species of coronavirus\n",
      " Abstract: However, there are limited data available on the frequency and extent of recombination in coronaviruses in nature and particularly for the avian gamma-coronaviruses where only recently the emergence of a turkey coronavirus has been attributed solely to recombination. In this study, the full-length g...\n",
      "\n",
      " v08cs51n\n",
      " Title: Review of Bats and SARSBats have been identified as a natural reservoir for an increasing number of emerging zoonotic viruses, including henipaviruses and variants of rabies viruses\n",
      " Abstract: Recently, we and another group independently identified several horseshoe bat species (genus Rhinolophus) as the reservoir host for a large number of viruses that have a close genetic relationship with the coronavirus associated with severe acute respiratory syndrome (SARS). Our current research foc...\n",
      "\n",
      " ezi2mret\n",
      " Title: SARS-associated Coronavirus Transmitted from Human to PigSEVERE ACUTE RESPIRATORY SYNDROME–ASSOCIATED: coronavirus (SARS-CoV) was isolated from a pig during a survey for possible routes of viral transmission after a SARS epidemic\n",
      " Abstract: Sequence and epidemiology analyses suggested that the pig was infected by a SARS-CoV of human origin....\n",
      "\n",
      " buzyani0\n",
      " Title: Origin, diversity, and maturation of human antiviral antibodies analyzed by high-throughput sequencingOur understanding of how antibodies are generated and function could help develop effective vaccines and antibody-based therapeutics against viruses such as HIV-1, SARS coronavirus (SARS CoV), and Hendra and Nipah viruses (henipaviruses)\n",
      " Abstract: Although broadly neutralizing antibodies (bnAbs) against the HIV-1 were observed in patients, elicitation of such bnAbs remains a major challenge when compared to other viral targets. We previously hypothesized that HIV-1 could have evolved a strategy to evade the immune system due to absent or very...\n",
      "\n",
      " vexo81k5\n",
      " Title: Identification and Characterization of a Novel Alpaca Respiratory Coronavirus Most Closely Related to the Human Coronavirus 229EIn 2007, a novel coronavirus associated with an acute respiratory disease in alpacas (Alpaca Coronavirus, ACoV) was isolated\n",
      " Abstract: Full-length genomic sequencing of the ACoV demonstrated the genome to be consistent with other Alphacoronaviruses. A putative additional open-reading frame was identified between the nucleocapsid gene and 3'UTR. The ACoV was genetically most similar to the common human coronavirus (HCoV) 229E with 9...\n",
      "\n",
      " h87dfod2\n",
      " Title: Efficient Replication of the Novel Human Betacoronavirus EMC on Primary Human Epithelium Highlights Its Zoonotic PotentialThe recent emergence of a novel human coronavirus (HCoV-EMC) in the Middle East raised considerable concerns, as it is associated with severe acute pneumonia, renal failure, and fatal outcome and thus resembles the clinical presentation of severe acute respiratory syndrome (SARS) observed in 2002 and 2003\n",
      " Abstract: Like SARS-CoV, HCoV-EMC is of zoonotic origin and closely related to bat coronaviruses. The human airway epithelium (HAE) represents the entry point and primary target tissue for respiratory viruses and is highly relevant for assessing the zoonotic potential of emerging respiratory viruses, such as ...\n",
      "\n",
      " 9dwpnvxf\n",
      " Title: Origin, Evolution, and Genotyping of Emergent Porcine Epidemic Diarrhea Virus Strains in the United StatesCoronaviruses are known to infect humans and other animals and cause respiratory and gastrointestinal diseases\n",
      " Abstract: Here we report the emergence of porcine epidemic diarrhea virus (PEDV) in the United States and determination of its origin, evolution, and genotypes based on temporal and geographical evidence. Histological lesions in small intestine sections of affected pigs and the complete genomic sequences of t...\n",
      "\n",
      " b09wj0h7\n",
      " Title: Identification of pathogens and virulence profile of Rhodococcus equi and Escherichia coli strains obtained from sand of parksThe identification of pathogens of viral (Rotavirus, Coronavirus), parasitic (Toxocara spp.) and bacterial (Escherichia coli, Salmonella spp., Rhodococcus equi) origin shed in feces, and the virulence profile of R\n",
      " Abstract: equi and E. coli isolates were investigated in 200 samples of sand obtained from 40 parks, located in central region of state of Sao Paulo, Brazil, using different diagnostic methods. From 200 samples analyzed, 23 (11.5%) strains of R. equi were isolated. None of the R. equi isolates showed a virule...\n",
      "\n",
      " flc25wlz\n",
      " Title: Adaptive evolution of bat dipeptidyl peptidase 4 (dpp4): implications for the origin and emergence of Middle East respiratory syndrome coronavirusBACKGROUND: The newly emerged Middle East respiratory syndrome coronavirus (MERS-CoV) that first appeared in Saudi Arabia during the summer of 2012 has to date (20th September 2013) caused 58 human deaths\n",
      " Abstract: MERS-CoV utilizes the dipeptidyl peptidase 4 (DPP4) host cell receptor, and analysis of the long-term interaction between virus and receptor provides key information on the evolutionary events that lead to the viral emergence. FINDINGS: We show that bat DPP4 genes have been subject to significant ad...\n",
      "\n",
      " e3wjo0yk\n",
      " Title: Novel Avian Coronavirus and Fulminating Disease in Guinea Fowl, FranceFor decades, French guinea fowl have been affected by fulminating enteritis of unclear origin\n",
      " Abstract: By using metagenomics, we identified a novel avian gammacoronavirus associated with this disease that is distantly related to turkey coronaviruses. Fatal respiratory diseases in humans have recently been caused by coronaviruses of animal origin....\n",
      "\n",
      " njepfk4a\n",
      " Title: The effect of New Neonatal Porcine Diarrhoea Syndrome (NNPDS) on average daily gain and mortality in 4 Danish pig herdsBACKGROUND: The study evaluated the effect of New Neonatal Porcine Diarrhoea Syndrome (NNPDS) on average daily gain (ADG) and mortality and described the clinical manifestations in four herds suffering from the syndrome\n",
      " Abstract: NNPDS is a diarrhoeic syndrome affecting piglets within the first week of life, which is not caused by enterotoxigenic Escherichia coli (ETEC), Clostridium perfringens (C. perfringens) type A/C, Clostridium difficile (C. difficile), rotavirus A, coronavirus, Cystoisospora suis, Strongyloides ransomi...\n",
      "\n",
      " 380l28s4\n",
      " Title: Estimation of MERS-Coronavirus Reproductive Number and Case Fatality Rate for the Spring 2014 Saudi Arabia Outbreak: Insights from Publicly Available DataBackground: The Middle East Respiratory Syndrome Coronavirus (MERS-CoV) was initially recognized as a source of severe respiratory illness and renal failure in 2012\n",
      " Abstract: Prior to 2014, MERS-CoV was mostly associated with sporadic cases of human illness, of presumed zoonotic origin, though chains of person-to-person transmission in the healthcare setting were reported. In spring 2014, large healthcare-associated outbreaks of MERS-CoV infection occurred in Jeddah and ...\n",
      "\n",
      " 6o7j5k9n\n",
      " Title: Origin, Evolution, and Virulence of Porcine Deltacoronaviruses in the United StatesA novel porcine deltacoronavirus (PdCV) was first discovered in Ohio and Indiana in February 2014, rapidly spread to other states in the United States and Canada, and caused significant economic loss in the swine industry\n",
      " Abstract: The origin and virulence of this novel porcine coronavirus are not known. Here, we characterized U.S. PdCV isolates and determined their virulence in gnotobiotic and conventional piglets. Genome analyses revealed that U.S. PdCV isolates possess unique genetic characteristics and share a close relati...\n",
      "\n",
      " qc5stoap\n",
      " Title: Genomic Analysis and Surveillance of the Coronavirus Dominant in Ducks in ChinaThe genetic diversity, evolution, distribution, and taxonomy of some coronaviruses dominant in birds other than chickens remain enigmatic\n",
      " Abstract: In this study we sequenced the genome of a newly identified coronavirus dominant in ducks (DdCoV), and performed a large-scale surveillance of coronaviruses in chickens and ducks using a conserved RT-PCR assay. The viral genome harbors a tandem repeat which is rare in vertebrate RNA viruses. The rep...\n",
      "\n",
      " x6sjdglm\n",
      " Title: Origin and Possible Genetic Recombination of the Middle East Respiratory Syndrome Coronavirus from the First Imported Case in China: Phylogenetics and Coalescence AnalysisThe Middle East respiratory syndrome coronavirus (MERS-CoV) causes a severe acute respiratory tract infection with a high fatality rate in humans\n",
      " Abstract: Coronaviruses are capable of infecting multiple species and can evolve rapidly through recombination events. Here, we report the complete genomic sequence analysis of a MERS-CoV strain imported to China from South Korea. The imported virus, provisionally named ChinaGD01, belongs to group 3 in clade ...\n",
      "\n",
      " zhxrlopp\n",
      " Title: Coronaviruses: emerging and re-emerging pathogens in humans and animalsThe severe acute respiratory syndrome coronavirus (SARS-CoV) and recently emerged Middle East respiratory syndrome coronavirus (MERS-CoV) epidemics have proven the ability of coronaviruses to cross species barrier and emerge rapidly in humans\n",
      " Abstract: Other coronaviruses such as porcine epidemic diarrhea virus (PEDV) are also known to cause major disease epidemics in animals wiith huge economic loss. This special issue in Virology Journal aims to highlight the advances and key discoveries in the animal origin, viral evolution, epidemiology, diagn...\n",
      "\n",
      " d2knbzhl\n",
      " Title: Bat origin of human coronavirusesBats have been recognized as the natural reservoirs of a large variety of viruses\n",
      " Abstract: Special attention has been paid to bat coronaviruses as the two emerging coronaviruses which have caused unexpected human disease outbreaks in the 21st century, Severe Acute Respiratory Syndrome Coronavirus (SARS-CoV) and Middle East Respiratory Syndrome Coronavirus (MERS-CoV), are suggested to be o...\n",
      "\n",
      " 2pnqpljt\n",
      " Title: Replication and shedding of MERS-CoV in Jamaican fruit bats (Artibeus jamaicensis)The emergence of Middle East respiratory syndrome coronavirus (MERS-CoV) highlights the zoonotic potential of Betacoronaviruses\n",
      " Abstract: Investigations into the origin of MERS-CoV have focused on two potential reservoirs: bats and camels. Here, we investigated the role of bats as a potential reservoir for MERS-CoV. In vitro, the MERS-CoV spike glycoprotein interacted with Jamaican fruit bat (Artibeus jamaicensis) dipeptidyl peptidase...\n",
      "\n",
      " rjmgybzn\n",
      " Title: Molecular epidemiology and evolutionary histories of human coronavirus OC43 and HKU1 among patients with upper respiratory tract infections in Kuala Lumpur, MalaysiaBACKGROUND: Despite the worldwide circulation of human coronavirus OC43 (HCoV-OC43) and HKU1 (HCoV-HKU1), data on their molecular epidemiology and evolutionary dynamics in the tropical Southeast Asia region is lacking\n",
      " Abstract: METHODS: The study aimed to investigate the genetic diversity, temporal distribution, population history and clinical symptoms of betacoronavirus infections in Kuala Lumpur, Malaysia between 2012 and 2013. A total of 2,060 adults presented with acute respiratory symptoms were screened for the presen...\n",
      "\n",
      " v8xmnfko\n",
      " Title: How and Why Overcome the Impediments to Resolution: Lessons from rhinolophid and hipposiderid BatsThe phylogenetic and taxonomic relationships among the Old World leaf-nosed bats (Hipposideridae) and the closely related horseshoe bats (Rhinolophidae) remain unresolved\n",
      " Abstract: In this study, we generated a novel approximately 10-kb molecular data set of 19 nuclear exon and intron gene fragments for 40 bat species to elucidate the phylogenetic relationships within the families Rhinolophidae and Hipposideridae. We estimated divergence times and explored potential reasons fo...\n",
      "\n",
      " 3egio7z7\n",
      " Title: Wildlife Trade and Human Health in Lao PDR: An Assessment of the Zoonotic Disease Risk in MarketsAlthough the majority of emerging infectious diseases can be linked to wildlife sources, most pathogen spillover events to people could likely be avoided if transmission was better understood and practices adjusted to mitigate risk\n",
      " Abstract: Wildlife trade can facilitate zoonotic disease transmission and represents a threat to human health and economies in Asia, highlighted by the 2003 SARS coronavirus outbreak, where a Chinese wildlife market facilitated pathogen transmission. Additionally, wildlife trade poses a serious threat to biod...\n",
      "\n",
      " g9oxcfnt\n",
      " Title: Contrasted patterns of variation and evolutionary convergence at the antiviral OAS1 gene in old world primatesThe oligoadenylate synthetase 1 (OAS1) enzyme acts as an innate sensor of viral infection and plays a major role in the defense against a wide diversity of viruses\n",
      " Abstract: Polymorphisms at OAS1 have been shown to correlate with differential susceptibility to several infections of great public health significance, including hepatitis C virus, SARS coronavirus, and West Nile virus. Population genetics analyses in hominoids have revealed interesting evolutionary patterns...\n",
      "\n",
      " yzp9wjuk\n",
      " Title: Middle East Respiratory Syndrome Coronavirus (MERS-CoV) origin and animal reservoirMiddle East Respiratory Syndrome-Coronavirus (MERS-CoV) is a novel coronavirus discovered in 2012 and is responsible for acute respiratory syndrome in humans\n",
      " Abstract: Though not confirmed yet, multiple surveillance and phylogenetic studies suggest a bat origin. The disease is heavily endemic in dromedary camel populations of East Africa and the Middle East. It is unclear as to when the virus was introduced to dromedary camels, but data from studies that investiga...\n",
      "\n",
      " lb7nathd\n",
      " Title: Predicting the international spread of Middle East respiratory syndrome (MERS)BACKGROUND: The Middle East respiratory syndrome (MERS) associated coronavirus has been imported via travelers into multiple countries around the world\n",
      " Abstract: In order to support risk assessment practice, the present study aimed to devise a novel statistical model to quantify the country-level risk of experiencing an importation of MERS case. METHODS: We analyzed the arrival time of each reported MERS importation around the world, i.e., the date on which ...\n",
      "\n",
      " wgigtgl9\n",
      " Title: Respiratory microbes present in the nasopharynx of children hospitalised with suspected pulmonary tuberculosis in Cape Town, South AfricaBACKGROUND: Lower respiratory tract infection in children is increasingly thought to be polymicrobial in origin\n",
      " Abstract: Children with symptoms suggestive of pulmonary tuberculosis (PTB) may have tuberculosis, other respiratory tract infections or co-infection with Mycobacterium tuberculosis and other pathogens. We aimed to identify the presence of potential respiratory pathogens in nasopharyngeal (NP) samples from ch...\n",
      "\n",
      " rsj0j8fa\n",
      " Title: A camel-derived MERS-CoV with a variant spike protein cleavage site and distinct fusion activation propertiesMiddle East respiratory syndrome coronavirus (MERS-CoV) continues to circulate in both humans and camels, and the origin and evolution of the virus remain unclear\n",
      " Abstract: Here we characterize the spike protein of a camel-derived MERS-CoV (NRCE-HKU205) identified in 2013, early in the MERS outbreak. NRCE-HKU205 spike protein has a variant cleavage motif with regard to the S2′ fusion activation site—notably, a novel substitution of isoleucine for the otherwise invarian...\n",
      "\n",
      " 7fxavlgx\n",
      " Title: Polyphyletic origin of MERS coronaviruses and isolation of a novel clade A strain from dromedary camels in the United Arab EmiratesLittle is known regarding the molecular epidemiology of Middle East respiratory syndrome coronavirus (MERS-CoV) circulating in dromedaries outside Saudi Arabia\n",
      " Abstract: To address this knowledge gap, we sequenced 10 complete genomes of MERS-CoVs isolated from 2 live and 8 dead dromedaries from different regions in the United Arab Emirates (UAE). Phylogenetic analysis revealed one novel clade A strain, the first detected in the UAE, and nine clade B strains. Strain ...\n",
      "\n",
      " ufmcfic2\n",
      " Title: Understanding bat SARS-like coronaviruses for the preparation of future coronavirus outbreaks — Implications for coronavirus vaccine developmentThe severe acute respiratory syndrome coronavirus (SARS-CoV) first emerged in 2003, causing the SARS epidemic which resulted in a 10% fatality rate\n",
      " Abstract: The advancements in metagenomic techniques have allowed the identification of SARS-like coronaviruses (SL-CoVs) sequences that share high homology to the human SARS-CoV epidemic strains from wildlife bats, presenting concrete evidence that bats are the origin and natural reservoir of SARS-CoV. The a...\n",
      "\n",
      " jjoxin5s\n",
      " Title: Cross-sectional survey of selected enteric viruses in Polish turkey flocks between 2008 and 2011BACKGROUND: Enteric diseases are an important health problem for the intensive poultry industry, resulting in considerable economic losses\n",
      " Abstract: Apart from such microbiological agents associated with enteritis as bacteria and parasites, a lot of research has been recently conducted on viral origin of enteric diseases. However, enteric viruses have been identified in intestinal tract of not only diseased but also healthy poultry, so their rol...\n",
      "\n",
      " qb0jtsdk\n",
      " Title: Detection of alpha- and betacoronaviruses in rodents from Yunnan, ChinaBACKGROUND: Rodents represent the most diverse mammals on the planet and are important reservoirs of human pathogens\n",
      " Abstract: Coronaviruses infect various animals, but to date, relatively few coronaviruses have been identified in rodents worldwide. The evolution and ecology of coronaviruses in rodent have not been fully investigated. RESULTS: In this study, we collected 177 intestinal samples from thress species of rodents...\n",
      "\n",
      " 5jau2gjn\n",
      " Title: A novel neutralizing monoclonal antibody targeting the N-terminal domain of the MERS-CoV spike proteinMiddle East respiratory syndrome coronavirus (MERS-CoV) has caused fatal infections, some through hospital-acquired transmission, in affected regions since its emergence in 2012\n",
      " Abstract: Although the virus is not pandemic among humans, it poses a great threat to public health due to its zoonotic origin. Thus, both preventative and therapeutic countermeasures are urgently needed. In this study, we discovered a panel of neutralizing monoclonal antibodies (mAbs) against MERS-CoV, which...\n",
      "\n",
      " e53b0hj6\n",
      " Title: A47 Origin and possible genetic recombination of the middle east respiratory syndrome coronavirus fr\n",
      " Abstract: A47 Origin and possible genetic recombination of the middle east respiratory syndrome coronavirus from the first imported case in china: phylogenetics and coalescence analysis...\n",
      "\n",
      " 1sq2uvur\n",
      " Title: Molecular Evolution of MERS Coronavirus: Dromedaries as a Recent Intermediate Host or Long-Time Animal Reservoir?While dromedary camels are the immediate animal source of MERS coronavirus (MERS-CoV) infection, the evolutionary origin of MERS-CoV remains obscure\n",
      " Abstract: We analyzed 219 camel and human MERS-CoV genome sequences available in GenBank. Phylogenetic analysis showed that 5 and 214 strains belong to clade A and B, respectively, with clade A further divided into lineage A1 (3 human strains) and lineage A2 (2 camel strains), and clade B divided into B1 to B...\n",
      "\n",
      " 6jakyj24\n",
      " Title: Detection and full genome characterization of two beta CoV viruses related to Middle East respiratory syndrome from bats in ItalyBACKGROUND: Middle East respiratory syndrome coronavirus (MERS-CoV), which belongs to beta group of coronavirus, can infect multiple host species and causes severe diseases in humans\n",
      " Abstract: Multiple surveillance and phylogenetic studies suggest a bat origin. In this study, we describe the detection and full genome characterization of two CoVs closely related to MERS-CoV from two Italian bats, Pipistrellus kuhlii and Hypsugo savii. METHODS: Pool of viscera were tested by a pan-coronavir...\n",
      "\n",
      " 8re1rqdu\n",
      " Title: Zoonotic origin and transmission of Middle East respiratory syndrome coronavirus in the UAESince the emergence of Middle East respiratory syndrome coronavirus (MERS-CoV) in 2012, there have been a number of clusters of human-to-human transmission\n",
      " Abstract: These cases of human-to-human transmission involve close contact and have occurred primarily in healthcare settings, and they are suspected to result from repeated zoonotic introductions. In this study, we sequenced whole MERS-CoV genomes directly from respiratory samples collected from 23 confirmed...\n",
      "\n",
      " misprnq8\n",
      " Title: Complete Genome Sequence of a Novel Swine Acute Diarrhea Syndrome Coronavirus, CH/FJWT/2018, Isolated in Fujian, China, in 2018The full-length genome sequence of a novel swine acute diarrhea syndrome coronavirus (SADS-CoV), CH/FJWT/2018, was determined, which was genetically most closely related to CN/GDWT/2017, recently discovered in Fujian, China\n",
      " Abstract: The indel sites of the spike (S) gene of CH/FJWT/2018 were most similar to those of bat-origin SADS-related coronaviruses....\n",
      "\n",
      " oxs048lr\n",
      " Title: Replication of MERS and SARS coronaviruses in bat cells offers insights to their ancestral originsPrevious findings of Middle East Respiratory Syndrome coronavirus (MERS-CoV)-related viruses in bats, and the ability of Tylonycteris-BatCoV HKU4 spike protein to utilize MERS-CoV receptor, human dipeptidyl peptidase 4 hDPP4, suggest a bat ancestral origin of MERS-CoV\n",
      " Abstract: We developed 12 primary bat cell lines from seven bat species, including Tylonycteris pachypus, Pipistrellus abramus and Rhinolophus sinicus (hosts of Tylonycteris-BatCoV HKU4, Pipistrellus-BatCoV HKU5, and SARS-related-CoV respectively), and tested their susceptibilities to MERS-CoVs, SARS-CoV, and...\n",
      "\n",
      " zy8qjaai\n",
      " Title: The battle against SARS and MERS coronaviruses: Reservoirs and Animal ModelsIn humans, infection with the coronavirus, especially the severe acute respiratory syndrome coronavirus (SARS‐CoV) and the emerging Middle East respiratory syndrome coronavirus (MERS‐CoV), induces acute respiratory failure, resulting in high mortality\n",
      " Abstract: Irregular coronavirus related epidemics indicate that the evolutionary origins of these two pathogens need to be identified urgently and there are still questions related to suitable laboratory animal models. Thus, in this review we aim to highlight key discoveries concerning the animal origin of th...\n",
      "\n",
      " 7hrjzapj\n",
      " Title: Decline of transmissible gastroenteritis virus and its complex evolutionary relationship with porcine respiratory coronavirus in the United StatesThe epidemiology and genetic diversity of transmissible gastroenteritis virus (TGEV) in the United States (US) was investigated by testing clinical cases for TGEV by real time RT-PCR between January 2008 and November 2016\n",
      " Abstract: Prevalence of TGEV ranged between 3.8–6.8% and peaked during cold months until March 2013, in which prevalence decreased to < 0.1%. Nineteen complete TGEV genomes and a single strain of porcine respiratory coronavirus (PRCV) from the US were generated and compared to historical strains to investigat...\n",
      "\n",
      " mowlquh4\n",
      " Title: Potential Intermediate Hosts for Coronavirus Transmission: No Evidence of Clade 2c Coronaviruses in Domestic Livestock from GhanaThe emergence of Middle East Respiratory Syndrome Coronavirus (MERS-CoV), nearly a decade ago with worldwide distribution, was believed to be of zoonotic origin from bats with dromedary camels as intermediate hosts\n",
      " Abstract: There is a likelihood of other domestic livestock serving as intermediate hosts for this virus. The presence of coronaviruses, closely related to MERS-CoV in Ghanaian bats, presented the opportunity to test the hypothesis of transmissibility of this virus through domestic livestock species. The poss...\n",
      "\n",
      " hzuo6pwx\n",
      " Title: Novel Bat Alphacoronaviruses in Southern China Support Chinese Horseshoe Bats as an Important Reservoir for Potential Novel CoronavirusesWhile bats are increasingly recognized as a source of coronavirus epidemics, the diversity and emergence potential of bat coronaviruses remains to be fully understood\n",
      " Abstract: Among 1779 bat samples collected in China, diverse coronaviruses were detected in 32 samples from five different bat species by RT-PCR. Two novel alphacoronaviruses, Rhinolophus sinicus bat coronavirus HKU32 (Rs-BatCoV HKU32) and Tylonycteris robustula bat coronavirus HKU33 (Tr-BatCoV HKU33), were d...\n",
      "\n",
      " a21ub1e9\n",
      " Title: Overview of Current Therapeutics and Novel Candidates Against Influenza, Respiratory Syncytial Virus, and Middle East Respiratory Syndrome Coronavirus InfectionsEmergence and re-emergence of respiratory virus infections represent a significant threat to global public health, as they occur seasonally and less frequently (such as in the case of influenza virus) as pandemic infections\n",
      " Abstract: Some of these viruses have been in the human population for centuries and others had recently emerged as a public health problem. Influenza viruses have been affecting the human population for a long time now; however, their ability to rapidly evolve through antigenic drift and antigenic shift cause...\n",
      "\n",
      " lr415f9d\n",
      " Title: Susceptibility of Chickens to Porcine Deltacoronavirus InfectionPorcine deltacoronavirus (PDCoV) is a novel swine enteropathogenic coronavirus with worldwide distribution\n",
      " Abstract: PDCoV belongs to the Deltacoronavirus (DCoV) genus, which mainly includes avian coronaviruses (CoVs). PDCoV has the potential to infect human and chicken cells in vitro, and also has limited infectivity in calves. However, the origin of PDCoV in pigs, the host range, and cross-species infection of P...\n",
      "\n",
      " bojfc3q0\n",
      " Title: Identification of Diverse Bat Alphacoronaviruses and Betacoronaviruses in China Provides New Insights Into the Evolution and Origin of Coronavirus-Related DiseasesOutbreaks of severe acute respiratory syndrome (SARS) in 2002, Middle East respiratory syndrome in 2012 and fatal swine acute diarrhea syndrome in 2017 caused serious infectious diseases in humans and in livestock, resulting in serious public health threats and huge economic losses\n",
      " Abstract: All such coronaviruses (CoVs) were confirmed to originate from bats. To continuously monitor the epidemic-related CoVs in bats, virome analysis was used to classify CoVs from 831 bats of 15 species in Yunnan, Guangxi, and Sichuan Provinces between August 2016 and May 2017. We identified 11 CoV strai...\n",
      "\n",
      " 33pxylb3\n",
      " Title: Middle East Respiratory Syndrome Coronavirus and the One Health conceptMiddle East Respiratory Syndrome Coronavirus (MERS-CoV) is one of the major threats to the healthcare systems in some countries, especially in the Arabian Peninsula\n",
      " Abstract: MERS-CoV is considered an ideal example of the One Health concept. This is due to the animals, especially dromedary camels, play important roles in the transmission and sustainability of the virus, and the virus can be transmitted through aerosols of infected patients into the environment. However, ...\n",
      "\n",
      " 1s25r3o0\n",
      " Title: Feline coronavirus isolates from a part of Brazil: insights into molecular epidemiology and phylogeny inferred from the 7b geneThe Feline coronavirus (FCoV) can lead to Feline infectious peritonitis (FIP), which the precise cause is still unknown\n",
      " Abstract: The theory of internal mutation suggests that a less virulent biotype of FCoV (FECV) would lead to another more pathogenic biotype (FIPV) capable of causing FIP. In this work, the 7b gene was amplified from 51 domestic cat plasma samples by semi-nested PCR and tested through phylogenetic and phyloge...\n",
      "\n",
      " 0y0hau9l\n",
      " Title: Putative Receptor Binding Domain of Bat-Derived Coronavirus HKU9 Spike Protein: Evolution of Betacoronavirus Receptor Binding Motifs[Image: see text] The suggested bat origin for Middle East respiratory syndrome coronavirus (MERS-CoV) has revitalized the studies of other bat-derived coronaviruses with respect to interspecies transmission potential\n",
      " Abstract: Bat coronavirus (BatCoV) HKU9 is an important betacoronavirus (betaCoV) that is phylogenetically affiliated with the same genus as MERS-CoV. The bat surveillance data indicated that BatCoV HKU9 has been widely spreading and circulating in bats. This highlights the necessity of characterizing the vir...\n",
      "\n",
      " 7l0pglef\n",
      " Title: Replication of sialodacryoadenitis virus in mouse L-2 cellsSialodacryoadenitis (SDA) is a naturally-occurring infection of the laboratory rat raused by the coronavirus, sialodacryoadenitis virus (SDAV)\n",
      " Abstract: The study of SDAV has been limited because there is no widely available continuous cell line for the propagation of high titers of the virus. The purpose of this study, therefore, was to compare the ability of SDAV to replicate in the permanent cell lines, LBC, of rat origin, and the mouse cell line...\n",
      "\n",
      " r9c7sx6r\n",
      " Title: Susceptibility of rodent cell lines to rat coronaviruses and differential enhancement by trypsin or DEAE-dextranCell lines of rodent origin were tested for susceptibility to infection with rat coronavirus (RCV), including sialodacryoadenitis virus (SDAV) and Parker's rat coronavirus (PRCV)\n",
      " Abstract: LBC rat mammary adenocarcinoma cells were susceptible only if the cells were treated with diethylaminoethyl-dextran (DEAE-D). A recent report that RCVs grow well in L2 mouse fibroblast cells was confirmed and expanded. RCV infection of L2 cells was substantially enhanced by treatment of cells with t...\n",
      "\n",
      " lzvtgwox\n",
      " Title: Antigenic variation among bovine enteric coronaviruses (BECV) and bovine respiratory coronaviruses (BRCV) detected using monoclonal antibodiesBovine coronavirus (BCV) causes neonatal calf diarrhea (CD) and is associated with winter dysentery (WD) in adult dairy cattle\n",
      " Abstract: It can also be isolated from the respiratory tracts of cattle entering feedlots. Monoclonal antibodies (MAbs) specific for the hemagglutinin esterase (HE) and spike (S) surface proteins of 2 bovine enteric coronavirus (BECV) strains and two bovine respiratory coronavirus (BRCV) strains were tested a...\n",
      "\n",
      " feq8djas\n",
      " Title: Infection of a calf with the enteric coronavirus strain ParisA tissue-culture-grown enteric coronavirus infected the whole of the gastrointestinal tract and caused enteritis and diarrhoea in a 10-day-old gnotobiotic Friesian calf\n",
      " Abstract: Diarrhoea occurred 2 days after inoculation and excretion of virus in faeces and rectal swabs increased until necropsy at 3 days. Virus growth, as detected by indirect immunofluorescence, virus isolation, and thin section electron microscopy, was most extensive in the epithelium of the colon and rec...\n",
      "\n",
      " dopa8hxy\n",
      " Title: Studies on the relationship between coronaviruses from the intestinal and respiratory tracts of calvesAn immunofluorescence test on smears of nasal epithelial cells was used to detect coronavirus infection in the respiratory tract of calves\n",
      " Abstract: Thirteen gnotobiotic calves were infected with coronavirus isolates derived from faeces or respiratory material: virus was detected in faeces and nasal swabs from all animals. In 115 calves from a field survey, there was a significant association between coronavirus excretion from both respiratory a...\n",
      "\n",
      " uadfehr6\n",
      " Title: Testing the hypothesis of a recombinant origin of the SARS-associated coronavirusThe origin of severe acute respiratory syndrome-associated corona-virus (SARS-CoV) is still a matter of speculation, although more than one year has passed since the onset of the SARS outbreak\n",
      " Abstract: In this study, we implemented a 3-step strategy to test the intriguing hypothesis that SARS-CoV might have been derived from a recombinant virus. First, we blasted the whole SARS-CoV genome against a virus database to search viruses of interest. Second, we employed 7 recombination detection techniqu...\n",
      "\n",
      " k0f9fser\n",
      " Title: Pathogen genomic surveillance elucidates the origins, transmission and evolution of emerging viral agents in ChinaIn the past twenty years, numerous novel zoonotic viral agents with pandemic potential have emerged in China, such as the severe acute respiratory syndrome (SARS) coronavirus and, more recently, the avian-origin influenza A/H7N9 virus, which have caused outbreaks among humans with high morbidity and mortality\n",
      " Abstract: In addition, several emerging and re-emerging viral pathogens have also been imported into China from travelers, e.g. the Middle East respiratory syndrome (MERS) coronavirus and Zika virus (ZIKV). Herein, we review these emerging viral pathogens in China and focus on how surveillance by pathogen gen...\n",
      "\n",
      " q5inrxcm\n",
      " Title: SARS virus: The beginning of the unraveling of a new coronavirusSevere acute respiratory syndrome (SARS) virus caused a severe outbreak in several regions of the world in 2003\n",
      " Abstract: The virus is a novel coronavirus, which may have an origin in wild animals such as civet cats in southern China. Its genome structure, gene expression pattern and protein profiles are similar to those of other coronaviruses. However, distinct patterns of several open reading frames in the SARS virus...\n",
      "\n",
      " g37ep8l1\n",
      " Title: Genetic characterization of bovine coronavirus in VietnamA maximum clade credibility tree constructed using the full-length spike (S) and hemagglutinin-esterase genes revealed that Vietnamese Bovine coronavirus (BCoV) strains belong to a single cluster (C1); therefore, they might share a common origin with Cuban and Chinese BCoV strains\n",
      " Abstract: The omega values of cluster 1 (C1) and cluster 2 (C2) were 0.15734 and 0.11613, respectively, and naive empirical bayes analysis identified two amino acid positions (179 and 501) in the S protein in C1 and three amino acid positions (113, 501, and 525) in that of C2 that underwent positive selection...\n",
      "\n",
      " zcy4hpqp\n",
      " Title: Middle East Respiratory Syndrome coronavirus (MERS CoV): Update 2013Middle East Respiratory Syndrome coronavirus (MERS CoV) came to attention as an emerging pathogen causing severe respiratory illness in patients from the Middle East in September 2012\n",
      " Abstract: As of 14 June 2013, 58 human cases of MERS CoV infection have been confirmed, including 33 deaths (case fatality rate of 57%). MERS CoV is a beta-coronavirus, in the same family as SARS-CoV, and shares a probable origin from bats. No animal reservoir or intermediates have been definitely implicated ...\n",
      "\n",
      " zznq162b\n",
      " Title: Human monoclonal antibodies as candidate therapeutics against emerging viruses and HIV-1More than 40 monoclonal antibodies (mAbs) have been approved for a number of disease indications with only one of these (Synagis) — for a viral disease, and not for therapy but for prevention\n",
      " Abstract: However, in the last decade novel potent mAbs have been discovered and characterized with potential as therapeutics against viruses of major importance for public health and biosecurity including Hendra virus (HeV), Nipah virus (NiV), severe acute respiratory syndrome coronavirus (SARS-CoV), Ebola v...\n",
      "\n",
      " b6ajrj1m\n",
      " Title: Simultaneous Concentration of Bovine Viruses and Agricultural Zoonotic Bacteria from Water Using Sodocalcic Glass Wool FiltersInfiltration and runoff from manured agricultural fields can result in livestock pathogens reaching groundwater and surface waters\n",
      " Abstract: Here, we measured the effectiveness of glass wool filters to simultaneously concentrate enteric viruses and bacteria of bovine origin from water. The recovery efficiencies were determined for bovine viral diarrhea virus types 1 and 2, bovine rotavirus group A, bovine coronavirus, poliovirus Sabin II...\n",
      "\n",
      " 7e8btgoo\n",
      " Title: Survival of Respiratory Viruses on Fresh ProduceIn addition to enteric viruses of fecal origin, emerging zoonotic viruses such as respiratory coronaviruses and influenza viruses may potentially be transmitted via contaminated foods\n",
      " Abstract: The goal of this study was to determine the recovery efficiencies and the survival of two respiratory viruses, namely, adenovirus 2 (Ad2) and coronavirus 229E (CoV229E), on fresh produce in comparison to the enteric poliovirus 1 (PV1). Adenovirus was recovered with efficiencies of 56.5, 31.8, and 34...\n",
      "\n",
      " llv3cvdr\n",
      " Title: Using the spike protein feature to predict infection risk and monitor the evolutionary dynamic of coronavirusBACKGROUND: Coronavirus can cross the species barrier and infect humans with a severe respiratory syndrome\n",
      " Abstract: SARS-CoV-2 with potential origin of bat is still circulating in China. In this study, a prediction model is proposed to evaluate the infection risk of non-human-origin coronavirus for early warning. METHODS: The spike protein sequences of 2666 coronaviruses were collected from 2019 Novel Coronavirus...\n",
      "\n",
      " 89fol3pq\n",
      " Title: A tug-of-war between severe acute respiratory syndrome coronavirus 2 and host antiviral defence: lessons from other pathogenic virusesWorld Health Organization has declared the ongoing outbreak of coronavirus disease 2019 (COVID-19) a Public Health Emergency of International Concern\n",
      " Abstract: The virus was named severe acute respiratory syndrome coronavirus 2 (SARS-CoV-2) by the International Committee on Taxonomy of Viruses. Human infection with SARS-CoV-2 leads to a wide range of clinical manifestations ranging from asymptomatic, mild, moderate to severe. The severe cases present with ...\n",
      "\n",
      " 1gmm8hf4\n",
      " Title: Enteric viruses in Brazilian turkey flocks: Single and multiple virus infection frequency according to age and clinical signs of intestinal diseasePoult enteritis complex has been associated with enteritis and reduction in growth rates in commercial turkeys worldwide\n",
      " Abstract: Intestinal samples from 76 turkey flocks from different Brazilian states affected or not with intestinal disorders were evaluated for the presence of adenovirus groups 1 and 2 (TAV), astrovirus types 1 and 2 (TAstV-1 and TAstV-2), turkey coronavirus (TCoV), reovirus, rotavirus, and avian nephritis v...\n",
      "\n",
      " unljdxfp\n",
      " Title: Prevalence of MERS-CoV Nasal Carriage and Compliance With the Saudi Health Recommendations Among Pilgrims Attending the 2013 HajjBackground\n",
      " Abstract: Annually, Saudi Arabia is the host of the Hajj mass gathering. We aimed to determine the Middle East respiratory syndrome coronavirus (MERS-CoV) nasal carriage rate among pilgrims performing the 2013 Hajj and to describe the compliance with the Saudi Ministry of Health vaccine recommendations. Metho...\n",
      "\n",
      " tictyo3f\n",
      " Title: Respiratory Tract Samples, Viral Load, and Genome Fraction Yield in Patients With Middle East Respiratory SyndromeBackground\n",
      " Abstract: Analysis of clinical samples from patients with new viral infections is critical to confirm the diagnosis, to specify the viral load, and to sequence data necessary for characterizing the viral kinetics, transmission, and evolution. We analyzed samples from 112 patients infected with the recently di...\n",
      "\n",
      " vahts6pu\n",
      " Title: Receptor Usage of a Novel Bat Lineage C Betacoronavirus Reveals Evolution of Middle East Respiratory Syndrome-Related Coronavirus Spike Proteins for Human Dipeptidyl Peptidase 4 BindingAlthough bats are known to harbor Middle East Respiratory Syndrome coronavirus (MERS-CoV)-related viruses, the role of bats in the evolutionary origin and pathway remains obscure\n",
      " Abstract: We identified a novel MERS-CoV-related betacoronavirus, Hp-BatCoV HKU25, from Chinese pipistrelle bats. Although it is closely related to MERS-CoV in most genome regions, its spike protein occupies a phylogenetic position between that of Ty-BatCoV HKU4 and Pi-BatCoV HKU5. Because Ty-BatCoV HKU4 but ...\n",
      "\n",
      " lrbekcw6\n",
      " Title: Recognition and analysis of protein-coding genes in severe acute respiratory syndrome associated coronavirusMotivation: The recent outbreak of severe acute respiratory syndrome (SARS) caused by SARS coronavirus (SARS-CoV) has necessitated an in-depth molecular understanding of the virus to identify new drug targets\n",
      " Abstract: The availability of complete genome sequence of several strains of SARS virus provides the possibility of identification of protein-coding genes and defining their functions. Computational approach to identify protein-coding genes and their putative functions will help in designing experimental prot...\n",
      "\n",
      " ssxq1ns2\n",
      " Title: Detection of SARS Coronavirus in Humans and Animals by Conventional and Quantitative (Real Time) Reverse Transcription Polymerase Chain ReactionsSevere acute respiratory syndrome is a novel human disease caused by a coronavirus of animal origin\n",
      " Abstract: Soon after the discovery SARS-CoV, several molecular assays were described for the detection of this virus. Of these, conventional and quantitative RT-PCR approaches were the primary tools for SARS-CoV RNA detection. In this chapter we describe a two-step conventional RT-PCR and a one-step quantitat...\n",
      "\n",
      " solp6ho1\n",
      " Title: Detection of SARS CoronavirusThe emergence of severe acute respiratory syndrome (SARS) and its subsequent worldwide spread challenged the global public health community to confront a novel infectious disease\n",
      " Abstract: The infection is caused by a coronavirus of animal origin. In this epidemic, molecular detections of SARS coronavirus RNA were shown to be useful for the early diagnosis of SARS. Although this pathogen was eradicated in humans, SARS or SARS-like viruses might reemerge from animals or from laboratory...\n",
      "\n",
      " 52kqp9yw\n",
      " Title: From SARS coronavirus to novel animal and human coronavirusesIn 2003, severe acute respiratory syndrome coronavirus (SARS-CoV) caused one of the most devastating epidemics known to the developed world\n",
      " Abstract: There were two important lessons from this epidemic. Firstly, coronaviruses, in addition to influenza viruses, can cause severe and rapidly spreading human infections. Secondly, bats can serve as the origin and natural animal reservoir of deadly human viruses. Since then, researchers around the worl...\n",
      "\n",
      " pi6a2ql7\n",
      " Title: Isolation and Characterization of a Novel Bat Coronavirus Closely Related to the Direct Progenitor of Severe Acute Respiratory Syndrome CoronavirusWe report the isolation and characterization of a novel bat coronavirus which is much closer to the severe acute respiratory syndrome coronavirus (SARS-CoV) in genomic sequence than others previously reported, particularly in its S gene\n",
      " Abstract: Cell entry and susceptibility studies indicated that this virus can use ACE2 as a receptor and infect animal and human cell lines. Our results provide further evidence of the bat origin of the SARS-CoV and highlight the likelihood of future bat coronavirus emergence in humans....\n",
      "\n",
      " gwdxctr8\n",
      " Title: High Secretion of Interferons by Human Plasmacytoid Dendritic Cells upon Recognition of Middle East Respiratory Syndrome CoronavirusThe Middle East respiratory syndrome coronavirus (MERS-CoV) emerged in 2012 as the causative agent of a severe respiratory disease with a fatality rate of approximately 30%\n",
      " Abstract: The high virulence and mortality rate prompted us to analyze aspects of MERS-CoV pathogenesis, especially its interaction with innate immune cells such as antigen-presenting cells (APCs). Particularly, we analyzed secretion of type I and type III interferons (IFNs) by APCs, i.e., B cells, macrophage...\n",
      "\n",
      " py908dt8\n",
      " Title: Structure of interferon-stimulated gene product 15 (ISG15) from the bat species Myotis davidii and the impact of interdomain ISG15 interactions on viral protein engagementBats have long been observed to be the hosts and the origin of numerous human diseases\n",
      " Abstract: Bats, like all mammals, rely on a number of innate immune mechanisms to combat invading pathogens, including the interferon type I, II and III responses. Ubiquitin-like interferon-stimulated gene product 15 (ISG15) is a key modulator of these interferon responses. Within these pathways, ISG15 can se...\n",
      "\n",
      " n2o7iiew\n",
      " Title: Evidence for an Ancestral Association of Human Coronavirus 229E with BatsWe previously showed that close relatives of human coronavirus 229E (HCoV-229E) exist in African bats\n",
      " Abstract: The small sample and limited genomic characterizations have prevented further analyses so far. Here, we tested 2,087 fecal specimens from 11 bat species sampled in Ghana for HCoV-229E-related viruses by reverse transcription-PCR (RT-PCR). Only hipposiderid bats tested positive. To compare the geneti...\n",
      "\n",
      " pbqocrrk\n",
      " Title: θ-Defensins: Cyclic Peptides with Endless Potentialθ-Defensins, the only cyclic peptides of animal origin, have been isolated from the leukocytes of rhesus macaques and baboons\n",
      " Abstract: Their biogenesis is unusual because each peptide is an 18-residue chimera formed by the head-to-tail splicing of nonapeptides derived from two separate precursors. θ-Defensins have multiple arginines and a ladder-like tridisulfide array spanning their two antiparallel β-strands. Human θ-defensin gen...\n",
      "\n",
      " 9f6v4wzm\n",
      " Title: Evidence Supporting a Zoonotic Origin of Human Coronavirus Strain NL63The relationship between bats and coronaviruses (CoVs) has received considerable attention since the severe acute respiratory syndrome (SARS)-like CoV was identified in the Chinese horseshoe bat (Rhinolophidae) in 2005\n",
      " Abstract: Since then, several bats throughout the world have been shown to shed CoV sequences, and presumably CoVs, in the feces; however, no bat CoVs have been isolated from nature. Moreover, there are very few bat cell lines or reagents available for investigating CoV replication in bat cells or for isolati...\n",
      "\n",
      " p6wfxsrz\n",
      " Title: Severe Acute Respiratory Syndrome Coronavirus Group-Specific Open Reading Frames Encode Nonessential Functions for Replication in Cell Cultures and MiceSARS coronavirus (SARS-CoV) encodes several unique group-specific open reading frames (ORFs) relative to other known coronaviruses\n",
      " Abstract: To determine the significance of the SARS-CoV group-specific ORFs in virus replication in vitro and in mice, we systematically deleted five of the eight group-specific ORFs, ORF3a, OF3b, ORF6, ORF7a, and ORF7b, and characterized recombinant virus replication and gene expression in vitro. Deletion of...\n",
      "\n",
      " 0194oljo\n",
      " Title: Evidence for zoonotic origins of Middle East respiratory syndrome coronavirusMiddle East respiratory syndrome (MERS) is an emerging infectious disease, caused by Middle East respiratory syndrome coronavirus (MERS-CoV) and is considered to be a zoonosis\n",
      " Abstract: However, the natural reservoirs of MERS-CoV remain obscure, with bats and camels as the most suspected sources. In this article, we review the evidence supporting a bat/camel origin of human MERS-CoV infection and current knowledge on the modes of camel-to-human transmission of MERS-CoV....\n",
      "\n",
      " pt0ci67s\n",
      " Title: Evidence of the Recombinant Origin of a Bat Severe Acute Respiratory Syndrome (SARS)-Like Coronavirus and Its Implications on the Direct Ancestor of SARS CoronavirusBats have been identified as the natural reservoir of severe acute respiratory syndrome (SARS)-like and SARS coronaviruses (SLCoV and SCoV)\n",
      " Abstract: However, previous studies suggested that none of the currently sampled bat SLCoVs is the descendant of the direct ancestor of SCoV, based on their relatively distant phylogenetic relationship. In this study, evidence of the recombinant origin of the genome of a bat SLCoV is demonstrated. We identifi...\n",
      "\n",
      " es7q6c90\n",
      " Title: Evidence for a Common Evolutionary Origin of Coronavirus Spike Protein Receptor-Binding SubunitsAmong different coronavirus genera, the receptor-binding S1 subunits of their spike proteins differ in primary, secondary, and tertiary structures\n",
      " Abstract: This study identified shared structural topologies (connectivity of secondary structural elements) in S1 domains of different coronavirus genera. The results suggest that coronavirus S1 subunits share a common evolutionary origin but have attained diverse sequences and structures following extensive...\n",
      "\n",
      " o14tiixx\n",
      " Title: Interplay between coronavirus, a cytoplasmic RNA virus, and nonsense-mediated mRNA decay pathwayCoronaviruses (CoVs), including severe acute respiratory syndrome CoV and Middle East respiratory syndrome CoV, are enveloped RNA viruses that carry a large positive-sense single-stranded RNA genome and cause a variety of diseases in humans and domestic animals\n",
      " Abstract: Very little is known about the host pathways that regulate the stability of CoV mRNAs, which carry some unusual features. Nonsense-mediated decay (NMD) is a eukaryotic RNA surveillance pathway that detects mRNAs harboring aberrant features and targets them for degradation. Although CoV mRNAs are of ...\n",
      "\n",
      " 20xpa8ai\n",
      " Title: Complete Genomic Sequence of Human Coronavirus OC43: Molecular Clock Analysis Suggests a Relatively Recent Zoonotic Coronavirus Transmission EventCoronaviruses are enveloped, positive-stranded RNA viruses with a genome of approximately 30 kb\n",
      " Abstract: Based on genetic similarities, coronaviruses are classified into three groups. Two group 2 coronaviruses, human coronavirus OC43 (HCoV-OC43) and bovine coronavirus (BCoV), show remarkable antigenic and genetic similarities. In this study, we report the first complete genome sequence (30,738 nucleoti...\n",
      "\n",
      " phlxsez8\n",
      " Title: Severe Acute Respiratory Syndrome (SARS) Coronavirus ORF8 Protein Is Acquired from SARS-Related Coronavirus from Greater Horseshoe Bats through RecombinationDespite the identification of horseshoe bats as the reservoir of severe acute respiratory syndrome (SARS)-related coronaviruses (SARSr-CoVs), the origin of SARS-CoV ORF8, which contains the 29-nucleotide signature deletion among human strains, remains obscure\n",
      " Abstract: Although two SARS-related Rhinolophus sinicus bat CoVs (SARSr-Rs-BatCoVs) previously detected in Chinese horseshoe bats (Rhinolophus sinicus) in Yunnan, RsSHC014 and Rs3367, possessed 95% genome identities to human and civet SARSr-CoVs, their ORF8 protein exhibited only 32.2 to 33% amino acid identi...\n",
      "\n",
      " v3ynf208\n",
      " Title: Ultrastructure and Origin of Membrane Vesicles Associated with the Severe Acute Respiratory Syndrome Coronavirus Replication ComplexThe RNA replication complexes of mammalian positive-stranded RNA viruses are generally associated with (modified) intracellular membranes, a feature thought to be important for creating an environment suitable for viral RNA synthesis, recruitment of host components, and possibly evasion of host defense mechanisms\n",
      " Abstract: Here, using a panel of replicase-specific antisera, we have analyzed the earlier stages of severe acute respiratory syndrome coronavirus (SARS-CoV) infection in Vero E6 cells, in particular focusing on the subcellular localization of the replicase and the ultrastructure of the associated membranes. ...\n",
      "\n",
      " 31by8zse\n",
      " Title: A second, non-canonical RNA-dependent RNA polymerase in SARS CoronavirusIn (+) RNA coronaviruses, replication and transcription of the giant ∼30 kb genome to produce genome- and subgenome-size RNAs of both polarities are mediated by a cognate membrane-bound enzymatic complex\n",
      " Abstract: Its RNA-dependent RNA polymerase (RdRp) activity appears to be supplied by non-structural protein 12 (nsp12) that includes an RdRp domain conserved in all RNA viruses. Using SARS coronavirus, we now show that coronaviruses uniquely encode a second RdRp residing in nsp8. This protein strongly prefers...\n",
      "\n",
      " 9ixlo44b\n",
      " Title: ATP1A1-Mediated Src Signaling Inhibits Coronavirus Entry into Host CellsIn addition to transporting ions, the multisubunit Na(+),K(+)-ATPase also functions by relaying cardiotonic steroid (CTS)-binding-induced signals into cells\n",
      " Abstract: In this study, we analyzed the role of Na(+),K(+)-ATPase and, in particular, of its ATP1A1 α subunit during coronavirus (CoV) infection. As controls, the vesicular stomatitis virus (VSV) and influenza A virus (IAV) were included. Using gene silencing, the ATP1A1 protein was shown to be critical for ...\n",
      "\n",
      " d6rcc67h\n",
      " Title: Differential Sensitivity of Well-Differentiated Avian Respiratory Epithelial Cells to Infection by Different Strains of Infectious Bronchitis VirusInfectious bronchitis virus (IBV) is an avian coronavirus affecting the respiratory tract of chickens\n",
      " Abstract: To analyze IBV infection of the lower respiratory tract, we applied a technique that uses precision-cut lung slices (PCLSs). This method allows infection of bronchial cells within their natural tissue composition under in vitro conditions. We demonstrate that IBV strains 4/91, Italy02, and QX infect...\n",
      "\n",
      " 7w867385\n",
      " Title: Host Species Restriction of Middle East Respiratory Syndrome Coronavirus through Its Receptor, Dipeptidyl Peptidase 4Middle East respiratory syndrome coronavirus (MERS-CoV) emerged in 2012\n",
      " Abstract: Recently, the MERS-CoV receptor dipeptidyl peptidase 4 (DPP4) was identified and the specific interaction of the receptor-binding domain (RBD) of MERS-CoV spike protein and DPP4 was determined by crystallography. Animal studies identified rhesus macaques but not hamsters, ferrets, or mice to be susc...\n",
      "\n",
      " fj952e98\n",
      " Title: Receptor Usage and Cell Entry of Porcine Epidemic Diarrhea CoronavirusPorcine epidemic diarrhea coronavirus (PEDV) has significantly damaged America's pork industry\n",
      " Abstract: Here we investigate the receptor usage and cell entry of PEDV. PEDV recognizes protein receptor aminopeptidase N from pig and human and sugar coreceptor N-acetylneuraminic acid. Moreover, PEDV infects cells from pig, human, monkey, and bat. These results support the idea of bats as an evolutionary o...\n",
      "\n",
      " 3fy2va32\n",
      " Title: Ecoepidemiology and Complete Genome Comparison of Different Strains of Severe Acute Respiratory Syndrome-Related Rhinolophus Bat Coronavirus in China Reveal Bats as a Reservoir for Acute, Self-Limiting Infection That Allows Recombination EventsDespite the identification of severe acute respiratory syndrome-related coronavirus (SARSr-CoV) in Rhinolophus Chinese horseshoe bats (SARSr-Rh-BatCoV) in China, the evolutionary and possible recombination origin of SARSr-CoV remains undetermined\n",
      " Abstract: We carried out the first study to investigate the migration pattern and SARSr-Rh-BatCoV genome epidemiology in Chinese horseshoe bats during a 4-year period. Of 1,401 Chinese horseshoe bats from Hong Kong and Guangdong, China, that were sampled, SARSr-Rh-BatCoV was detected in alimentary specimens f...\n",
      "\n",
      " qjp2rgpz\n",
      " Title: Severe Acute Respiratory Syndrome Coronavirus Infection of Human Ciliated Airway Epithelia: Role of Ciliated Cells in Viral Spread in the Conducting Airways of the LungsSevere acute respiratory syndrome coronavirus (SARS-CoV) emerged in 2002 as an important cause of severe lower respiratory tract infection in humans, and in vitro models of the lung are needed to elucidate cellular targets and the consequences of viral infection\n",
      " Abstract: The SARS-CoV receptor, human angiotensin 1-converting enzyme 2 (hACE2), was detected in ciliated airway epithelial cells of human airway tissues derived from nasal or tracheobronchial regions, suggesting that SARS-CoV may infect the proximal airways. To assess infectivity in an in vitro model of hum...\n",
      "\n",
      " 8l411r1w\n",
      " Title: Discovery of a Novel Coronavirus, China Rattus Coronavirus HKU24, from Norway Rats Supports the Murine Origin of Betacoronavirus 1 and Has Implications for the Ancestor of Betacoronavirus Lineage AWe discovered a novel Betacoronavirus lineage A coronavirus, China Rattus coronavirus (ChRCoV) HKU24, from Norway rats in China\n",
      " Abstract: ChRCoV HKU24 occupied a deep branch at the root of members of Betacoronavirus 1, being distinct from murine coronavirus and human coronavirus HKU1. Its unique putative cleavage sites between nonstructural proteins 1 and 2 and in the spike (S) protein and low sequence identities to other lineage A be...\n",
      "\n",
      " lvvtm2qj\n",
      " Title: Recombinant Canine Coronaviruses Related to Transmissible Gastroenteritis Virus of Swine Are Circulating in DogsFour canine coronavirus type II (CCoV-II) strains were identified in the guts and internal organs of pups which had died of acute gastroenteritis\n",
      " Abstract: The CCoV-II strains were strictly related to porcine transmissible gastroenteritis virus (TGEV) in the N-terminal domain of the spike protein, whereas in the other parts of the genome, a higher genetic relatedness to recent CCoV-II isolates was observed. Experimental infection of dogs with a TGEV-li...\n",
      "\n",
      " mv3crcsh\n",
      " Title: Mosaic Evolution of the Severe Acute Respiratory Syndrome CoronavirusSevere acute respiratory syndrome (SARS) is a deadly form of pneumonia caused by a novel coronavirus, a viral family responsible for mild respiratory tract infections in a wide variety of animals including humans, pigs, cows, mice, cats, and birds\n",
      " Abstract: Analyses to date have been unable to identify the precise origin of the SARS coronavirus. We used Bayesian, neighbor-joining, and split decomposition phylogenetic techniques on the SARS virus replicase, surface spike, matrix, and nucleocapsid proteins to reveal the evolutionary origin of this recent...\n",
      "\n",
      " ag7c2mhx\n",
      " Title: Discovery of a Highly Divergent Coronavirus in the Asian House Shrew from China Illuminates the Origin of the AlphacoronavirusesAlthough shrews are one of the largest groups of mammals, little is known about their role in the evolution and transmission of viral pathogens, including coronaviruses (CoVs)\n",
      " Abstract: We captured 266 Asian house shrews (Suncus murinus) in Jiangxi and Zhejiang Provinces, China, during 2013 to 2015. CoV RNA was detected in 24 Asian house shrews, with an overall prevalence of 9.02%. Complete viral genome sequences were successfully recovered from the RNA-positive samples. The newly ...\n",
      "\n",
      " xeu35i0n\n",
      " Title: Middle East Respiratory Syndrome Coronavirus nsp1 Inhibits Host Gene Expression by Selectively Targeting mRNAs Transcribed in the Nucleus while Sparing mRNAs of Cytoplasmic OriginThe newly emerged Middle East respiratory syndrome coronavirus (MERS-CoV) and severe acute respiratory syndrome CoV (SARS-CoV) represent highly pathogenic human CoVs that share a property to inhibit host gene expression at the posttranscriptional level\n",
      " Abstract: Similar to the nonstructural protein 1 (nsp1) of SARS-CoV that inhibits host gene expression at the translational level, we report that MERS-CoV nsp1 also exhibits a conserved function to negatively regulate host gene expression by inhibiting host mRNA translation and inducing the degradation of hos...\n",
      "\n",
      " 4czigfev\n",
      " Title: Human Papillomavirus Type 16 E7 Peptide-Directed CD8(+) T Cells from Patients with Cervical Cancer Are Cross-Reactive with the Coronavirus NS2 ProteinHuman papillomavirus type 16 (HPV16) E6 and E7 oncoproteins are required for cellular transformation and represent candidate targets for HPV-specific and major histocompatibility complex class I-restricted CD8(+)-T-cell responses in patients with cervical cancer\n",
      " Abstract: Recent evidence suggests that cross-reactivity represents the inherent nature of the T-cell repertoire. We identified HLA-A2 binding HPV16 E7 variant peptides from human, bacterial, or viral origin which are able to drive CD8(+)-T-cell responses directed against wild-type HPV16 E7 amino acid 11 to 1...\n",
      "\n",
      " kdbggt42\n",
      " Title: Structure of Alphacoronavirus Transmissible Gastroenteritis Virus nsp1 Has Implications for Coronavirus nsp1 Function and EvolutionCoronavirus nsp1 has been shown to induce suppression of host gene expression and to interfere with the host immune response\n",
      " Abstract: However, the mechanism is currently unknown. The only available structural information on coronavirus nsp1 is the nuclear magnetic resonance (NMR) structure of the N-terminal domain of nsp1 from severe acute respiratory syndrome coronavirus (SARS-CoV) from the betacoronavirus genus. Here we present ...\n",
      "\n",
      " 9zmq2pqm\n",
      " Title: Characterization of severe acute respiratory syndrome coronavirus genomes in Taiwan: Molecular epidemiology and genome evolutionSince early March 2003, the severe acute respiratory syndrome (SARS) coronavirus (CoV) infection has claimed 346 cases and 37 deaths in Taiwan\n",
      " Abstract: The epidemic occurred in two stages. The first stage caused limited familial or hospital infections and lasted from early March to mid-April. All cases had clear contact histories, primarily from Guangdong or Hong Kong. The second stage resulted in a large outbreak in a municipal hospital, and quick...\n",
      "\n",
      " dkreswvk\n",
      " Title: Genetic Characterization of Betacoronavirus Lineage C Viruses in Bats Reveals Marked Sequence Divergence in the Spike Protein of Pipistrellus Bat Coronavirus HKU5 in Japanese Pipistrelle: Implications for the Origin of the Novel Middle East Respiratory Syndrome CoronavirusWhile the novel Middle East respiratory syndrome coronavirus (MERS-CoV) is closely related to Tylonycteris bat CoV HKU4 (Ty-BatCoV HKU4) and Pipistrellus bat CoV HKU5 (Pi-BatCoV HKU5) in bats from Hong Kong, and other potential lineage C betacoronaviruses in bats from Africa, Europe, and America, its animal origin remains obscure\n",
      " Abstract: To better understand the role of bats in its origin, we examined the molecular epidemiology and evolution of lineage C betacoronaviruses among bats. Ty-BatCoV HKU4 and Pi-BatCoV HKU5 were detected in 29% and 25% of alimentary samples from lesser bamboo bat (Tylonycteris pachypus) and Japanese pipist...\n",
      "\n",
      " 1u9aftnu\n",
      " Title: Persistent Replication of Severe Acute Respiratory Syndrome Coronavirus in Human Tubular Kidney Cells Selects for Adaptive Mutations in the Membrane ProteinSevere acute respiratory syndrome (SARS) is a systemic disease characterized by both lung pathology and widespread extrapulmonary virus dissemination causing multiple organ injuries\n",
      " Abstract: In this regard, renal dysfunction is an ominous sign in patients with SARS. Indeed, clusters of SARS coronavirus (SARS-CoV) particles have been detected in the cytoplasm of renal tubular epithelial cells in postmortem studies, explaining the presence of infectious virus in the urine of SARS patients...\n",
      "\n",
      " iyhfk6i5\n",
      " Title: Natural Mutations in the Receptor Binding Domain of Spike Glycoprotein Determine the Reactivity of Cross-Neutralization between Palm Civet Coronavirus and Severe Acute Respiratory Syndrome CoronavirusThe severe acute respiratory syndrome (SARS) outbreak of 2002 and 2003 occurred as a result of zoonotic transmission\n",
      " Abstract: Coronavirus (CoV) found in naturally infected palm civet (civet-CoV) represents the closest genetic relative to SARS-CoV, but the degree and the determinants of cross-neutralization among these viruses remain to be investigated. Studies indicate that the receptor binding domain (RBD) of the SARS-CoV...\n",
      "\n",
      " akf1lpdu\n",
      " Title: Difference in Receptor Usage between Severe Acute Respiratory Syndrome (SARS) Coronavirus and SARS-Like Coronavirus of Bat OriginSevere acute respiratory syndrome (SARS) is caused by the SARS-associated coronavirus (SARS-CoV), which uses angiotensin-converting enzyme 2 (ACE2) as its receptor for cell entry\n",
      " Abstract: A group of SARS-like CoVs (SL-CoVs) has been identified in horseshoe bats. SL-CoVs and SARS-CoVs share identical genome organizations and high sequence identities, with the main exception of the N terminus of the spike protein (S), known to be responsible for receptor binding in CoVs. In this study,...\n",
      "\n",
      " uhqadqnk\n",
      " Title: Avian influenza virus, Streptococcus suis serotype 2, severe acute respiratory syndrome-coronavirus and beyond: molecular epidemiology, ecology and the situation in ChinaThe outbreak and spread of severe acute respiratory syndrome-associated coronavirus and the subsequent identification of its animal origin study have heightened the world's awareness of animal-borne or zoonotic pathogens\n",
      " Abstract: In addition to SARS, the highly pathogenic avian influenza virus (AIV), H5N1, and the lower pathogenicity H9N2 AIV have expanded their host ranges to infect human beings and other mammalian species as well as birds. Even the ‘well-known’ reservoir animals for influenza virus, migratory birds, became...\n",
      "\n",
      " 5uw76crj\n",
      " Title: The ORF4b-encoded accessory proteins of Middle East respiratory syndrome coronavirus and two related bat coronaviruses localize to the nucleus and inhibit innate immune signallingThe recently emerged Middle East respiratory syndrome coronavirus (MERS-CoV), a betacoronavirus, is associated with severe pneumonia and renal failure\n",
      " Abstract: The environmental origin of MERS-CoV is as yet unknown; however, its genome sequence is closely related to those of two bat coronaviruses, named BtCoV-HKU4 and BtCoV-HKU5, which were derived from Chinese bat samples. A hallmark of highly pathogenic respiratory viruses is their ability to evade the i...\n",
      "\n",
      " cyx0p2x5\n",
      " Title: Molecular Evolution Analysis and Geographic Investigation of Severe Acute Respiratory Syndrome Coronavirus-Like Virus in Palm Civets at an Animal Market and on FarmsMassive numbers of palm civets were culled to remove sources for the reemergence of severe acute respiratory syndrome (SARS) in Guangdong Province, China, in January 2004, following SARS coronavirus detection in market animals\n",
      " Abstract: The virus was identified in all 91 palm civets and 15 raccoon dogs of animal market origin sampled prior to culling, but not in 1,107 palm civets later sampled at 25 farms, spread over 12 provinces, which were claimed to be the source of traded animals. Twenty-seven novel signature variation residue...\n",
      "\n",
      " ds5mauer\n",
      " Title: Successes and challenges of the One Health approach in Kenya over the last decadeMore than 75% of emerging infectious diseases are zoonotic in origin and a transdisciplinary, multi-sectoral One Health approach is a key strategy for their effective prevention and control\n",
      " Abstract: In 2004, US Centers for Disease Control and Prevention office in Kenya (CDC Kenya) established the Global Disease Detection Division of which one core component was to support, with other partners, the One Health approach to public health science. After catalytic events such as the global expansion ...\n",
      "\n",
      " ymqdhu8f\n",
      " Title: A54 Genomic analysis of camel-HKU23 in Nigeria dromedary camels reveals strain-specific cross-species recombinationCoronaviruses (CoVs) are enveloped, single stranded, positive-sense RNA viruses with a large genomic size of 26–32 kilobases\n",
      " Abstract: The first human CoV identified in the 1960s was isolated from patients presenting with common cold symptoms. Subsequent epidemic outbreaks of novel zoonotic CoV transmission were reported, examples including HCoV-229E (229E), HCoV-OC43 (OC43), severe acute respiratory syndrome, and Middle East respi...\n",
      "\n",
      " 5pzeey4b\n",
      " Title: Lectins from red algae and their biomedical potentialLectins are unique proteins or glycoproteins of non-immune origin that bind specifically to carbohydrates\n",
      " Abstract: They recognise and interact reversibly to either free carbohydrates or glycoconjugates, without modifying their structure. Lectins are highly diverse and widely distributed in nature and have been extensively reported from various red algae species. Numerous red algae species have been reported to p...\n",
      "\n",
      " t3t20wji\n",
      " Title: A complete sequence and comparative analysis of a SARS-associated virus (Isolate BJ01)The genome sequence of the Severe Acute Respiratory Syndrome (SARS)-associated virus provides essential information for the identification of pathogen(s), exploration of etiology and evolution, interpretation of transmission and pathogenesis, development of diagnostics, prevention by future vaccination, and treatment by developing new drugs\n",
      " Abstract: We report the complete genome sequence and comparative analysis of an isolate (BJ01) of the coronavirus that has been recognized as a pathogen for SARS. The genome is 29725 nt in size and has 11 ORFs (Open Reading Frames). It is composed of a stable region encoding an RNA-dependent RNA polymerase (c...\n",
      "\n",
      " x9az3twa\n",
      " Title: Phylogeny of SARS-CoV as inferred from complete genome comparisonSARS-CoV, as the pathogeny of severe acute respiratory syndrome (SARS), is a mystery that the origin of the virus is still unknown even a few isolates of the virus were completely sequenced\n",
      " Abstract: To explore the genesis of SARS-CoV, the FDOD method previously developed by us was applied to comparing complete genomes from 12 SARS-CoV isolates to those from 12 previously identified coronaviruses and an unrooted phylogenetic tree was constructed. Our results show that all SARS-CoV isolates were ...\n",
      "\n",
      " rtby02q1\n",
      " Title: A Novel Antiviral Strategy against MERS-CoV and HCoV-229E Using Binase to Target Viral Genome ReplicationRNA viruses cause most of the dangerous communicable diseases\n",
      " Abstract: Due to their high mutation rates, RNA viruses quickly evade selective pressures and can adapt to a new host. Therefore, new antiviral approaches are urgently needed, which target more than one specific virus variant and which would optimally prevent development of viral resistance. Among the family ...\n",
      "\n",
      " plxz5mkg\n",
      " Title: SARS-CoV-2: an Emerging Coronavirus that Causes a Global ThreatAn ongoing outbreak of pneumonia caused by a novel coronavirus, currently designated as the severe acute respiratory syndrome coronavirus-2 (SARS-CoV-2), was reported recently\n",
      " Abstract: However, as SARS-CoV-2 is an emerging virus, we know little about it. In this review, we summarize the key events occurred during the early stage of SARS-CoV-2 outbreak, the basic characteristics of the pathogen, the signs and symptoms of the infected patients as well as the possible transmission pa...\n",
      "\n",
      " 3114rz8f\n",
      " Title: Emerging Animal Coronaviruses: First SARS and Now MERSThe first major pandemic of the new millennium that arose from southern China in 2002 was of zoonotic origin from wild game animals, called severe acute respiratory syndrome [SARS]\n",
      " Abstract: The culprit was determined to be a coronavirus of animal origin [SARS-CoV]. The discovery of the SARS-CoV, which caused an outbreak of >8000 people in >30 countries with fatality of about 10%, resulted in intense search for novel coronaviruses with potentially high pathogenicity. Ten years later aft...\n",
      "\n",
      " 8fmykb4c\n",
      " Title: Investigation of Animal Reservoir(s) of SARS-CoVSevere acute respiratory syndrome (SARS) is a novel infectious disease in the new millennium\n",
      " Abstract: It has been ascertained that a new coronavirus, SARS-CoV, is the etiological agent of SARS. While the extraordinarily rapid isolation and full genome sequencing of SARS-CoV constituted a remarkable scientific achievement, identification of the actual animal reservoir(s) of SARS-CoV is more difficult...\n",
      "\n",
      " xzfo5jjq\n",
      " Title: Foodborne Disease in the Middle EastFood safety is a concern worldwide and according to the World Health Organization, developing countries are probably more at risk of foodborne illness because many of these, including those in the Middle East, have limited disease surveillance and prevention and control strategies\n",
      " Abstract: Specifically, the Middle East and North Africa (MENA) region has the third highest estimated burden of foodborne diseases per population, after the African and South-East Asia regions. However, it is difficult to determine what the burden is since little is published in peer-reviewed journals or gov...\n",
      "\n",
      " 1ub01j2x\n",
      " Title: Focus on Middle East respiratory syndrome coronavirus (MERS-CoV)Abstract Since the first case of human infection by the Middle East respiratory syndrome coronavirus (MERS-CoV) in Saudi Arabia in June 2012, more than 2260 cases of confirmed MERS-CoV infection and 803 related deaths have been reported since the 16th of October 2018\n",
      " Abstract: The vast majority of these cases (71%) were reported in Saudi Arabia but the epidemic has now spread to 27 countries and has not ceased 6 years later, unlike SARS-CoV that disappeared a little less than 2 years after emerging. Due to the high fatality rate observed in MERS-CoV infected patients (36%...\n",
      "\n",
      " ba6v30jg\n",
      " Title: Identification of a novel coronavirus causing severe pneumonia in human: a descriptive studyBACKGROUND: Human infections with zoonotic coronaviruses (CoVs), including severe acute respiratory syndrome (SARS)-CoV and Middle East respiratory syndrome (MERS)-CoV, have raised great public health concern globally\n",
      " Abstract: Here, we report a novel bat-origin CoV causing severe and fatal pneumonia in humans. METHODS: We collected clinical data and bronchoalveolar lavage (BAL) specimens from five patients with severe pneumonia from Jin Yin-tan Hospital of Wuhan, Hubei province, China. Nucleic acids of the BAL were extrac...\n",
      "\n",
      " fcd07krs\n",
      " Title: Response to COVID-19 in Taiwan: Big Data Analytics, New Technology, and Proactive TestingTaiwan is 81 miles off the coast of mainland China and was expected to have the second highest number of cases of coronavirus disease 2019 (COVID-19) due to its proximity to and number of flights between China.1 The country has 23 million citizens of which 850 000 reside in and 404 000 work in China.2,3 In 2019, 2.71 million visitors from the mainland traveled to Taiwan.4 As such, Taiwan has been on constant alert and ready to act on epidemics arising from China ever since the severe acute respiratory syndrome (SARS) epidemic in 2003\n",
      " Abstract: Given the continual spread of COVID-19 around the world, understanding the action items that were implemented quickly in Taiwan and assessing the effectiveness of these actions in preventing a large-scale epidemic may be instructive for other countries. COVID-19 occurred just before the Lunar New Ye...\n",
      "\n",
      " pwvcwlh8\n",
      " Title: Cross‐species transmission of the newly identified coronavirus 2019‐nCoVThe current outbreak of viral pneumonia in the city of Wuhan, China, was caused by a novel coronavirus designated 2019-nCoV by the World Health Organization, as determined by sequencing the viral RNA genome\n",
      " Abstract: Many patients were potentially exposed to wildlife animals at the Huanan seafood wholesale market, where poultry, snake, bats, and other farm animals were also sold. To determine the possible virus reservoir, we have carried out comprehensive sequence analysis and comparison in conjunction with rela...\n",
      "\n",
      " 2fb4z0dr\n",
      " Title: 2019 novel coronavirus infection and gastrointestinal tractSince end of December 2019, a cluster of patients with pneumonia of unknown origin was reported from Wuhan, Hubei province, China\n",
      " Abstract: As of Feb 17th, 2020, statistical data show that the outbreak constitutes an epidemic threat in China, where the exponential increase in patients has reached 75114 confirmed cases, with 2239 deaths. Different from SARS-CoV (severe acute respiratory syndrome coronavirus) and MERS-CoV (Middle East res...\n",
      "\n",
      " e220ut9u\n",
      " Title: The Novel Chinese Coronavirus (2019-nCoV) Infections: challenges for fighting the stormSince end of December 2019, a cluster of patients with pneumonia of unknown origin was reported from Wuhan, Hubei province, China\n",
      " Abstract: They shared a connection with the Huanan South China Seafood Market in Wuhan, and now it has been confirmed that the disease is caused by a novel coronavirus (provisionally named 2019-nCoV). As of today (30 January 2020), 7734 cases have been confirmed in China, and 90 cases have also been cumulativ...\n",
      "\n",
      " rq9hmjsx\n",
      " Title: 2019_nCoV/SARS-CoV-2: rapid classification of betacoronaviruses and identification of Traditional Chinese Medicine as potential origin of zoonotic coronavirusesThe current outbreak of a novel severe acute respiratory syndrome-like coronavirus, 2019_nCoV(now named SARS-CoV-2), illustrated difficulties in identifying a novel coronavirus and its natural host, as the coding sequences of various Betacoronavirus species can be highly diverse\n",
      " Abstract: By means of whole-genome sequence comparisons, we demonstrate that the noncoding flanks of the viral genome can be used to correctly separate the recognized four betacoronavirus subspecies. The conservation would be sufficient to define target sequences that could, in theory, classify novel virus sp...\n",
      "\n",
      " 5i2dxg8z\n",
      " Title: The 2019 novel coronavirus resourceAn ongoing outbreak of a novel coronavirus infection in Wuhan, China since December 2019 has led to 31,516 infected persons and 638 deaths across 25 countries (till 16:00 on February 7, 2020)\n",
      " Abstract: The virus causing this pneumonia was then named as the 2019 novel coronavirus (2019-nCoV) by the World Health Organization. To promote the data sharing and make all relevant information of 2019-nCoV publicly available, we construct the 2019 Novel Coronavirus Resource (2019nCoVR, https://bigd.big.ac....\n",
      "\n",
      " u3ups8em\n",
      " Title: Efficient management of novel coronavirus pneumonia by efficient prevention and control in scientific mannerAt the end of 2019, sporadic and clustered case with \"pneumonia of unknown origin\" emerged in Wuhan, Hubei province\n",
      " Abstract: The causative pathogen was quickly confirmed as \"2019-nCoV\" . The epidemic soon spread throughout the country and became a pandemic in over a month. Government and medical institutions across the country mobilized all kinds of resources and took a variety of measures to actively treat patients and s...\n",
      "\n",
      " fd41czxh\n",
      " Title: Chapter 14 Middle East Respiratory Syndrome-Coronavirus (MERS-CoV) InfectionMERS-CoV infection is an emerging infectious disease with a high mortality rate\n",
      " Abstract: The exact incidence and prevalence of the disease is not known as we do not have yet reliable serologic tests. The diagnosis of MERS-CoV infection relies on detection of the virus using real-time RT-PCR. Currently, the origin of the virus and the source is not known and future studies are needed to ...\n",
      "\n",
      " c1nuvprk\n",
      " Title: Human Coronaviruses: General FeaturesAbstract Human coronaviruses (HCoVs), including HCoV-229E, HCoV-OC43, HCoV-NL63, and HCoV-HKU1, are traditionally known to cause symptoms of common cold with only moderate clinical impact\n",
      " Abstract: Severe acute respiratory syndrome coronavirus (SARS-CoV) and Middle East respiratory syndrome coronavirus (MERS-CoV), on the other hand, have strike humans in the past two decades as highly fatal human pathogens leading to considerable mortality and economic loss. This article summaries the updates ...\n",
      "\n",
      " sn7rswab\n",
      " Title: Chapter 8 The Middle East Respiratory Syndrome Coronavirus: An Emerging Virus of Global ThreatAbstract Middle East respiratory syndrome (MERS) is a viral respiratory illness caused by a coronavirus (CoV), first identified in Saudi Arabia in 2012\n",
      " Abstract: Since then, almost 2000 cases have been reported from 27 countries, with Saudi Arabia being the epicenter. This newly emerging virus is highly pathogenic and has a case mortality rate of 35%. It is similar to the CoV causing severe acute respiratory syndrome CoV (SARS-CoV) in that both belong to the...\n",
      "\n",
      " kromgrnu\n",
      " Title: SARSSevere acute respiratory syndrome (SARS) emerged in southern China in late 2002\n",
      " Abstract: It first spread within Guangdong Province and then to other parts of China. Via air travelers, it quickly reached various countries around the globe, causing several major hospital outbreaks. Within weeks, the causative agent, a previously unknown coronavirus (SARS-CoV), was identified, thanks to an...\n",
      "\n",
      " yvsyo4l9\n",
      " Title: SARSAbstract Severe acute respiratory syndrome (SARS) emerged in southern China in late 2002\n",
      " Abstract: It first spread within Guangdong Province and then to other parts of China. Via air travelers, it quickly reached various countries around the globe, causing several major hospital outbreaks. Within weeks, the causative agent, a previously unknown coronavirus (SARS-CoV), was identified, thanks to an...\n",
      "\n",
      " igdkz3ht\n",
      " Title: 89 Severe Acute Respiratory Syndrome (SARS)Abstract Severe acute respiratory syndrome (SARS) first appeared in November 2002 and ultimately resulted in 8096 probable human infections and 774 deaths worldwide\n",
      " Abstract: By July 2003, the global outbreak was declared over. A new coronavirus, SARS-associated coronavirus (SARS-CoV), was identified as the causative agent; this virus appeared to have a zoonotic origin, as genetically similar coronaviruses have been identified in several animal species. The global respon...\n",
      "\n",
      " ky33ju30\n",
      " Title: The cardiovascular burden of coronavirus disease 2019 (COVID-19) with a focus on congenital heart diseaseAbstract Coronavirus disease 2019 (COVID-19), caused by a novel betacoronavirus severe acute respiratory syndrome coronavirus 2 (SARS-CoV-2), was first described in a cluster of patients presenting with pneumonia symptoms in Wuhan, China, in December of 2019\n",
      " Abstract: Over the past few months, COVID-19 has developed into a worldwide pandemic, with over 400,000 documented cases globally as of March 24, 2020. The SARS-CoV-2 virus is most likely of zoonotic origin, but has been shown to have effective human-to-human transmission. COVID-19 results in mild symptoms in...\n",
      "\n",
      " xl8gfkjs\n",
      " Title: Coronavirose systémique chez le furet (Mustela putorius) : intérêt de l’analyse histologique et immunohistochimique\n",
      " Abstract: À propos de trois casRésumé Contexte Une nouvelle coronavirose a été décrite chez le furet, notamment en Espagne et aux États-Unis, induite par un Coronavirus du groupe 1, proche du Coronavirus responsable de l’entérite catarrhale enzootique et à l’origine de lésions histologiques similaires à celle...\n",
      "\n",
      " yn8nzezq\n",
      " Title: Probable Pangolin Origin of SARS-CoV-2 Associated with the COVID-19 OutbreakSummary An outbreak of coronavirus disease 2019 (COVID-19) caused by the 2019 novel coronavirus (SARS-CoV-2) began in the city of Wuhan in China and has widely spread worldwide\n",
      " Abstract: Currently, it is vital to explore potential intermediate hosts of SARS-CoV-2 to control COVID-19 spread. Therefore, we reinvestigated published data from pangolin lung samples from which SARS-CoV-like CoVs were detected by Liu et al. [1]. We found genomic and evolutionary evidence of the occurrence ...\n",
      "\n",
      " k9yus2sv\n",
      " Title: Pangolins Harbor SARS-CoV-2-related CoronavirusesThe pandemic of coronavirus disease 2019 (COVID-19) caused by SARS-CoV-2 has posed a severe threat to global public health\n",
      " Abstract: Yet, the origin of SARS-CoV-2 remains mysterious. Several recent studies (e.g., Lam et al ., Xiao et al .) identified SARS-CoV-2-related viruses in pangolins, providing novel insights into the evolution and diversity of SARS-CoV-2-related viruses....\n",
      "\n",
      " juz9jnfk\n",
      " Title: Insight into 2019 novel coronavirus — an updated intrim review and lessons from SARS-CoV and MERS-CoVAbstract Background The rapid spread of the coronavirus disease 2019 (COVID-19), caused by a zoonotic beta-coronavirus entitled 2019 novel coronavirus (2019-nCoV), has become a global threat\n",
      " Abstract: Awareness of the biological features of 2019-nCoV should be updated in time and needs to be comprehensively summarized to help optimize control measures and make therapeutic decisions. Methods Based on recently published literatures, official documents and selected up-to-date preprint studies, we re...\n",
      "\n",
      " bzrh2fni\n",
      " Title: Influenza, respiratory syncytial virus and SARSAbstract Acute lower respiratory tract infections (LRTIs) are a major worldwide health problem, particularly in childhood, and are ranked first among the conditions contributing to the global burden of disease\n",
      " Abstract: About 30–50% of acute LRTIs are viral in origin; of these, influenza and respiratory syncytial virus (RSV) are associated with the greatest disease burden in humans. Vaccination against circulating human influenza strains and the use of neuraminidase inhibitor drugs have improved the options for con...\n",
      "\n",
      " 6wbrv9o1\n",
      " Title: Clinical and virological data of the first cases of COVID-19 in Europe: a case seriesSummary Background On Dec 31, 2019, China reported a cluster of cases of pneumonia in people at Wuhan, Hubei Province\n",
      " Abstract: The responsible pathogen is a novel coronavirus, named severe acute respiratory syndrome coronavirus 2 (SARS-CoV-2). We report the relevant features of the first cases in Europe of confirmed infection, named coronavirus disease 2019 (COVID-19), with the first patient diagnosed with the disease on Ja...\n",
      "\n",
      " we4ptygr\n",
      " Title: The association between international and domestic air traffic and the coronavirus (COVID-19) outbreakAbstract Background The World Health Organization (WHO) has declared the current outbreak of the novel coronavirus (COVID-19) a global pandemic\n",
      " Abstract: Many countries are facing increasing numbers of COVID-19 cases, which are, in their origin mostly attributed to regular international flight connections with China. This study aims to investigate this relation by analyzing available data on air traffic volume and the spread of COVID-19 cases. Method...\n",
      "\n",
      " ktbph5vf\n",
      " Title: Infection par le SARS-CoV-2 chez les femmes enceintes\n",
      " Abstract: État des connaissances et proposition de prise en charge. CNGOFRésumé Un nouveau coronavirus (SARS-CoV-2) mis en évidence en fin d’année 2019 en Chine se diffuse à travers tous les continents. Le plus souvent à l’origine d’un syndrome infectieux sans gravité, associant à différents degrés des symptô...\n",
      "\n",
      " 0retx7ty\n",
      " Title: Human-animal interactions and bat coronavirus spillover potential among rural residents in Southern ChinaAbstract Human interaction with animals has been implicated as a primary risk factor for several high impact zoonoses, including many bat-origin viral diseases\n",
      " Abstract: However the animal-to-human spillover events that lead to emerging diseases are rarely observed or clinically examined, and the link between specific interactions and spillover risk is poorly understood. To investigate this phenomenon, we conducted biological-behavioral surveillance among rural resi...\n",
      "\n",
      " 3qds5j1p\n",
      " Title: Genomic and protein structure modelling analysis depicts the origin and infectivity of 2019-nCoV, a new coronavirus which caused a pneumonia outbreak in Wuhan, ChinaAbstractDetailed genomic and structure-based analysis of a new coronavirus, namely 2019-nCoV, showed that the new virus is a new type of bat coronavirus and is genetically fairly distant from the human SARS coronavirus\n",
      " Abstract: Structure analysis of the spike (S) protein of this new virus showed that its S protein only binds weakly to the ACE2 receptor on human cells whereas the human SARS coronavirus exhibits strongly affinity to the ACE receptor. These findings suggest that the new virus does not readily transmit between...\n",
      "\n",
      " uqls3p01\n",
      " Title: Genomic variance of the 2019-nCoV coronavirusAbstractThere is rising global concern for the recently emerged novel Coronavirus (2019-nCov)\n",
      " Abstract: Full genomic sequences have been released by the worldwide scientific community in the last few weeks in order to understand the evolutionary origin and molecular characteristics of this virus. Taking advantage of all the genomic information currently available, we constructed a phylogenetic tree in...\n",
      "\n",
      " cetdqgff\n",
      " Title: Machine learning using intrinsic genomic signatures for rapid classification of novel pathogens: COVID-19 case studyAbstractAs of February 20, 2020, the 2019 novel coronavirus (renamed to COVID-19) spread to 30 countries with 2130 deaths and more than 75500 confirmed cases\n",
      " Abstract: COVID-19 is being compared to the infamous SARS coronavirus, which resulted, between November 2002 and July 2003, in 8098 confirmed cases worldwide with a 9.6% death rate and 774 deaths. Though COVID-19 has a death rate of 2.8% as of 20 February, the 75752 confirmed cases in a few weeks (December 8,...\n",
      "\n",
      " iat80b4l\n",
      " Title: Assessing spread risk of Wuhan novel coronavirus within and beyond China, January-April 2020: a travel network-based modelling studyBackground: A novel coronavirus (2019-nCoV) emerged in Wuhan City, China, at the end of 2019 and has caused an outbreak of human-to-human transmission with a Public Health Emergency of International Concern declared by the World Health Organization on January 30, 2020\n",
      " Abstract: Aim: We aimed to estimate the potential risk and geographic range of Wuhan novel coronavirus (2019-nCoV) spread within and beyond China from January through to April, 2020. Methods: A series of domestic and international travel network-based connectivity and risk analyses were performed, by using de...\n",
      "\n",
      " jawwrsa5\n",
      " Title: A database resource for Genome-wide dynamics analysis of Coronaviruses on a historical and global scaleAbstractThe recent outbreak of a new zoonotic origin Coronavirus has ring the bell for the potential spread of epidemic Coronavirus crossing the species\n",
      " Abstract: With the urgent needs to assist the control of the Coronavirus spread and to provide valuable scientific information, we developed a coronavirus database (CoVdb), an online genomics and proteomics analysis platform. Based on public available coronavirus genomic information, the database annotates th...\n",
      "\n",
      " kh06egig\n",
      " Title: Exploring the coronavirus epidemic using the new WashU Virus Genome BrowserAbstractSince its debut in mid-December, 2019, the novel coronavirus (2019-nCoV) has rapidly spread from its origin in Wuhan, China, to several countries across the globe, leading to a global health crisis\n",
      " Abstract: As of February 7, 2020, 44 strains of the virus have been sequenced and uploaded to NCBI’s GenBank [1], providing insight into the virus’s evolutionary history and pathogenesis. Here, we present the WashU Virus Genome Browser, a web-based portal for viewing virus genomic data. The browser is home to...\n",
      "\n",
      " dnxhtbxn\n",
      " Title: Evidence of recombination in coronaviruses implicating pangolin origins of nCoV-2019SUMMARYA novel coronavirus (nCoV-2019) was the cause of an outbreak of respiratory illness detected in Wuhan, Hubei Province, China in December of 2019\n",
      " Abstract: Genomic analyses of nCoV-2019 determined a 96% resemblance with a coronavirus isolated from a bat in 2013 (RaTG13); however, the receptor binding motif (RBM) of these two genomes share low sequence similarity. This divergence suggests a possible alternative source for the RBM coding sequence in nCoV...\n",
      "\n",
      " 2inlyd0t\n",
      " Title: Are pangolins the intermediate host of the 2019 novel coronavirus (2019-nCoV) ?AbstractThe outbreak of 2019-nCoV pneumonia (COVID-19) in the city of Wuhan, China has resulted in more than 70,000 laboratory confirmed cases, and recent studies showed that 2019-nCoV (SARS-CoV-2) could be of bat origin but involve other potential intermediate hosts\n",
      " Abstract: In this study, we assembled the genomes of coronaviruses identified in sick pangolins. The molecular and phylogenetic analyses showed that pangolin Coronaviruses (pangolin-CoV) are genetically related to both the 2019-nCoV and bat Coronaviruses but do not support the 2019-nCoV arose directly from th...\n",
      "\n",
      " ao7bkcv5\n",
      " Title: Pangolin homology associated with 2019-nCoVAbstractTo explore potential intermediate host of a novel coronavirus is vital to rapidly control continuous COVID-19 spread\n",
      " Abstract: We found genomic and evolutionary evidences of the occurrence of 2019-nCoV-like coronavirus (named as Pangolin-CoV) from dead Malayan Pangolins. Pangolin-CoV is 91.02% and 90.55% identical at the whole genome level to 2019-nCoV and BatCoV RaTG13, respectively. Pangolin-CoV is the lowest common ances...\n",
      "\n",
      " ppl3xnm9\n",
      " Title: Molecular Survey for Selected Viral Pathogens in Wild Leopard Cats (Prionailurus bengalensis) in Taiwan with an Emphasis on the Spatial and Temporal Dynamics of Carnivore Protoparvovirus 1ABSTRACTThe leopard cat (Prionailurus bengalensis) has been listed as an endangered species under the Wildlife Conservation Act in Taiwan since 2009\n",
      " Abstract: In this study, we targeted viral pathogens, included carnivore protoparvovirus 1 (CPPV-1), feline leukemia virus (FeLV), feline immunodeficiency virus (FIV), coronavirus (CoV), and canine morbillivirus (CMV), using molecular screening. The spatial and temporal dynamics of the target pathogens were e...\n",
      "\n",
      " of9wlhga\n",
      " Title: Estimation of COVID-2019 burden and potential for international dissemination of infection from IranThe Coronavirus Disease 2019 (COVID-19) epidemic began in Wuhan, China in late 2019 and continues to spread globally, with exported cases confirmed in 28 countries at the time of writing\n",
      " Abstract: During the interval between February 19 and 23, 2020, Iran reported its first 43 cases with eight deaths. Three exported cases originating in Iran were identified, suggesting a underlying burden of disease in that country than is indicated by reported cases. A large epidemic in Iran could further fu...\n",
      "\n",
      " dbowa5bt\n",
      " Title: A novel bat coronavirus reveals natural insertions at the S1/S2 cleavage site of the Spike protein and a possible recombinant origin of HCoV-19SummaryThe unprecedented epidemic of pneumonia caused by a novel coronavirus, HCoV-19, in China and beyond has caused public health concern at a global scale\n",
      " Abstract: Although bats are regarded as the most likely natural hosts for HCoV-191,2, the origins of the virus remain unclear. Here, we report a novel bat-derived coronavirus, denoted RmYN02, identified from a metagenomics analysis of samples from 227 bats collected from Yunnan Province in China between May a...\n",
      "\n",
      " fnj57b0l\n",
      " Title: Genome-wide data inferring the evolution and population demography of the novel pneumonia coronavirus (SARS-CoV-2)AbstractSince December 2019, coronavirus disease 2019 (COVID-19) emerged in Wuhan, Central China and rapidly spread throughout China\n",
      " Abstract: Up to March 3, 2020, SARS-CoV-2 has infected more than 89,000 people in China and other 66 countries across six continents. In this study, we used 10 new sequenced genomes of SARS-CoV-2 and combined 136 genomes from GISAID database to investigate the genetic variation and population demography throu...\n",
      "\n",
      " rr8qet8c\n",
      " Title: Emergence of evidence during disease outbreaks: lessons learnt from the Zika virus outbreakIntroduction: Outbreaks of infectious diseases trigger an increase in scientific research and output\n",
      " Abstract: Early in outbreaks, evidence is scarce, but it accumulates rapidly. We are continuously facing new disease outbreaks, including the new coronavirus (SARS-nCoV-2) in December 2019.The objective of this study was to describe the accumulation of evidence during the 2013-2016 Zika virus (ZIKV) outbreak ...\n",
      "\n",
      " s4ef9qob\n",
      " Title: Transmissibility of 2019 Novel Coronavirus: zoonotic vs\n",
      " Abstract: human to human transmission, China, 2019-2020Objectives: The novel coronavirus (2019-nCoV) originating from Wuhan has rapidly spread throughout China. While the origin of the outbreak remains uncertain, accumulating evidence links a wet market in Wuhan for the early spread of 2019-nCoV. Similarly, t...\n",
      "\n",
      " fw4pmaoc\n",
      " Title: Evidence of the Recombinant Origin and Ongoing Mutations in Severe Acute Respiratory Syndrome Coronavirus 2 (SARS-CoV-2)SUMMARYThe recent global outbreak of viral pneumonia designated as Coronavirus Disease 2019 (COVID-19) by coronavirus (SARS-CoV-2) has threatened global public health and urged to investigate its source\n",
      " Abstract: Whole genome analysis of SARS-CoV-2 revealed ~96% genomic similarity with bat CoV (RaTG13) and clustered together in phylogenetic tree. Furthermore, RaTGl3 also showed 97.43% spike protein similarity with SARS-CoV-2 suggesting that RaTGl3 is the closest strain. However, RBD and key amino acid residu...\n",
      "\n",
      " q0yqnlyl\n",
      " Title: SARS-CoV-2, an evolutionary perspective of interaction with human ACE2 reveals undiscovered amino acids necessary for complex stabilityThe emergence of SARS-CoV-2 has resulted in more than 200,000 infections and nearly 9,000 deaths globally so far\n",
      " Abstract: This novel virus is thought to have originated from an animal reservoir, and acquired the ability to infect human cells using the SARS-CoV cell receptor hACE2. In the wake of a global pandemic it is essential to improve our understanding of the evolutionary dynamics surrounding the origin and spread...\n",
      "\n",
      " aeyf0yu1\n",
      " Title: deepMINE - Natural Language Processing based Automatic Literature Mining and Research Summarization for Early-Stage Comprehension in Pandemic Situations specifically for COVID-19AbstractThe recent pandemic created due to Novel Coronavirus (nCOV-2019) from Wuhan, China demanding a large scale of a general health emergency\n",
      " Abstract: This demands novel research on the vaccine to fight against this pandemic situation, re-purposing of the existing drugs, phylogenetic analysis to identify the origin and determine the similarity with other known viruses, etc. The very preliminary task from the research community is to analyze the wi...\n",
      "\n",
      " 89sg0cpk\n",
      " Title: Atlas of ACE2 gene expression in mammals reveals novel insights in transmission of SARS-Cov-2Background: COVID-19 has become a worldwide pandemic\n",
      " Abstract: It is caused by a novel coronavirus named SARS-CoV-2 with elusive origin. SARS-CoV-2 infects mammalian cells by binding to ACE2, a transmembrane protein. Therefore, the conservation of ACE2 and its expression pattern across mammalian species, which are yet to be comprehensively investigated, may pro...\n",
      "\n",
      " 0c7tf0np\n",
      " Title: Coronavirus hemagglutinin-esterase and spike proteins co-evolve for functional balance and optimal virion avidityABSTRACTHuman coronaviruses OC43 and HKU1 are respiratory pathogen of zoonotic origin that have gained worldwide distribution\n",
      " Abstract: OC43 apparently emerged from a bovine coronavirus (BCoV) spill-over. All three viruses attach to 9-O-acetylated sialoglycans via spike protein S with hemagglutinin-esterase HE acting as a receptor-destroying enzyme. In BCoV, an HE lectin domain promotes esterase activity towards clustered substrates...\n",
      "\n",
      " xtibubra\n",
      " Title: Replication of MERS and SARS coronaviruses in bat cells offers insights to their ancestral originsABSTRACTPrevious findings of Middle East Respiratory Syndrome coronavirus (MERS-CoV)-related viruses in bats, and the ability of Tylonycteris-BatCoV HKU4 spike protein to utilize MERS-CoV receptor, human dipeptidyl peptidase 4 hDPP4, suggest a bat ancestral origin of MERS-CoV\n",
      " Abstract: We developed 12 primary bat cell lines from seven bat species, including Tylonycteris pachypus, Pipistrellus abramus and Rhinolophus sinicus (hosts of Tylonycteris-BatCoV HKU4, Pipistrellus-BatCoV HKU5 and SARS-related-CoV respectively), and tested their susceptibilities to MERS-CoVs, SARS-CoV and h...\n",
      "\n",
      " awp1nck0\n",
      " Title: Uncertainties about the transmission routes of 2019 novel coronavirusThe 2019 novel coronavirus (now named as SARS‐CoV‐2) caused an outbreak of SARS‐like illness in the late of December 2019\n",
      " Abstract: At present, the origin, susceptible population, and infection sources already have been clear.1, 2 However, the transmission routes, a key step to the epidemic control, have not yet been fully ascertained. Here, we focus on the potential transmission routes that have been investigated in the SARS‐Co...\n",
      "\n",
      " zel9a3u6\n",
      " Title: Genomic variance of the 2019-nCoV coronavirusAbstract There is rising global concern for the recently emerged novel Coronavirus (2019-nCov)\n",
      " Abstract: Full genomic sequences have been released by the worldwide scientific community in the last few weeks in order to understand the evolutionary origin and molecular characteristics of this virus. Taking advantage of all the genomic information currently available, we constructed a phylogenetic tree in...\n",
      "\n",
      " bgh729s5\n",
      " Title: An exclusive 42 amino acid signature in pp1ab protein provides insights into the evolutive history of the 2019 novel human-pathogenic coronavirus (SARS-CoV2)The city of Wuhan, Hubei province, China, was the origin of a severe pneumonia outbreak in December 2019, attributed to a novel coronavirus (SARS-CoV2), causing a total of 2761 deaths and 81109 cases (February 25, 2020)\n",
      " Abstract: SARS-CoV2 belongs to genus Betacoronavirus, subgenus Sarbecovirus. The polyprotein 1ab (pp1ab) remains unstudied thoroughly since it is similar to other sarbecoviruses. In this short communication, we performed phylogenetic-structural sequence analysis of pp1ab protein of SARS-CoV2. The analysis sho...\n",
      "\n",
      " b376751x\n",
      " Title: Zoonotic implications of camel diseases in IranAbstract Approximately 60% of all human pathogens and 75% of emerging infectious diseases are zoonotic (of animal origin)\n",
      " Abstract: Camel zoonotic diseases can be encountered in all camel-rearing countries. In this article, all studies carried out on camel zoonotic diseases in Iran are reviewed to show the importance of camels for public health in this country. More than 900 published documents were systematically searched to fi...\n",
      "\n",
      " lf941vhd\n",
      " Title: The First Disease X is Caused by a Highly Transmissible Acute Respiratory Syndrome CoronavirusBased on the announcement of the World Health Organization (WHO) in 2018, the Wuhan pneumonia caused by an unknown etiology should be recognized as the first Disease X\n",
      " Abstract: Later, the pathogen was identified to be a novel coronavirus denoted 2019-nCoV, which has 79.5% and 96% whole genome sequence identify to SARS-CoV and bat SARS-related coronavirus (SARSr-CoV-RaTG13), respectively, suggesting its potential bat origin. With high human-to-human transmission rate (R0), ...\n",
      "\n",
      " xqqn1t4e\n",
      " Title: In this issue of Occupational MedicineThe recent COVID-19 outbreak in Wuhan city (Hubei Province of central China), presents significant public health challenges not only in china but across all affected countries worldwide\n",
      " Abstract: Koh [1] succinctly describes what coronaviruses are, and outlines six known species associated with human illnesses. The article also describes countries of origin of previous coronavirus disease outbreaks and reports number of known fatalities with associated case-fatality rates. Occupations implic...\n",
      "\n",
      " gmupz1gf\n",
      " Title: Editorial 58(1)As I write, the world is gripped by news of a novel coronavirus sweeping across the planet\n",
      " Abstract: The epidemic is causing terrible anguish to many thousands of families and astounding economic damage in Asia. Whilst yet unconfirmed, several research results now point at the hunting, trade and consumption of pangolins as a likely source of the epidemic. Whether or not pangolins do finally prove t...\n",
      "\n",
      " 8ywd6j2b\n",
      " Title: Application of a Risk Analysis Tool to Middle East Respiratory Syndrome Coronavirus (MERS-CoV) Outbreak in Saudi ArabiaThe Grunow-Finke assessment tool (GFT) is an accepted scoring system for determining likelihood of an outbreak being unnatural in origin\n",
      " Abstract: Considering its high specificity but low sensitivity, a modified Grunow-Finke tool (mGFT) has been developed with improved sensitivity. The mGFT has been validated against some past disease outbreaks, but it has not been applied to ongoing outbreaks. This study is aimed to score the outbreak of Midd...\n",
      "\n",
      " fgkfwc3y\n",
      " Title: Strategy for Systematic Assembly of Large RNA and DNA Genomes: Transmissible Gastroenteritis Virus ModelA systematic method was developed to assemble functional full-length genomes of large RNA and DNA viruses\n",
      " Abstract: Coronaviruses contain the largest single-stranded positive-polarity RNA genome in nature. The ∼30-kb genome, coupled with regions of genomic instability, has hindered the development of a full-length infectious cDNA construct. We have assembled a full-length infectious construct of transmissible gas...\n",
      "\n",
      " k0m42jp5\n",
      " Title: Serotypic differentiation of group A rotaviruses with porcine rotavirus gene 9 probes.The serotypic specificities of Gottfried and OSU porcine rotavirus gene 9 probes were investigated in a dot hybridization assay\n",
      " Abstract: The probes were reacted with homologous and heterologous serotypes of group A rotaviruses of human and animal origin. Hybridizations were conducted under relatively low-stringency (52 degrees C, no formamide, 5 x SSC) and high-stringency (52 degrees C, 50% formamide, formamide, 5 x SSC) conditions (...\n",
      "\n",
      " z98i9ju4\n",
      " Title: Palindromes in SARS and Other CoronavirusesWith the identification of a novel coronavirus associated with the severe acute respiratory syndrome (SARS), computational analysis of its RNA genome sequence is expected to give useful clues to help elucidate the origin, evolution, and pathogenicity of the virus\n",
      " Abstract: In this paper, we study the collective counts of palindromes in the SARS genome along with all the completely sequenced coronaviruses. Based on a Markov-chain model for the genome sequence, the mean and standard deviation for the number of palindromes at or above a given length are derived. These th...\n",
      "\n",
      " 54kiu0qf\n",
      " Title: Transcriptional strategy of closteroviruses: mapping the 5' termini of the citrus tristeza virus subgenomic RNAs.Citrus tristeza virus (CTV) induces formation of a nested set of at least nine 3' coterminal subgenomic RNAs (sgRNAs) in infected tissue\n",
      " Abstract: The organization and expression of the 19,296-nucleotide (nt) CTV genome resembles that of coronaviruses, with polyprotein processing, translational frameshifting, and multiple sgRNA formation, but phylogenetically the CTV polymerase, like polymerases of other closteroviruses, belongs to the Sindbis...\n",
      "\n",
      " fjsrg656\n",
      " Title: Coronavirus-like Particles in the Feces of a Cat with DiarrheaCoronavirus-like particles were visualized in the feces of a young domestic shorthair female cat with diarrhea\n",
      " Abstract: On the surface projections, these particles could be distinguished from the enteric coronavirus-like particles of human, dog, cattle and monkey origin. They appeared morphologically similar to a feline enteric coronavirus recently described by other authors. A precipitin antigen was detected in the ...\n",
      "\n",
      " 8fnr1vw0\n",
      " Title: Studies of respiratory viruses in personnel at an Antarctic baseThirteen men wintering on an Antarctic base were isolated from other human contact for 10 months\n",
      " Abstract: During this period Coxsackievirus A21 and later influenza A2 virus were administered to some of the men. Serum samples were collected from each of the men at monthly intervals. Coxsackievirus A21 produced symptoms and apparently spread to uninoculated men. It also appears that repeated re-infections...\n",
      "\n",
      " m67jsubn\n",
      " Title: A translation-attenuating intraleader open reading frame is selected on coronavirus mRNAs during persistent infection.Short open reading frames within the 5' leader of some eukaryotic mRNAs are known to regulate the rate of translation initiation on the downstream open reading frame\n",
      " Abstract: By employing the polymerase chain reaction, we learned that the 5'-terminal 5 nt on the common leader sequence of bovine coronavirus subgenomic mRNAs were heterogeneous and hypervariable throughout early infection in cell culture and that as a persistent infection became established, termini giving ...\n",
      "\n",
      " 9sdehh8v\n",
      " Title: Features, Evaluation and Treatment Coronavirus (COVID-19)According to the World Health Organization (WHO), viral diseases continue to emerge and represent a serious issue to public health\n",
      " Abstract: In the last twenty years, several viral epidemics such as the severe acute respiratory syndrome coronavirus (SARS-CoV) in 2002 to 2003, and H1N1 influenza in 2009, have been recorded. Most recently, the Middle East respiratory syndrome coronavirus (MERS-CoV) was first identified in Saudi Arabia in 2...\n",
      "\n",
      " l6xgrxp5\n",
      " Title: Advance in human coronaviruses research of host interactions2019-novel coronavirus (2019-nCoV) is a \n",
      " Abstract: Advance in human coronaviruses research of host interactions2019-novel coronavirus (2019-nCoV) is a highly pathogenic human CoV that first emerged in Wuhan in 2019.2019-nCoV has a zoonotic origin and poses a major threat to public health.However, little is known about the viral factors contributing ...\n",
      "\n",
      " 7nla9aji\n",
      " Title: First cases of coronavirus disease 2019 (COVID-19) in the WHO European Region, 24 January to 21 February 2020A cluster of pneumonia of unknown origin was identified in Wuhan, China, in December 2019 [1]\n",
      " Abstract: On 12 January 2020, Chinese authorities shared the sequence of a novel coronavirus termed severe acute respiratory syndrome coronavirus 2 (SARS-CoV-2) isolated from some clustered cases [2]. Since then, the disease caused by SARS-CoV-2 has been named coronavirus disease 2019 (COVID-19). As at 21 Feb...\n",
      "\n",
      " ec8lpgl3\n",
      " Title: Scientists ‘strongly condemn’ rumors and conspiracy theories about origin of coronavirus outbreak | Science | AAASA group of 27 prominent public health scientists from outside China is pushing back against a steady stream of stories and even a scientific paper suggesting a laboratory in Wuhan, China, may be the origin of the outbreak of COVID-19\n",
      " Abstract: “The rapid, open, and transparent sharing of data on this outbreak is now being threatened by rumours and misinformation around its origins,” the scientists, from nine countries, write in a statement published online by The Lancet yesterday...\n",
      "\n",
      " j56v40u3\n",
      " Title: Incidence trend of 2019 novel coronavirus diseases (COVID-19) in ChinaObjective To investigate the epidemical characteristics and analyze the incidence trend of 2019 novel coronavirus diseases (COVID-19) in China\n",
      " Abstract: Methods The daily new confirmed cases of 2019 novel coronavirus diseases (COVID-19) in China from January 25 to February 8,2020 were collected for epidemiological descriptive analysis. Results During the period from January 25 to February 8, 2020, the number of daily new confirmed cases fell for fiv...\n",
      "\n",
      " uf3eryoy\n",
      " Title: Passive immunity to control Bovine coronavirus diarrhea in a dairy herd in ArgentinaAbstract Bovine coronavirus (BCoV) is a viral enteric pathogen associated with calf diarrhea worldwide being, in Argentina, mostly detected in dairy husbandry systems\n",
      " Abstract: The aim of the present work was to study if maternal IgG1 antibodies (Abs) to BCoV acquired by colostrum intake modulate the development of BCoV infection in calves reared in a dairy farm in Argentina. Thirty Holstein calves were monitored during their first 60 days of age. Animals were classified i...\n",
      "\n",
      " e46whqk9\n",
      " Title: Betacoronavirus Adaptation to Humans Involved Progressive Loss of Hemagglutinin-Esterase Lectin ActivitySummary Human beta1-coronavirus (β1CoV) OC43 emerged relatively recently through a single zoonotic introduction\n",
      " Abstract: Like related animal β1CoVs, OC43 uses 9-O-acetylated sialic acid as receptor determinant. β1CoV receptor binding is typically controlled by attachment/fusion spike protein S and receptor-binding/receptor-destroying hemagglutinin-esterase protein HE. We show that following OC43’s introduction into hu...\n",
      "\n",
      " mk03z386\n",
      " Title: Virus respiratorios: viejos y nuevos virus\n",
      " Abstract: Revisión de métodos diagnósticosLas infecciones respiratorias agudas de etiología viral se encuentran entre las principales causas de morbimortalidad infecciosa en el mundo. Junto a los virus tradicionalmente reconocidos, como los de la gripe, virus respiratorio sincitial, rinovirus, parainfluenza 1...\n",
      "\n",
      " puuqv6zk\n",
      " Title: Identification of the hyper-variable genomic hotspot for the novel coronavirus SARS-CoV-2A recent study in this journal studied the genomes of the novel SARS-like coronavirus (SARS-CoV-2) in China and suggested that the SARS-CoV-2 had undergone genetic recombination with SARS-related CoV1\n",
      " Abstract: By February 14, 2020, a total of 66,576 confirmed cases of COVID-19, people infected with SARS-CoV-2, were reported in China, leading to 1,524 deaths, per the Chinese CDC (http://2019ncov.chinacdc.cn/2019-nCoV/). Several full genomic sequences of this virus have been released for the study of its ev...\n",
      "\n",
      " d71rj29o\n",
      " Title: The hemagglutinin/esterase gene of human coronavirus strain OC43: Phylogenetic relationships to bovine and murine coronaviruses and influenza C virusAbstract The complete nucleotide sequences of the hemagglutinin/esterase (HE) genes of human coronavirus (HCV) strain OC43 and bovine respiratory coronavirus (BRCV) strain G95 were determined from single-stranded cDNA fragments generated by reverse transcription of virus-specific mRNAs and amplified by polymerase chain reaction\n",
      " Abstract: An open reading frame of 1272 nucleotides was identified as the putative HE gene by homology to the bovine coronavirus HE gene. This open reading frame encodes a protein of 424 amino acids with an estimated molecular weight of 47.7 kDa. Ten potential N-linked glycosylation sites were predicted in th...\n",
      "\n",
      " wr10ar5p\n",
      " Title: Identification and evaluation of potent Middle East respiratory syndrome coronavirus (MERS-CoV) 3CLPro inhibitorsAbstract Middle East respiratory syndrome coronavirus (MERS-CoV) causes severe acute respiratory illness with fever, cough and shortness of breath\n",
      " Abstract: Up to date, it has resulted in 1826 human infections, including 649 deaths. Analogous to picornavirus 3C protease (3Cpro), 3C-like protease (3CLpro) is critical for initiation of the MERS-CoV replication cycle and is thus regarded as a validated drug target. As presented here, our peptidomimetic inh...\n",
      "\n",
      " qxkxjxsz\n",
      " Title: Porcine epidemic diarrhea: A retrospect from Europe and matters of debateAbstract A retrospect is given on the emergence of porcine epidemic diarrhea (PED) during the early seventies in Europe\n",
      " Abstract: While, at first, it appeared as a disease affecting feeder pigs, fattening- and adult swine, it later also became pathogenic for neonatal and suckling pigs hereby drastically increasing its economic impact. Isolation of the causative virus revealed a new porcine coronavirus, the origin of which has ...\n",
      "\n",
      " k560qnyi\n",
      " Title: Surveillance for emerging respiratory virusesSummary Several new viral respiratory tract infectious diseases with epidemic potential that threaten global health security have emerged in the past 15 years\n",
      " Abstract: In 2003, WHO issued a worldwide alert for an unknown emerging illness, later named severe acute respiratory syndrome (SARS). The disease caused by a novel coronavirus (SARS-CoV) rapidly spread worldwide, causing more than 8000 cases and 800 deaths in more than 30 countries with a substantial economi...\n",
      "\n",
      " s9m660jn\n",
      " Title: Risk factors for feline coronavirus seropositivity in cats relinquished to a UK rescue charityAbstract Two thousand, two hundred and seven cats from 14 shelters of a major UK cat charity were blood tested for feline coronavirus (FCoV) antibodies\n",
      " Abstract: Data was collated on breed, sex, age, number of cats at original location, outdoor access, health status, and time spent in the shelter prior to sampling (range 0 to 4 years). Some cats were also tested for feline leukaemia virus antigen, feline immunodeficiency virus, and Toxoplasma gondii antibodi...\n",
      "\n",
      " hfkzu18p\n",
      " Title: SARS-CoV-2 and COVID-19: The most important research questionsCoronavirus disease 2019 (COVID-19) caused by severe acute respiratory syndrome coronavirus 2 (SARS-CoV-2) is an ongoing global health emergency\n",
      " Abstract: Here we highlight nine most important research questions concerning virus transmission, asymptomatic and presymptomatic virus shedding, diagnosis, treatment, vaccine development, origin of virus and viral pathogenesis....\n",
      "\n",
      " z2kgcjtp\n",
      " Title: Complete genome sequence of bat coronavirus HKU2 from Chinese horseshoe bats revealed a much smaller spike gene with a different evolutionary lineage from the rest of the genomeAbstract Apart from bat-SARS-CoV, we have identified a novel group 1 coronavirus, bat-CoV HKU2, in Rhinolophus sinicus (Chinese horseshoe bats)\n",
      " Abstract: Since it has been suggested that the receptor-binding motif (RBM) of SARS-CoV may have been acquired from a group 1 coronavirus, we conducted a surveillance study and identified bat-SARS-CoV and bat-CoV HKU2 in 8.7% and 7.5% respectively of R. sinicus in Hong Kong and Guangdong. Complete genome sequ...\n",
      "\n",
      " imvbkt69\n",
      " Title: Epidemiological and genetic analysis of severe acute respiratory syndromeSummary The severe acute respiratory syndrome (SARS) epidemics in 2002–2003 showed how quickly a novel infectious disease can spread both within communities and internationally\n",
      " Abstract: We have reviewed the epidemiological and genetic analyses that have been published both during and since these epidemics, and show how quickly data were collected and analyses undertaken. Key factors that determine the speed and scale of transmission of an infectious disease were estimated using sta...\n",
      "\n",
      " 73xil5op\n",
      " Title: Bat origin of a new human coronavirus: there and back again\n",
      " Abstract: Bat origin of a new human coronavirus: there and back again...\n",
      "\n",
      " 1m5h3krw\n",
      " Title: Porcine deltacoronavirus infection: Etiology, cell culture for virus isolation and propagation, molecular epidemiology and pathogenesisAbstract Porcine deltacoronavirus (PDCoV) (family Coronaviridae, genus Deltacoronavirus) is a novel swine enteropathogenic coronavirus that causes acute diarrhea/vomiting, dehydration and mortality in seronegative neonatal piglets\n",
      " Abstract: PDCoV diarrhea was first reported in the US in early 2014, concurrently with co-circulation of porcine epidemic diarrhea virus (PEDV) (family Coronaviridae, genus Alphacoronavirus). The origin of PDCoV in pigs and also its sudden emergence or route of introduction into the US still remains unclear. ...\n",
      "\n",
      " wl83d6gs\n",
      " Title: Ribavirin and interferon-β synergistically inhibit SARS-associated coronavirus replication in animal and human cell linesAbstract Initial in vitro investigations demonstrated type I interferons (IFNs: IFN-α, IFN-β) to inhibit replication of SARS coronavirus (SARS-CoV), but found the nucleoside analogue ribavirin ineffective in Vero cells\n",
      " Abstract: In this report, ribavirin was shown to inhibit SARS-CoV replication in five different cell types of animal or human origin at therapeutically achievable concentrations. Since clinical anti-SARS-CoV activity of type I interferons or ribavirin is limited, we investigated the combination of IFN-β and r...\n",
      "\n",
      " dle938bt\n",
      " Title: Influenza, respiratory syncytial virus and SARSAbstract Acute lower respiratory tract infections (LRTIs) are a major worldwide health problem, particularly in childhood\n",
      " Abstract: About 30–50% of acute LRTIs are viral in origin; of these, influenza and respiratory syncytial virus are associated with the greatest disease burden in humans. Many different influenza A viruses occur naturally in animal reservoirs, and present a constant threat of zoonotic infections and global pan...\n",
      "\n",
      " fkqohnyz\n",
      " Title: The aetiology, origins, and diagnosis of severe acute respiratory syndromeSummary Severe acute respiratory syndrome (SARS) is a new infectious disease that first emerged in Guangdong province, China, in November, 2002\n",
      " Abstract: A novel coronavirus was later identified in patients with SARS. The detection of the virus in these patients, its absence in healthy controls or other patients with atypical pneumonia, and the reproduction of a similar disease in a relevant animal model fulfilled Koch's postulates for implicating th...\n",
      "\n",
      " 5lm5ttai\n",
      " Title: Discovery, diversity and evolution of novel coronaviruses sampled from rodents in ChinaAbstract Although rodents are important reservoirs for RNA viruses, to date only one species of rodent coronavirus (CoV) has been identified\n",
      " Abstract: Herein, we describe a new CoV, denoted Lucheng Rn rat coronavirus (LRNV), and novel variants of two Betacoronavirus species termed Longquan Aa mouse coronavirus (LAMV) and Longquan Rl rat coronavirus (LRLV), that were identified in a survey of 1465 rodents sampled in China during 2011–2013. Phylogen...\n",
      "\n",
      " wf79ujyo\n",
      " Title: Altered pathogenicity of a tl/CH/LDT3/03 genotype infectious bronchitis coronavirus due to natural recombination in the 5′- 17kb region of the genomeAbstract An infectious bronchitis coronavirus, designated as ck/CH/LGX/130530, was isolated from an IBV strain H120-vaccinated chicken in this study\n",
      " Abstract: Analysis of the S1 gene showed that isolate ck/CH/LGX/130530 was a tl/CH/LDT3/03-like virus, with a nucleotide sequence similarity of 99%. However, a complete genomic sequence analysis showed that ck/CH/LGX/130530 was more closely related to a Massachusetts type strain (95% similarity to strain H120...\n",
      "\n",
      " 9mkmpwo4\n",
      " Title: Molecular characterization of a canine respiratory coronavirus strain detected in ItalyAbstract Coronaviruses (CoVs) are positive-stranded, non-segmented RNA viruses generally responsible for the emergence of respiratory and enteric disease in humans, companion animals and livestock\n",
      " Abstract: Their aptitude to evolve by genetic recombination and/or point mutation is recognized, thus giving rise to new viral genotypes and mutants with different tissues or host tropism. In particular, a probable origin from the strictly related bovine coronavirus (BCoV) or, alternatively, from a common anc...\n",
      "\n",
      " ftbjsoup\n",
      " Title: Attenuated live vaccine usage affects accurate measures of virus diversity and mutation rates in avian coronavirus infectious bronchitis virusAbstract The full-length genomes of 11 infectious bronchitis virus (IBV) field isolates from three different types of the virus; Massachusetts (Mass), Connecticut (Conn) and California (CAL) isolated over a 41, 25 and 8 year period respectively, were sequenced and analyzed to determine the mutation rates and level of polymorphisms across the genome\n",
      " Abstract: Positive selection was not detected and mutation rates ranged from 10−4 to 10−6 substitutions/site/year for Mass and Conn IBV types where attenuated live vaccines are routinely used to control the disease. In contrast, for CAL type viruses, for which no vaccine exists, positive selection was detecte...\n",
      "\n",
      " uc7ubqbj\n",
      " Title: 2019 novel coronavirus of pneumonia in Wuhan, China: emerging attack and management strategiesAn ongoing outbreak of 2019-nCoV pneumonia was first identified in Wuhan, Hubei province, China at the end of 2019\n",
      " Abstract: With the spread of the new coronavirus accelerating, person-to-person transmission in family homes or hospitals, and intercity spread of 2019-nCoV occurred. At least 40,261 cases confirmed, 23,589 cases suspected, 909 cases death and 3444 cases cured in China and worldwide 24 countries confirmed 383...\n",
      "\n",
      " f3gwxv04\n",
      " Title: Molecular and phylogenetic analysis of bovine coronavirus based on the spike glycoprotein geneAbstract Bovine coronavirus has been associated with diarrhoea in newborn calves, winter dysentery in adult cattle and respiratory tract infections in calves and feedlot cattle\n",
      " Abstract: In Cuba, the presence of BCoV was first reported in 2006. Since then, sporadic outbreaks have continued to occur. This study was aimed at deepening the knowledge of the evolution, molecular markers of virulence and epidemiology of BCoV in Cuba. A total of 30 samples collected between 2009 and 2011 w...\n",
      "\n",
      " walpfa6r\n",
      " Title: SARS-Coronavirus ancestor’s foot-prints in South-East Asian bat colonies and the refuge theoryAbstract One of the great challenges in the ecology of infectious diseases is to understand what drives the emergence of new pathogens including the relationship between viruses and their hosts\n",
      " Abstract: In the case of the emergence of Severe Acute Respiratory Syndrome Coronavirus (SARS-CoV), several studies have shown coronavirus diversity in bats as well as the existence of SARS-CoV infection in apparently healthy bats, suggesting that bats may be a crucial host in the genesis of this disease. To ...\n",
      "\n",
      " vvui9das\n",
      " Title: Discovery of a rich gene pool of bat SARS-related coronaviruses provides new insights into the origin of SARS coronavirusA large number of SARS-related coronaviruses (SARSr-CoV) have been detected in horseshoe bats since 2005 in different areas of China\n",
      " Abstract: However, these bat SARSr-CoVs show sequence differences from SARS coronavirus (SARS-CoV) in different genes (S, ORF8, ORF3, etc) and are considered unlikely to represent the direct progenitor of SARS-CoV. Herein, we report the findings of our 5-year surveillance of SARSr-CoVs in a cave inhabited by ...\n",
      "\n",
      " ip96mbf7\n",
      " Title: Common virus infections in cats, before and after being placed in shelters, with emphasis on feline enteric coronavirusAbstract The purpose of this study was to determine the origin and subsequent spread of feline calicivirus (FCV), feline herpesvirus (FHV), and feline enteric coronavirus (FECV) in cats relinquished to shelters\n",
      " Abstract: FCV was isolated from the oral fauces of 11% of healthy cats upon entry, and isolation rates were highest for kittens (33%). FHV shedding was very low (4%) at the time of entry and occurred mainly in juveniles. FECV shedding was also common among newly relinquished cats (33%), especially older kitte...\n",
      "\n",
      " yxtepbta\n",
      " Title: Absence of MERS-CoV antibodies in feral camels in Australia: Implications for the pathogen's origin and spreadMiddle East respiratory syndrome coronavirus (MERS-CoV) infections continue to be a serious emerging disease problem internationally with well over 1000 cases and a major outbreak outside of the Middle East region\n",
      " Abstract: While the hypothesis that dromedary camels are the likely major source of MERS-CoV infection in humans is gaining acceptance, conjecture continues over the original natural reservoir host(s) and specifically the role of bats in the emergence of the virus. Dromedary camels were imported to Australia,...\n",
      "\n",
      " 77yma44s\n",
      " Title: Influenza and other emerging respiratory virusesAbstract Acute lower respiratory tract infections (LRTIs) are a major worldwide health problem, particularly in childhood\n",
      " Abstract: About 30–50% of acute LRTIs are viral in origin with influenza A infection a key cause of explosive community outbreaks. Many different influenza A viruses occur naturally in animal reservoirs and present a constant threat of zoonotic infections and global pandemics. Since 2009, when pandemic (H1N1)...\n",
      "\n",
      " 1qkwsh6a\n",
      " Title: Emerging novel coronavirus (2019-nCoV)—current scenario, evolutionary perspective based on genome analysis and recent developmentsCoronaviruses are the well-known cause of severe respiratory, enteric and systemic infections in a wide range of hosts including man, mammals, fish, and avian\n",
      " Abstract: The scientific interest on coronaviruses increased after the emergence of Severe Acute Respiratory Syndrome coronavirus (SARS-CoV) outbreaks in 2002-2003 followed by Middle East Respiratory Syndrome CoV (MERS-CoV). This decade’s first CoV, named 2019-nCoV, emerged from Wuhan, China, and declared as ...\n",
      "\n",
      " wesrv44a\n",
      " Title: The global spread of 2019-nCoV: a molecular evolutionary analysisThe global spread of the 2019-nCoV is continuing and is fast moving, as indicated by the WHO raising the risk assessment to high\n",
      " Abstract: In this article, we provide a preliminary phylodynamic and phylogeographic analysis of this new virus. A Maximum Clade Credibility tree has been built using the 29 available whole genome sequences of 2019-nCoV and two whole genome sequences that are highly similar sequences from Bat SARS-like Corona...\n",
      "\n",
      " bg9y2nsp\n",
      " Title: Epidemiology and microbiological investigations of community-acquired pneumonia in children admitted at the emergency department of a university hospitalAbstract Background The management of children with community-acquired pneumonia (CAP) is largely influenced by the development of new molecular diagnostic tests that allow the simultaneous detection of a wide range of pathogens\n",
      " Abstract: Objectives Evaluation of a diagnostic approach including multiplex PCR assays for revisiting the epidemiology and etiology of CAP in children at hospital. Study design Children of all ages consulting at the Emergency Department of the University hospital of Saint-Etienne, France, during the 2012–201...\n",
      "\n",
      " xummm9xu\n",
      " Title: Travel implications of emerging coronaviruses: SARS and MERS-CoVSummary The emergence of Severe Acute Respiratory Syndrome Coronavirus (SARS-CoV) and of the Middle East Syndrome Cornavirus (MERS-CoV) caused widespread fear and concern for their potential threat to global health security\n",
      " Abstract: There are similarities and differences in the epidemiology and clinical features between these two diseases. The origin of SARS-COV and MERS-CoV is thought to be an animal source with subsequent transmission to humans. The identification of both the intermediate host and the exact route of transmiss...\n",
      "\n",
      " qyf59ghf\n",
      " Title: Travellers give wings to novel coronavirus (2019-nCoV)A novel coronavirus, probably of bat origin, has caused an outbreak of severe respiratory infection in humans in Wuhan, China and has been dispersed globally by travelers\n",
      " Abstract: The WHO has declared the spread of the infection a Public Health Emergency of International Concern....\n",
      "\n",
      " pj8p2x9l\n",
      " Title: Genetic diversity of a canine coronavirus detected in pups with diarrhoea in ItalyAbstract The sequence of the S gene of a field canine coronavirus (CCoV), strain Elmo/02, revealed low nucleotide (61%) and amino acid (54%) identity to reference CCoV strains\n",
      " Abstract: The highest correlation (77% nt and 81.7% aa) was found with feline coronavirus type I. A PCR assay for the S gene of strain Elmo/02 detected analogous CCoVs of different geographic origin, all which exhibited at least 92–96% nucleotide identity to each other and to strain Elmo/02. The evident genet...\n",
      "\n",
      " 39jdxj93\n",
      " Title: LightUp® probes in clinical diagnosticsAbstract The LightUp® Probe technology has now matured and reached the phase where it has been implemented in commercial reagent kits, i.e\n",
      " Abstract: the ReSSQ® product line. Several properties of the LightUp® probes make them particularly suitable for clinical settings. For instance, extraordinary shelf life and a chemical stability that allows convenient fridge storage. The origin of the higher stability of LightUp® probe kits compared to other...\n",
      "\n",
      " oigyut2k\n",
      " Title: Emerging novel and antimicrobial-resistant respiratory tract infections: new drug development and therapeutic optionsSummary The emergence and spread of antimicrobial-resistant bacterial, viral, and fungal pathogens for which diminishing treatment options are available is of major global concern\n",
      " Abstract: New viral respiratory tract infections with epidemic potential, such as severe acute respiratory syndrome, swine-origin influenza A H1N1, and Middle East respiratory syndrome coronavirus infection, require development of new antiviral agents. The substantial rise in the global numbers of patients wi...\n",
      "\n",
      " j99cgsjt\n",
      " Title: On the origin and continuing evolution of SARS-CoV-2The SARS-CoV-2 epidemic started in late December 2019 in Wuhan, China, and has since impacted a large portion of China and raised major global concern\n",
      " Abstract: Herein, we investigated the extent of molecular divergence between SARS-CoV-2 and other related coronaviruses. Although we found only 4% variability in genomic nucleotides between SARS-CoV-2 and a bat SARS-related coronavirus (SARSr-CoV; RaTG13), the difference at neutral sites was 17%, suggesting t...\n",
      "\n",
      " 797r1kpy\n",
      " Title: Full genome characterization of two novel Alpha-coronavirus species from Italian batsAbstract Coronaviruses (CoVs) have been detected worldwide in several bat species, which are considered the main reservoir\n",
      " Abstract: The attention to the high diversity of CoVs hosted by bats has increased during the last decade due to the high number of human infections caused by two zoonotic Beta-CoVs, SARS-CoV and MERS-CoV, that cause several respiratory diseases. Among coronaviruses, two Alpha-CoV strains (HuCoV-229E and HuCo...\n",
      "\n",
      " qbu13jgc\n",
      " Title: Enzootic patterns of Middle East respiratory syndrome coronavirus in imported African and local Arabian dromedary camels: a prospective genomic studyBACKGROUND: The Middle East respiratory syndrome coronavirus (MERS-CoV) is a lethal zoonotic pathogen endemic to the Arabian Peninsula\n",
      " Abstract: Dromedary camels are a likely source of infection and the virus probably originated in Africa. We studied the genetic diversity, geographical structure, infection prevalence, and age-associated prevalence among camels at the largest entry port of camels from Africa into the Arabian Peninsula. METHOD...\n",
      "\n",
      " 3463iule\n",
      " Title: Immunogenicity and protective efficacy in dogs of an MF59™-adjuvanted vaccine against recombinant canine/porcine coronavirusAbstract Recently, canine coronavirus (CCoV) strains with putative recombinant origin with porcine transmissible gastroenteritis virus (TGEV) were shown to be widespread in Europe\n",
      " Abstract: In this study, a killed vaccine against TGEV-like CCoV strains, included in the new subtype CCoV-IIb, was developed through inactivation with betapropiolactone and emulsification with MF59™ adjuvant. Safety, immunogenicity and efficacy of the developed vaccine were evaluated in vivo. Five 10-week-ol...\n",
      "\n",
      " 3dq2shp5\n",
      " Title: Middle East respiratory syndrome coronavirus (MERS-CoV) viral shedding in the respiratory tract: an observational analysis with infection control implicationsSummary Background Since the first description of Middle East respiratory syndrome coronavirus (MERS-CoV), it has not been known how long patients shed the virus in respiratory secretions\n",
      " Abstract: Thus, we analyzed the available data on time to negative MERS-CoV test in patients with confirmed MERS-CoV infection and asymptomatic positive contacts. Methods Data from repeated laboratory testing of respiratory samples received at the Saudi Arabian virology reference laboratory in Jeddah, Kingdom...\n",
      "\n",
      " h5sox8bq\n",
      " Title: A strategy to prevent future pandemics similar to the 2019-nCoV outbreakA novel bat-origin coronavirus emerged in Wuhan, China in December 2019 and continues to spread across China and the world\n",
      " Abstract: At the time of writing, a massive global response has been implemented to control the disease as it spreads from person to person. Yet the high-risk human-wildlife interactions and interfaces that led to the emergence of SARS-CoV and of 2019-nCoV continue to exist in emerging disease hotspots global...\n",
      "\n",
      " 703afdam\n",
      " Title: Origin and evolution of LX4 genotype infectious bronchitis coronavirus in ChinaAbstract We investigated the genomic characteristics of 110 LX4 genotype strains of infectious bronchitis viruses (IBVs) isolated between 1995 and 2005 in China\n",
      " Abstract: The genome of these IBVs varies in size from 27596bp to 27790bp. Most IBV strains have the typical genomic organization of other gamacoronaviruses, however, two strains lacked 3a and 5b genes as a result of a nucleotide change within the start codon in the 3a or 5b genes. Analysis of our 110 viruses...\n",
      "\n",
      " xuczplaf\n",
      " Title: The epidemiology and pathogenesis of coronavirus disease (COVID-19) outbreakAbstract Coronavirus disease (COVID-19) is caused by SARS-COV2 and represents the causative agent of a potentially fatal disease that is of great global public health concern\n",
      " Abstract: Based on the large number of infected people that were exposed to the wet animal market in Wuhan City, China, it is suggested that this is likely the zoonotic origin of COVID-19. Person-to-person transmission of COVID-19 infection led to the isolation of patients that were subsequently administered ...\n",
      "\n",
      " 1abp6oom\n",
      " Title: Phylogenetic analysis and sequence comparisons of structural and non-structural SARS coronavirus proteins in TaiwanAbstract Taiwan experienced a large number of severe acute respiratory syndrome (SARS) viral infections between March and July 2003; by September of that year, 346 SARS cases were confirmed by RT-PCR or serological tests\n",
      " Abstract: In order to better understand evolutionary relationships among SARS coronaviruses (SCoVs) from different international regions, we performed phylogenetic comparisons of full-length genomic and protein sequences from 45 human SCoVs (including 12 from Taiwan) and two civet SCoVs. All the Taiwanese SAR...\n",
      "\n",
      " 5pv11lfo\n",
      " Title: Transmission and evolution of the Middle East respiratory syndrome coronavirus in Saudi Arabia: a descriptive genomic studySummary Background Since June, 2012, Middle East respiratory syndrome coronavirus (MERS-CoV) has, worldwide, caused 104 infections in people including 49 deaths, with 82 cases and 41 deaths reported from Saudi Arabia\n",
      " Abstract: In addition to confirming diagnosis, we generated the MERS-CoV genomic sequences obtained directly from patient samples to provide important information on MERS-CoV transmission, evolution, and origin. Methods Full genome deep sequencing was done on nucleic acid extracted directly from PCR-confirmed...\n",
      "\n",
      " j5teavse\n",
      " Title: Chapter Eight Hosts and Sources of Endemic Human CoronavirusesAbstract The four endemic human coronaviruses HCoV-229E, -NL63, -OC43, and -HKU1 contribute a considerable share of upper and lower respiratory tract infections in adults and children\n",
      " Abstract: While their clinical representation resembles that of many other agents of the common cold, their evolutionary histories, and host associations could provide important insights into the natural history of past human pandemics. For two of these viruses, we have strong evidence suggesting an origin in...\n",
      "\n",
      " 1mjaycee\n",
      " Title: COVID-19 infection: Origin, transmission, and characteristics of human coronavirusesThe coronavirus disease 19 (COVID-19) is a highly transmittable and pathogenic viral infection caused by severe acute respiratory syndrome coronavirus 2 (SARS-CoV-2), which emerged in Wuhan, China and spread around the world\n",
      " Abstract: Genomic analysis revealed that SARS-CoV-2 is phylogenetically related to severe acute respiratory syndrome-like (SARS-like) bat viruses, therefore bats could be the possible primary reservoir. The intermediate source of origin and transfer to humans is not known, however, the rapid human to human tr...\n",
      "\n",
      " 7cb88t8n\n",
      " Title: A review of studies on animal reservoirs of the SARS coronavirusAbstract In this review, we summarize the researches on animal reservoirs of the SARS coronavirus (SARS-CoV)\n",
      " Abstract: Masked palm civets were suspected as the origin of the SARS outbreak in 2003 and was confirmed as the direct origin of SARS cases with mild symptom in 2004. Sequence analysis of the SARS-CoV-like virus in masked palm civets indicated that they were highly homologous to human SARS-CoV with nt identit...\n",
      "\n",
      " z9dolxky\n",
      " Title: Initial Cluster of Novel Coronavirus (2019-nCoV) Infections in Wuhan, China Is Consistent with Substantial Human-to-Human TransmissionReanalysis of the epidemic curve from the initial cluster of cases with novel coronavirus (2019-nCoV) in December 2019 indicates substantial human-to-human transmission\n",
      " Abstract: It is possible that the common exposure history at a seafood market in Wuhan originated from the human-to-human transmission events within the market, and the early, strong emphasis that market exposure indicated animal-to-human transmission was potentially the result of observer bias. To support th...\n",
      "\n",
      " m0vpizuh\n",
      " Title: Chapter Seven Interaction of SARS and MERS Coronaviruses with the Antiviral Interferon ResponseAbstract Severe Acute Respiratory Syndrome (SARS) and Middle East Respiratory Syndrome (MERS) are the most severe coronavirus (CoV)-associated diseases in humans\n",
      " Abstract: The causative agents, SARS-CoV and MERS-CoV, are of zoonotic origin but may be transmitted to humans, causing severe and often fatal respiratory disease in their new host. The two coronaviruses are thought to encode an unusually large number of factors that allow them to thrive and replicate in the ...\n",
      "\n",
      " 8oz6bgz4\n",
      " Title: Evolution and Variation of the SARS-CoV GenomeKnowledge of the evolution of pathogens is of great medical and biological significance to the prevention, diagnosis, and therapy of infectious diseases\n",
      " Abstract: In order to understand the origin and evolution of the SARS-CoV (severe acute respiratory syndrome-associated coronavirus), we collected complete genome sequences of all viruses available in GenBank, and made comparative analyses with the SARS-CoV. Genomic signature analysis demonstrates that the co...\n",
      "\n",
      " j0ucgrps\n",
      " Title: This could be the start of something big—20 years since the identification of bats as the natural host of Hendra virusHendra virus was first described in 1994 in Australia, causally associated with a cluster of fatal equine and human cases at a thoroughbred racing stable in the Brisbane suburb of Hendra\n",
      " Abstract: This year marks the twentieth anniversary of the identification of pteropid bats (flying-foxes) as the natural host of the virus, and it is timely to reflect on a pivotal meeting of an eclectic group of scientists in that process. They included animal and public health experts, environmental scienti...\n",
      "\n",
      " nig414jc\n",
      " Title: Genetic evolution and tropism of transmissible gastroenteritis coronavirusesAbstract Transmissible gastroenteritis virus (TGEV) is an enteropathogenic coronavirus isolated for the first time in 1946\n",
      " Abstract: Nonenteropathogenic porcine respiratory coronaviruses (PRCVs) have been derived from TGEV. The genetic relationship among six European PRCVs and five coronaviruses of the TGEV antigenic cluster has been determined based on their RNA sequences. The S protein of six PRCVs have an identical deletion of...\n",
      "\n",
      " d8bucbdl\n",
      " Title: Diagnóstico etiológico de las infecciones respiratorias agudas de origen vírico en un hospital pediátrico de Gran CanariaObjetivo Las infecciones respiratorias agudas (IRA) de origen vírico son una causa frecuente de consulta y hospitalización pediátrica\n",
      " Abstract: El objetivo de este estudio fue conocer la etiología de dichas infecciones en la isla de Gran Canaria. Métodos Durante 3 años (de mayo de 2002 a mayo de 2005) se recogieron 1957 lavados nasofaríngeos de 1.729 niños atendidos en Urgencias con síntomas compatibles con IRA. En todas las muestras se rea...\n",
      "\n",
      " 0nhgxoim\n",
      " Title: Clinical features of patients infected with 2019 novel coronavirus in Wuhan, ChinaSummary Background A recent cluster of pneumonia cases in Wuhan, China, was caused by a novel betacoronavirus, the 2019 novel coronavirus (2019-nCoV)\n",
      " Abstract: We report the epidemiological, clinical, laboratory, and radiological characteristics and treatment and clinical outcomes of these patients. Methods All patients with suspected 2019-nCoV were admitted to a designated hospital in Wuhan. We prospectively collected and analysed data on patients with la...\n",
      "\n",
      " qq48448d\n",
      " Title: Molecular epidemiology, evolution and phylogeny of SARS coronavirusAbstract Shortly after its emergence in southern China in 2002/2003, Severe Acute Respiratory Syndrome coronavirus (SARS-CoV) was confirmed to be the cause of SARS\n",
      " Abstract: Subsequently, SARS-related CoVs (SARSr-CoVs) were found in palm civets from live animal markets in Guangdong and in various horseshoe bat species, which were believed to be the ultimate reservoir of SARSr-CoV. Till November 2018, 339 SARSr-CoV genomes have been sequenced, including 274 from human, 1...\n",
      "\n",
      " xlbkxjcv\n",
      " Title: Cell adhesion as a novel approach to determining the cellular binding motif on the severe acute respiratory syndrome coronavirus spike proteinAbstract Emerging life threatening pathogens such as severe acute aspiratory syndrome-coronavirus (SARS-CoV), avian-origin influenzas H7N9, and the Middle East respiratory syndrome coronavirus (MERS-CoV) have caused a high case-fatality rate and psychological effects on society and the economy\n",
      " Abstract: Therefore, a simple, rapid, and safe method to investigate a therapeutic approach against these pathogens is required. In this study, a simple, quick, and safe cell adhesion inhibition assay was developed to determine the potential cellular binding site on the SARS-CoV spike protein. Various synthet...\n",
      "\n",
      " x05tfkgx\n",
      " Title: Discovery of a novel canine respiratory coronavirus support genetic recombination among betacoronavirus1Abstract Although canine respiratory coronavirus (CRCoV) is an important respiratory pathogen that is prevalent in many countries, only one complete genome sequence of CRCoV (South Korea strain K37) has been obtained to date\n",
      " Abstract: Genome-wide analyses and recombination have rarely been conducted, as small numbers of samples and limited genomic characterization have previously prevented further analyses. Herein, we report a unique CRCoV strain, denoted strain BJ232, derived from a CRCoV-positive dog with a mild respiratory inf...\n",
      "\n",
      " nom96581\n",
      " Title: Contributions of the S2 spike ectodomain to attachment and host range of infectious bronchitis virusAbstract The spike protein is the major viral attachment protein of the avian coronavirus infectious bronchitis virus (IBV) and ultimately determines viral tropism\n",
      " Abstract: The S1 subunit of the spike is assumed to be required for virus attachment. However, we have previously shown that this domain of the embryo- and cell culture adapted Beaudette strain, in contrast to that of the virulent M41 strain, is not sufficient for binding to chicken trachea (Wickramasinghe et...\n",
      "\n",
      " oufi7w1d\n",
      " Title: Wet markets—a continuing source of severe acute respiratory syndrome and influenza?Summary Context Live-animal markets (wet markets) provide a source of vertebrate and invertebrate animals for customers in tropical and subtropical regions of the world\n",
      " Abstract: Wet markets sell live poultry, fish, reptiles, and mammals of every kind. Live-poultry markets (mostly chicken, pigeon, quail, ducks, geese, and a wide range of exotic wild-caught and farm-raised fowl) are usually separated from markets selling fish or red-meat animals, but the stalls can be near ea...\n",
      "\n",
      " uy3s6443\n",
      " Title: A large outbreak of acute encephalitis with high fatality rate in children in Andhra Pradesh, India, in 2003, associated with Chandipura virusSummary Background An outbreak of acute encephalitis of unknown origin with high case fatality (183 of 329 cases) was reported in children from Andhra Pradesh state in southern India during 2003\n",
      " Abstract: We investigated the causative agent. Methods Cell lines and peripheral blood lymphocyte co-cultures were used to isolate the causative agent from clinical samples. Identity of the agent was established by electron microscopy and serological and molecular assays. Findings Clinical samples tested nega...\n",
      "\n",
      " 15mv5yx7\n",
      " Title: Characterization of coronavirus JHM variants isolated from wistar furth rats with a viral-induced demyelinating diseaseAbstract Murine hepatitis virus (MHV) can cause neurological disease when inoculated intracerebrally (ic) into mice and rats\n",
      " Abstract: Specifically the JHM strain of MHV (MHV-JHM) generally causes an acute encephalitis when inoculated is into 2-day-old Wistar Furth rats. In contrast, JHM generally produces a chronic demyelinating disease with resulting posterior paralysis when inoculated is into 10-day-old Wistar Furth rats. In add...\n",
      "\n",
      " sdtxi8xw\n",
      " Title: Geographical structure of bat SARS-related coronavirusesAbstract Bats are the natural reservoirs of severe acute respiratory syndrome coronavirus (SARS-CoV) which caused the outbreak of human SARS in 2002–2003\n",
      " Abstract: We introduce the genetic diversity of SARS-related coronaviruses (SARSr-CoVs) discovered in bats and provide insights on the bat origin of human SARS. We also analyze the viral geographical structure that may improve our understanding of the evolution of bat SARSr-CoVs....\n",
      "\n",
      " i0hj01xv\n",
      " Title: Description and initial characterization of metatranscriptomic nidovirus-like genomes from the proposed new family Abyssoviridae, and from a sister group to the Coronavirinae, the proposed genus AlphaletovirusAbstract Transcriptomics has the potential to discover new RNA virus genomes by sequencing total intracellular RNA pools\n",
      " Abstract: In this study, we have searched publicly available transcriptomes for sequences similar to viruses of the Nidovirales order. We report two potential nidovirus genomes, a highly divergent 35.9 kb likely complete genome from the California sea hare Aplysia californica, which we assign to a nidovirus n...\n",
      "\n",
      " mn0l7nar\n",
      " Title: Genomic characterization of the 2019 novel human-pathogenic coronavirus isolated from a patient with atypical pneumonia after visiting WuhanA mysterious outbreak of atypical pneumonia in late 2019 was traced to a seafood wholesale market in Wuhan of China\n",
      " Abstract: Within a few weeks, a novel coronavirus tentatively named as 2019 novel coronavirus (2019-nCoV) was announced by the World Health Organization. We performed bioinformatics analysis on a virus genome from a patient with 2019-nCoV infection and compared it with other related coronavirus genomes. Overa...\n",
      "\n",
      " jwopq9jl\n",
      " Title: Bat Origins of MERS-CoV Supported by Bat Coronavirus HKU4 Usage of Human Receptor CD26Summary The recently reported Middle East respiratory syndrome coronavirus (MERS-CoV) is phylogenetically closely related to the bat coronaviruses (BatCoVs) HKU4 and HKU5\n",
      " Abstract: However, the evolutionary pathway of MERS-CoV is still unclear. A receptor binding domain (RBD) in the MERS-CoV envelope-embedded spike protein specifically engages human CD26 (hCD26) to initiate viral entry. The high sequence identity in the viral spike protein prompted us to investigate if HKU4 an...\n",
      "\n",
      " xkcr35ud\n",
      " Title: Mass gathering and globalization of respiratory pathogens during the 2013 HajjAbstract Every year, more than 10 million pilgrims arrive in the Kingdom of Saudi Arabia for the Hajj or Umrah\n",
      " Abstract: Crowding conditions lead to high rates of respiratory infections among the pilgrims, representing a significant cause of morbidity and a major cause of hospitalization. Pre- and post-Hajj nasal specimens were prospectively obtained from a paired cohort (692 pilgrims) and from nonpaired cohorts (514 ...\n",
      "\n",
      " ne5r4d4b\n",
      " Title: Origin and evolution of pathogenic coronavirusesSevere acute respiratory syndrome coronavirus (SARS-CoV) and Middle East respiratory syndrome coronavirus (MERS-CoV) are two highly transmissible and pathogenic viruses that emerged in humans at the beginning of the 21st century\n",
      " Abstract: Both viruses likely originated in bats, and genetically diverse coronaviruses that are related to SARS-CoV and MERS-CoV were discovered in bats worldwide. In this Review, we summarize the current knowledge on the origin and evolution of these two pathogenic coronaviruses and discuss their receptor u...\n",
      "\n",
      " t7gpi2vo\n",
      " Title: Unveiling the Origin and Transmission of 2019-nCoVA novel coronavirus has caused thousands of human infections in China since December 2019, raising a global public health concern\n",
      " Abstract: Recent studies (Huang et al ., Chan et al ., and Zhou et al .) have provided timely insights into its origin and ability to spread among humans, informing infection prevention and control practices....\n",
      "\n",
      " msohf5oa\n",
      " Title: The origin, transmission and clinical therapies on coronavirus disease 2019 (COVID-19) outbreak – an update on the statusAn acute respiratory disease, caused by a novel coronavirus (SARS-CoV-2, previously known as 2019-nCoV), the coronavirus disease 2019 (COVID-19) has spread throughout China and received worldwide attention\n",
      " Abstract: On 30 January 2020, World Health Organization (WHO) officially declared the COVID-19 epidemic as a public health emergency of international concern. The emergence of SARS-CoV-2, since the severe acute respiratory syndrome coronavirus (SARS-CoV) in 2002 and Middle East respiratory syndrome coronaviru...\n",
      "\n",
      " vxo591sj\n",
      " Title: Impact of severe acute respiratory syndrome on liver transplantation serviceAbstract Severe acute respiratory syndrome (SARS) struck 1755 patients in Hong Kong and developed into a global health crisis\n",
      " Abstract: Although the World Health Organization and national health authorities are sparing no effort to contain the disease and to find a cure for the potentially deadly infection, SARS has an impact on our liver transplantation (LTx) program. Before the SARS outbreak, an average of 1 LTx was performed per ...\n",
      "\n",
      " qdwl8llw\n",
      " Title: SARS-CoV replication and pathogenesis in an in vitro model of the human conducting airway epitheliumAbstract SARS coronavirus (SARS-CoV) emerged in 2002 as an important cause of severe lower respiratory tract infection in humans and in vitro models of the lung are needed to elucidate cellular targets and the consequences of viral infection\n",
      " Abstract: The severe and sudden onset of symptoms, resulting in an atypical pneumonia with dry cough and persistent high fever in cases of severe acute respiratory virus brought to light the importance of coronaviruses as potentially lethal human pathogens and the identification of several zoonotic reservoirs...\n",
      "\n",
      " m6akijzn\n",
      " Title: Genomic characterisation and epidemiology of 2019 novel coronavirus: implications for virus origins and receptor bindingSummary Background In late December, 2019, patients presenting with viral pneumonia due to an unidentified microbial agent were reported in Wuhan, China\n",
      " Abstract: A novel coronavirus was subsequently identified as the causative pathogen, provisionally named 2019 novel coronavirus (2019-nCoV). As of Jan 26, 2020, more than 2000 cases of 2019-nCoV infection have been confirmed, most of which involved people living in or visiting Wuhan, and human-to-human transm...\n",
      "\n",
      " i936ad8e\n",
      " Title: Epidemiology and cause of severe acute respiratory syndrome (SARS) in Guangdong, People's Republic of China, in February, 2003Summary Background An epidemic of severe acute respiratory syndrome (SARS) has been associated with an outbreak of atypical pneumonia originating in Guangdong Province, People's Republic of China\n",
      " Abstract: We aimed to identify the causative agent in the Guangdong outbreak and describe the emergence and spread of the disease within the province. Methods We analysed epidemiological information and collected serum and nasopharyngeal aspirates from patients with SARS in Guangdong in mid-February, 2003. We...\n",
      "\n",
      " hncf2qe8\n",
      " Title: Fatal swine acute diarrhoea syndrome caused by an HKU2-related coronavirus of bat originCross-species transmission of viruses from wildlife animal reservoirs poses a marked threat to human and animal health(1)\n",
      " Abstract: Bats have been recognized as one of the most important reservoirs for emerging viruses and the transmission of a coronavirus that originated in bats to humans via intermediate hosts was responsible for the high-impact emerging zoonosis, severe acute respiratory syndrome (SARS)(2–10). Here we provide...\n",
      "\n",
      " 8douef07\n",
      " Title: Certain enteropathogens in calves of Finnish dairy herds with recurrent outbreaks of diarrheaAbstract The occurrence and distribution of certain enteropathogenic organisms and the manifestation of diarrhea, especially in relation to colostral management, were studied in neonatal calves of eight southern Finnish dairy herds with recurrent outbreaks of enteric disturbances\n",
      " Abstract: The fecal samples were obtained from the calves and were provided by the farmers. Potentially pathogenic agents were demonstrated in 52 of the 68 calves studied. Cryptosporidium was found in 36 of them while rotavirus was found in 29 and Escherichia coli in 15 of them, either singly or in combinatio...\n",
      "\n",
      " zbmsaj8s\n",
      " Title: Isolation, tissue distribution and molecular characterization of two recombinant canine coronavirus strainsAbstract Canine coronavirus (CCoV) is an enveloped RNA virus, responsible for gastrointestinal infection in dogs\n",
      " Abstract: To date, two different CCoV genotypes have been recognized, CCoV type I and CCoV type II. Recently, CCoV type II strains of potential recombinant origin with transmissible gastroenteritis virus (TGEV) were detected and characterized as a new subtype (CCoV-IIb) of canine coronavirus, in order to be d...\n",
      "\n",
      " 6foz003n\n",
      " Title: Diversity of Coronaviruses in Bats: Insights Into Origin of SARS Coronavirus\n",
      " Abstract: Diversity of Coronaviruses in Bats: Insights Into Origin of SARS Coronavirus...\n",
      "\n",
      " 6mef38eo\n",
      " Title: Molecular Diagnosis of a Novel Coronavirus (2019-nCoV) Causing an Outbreak of PneumoniaBACKGROUND: A novel coronavirus of zoonotic origin (2019-nCoV) has recently been identified in patients with acute respiratory disease\n",
      " Abstract: This virus is genetically similar to SARS coronavirus and bat SARS-like coronaviruses. The outbreak was initially detected in Wuhan, a major city of China, but has subsequently been detected in other provinces of China. Travel-associated cases have also been reported in a few other countries. Outbre...\n",
      "\n",
      " kw7mon2o\n",
      " Title: Newly emerged porcine enteric alphacoronavirus in southern China: Identification, origin and evolutionary history analysisAbstract Coronaviruses have a wide host range and can cause a variety of diseases with varying severity in different animals\n",
      " Abstract: Several enteric coronaviruses have been identified that are associated with diarrhea in swine and that have caused substantial economic losses. In this study, a newly emerged porcine enteric alphacoronavirus (PEAV), PEAV-GD-CH/2017, was identified from suckling piglets with diarrhea in southern Chin...\n",
      "\n",
      " 0q6czeu0\n",
      " Title: Biopolymeric nano/microspheres for selective and reversible adsorption of coronavirusesAbstract A novel biopolymeric material in the form of nano/microspheres was developed which was capable of adsorbing coronaviruses\n",
      " Abstract: The biopolymer was obtained by crosslinking of chitosan (CHIT) with genipin, a nontoxic compound of plant origin, in inverted emulsion and reacting the chitosan nano/microspheres obtained (CHIT-NS/MS) with glycidyltrimethyl-ammonium chloride (GTMAC). As a result the nano/microspheres of N-(2-hydroxy...\n",
      "\n",
      " mhm7r3qc\n",
      " Title: 2019 novel coronavirus is undergoing active recombinationThe 2019 novel coronavirus (2019-nCoV) outbreak in Wuhan since December 2019 [1] has quickly spread to twenty-five countries [2], caused more than 44,000 cases and 1,000 deaths so far [3]\n",
      " Abstract: The fast sharing of 2019-nCoV genomes in GISAID (https://www.gisaid.org) provides a valuable dataset for 2019-nCoV haplotype network analysis, which is crucial for transmission and evolutionary track surveillance and secondary outbreak prevention. We called single-nucleotide variations (SNVs) for al...\n",
      "\n",
      " 81vu2kbu\n",
      " Title: Interactions micro-organismes et voies aériennes distales : spécificités pédiatriquesRésumé Le spectre des virus à tropisme respiratoire s’élargit et des maladies émergentes sont régulièrement décrites depuis une quinzaine d’années\n",
      " Abstract: L’origine de ces virus respiratoires émergents peut être zoonotique (par franchissement de barrière d’espèce, après mutations pour les virus à ARN tels que les virus aviaires influenza de type A ou les coronavirus), ou liée aux nouvelles techniques d’identification (métapneumovirus, bocavirus). Les ...\n",
      "\n",
      " ls7rpzf2\n",
      " Title: RNA-binding proteins of coronavirus MHV: Detection of monomeric and multimeric N protein with an RNA overlay-protein blot assayAbstract RNA-binding proteins of coronavirus MHV-A59 were identified using an RNA overlay-protein blot assay (ROPBA)\n",
      " Abstract: The major viral RNA-binding protein in virions and infected cells was the phosphorylated nucleocapsid protein N (50K). A new 140K virus structural protein was identified as a minor RNA-binding protein both in virions and in infected cells. The 140K protein was antigenically related to N, and upon re...\n",
      "\n",
      " 4hqhty5o\n",
      " Title: Determination and application of immunodominant regions of SARS coronavirus spike and nucleocapsid proteins recognized by sera from different animal speciesAbstract Knowledge of immunodominant regions in major viral antigens is important for rational design of effective vaccines and diagnostic tests\n",
      " Abstract: Although there have been many reports of such work done for SARS–CoV, these were mainly focused on the immune responses of humans and mice. In this study, we aim to search for and compare immunodominant regions of the spike (S) and nucleocapsid (N) proteins which are recognized by sera from differen...\n",
      "\n",
      " tnctqc1a\n",
      " Title: Recomendaciones sobre el manejo clínico de la infección por el «nuevo coronavirus» SARS-CoV2\n",
      " Abstract: Grupo de trabajo de la Asociación Española de Pediatría (AEP)Resumen El 31 de diciembre de 2019, la Comisión Municipal de Salud y Sanidad de Wuhan (provincia de Hubei, China) informó sobre la existencia de 27 casos de neumonía de etiología desconocida con inicio de síntomas el 8 de diciembre, incluy...\n",
      "\n",
      " sxbmd0df\n",
      " Title: Ecology, evolution and classification of bat coronaviruses in the aftermath of SARSAbstract In 2002/2003, a novel coronavirus (CoV) caused a pandemic, infecting more than 8000 people, of whom nearly 10% died\n",
      " Abstract: This virus, termed severe acute respiratory syndrome-CoV was linked to a zoonotic origin from rhinolophid bats in 2005. Since then, numerous studies have described novel bat CoVs, including close relatives of the newly emerging Middle East respiratory syndrome (MERS)-CoV. In this paper we discuss Co...\n",
      "\n",
      " cc5cg2pm\n",
      " Title: Origin and characteristics of the recombinant novel avian infectious bronchitis coronavirus isolate ck/CH/LJL/111054Abstract Recombination among infectious bronchitis viruses (IBVs), coupled with point mutations, insertions, and deletions that occur in the genome, is thought to contribute to the emergence of new IBV variants\n",
      " Abstract: In this study an IBV, ck/CH/LJL/111054, was isolated from a H120-vaccinated chicken, which presented with a suspected IBV infection. Phylogenetic analysis of the S1 subunit sequence confirmed that strain ck/CH/LJL/111054 is of the Connecticut-type; however, further extensive full-length genomic anal...\n",
      "\n",
      " u1e99bov\n",
      " Title: Identification and application of self-binding zipper-like sequences in SARS-CoV spike proteinAbstract Self-binding peptides containing zipper-like sequences, such as the Leu/Ile zipper sequence within the coiled coil regions of proteins and the cross-β spine steric zippers within the amyloid-like fibrils, could bind to the protein-of-origin through homophilic sequence-specific zipper motifs\n",
      " Abstract: These self-binding sequences represent opportunities for the development of biochemical tools and/or therapeutics. Here, we report on the identification of a putative self-binding β-zipper-forming peptide within the severe acute respiratory syndrome-associated coronavirus spike (S) protein and its a...\n"
     ]
    }
   ],
   "source": [
    "query = \"origin of coronavirus\"\n",
    "results_df = boolean_search_documents(query, inverted_index, documents_df)\n",
    "\n",
    "for row in results_df:\n",
    "    print(f\"\\n {row['doc_id']}\")\n",
    "    print(f\" Title: {row['title']}\")\n",
    "    print(f\" Abstract: {row['abstract'][:300]}...\")\n"
   ]
  },
  {
   "cell_type": "markdown",
   "metadata": {},
   "source": [
    "#### Pour un affichage plus joli"
   ]
  },
  {
   "cell_type": "code",
   "execution_count": 21,
   "metadata": {},
   "outputs": [],
   "source": [
    "from IPython.display import display, HTML\n",
    "import pandas as pd\n",
    "import re\n"
   ]
  },
  {
   "cell_type": "code",
   "execution_count": 22,
   "metadata": {},
   "outputs": [],
   "source": [
    "import pandas as pd\n",
    "import re\n",
    "from IPython.display import display, HTML\n",
    "\n",
    "def highlight_keywords(text, keywords):\n",
    "    \"\"\"\n",
    "    Surligne les mots-clés présents dans un texte.\n",
    "    \"\"\"\n",
    "    if not text:\n",
    "        return \"\"\n",
    "    for kw in keywords:\n",
    "        pattern = re.compile(rf'\\b({re.escape(kw)})\\b', re.IGNORECASE)\n",
    "        text = pattern.sub(r'<mark style=\"background-color: #ffd54f;\">\\1</mark>', text)\n",
    "    return text\n",
    "\n",
    "def display_search_results(results_list, query, max_rows=10, show_scores=True):\n",
    "    if not results_list:\n",
    "        display(HTML(\"<p style='color:red;'>Aucun résultat trouvé.</p>\"))\n",
    "        return\n",
    "\n",
    "    df = pd.DataFrame(results_list[:max_rows])\n",
    "    query_tokens = [t.lower() for t in re.findall(r'\\w+', query)]\n",
    "\n",
    "    df[\"title\"] = df[\"title\"].apply(lambda x: highlight_keywords(x, query_tokens))\n",
    "    df[\"abstract\"] = df[\"abstract\"].apply(lambda x: highlight_keywords(x, query_tokens))\n",
    "\n",
    "    columns = [\"doc_id\", \"title\", \"abstract\"]\n",
    "    if show_scores and \"score\" in df.columns:\n",
    "        columns.insert(1, \"score\")\n",
    "\n",
    "    styled_table = df[columns].style.set_table_attributes(\"style='width:100%; border-collapse:collapse'\")\n",
    "    styled_table = styled_table.set_properties(**{\n",
    "        'border': '1px solid #ccc',\n",
    "        'padding': '8px',\n",
    "        'text-align': 'left'\n",
    "    })\n",
    "    styled_table = styled_table.set_table_styles([\n",
    "        {'selector': 'th', 'props': [('background-color', '#208A9D'), ('color', 'white'), ('font-weight', 'bold')]}\n",
    "    ])\n",
    "\n",
    "    display(styled_table)\n"
   ]
  },
  {
   "cell_type": "code",
   "execution_count": 23,
   "metadata": {},
   "outputs": [
    {
     "data": {
      "text/html": [
       "<style type=\"text/css\">\n",
       "#T_1133f th {\n",
       "  background-color: #208A9D;\n",
       "  color: white;\n",
       "  font-weight: bold;\n",
       "}\n",
       "#T_1133f_row0_col0, #T_1133f_row0_col1, #T_1133f_row0_col2, #T_1133f_row1_col0, #T_1133f_row1_col1, #T_1133f_row1_col2, #T_1133f_row2_col0, #T_1133f_row2_col1, #T_1133f_row2_col2, #T_1133f_row3_col0, #T_1133f_row3_col1, #T_1133f_row3_col2, #T_1133f_row4_col0, #T_1133f_row4_col1, #T_1133f_row4_col2, #T_1133f_row5_col0, #T_1133f_row5_col1, #T_1133f_row5_col2, #T_1133f_row6_col0, #T_1133f_row6_col1, #T_1133f_row6_col2, #T_1133f_row7_col0, #T_1133f_row7_col1, #T_1133f_row7_col2, #T_1133f_row8_col0, #T_1133f_row8_col1, #T_1133f_row8_col2, #T_1133f_row9_col0, #T_1133f_row9_col1, #T_1133f_row9_col2 {\n",
       "  border: 1px solid #ccc;\n",
       "  padding: 8px;\n",
       "  text-align: left;\n",
       "}\n",
       "</style>\n",
       "<table id=\"T_1133f\" style='width:100%; border-collapse:collapse'>\n",
       "  <thead>\n",
       "    <tr>\n",
       "      <th class=\"blank level0\" >&nbsp;</th>\n",
       "      <th id=\"T_1133f_level0_col0\" class=\"col_heading level0 col0\" >doc_id</th>\n",
       "      <th id=\"T_1133f_level0_col1\" class=\"col_heading level0 col1\" >title</th>\n",
       "      <th id=\"T_1133f_level0_col2\" class=\"col_heading level0 col2\" >abstract</th>\n",
       "    </tr>\n",
       "  </thead>\n",
       "  <tbody>\n",
       "    <tr>\n",
       "      <th id=\"T_1133f_level0_row0\" class=\"row_heading level0 row0\" >0</th>\n",
       "      <td id=\"T_1133f_row0_col0\" class=\"data row0 col0\" >1wswi7us</td>\n",
       "      <td id=\"T_1133f_row0_col1\" class=\"data row0 col1\" >Relationship <mark style=\"background-color: #ffd54f;\">of</mark> SARS-CoV to other pathogenic RNA viruses explored by tetranucleotide usage profilingBACKGROUND: The exact <mark style=\"background-color: #ffd54f;\">origin</mark> <mark style=\"background-color: #ffd54f;\">of</mark> the cause <mark style=\"background-color: #ffd54f;\">of</mark> the Severe Acute Respiratory Syndrome (SARS) is still an open question</td>\n",
       "      <td id=\"T_1133f_row0_col2\" class=\"data row0 col2\" >The genomic sequence relationship <mark style=\"background-color: #ffd54f;\">of</mark> SARS-CoV with 30 different single-stranded RNA (ssRNA) viruses <mark style=\"background-color: #ffd54f;\">of</mark> various families was studied using two non-standard approaches. Both approaches began with the vectorial profiling <mark style=\"background-color: #ffd54f;\">of</mark> the tetra-nucleotide usage pattern V for each virus. In approach one, a distance measure <mark style=\"background-color: #ffd54f;\">of</mark> a vector V, based on correlation coefficient was devised to construct a relationship tree by the neighbor-joining algorithm. In approach two, a multivariate factor analysis was performed to derive the embedded tetra-nucleotide usage patterns. These patterns were subsequently used to classify the selected viruses. RESULTS: Both approaches yielded relationship outcomes that are consistent with the known virus classification. They also indicated that the genome <mark style=\"background-color: #ffd54f;\">of</mark> RNA viruses from the same family conform to a specific pattern <mark style=\"background-color: #ffd54f;\">of</mark> word usage. Based on the correlation <mark style=\"background-color: #ffd54f;\">of</mark> the overall tetra-nucleotide usage patterns, the Transmissible Gastroenteritis Virus (TGV) and the Feline <mark style=\"background-color: #ffd54f;\">CoronaVirus</mark> (FCoV) are closest to SARS-CoV. Surprisingly also, the RNA viruses that do not go through a DNA stage displayed a remarkable discrimination against the CpG and UpA di-nucleotide (z = -77.31, -52.48 respectively) and selection for UpG and CpA (z = 65.79,49.99 respectively). Potential factors influencing these biases are discussed. CONCLUSION: The study <mark style=\"background-color: #ffd54f;\">of</mark> genomic word usage is a powerful method to classify RNA viruses. The congruence <mark style=\"background-color: #ffd54f;\">of</mark> the relationship outcomes with the known classification indicates that there exist phylogenetic signals in the tetra-nucleotide usage patterns, that is most prominent in the replicase open reading frames.</td>\n",
       "    </tr>\n",
       "    <tr>\n",
       "      <th id=\"T_1133f_level0_row1\" class=\"row_heading level0 row1\" >1</th>\n",
       "      <td id=\"T_1133f_row1_col0\" class=\"data row1 col0\" >8zwsi4nk</td>\n",
       "      <td id=\"T_1133f_row1_col1\" class=\"data row1 col1\" >Date <mark style=\"background-color: #ffd54f;\">of</mark> <mark style=\"background-color: #ffd54f;\">origin</mark> <mark style=\"background-color: #ffd54f;\">of</mark> the SARS <mark style=\"background-color: #ffd54f;\">coronavirus</mark> strainsBACKGROUND: A new respiratory infectious epidemic, severe acute respiratory syndrome (SARS), broke out and spread throughout the world</td>\n",
       "      <td id=\"T_1133f_row1_col2\" class=\"data row1 col2\" >By now the putative pathogen <mark style=\"background-color: #ffd54f;\">of</mark> SARS has been identified as a new <mark style=\"background-color: #ffd54f;\">coronavirus</mark>, a single positive-strand RNA virus. RNA viruses commonly have a high rate <mark style=\"background-color: #ffd54f;\">of</mark> genetic mutation. It is therefore important to know the mutation rate <mark style=\"background-color: #ffd54f;\">of</mark> the SARS <mark style=\"background-color: #ffd54f;\">coronavirus</mark> as it spreads through the population. Moreover, finding a date for the last common ancestor <mark style=\"background-color: #ffd54f;\">of</mark> SARS <mark style=\"background-color: #ffd54f;\">coronavirus</mark> strains would be useful for understanding the circumstances surrounding the emergence <mark style=\"background-color: #ffd54f;\">of</mark> the SARS pandemic and the rate at which SARS <mark style=\"background-color: #ffd54f;\">coronavirus</mark> diverge. METHODS: We propose a mathematical model to estimate the evolution rate <mark style=\"background-color: #ffd54f;\">of</mark> the SARS <mark style=\"background-color: #ffd54f;\">coronavirus</mark> genome and the time <mark style=\"background-color: #ffd54f;\">of</mark> the last common ancestor <mark style=\"background-color: #ffd54f;\">of</mark> the sequenced SARS strains. Under some common assumptions and justifiable simplifications, a few simple equations incorporating the evolution rate (K) and time <mark style=\"background-color: #ffd54f;\">of</mark> the last common ancestor <mark style=\"background-color: #ffd54f;\">of</mark> the strains (T(0)) can be deduced. We then implemented the least square method to estimate K and T(0 )from the dataset <mark style=\"background-color: #ffd54f;\">of</mark> sequences and corresponding times. Monte Carlo stimulation was employed to discuss the results. RESULTS: Based on 6 strains with accurate dates <mark style=\"background-color: #ffd54f;\">of</mark> host death, we estimated the time <mark style=\"background-color: #ffd54f;\">of</mark> the last common ancestor to be about August or September 2002, and the evolution rate to be about 0.16 base/day, that is, the SARS <mark style=\"background-color: #ffd54f;\">coronavirus</mark> would on average change a base every seven days. We validated our method by dividing the strains into two groups, which coincided with the results from comparative genomics. CONCLUSION: The applied method is simple to implement and avoid the difficulty and subjectivity <mark style=\"background-color: #ffd54f;\">of</mark> choosing the root <mark style=\"background-color: #ffd54f;\">of</mark> phylogenetic tree. Based on 6 strains with accurate date <mark style=\"background-color: #ffd54f;\">of</mark> host death, we estimated a time <mark style=\"background-color: #ffd54f;\">of</mark> the last common ancestor, which is coincident with epidemic investigations, and an evolution rate in the same range as that reported for the HIV-1 virus.</td>\n",
       "    </tr>\n",
       "    <tr>\n",
       "      <th id=\"T_1133f_level0_row2\" class=\"row_heading level0 row2\" >2</th>\n",
       "      <td id=\"T_1133f_row2_col0\" class=\"data row2 col0\" >0gmtnkbh</td>\n",
       "      <td id=\"T_1133f_row2_col1\" class=\"data row2 col1\" >Mutational dynamics <mark style=\"background-color: #ffd54f;\">of</mark> the SARS <mark style=\"background-color: #ffd54f;\">coronavirus</mark> in cell culture and human populations isolated in 2003BACKGROUND: The SARS <mark style=\"background-color: #ffd54f;\">coronavirus</mark> is the etiologic agent for the epidemic <mark style=\"background-color: #ffd54f;\">of</mark> the Severe Acute Respiratory Syndrome</td>\n",
       "      <td id=\"T_1133f_row2_col2\" class=\"data row2 col2\" >The recent emergence <mark style=\"background-color: #ffd54f;\">of</mark> this new pathogen, the careful tracing <mark style=\"background-color: #ffd54f;\">of</mark> its transmission patterns, and the ability to propagate in culture allows the exploration <mark style=\"background-color: #ffd54f;\">of</mark> the mutational dynamics <mark style=\"background-color: #ffd54f;\">of</mark> the SARS-CoV in human populations. METHODS: We sequenced complete SARS-CoV genomes taken from primary human tissues (SIN3408, SIN3725V, SIN3765V), cultured isolates (SIN848, SIN846, SIN842, SIN845, SIN847, SIN849, SIN850, SIN852, SIN3408L), and five consecutive Vero cell passages (SIN2774_P1, SIN2774_P2, SIN2774_P3, SIN2774_P4, SIN2774_P5) arising from SIN2774 isolate. These represented individual patient samples, serial in vitro passages in cell culture, and paired human and cell culture isolates. Employing a refined mutation filtering scheme and constant mutation rate model, the mutation rates were estimated and the possible date <mark style=\"background-color: #ffd54f;\">of</mark> emergence was calculated. Phylogenetic analysis was used to uncover molecular relationships between the isolates. RESULTS: Close examination <mark style=\"background-color: #ffd54f;\">of</mark> whole genome sequence <mark style=\"background-color: #ffd54f;\">of</mark> 54 SARS-CoV isolates identified before 14(th )October 2003, including 22 from patients in Singapore, revealed the mutations engendered during human-to-Vero and Vero-to-human transmission as well as in multiple Vero cell passages in order to refine our analysis <mark style=\"background-color: #ffd54f;\">of</mark> human-to-human transmission. Though co-infection by different quasipecies in individual tissue samples is observed, the in vitro mutation rate <mark style=\"background-color: #ffd54f;\">of</mark> the SARS-CoV in Vero cell passage is negligible. The in vivo mutation rate, however, is consistent with estimates <mark style=\"background-color: #ffd54f;\">of</mark> other RNA viruses at approximately 5.7 × 10(-6 )nucleotide substitutions per site per day (0.17 mutations per genome per day), or two mutations per human passage (adjusted R-square = 0.4014). Using the immediate Hotel M contact isolates as roots, we observed that the SARS epidemic has generated four major genetic groups that are geographically associated: two Singapore isolates, one Taiwan isolate, and one North China isolate which appears most closely related to the putative SARS-CoV isolated from a palm civet. Non-synonymous mutations are centered in non-essential ORFs especially in structural and antigenic genes such as the S and M proteins, but these mutations did not distinguish the geographical groupings. However, no non-synonymous mutations were found in the 3CLpro and the polymerase genes. CONCLUSIONS: Our results show that the SARS-CoV is well adapted to growth in culture and did not appear to undergo specific selection in human populations. We further assessed that the putative <mark style=\"background-color: #ffd54f;\">origin</mark> <mark style=\"background-color: #ffd54f;\">of</mark> the SARS epidemic was in late October 2002 which is consistent with a recent estimate using cases from China. The greater sequence divergence in the structural and antigenic proteins and consistent deletions in the 3' – most portion <mark style=\"background-color: #ffd54f;\">of</mark> the viral genome suggest that certain selection pressures are interacting with the functional nature <mark style=\"background-color: #ffd54f;\">of</mark> these validated and putative ORFs.</td>\n",
       "    </tr>\n",
       "    <tr>\n",
       "      <th id=\"T_1133f_level0_row3\" class=\"row_heading level0 row3\" >3</th>\n",
       "      <td id=\"T_1133f_row3_col0\" class=\"data row3 col0\" >7ecliy9q</td>\n",
       "      <td id=\"T_1133f_row3_col1\" class=\"data row3 col1\" >Inhibition <mark style=\"background-color: #ffd54f;\">of</mark> cytokine gene expression and induction <mark style=\"background-color: #ffd54f;\">of</mark> chemokine genes in non-lymphatic cells infected with SARS coronavirusBACKGROUND: SARS <mark style=\"background-color: #ffd54f;\">coronavirus</mark> (SARS-CoV) is the etiologic agent <mark style=\"background-color: #ffd54f;\">of</mark> the severe acute respiratory syndrome</td>\n",
       "      <td id=\"T_1133f_row3_col2\" class=\"data row3 col2\" >SARS-CoV mainly infects tissues <mark style=\"background-color: #ffd54f;\">of</mark> non-lymphatic <mark style=\"background-color: #ffd54f;\">origin</mark>, and the cytokine profile <mark style=\"background-color: #ffd54f;\">of</mark> those cells can determine the course <mark style=\"background-color: #ffd54f;\">of</mark> disease. Here, we investigated the cytokine response <mark style=\"background-color: #ffd54f;\">of</mark> two human non-lymphatic cell lines, Caco-2 and HEK 293, which are fully permissive for SARS-CoV. RESULTS: A comparison with established cytokine-inducing viruses revealed that SARS-CoV only weakly triggered a cytokine response. In particular, SARS-CoV did not activate significant transcription <mark style=\"background-color: #ffd54f;\">of</mark> the interferons IFN-α, IFN-β, IFN-λ1, IFN-λ2/3, as well as <mark style=\"background-color: #ffd54f;\">of</mark> the interferon-induced antiviral genes ISG56 and MxA, the chemokine RANTES and the interleukine IL-6. Interestingly, however, SARS-CoV strongly induced the chemokines IP-10 and IL-8 in the colon carcinoma cell line Caco-2, but not in the embryonic kidney cell line 293. CONCLUSION: Our data indicate that SARS-CoV suppresses the antiviral cytokine system <mark style=\"background-color: #ffd54f;\">of</mark> non-immune cells to a large extent, thus buying time for dissemination in the host. However, synthesis <mark style=\"background-color: #ffd54f;\">of</mark> IP-10 and IL-8, which are established markers for acute-stage SARS, escapes the virus-induced silencing at least in some cell types. Therefore, the progressive infiltration <mark style=\"background-color: #ffd54f;\">of</mark> immune cells into the infected lungs observed in SARS patients could be due to the production <mark style=\"background-color: #ffd54f;\">of</mark> these chemokines by the infected tissue cells.</td>\n",
       "    </tr>\n",
       "    <tr>\n",
       "      <th id=\"T_1133f_level0_row4\" class=\"row_heading level0 row4\" >4</th>\n",
       "      <td id=\"T_1133f_row4_col0\" class=\"data row4 col0\" >xad3k5aw</td>\n",
       "      <td id=\"T_1133f_row4_col1\" class=\"data row4 col1\" >Recombinant Canine Coronaviruses in Dogs, EuropeCoronaviruses <mark style=\"background-color: #ffd54f;\">of</mark> potential recombinant <mark style=\"background-color: #ffd54f;\">origin</mark> with porcine transmissible gastroenteritis virus (TGEV), referred to as a new subtype (IIb) <mark style=\"background-color: #ffd54f;\">of</mark> canine <mark style=\"background-color: #ffd54f;\">coronavirus</mark> (CCoV), were recently identified in dogs in Europe</td>\n",
       "      <td id=\"T_1133f_row4_col2\" class=\"data row4 col2\" >To assess the distribution <mark style=\"background-color: #ffd54f;\">of</mark> the TGEV-like CCoV subtype, during 2001–2008 we tested fecal samples from dogs with gastroenteritis. <mark style=\"background-color: #ffd54f;\">Of</mark> 1,172 samples, 493 (42.06%) were positive for CCoV. CCoV-II was found in 218 samples, and CCoV-I and CCoV-II genotypes were found in 182. Approximately 20% <mark style=\"background-color: #ffd54f;\">of</mark> the samples with CCoV-II had the TGEV-like subtype; detection rates varied according to geographic <mark style=\"background-color: #ffd54f;\">origin</mark>. The highest and lowest rates <mark style=\"background-color: #ffd54f;\">of</mark> prevalence for CCoV-II infection were found in samples from Hungary and Greece (96.87% and 3.45%, respectively). Sequence and phylogenetic analyses showed that the CCoV-IIb strains were related to prototype TGEV-like strains in the 5′ and the 3′ ends <mark style=\"background-color: #ffd54f;\">of</mark> the spike protein gene.</td>\n",
       "    </tr>\n",
       "    <tr>\n",
       "      <th id=\"T_1133f_level0_row5\" class=\"row_heading level0 row5\" >5</th>\n",
       "      <td id=\"T_1133f_row5_col0\" class=\"data row5 col0\" >jcu3pasy</td>\n",
       "      <td id=\"T_1133f_row5_col1\" class=\"data row5 col1\" >Recombination in Avian Gamma-<mark style=\"background-color: #ffd54f;\">Coronavirus</mark> Infectious Bronchitis VirusRecombination in the family Coronaviridae has been well documented and is thought to be a contributing factor in the emergence and evolution <mark style=\"background-color: #ffd54f;\">of</mark> different coronaviral genotypes as well as different species <mark style=\"background-color: #ffd54f;\">of</mark> <mark style=\"background-color: #ffd54f;\">coronavirus</mark></td>\n",
       "      <td id=\"T_1133f_row5_col2\" class=\"data row5 col2\" >However, there are limited data available on the frequency and extent <mark style=\"background-color: #ffd54f;\">of</mark> recombination in coronaviruses in nature and particularly for the avian gamma-coronaviruses where only recently the emergence <mark style=\"background-color: #ffd54f;\">of</mark> a turkey <mark style=\"background-color: #ffd54f;\">coronavirus</mark> has been attributed solely to recombination. In this study, the full-length genomes <mark style=\"background-color: #ffd54f;\">of</mark> eight avian gamma-<mark style=\"background-color: #ffd54f;\">coronavirus</mark> infectious bronchitis virus (IBV) isolates were sequenced and along with other full-length IBV genomes available from GenBank were analyzed for recombination. Evidence <mark style=\"background-color: #ffd54f;\">of</mark> recombination was found in every sequence analyzed and was distributed throughout the entire genome. Areas that have the highest occurrence <mark style=\"background-color: #ffd54f;\">of</mark> recombination are located in regions <mark style=\"background-color: #ffd54f;\">of</mark> the genome that code for nonstructural proteins 2, 3 and 16, and the structural spike glycoprotein. The extent <mark style=\"background-color: #ffd54f;\">of</mark> the recombination observed, suggests that this may be one <mark style=\"background-color: #ffd54f;\">of</mark> the principal mechanisms for generating genetic and antigenic diversity within IBV. These data indicate that reticulate evolutionary change due to recombination in IBV, likely plays a major role in the <mark style=\"background-color: #ffd54f;\">origin</mark> and adaptation <mark style=\"background-color: #ffd54f;\">of</mark> the virus leading to new genetic types and strains <mark style=\"background-color: #ffd54f;\">of</mark> the virus.</td>\n",
       "    </tr>\n",
       "    <tr>\n",
       "      <th id=\"T_1133f_level0_row6\" class=\"row_heading level0 row6\" >6</th>\n",
       "      <td id=\"T_1133f_row6_col0\" class=\"data row6 col0\" >v08cs51n</td>\n",
       "      <td id=\"T_1133f_row6_col1\" class=\"data row6 col1\" >Review <mark style=\"background-color: #ffd54f;\">of</mark> Bats and SARSBats have been identified as a natural reservoir for an increasing number <mark style=\"background-color: #ffd54f;\">of</mark> emerging zoonotic viruses, including henipaviruses and variants <mark style=\"background-color: #ffd54f;\">of</mark> rabies viruses</td>\n",
       "      <td id=\"T_1133f_row6_col2\" class=\"data row6 col2\" >Recently, we and another group independently identified several horseshoe bat species (genus Rhinolophus) as the reservoir host for a large number <mark style=\"background-color: #ffd54f;\">of</mark> viruses that have a close genetic relationship with the <mark style=\"background-color: #ffd54f;\">coronavirus</mark> associated with severe acute respiratory syndrome (SARS). Our current research focused on the identification <mark style=\"background-color: #ffd54f;\">of</mark> the reservoir species for the progenitor virus <mark style=\"background-color: #ffd54f;\">of</mark> the SARS coronaviruses responsible for outbreaks during 2002–2003 and 2003–2004. In addition to SARS-like coronaviruses, many other novel bat coronaviruses, which belong to groups 1 and 2 <mark style=\"background-color: #ffd54f;\">of</mark> the 3 existing <mark style=\"background-color: #ffd54f;\">coronavirus</mark> groups, have been detected by PCR. The discovery <mark style=\"background-color: #ffd54f;\">of</mark> bat SARS-like coronaviruses and the great genetic diversity <mark style=\"background-color: #ffd54f;\">of</mark> coronaviruses in bats have shed new light on the <mark style=\"background-color: #ffd54f;\">origin</mark> and transmission <mark style=\"background-color: #ffd54f;\">of</mark> SARS coronaviruses.</td>\n",
       "    </tr>\n",
       "    <tr>\n",
       "      <th id=\"T_1133f_level0_row7\" class=\"row_heading level0 row7\" >7</th>\n",
       "      <td id=\"T_1133f_row7_col0\" class=\"data row7 col0\" >ezi2mret</td>\n",
       "      <td id=\"T_1133f_row7_col1\" class=\"data row7 col1\" >SARS-associated <mark style=\"background-color: #ffd54f;\">Coronavirus</mark> Transmitted from Human to PigSEVERE ACUTE RESPIRATORY SYNDROME–ASSOCIATED: <mark style=\"background-color: #ffd54f;\">coronavirus</mark> (SARS-CoV) was isolated from a pig during a survey for possible routes <mark style=\"background-color: #ffd54f;\">of</mark> viral transmission after a SARS epidemic</td>\n",
       "      <td id=\"T_1133f_row7_col2\" class=\"data row7 col2\" >Sequence and epidemiology analyses suggested that the pig was infected by a SARS-CoV <mark style=\"background-color: #ffd54f;\">of</mark> human <mark style=\"background-color: #ffd54f;\">origin</mark>.</td>\n",
       "    </tr>\n",
       "    <tr>\n",
       "      <th id=\"T_1133f_level0_row8\" class=\"row_heading level0 row8\" >8</th>\n",
       "      <td id=\"T_1133f_row8_col0\" class=\"data row8 col0\" >buzyani0</td>\n",
       "      <td id=\"T_1133f_row8_col1\" class=\"data row8 col1\" ><mark style=\"background-color: #ffd54f;\">Origin</mark>, diversity, and maturation <mark style=\"background-color: #ffd54f;\">of</mark> human antiviral antibodies analyzed by high-throughput sequencingOur understanding <mark style=\"background-color: #ffd54f;\">of</mark> how antibodies are generated and function could help develop effective vaccines and antibody-based therapeutics against viruses such as HIV-1, SARS <mark style=\"background-color: #ffd54f;\">coronavirus</mark> (SARS CoV), and Hendra and Nipah viruses (henipaviruses)</td>\n",
       "      <td id=\"T_1133f_row8_col2\" class=\"data row8 col2\" >Although broadly neutralizing antibodies (bnAbs) against the HIV-1 were observed in patients, elicitation <mark style=\"background-color: #ffd54f;\">of</mark> such bnAbs remains a major challenge when compared to other viral targets. We previously hypothesized that HIV-1 could have evolved a strategy to evade the immune system due to absent or very weak binding <mark style=\"background-color: #ffd54f;\">of</mark> germline antibodies to the conserved epitopes that may not be sufficient to initiate and/or maintain an effective immune response. To further explore our hypothesis, we used the 454 sequence analysis <mark style=\"background-color: #ffd54f;\">of</mark> a large naïve library <mark style=\"background-color: #ffd54f;\">of</mark> human IgM antibodies which had been used for selecting antibodies against SARS CoV receptor-binding domain (RBD), and soluble G proteins (sG) <mark style=\"background-color: #ffd54f;\">of</mark> henipaviruses. We found that the human IgM repertoires from the 454 sequencing have diverse germline usages, recombination patterns, junction diversity, and a lower extent <mark style=\"background-color: #ffd54f;\">of</mark> somatic mutation. In this study, we identified antibody maturation intermediates that are related to bnAbs against the HIV-1 and other viruses as observed in normal individuals, and compared their genetic diversity and somatic mutation level along with available structural and functional data. Further computational analysis will provide framework for understanding the underlying genetic and molecular determinants related to maturation pathways <mark style=\"background-color: #ffd54f;\">of</mark> antiviral bnAbs that could be useful for applying novel approaches to the design <mark style=\"background-color: #ffd54f;\">of</mark> effective vaccine immunogens and antibody-based therapeutics.</td>\n",
       "    </tr>\n",
       "    <tr>\n",
       "      <th id=\"T_1133f_level0_row9\" class=\"row_heading level0 row9\" >9</th>\n",
       "      <td id=\"T_1133f_row9_col0\" class=\"data row9 col0\" >vexo81k5</td>\n",
       "      <td id=\"T_1133f_row9_col1\" class=\"data row9 col1\" >Identification and Characterization <mark style=\"background-color: #ffd54f;\">of</mark> a Novel Alpaca Respiratory <mark style=\"background-color: #ffd54f;\">Coronavirus</mark> Most Closely Related to the Human <mark style=\"background-color: #ffd54f;\">Coronavirus</mark> 229EIn 2007, a novel <mark style=\"background-color: #ffd54f;\">coronavirus</mark> associated with an acute respiratory disease in alpacas (Alpaca <mark style=\"background-color: #ffd54f;\">Coronavirus</mark>, ACoV) was isolated</td>\n",
       "      <td id=\"T_1133f_row9_col2\" class=\"data row9 col2\" >Full-length genomic sequencing <mark style=\"background-color: #ffd54f;\">of</mark> the ACoV demonstrated the genome to be consistent with other Alphacoronaviruses. A putative additional open-reading frame was identified between the nucleocapsid gene and 3'UTR. The ACoV was genetically most similar to the common human <mark style=\"background-color: #ffd54f;\">coronavirus</mark> (HCoV) 229E with 92.2% nucleotide identity over the entire genome. A comparison <mark style=\"background-color: #ffd54f;\">of</mark> spike gene sequences from ACoV and from HCoV-229E isolates recovered over a span <mark style=\"background-color: #ffd54f;\">of</mark> five decades showed the ACoV to be most similar to viruses isolated in the 1960’s to early 1980’s. The true <mark style=\"background-color: #ffd54f;\">origin</mark> <mark style=\"background-color: #ffd54f;\">of</mark> the ACoV is unknown, however a common ancestor between the ACoV and HCoV-229E appears to have existed prior to the 1960’s, suggesting virus transmission, either as a zoonosis or anthroponosis, has occurred between alpacas and humans.</td>\n",
       "    </tr>\n",
       "  </tbody>\n",
       "</table>\n"
      ],
      "text/plain": [
       "<pandas.io.formats.style.Styler at 0x2c48a153bd0>"
      ]
     },
     "metadata": {},
     "output_type": "display_data"
    }
   ],
   "source": [
    "query = \"origin of coronavirus\"\n",
    "results_df = boolean_search_documents(query, inverted_index, documents_df)\n",
    "display_search_results(results_df, query)\n"
   ]
  },
  {
   "cell_type": "markdown",
   "metadata": {},
   "source": [
    "### Evaluation de ce moteur de recherche booléen sur les requêtes et les qrels compatibles aux documents qui nous ont servit à construire l'index "
   ]
  },
  {
   "cell_type": "markdown",
   "metadata": {},
   "source": [
    "### Une fonction d'évaluation globale que nous allons utiliser dans ce projet "
   ]
  },
  {
   "cell_type": "code",
   "execution_count": 24,
   "metadata": {},
   "outputs": [],
   "source": [
    "import numpy as np\n",
    "\n",
    "def precision_at_k(predicted, relevant, k):\n",
    "    if not predicted or not relevant:\n",
    "        return 0.0\n",
    "    predicted_k = predicted[:k]\n",
    "    hits = len(set(predicted_k) & set(relevant))\n",
    "    return hits / k\n",
    "\n",
    "def recall_at_k(predicted, relevant, k):\n",
    "    if not predicted or not relevant:\n",
    "        return 0.0\n",
    "    predicted_k = predicted[:k]\n",
    "    return len(set(predicted_k) & set(relevant)) / len(relevant)\n",
    "\n",
    "def reciprocal_rank(predicted, relevant):\n",
    "    for idx, doc_id in enumerate(predicted):\n",
    "        if doc_id in relevant:\n",
    "            return 1 / (idx + 1)\n",
    "    return 0.0\n",
    "\n",
    "def dcg_at_k(relevances, k):\n",
    "    relevances = np.array(relevances)[:k]\n",
    "    return np.sum(relevances / np.log2(np.arange(2, relevances.size + 2)))\n",
    "\n",
    "def ndcg_at_k(predicted, relevant, k):\n",
    "    relevances = [1 if doc in relevant else 0 for doc in predicted[:k]]\n",
    "    dcg = dcg_at_k(relevances, k)\n",
    "    ideal_relevances = sorted(relevances, reverse=True)\n",
    "    idcg = dcg_at_k(ideal_relevances, k)\n",
    "    return dcg / idcg if idcg > 0 else 0.0\n",
    "\n",
    "def f1_score_at_k(precision, recall):\n",
    "    if precision + recall == 0:\n",
    "        return 0.0\n",
    "    return 2 * (precision * recall) / (precision + recall)\n",
    "\n",
    "def average_precision(predicted, relevant):\n",
    "    \"\"\"\n",
    "    Calcule l'Average Precision pour une requête.\n",
    "    \"\"\"\n",
    "    if not relevant:\n",
    "        return 0.0\n",
    "    hits = 0\n",
    "    sum_precisions = 0\n",
    "    for i, doc_id in enumerate(predicted, start=1):\n",
    "        if doc_id in relevant:\n",
    "            hits += 1\n",
    "            sum_precisions += hits / i\n",
    "    return sum_precisions / len(relevant)\n",
    "\n",
    "\n",
    "def evaluate_model(search_function, queries_df, qrels_df, k=10):\n",
    "    precision_scores = []\n",
    "    recall_scores = []\n",
    "    f1_scores = []\n",
    "    rr_scores = []\n",
    "    ndcg_scores = []\n",
    "    map_scores = []\n",
    "\n",
    "    for _, row in queries_df.iterrows():\n",
    "        qid = str(row[\"query_id\"])\n",
    "        query_text = row[\"title\"]\n",
    "\n",
    "        relevant_docs = qrels_df[qrels_df[\"query_id\"] == qid][\"doc_id\"].tolist()\n",
    "        if not relevant_docs:\n",
    "            continue\n",
    "\n",
    "        results = search_function(query_text, top_k=k)\n",
    "        predicted_docs = [r[\"doc_id\"] for r in results]\n",
    "        if not predicted_docs:\n",
    "            continue\n",
    "\n",
    "        precision = precision_at_k(predicted_docs, relevant_docs, k)\n",
    "        recall = recall_at_k(predicted_docs, relevant_docs, k)\n",
    "        f1 = 2 * precision * recall / (precision + recall) if (precision + recall) else 0\n",
    "        rr = reciprocal_rank(predicted_docs, relevant_docs)\n",
    "        ndcg = ndcg_at_k(predicted_docs, relevant_docs, k)\n",
    "        ap = average_precision(predicted_docs, relevant_docs)\n",
    "\n",
    "        precision_scores.append(precision)\n",
    "        recall_scores.append(recall)\n",
    "        f1_scores.append(f1)\n",
    "        rr_scores.append(rr)\n",
    "        ndcg_scores.append(ndcg)\n",
    "        map_scores.append(ap)\n",
    "\n",
    "    return {\n",
    "        \"precision@k\": np.mean(precision_scores),\n",
    "        \"recall@k\": np.mean(recall_scores),\n",
    "        \"F1@k\": np.mean(f1_scores),\n",
    "        \"MRR\": np.mean(rr_scores),\n",
    "        \"nDCG@k\": np.mean(ndcg_scores),\n",
    "        \"MAP\": np.mean(map_scores)\n",
    "    }\n"
   ]
  },
  {
   "cell_type": "code",
   "execution_count": 25,
   "metadata": {},
   "outputs": [
    {
     "name": "stdout",
     "output_type": "stream",
     "text": [
      "Résultats du moteur booléen :\n",
      "- precision@k: 0.3185\n",
      "- recall@k: 0.0132\n",
      "- F1@k: 0.0253\n",
      "- MRR: 0.5408\n",
      "- nDCG@k: 0.5951\n",
      "- MAP: 0.0113\n"
     ]
    }
   ],
   "source": [
    "# Wrapper pour inclure les paramètres supplémentaires\n",
    "def boolean_search_eval_wrapper(query_text, top_k=10):\n",
    "    results = boolean_search_documents(query_text, inverted_index, documents_df)\n",
    "    return results[:top_k]\n",
    "\n",
    "# Évaluation\n",
    "results_boolean = evaluate_model(boolean_search_eval_wrapper, queries_df, qrels_df, k=10)\n",
    "\n",
    "# Affichage des résultats\n",
    "print(\"Résultats du moteur booléen :\")\n",
    "for metric, score in results_boolean.items():\n",
    "    print(f\"- {metric}: {score:.4f}\")\n"
   ]
  },
  {
   "cell_type": "markdown",
   "metadata": {},
   "source": [
    "### Commentaire \n",
    "\n",
    "Nous avons les premières évaluations pour ce premier moteur de recherche booléen\n",
    "\n",
    "Nous constatons que les scores ne sont pas très convainquants à ce niveau, et ceci est dû aux différentes faiblesses de ce type de moteur de recherche, l'ordre des mots n'est pas pris en compte, la recherche est trop stricte, elle est moins flexible\n",
    "\n",
    "\n",
    "Les résultats obtenus avec ce moteur de recherche booléen montrent des performances modestes\n",
    "\n",
    "\n",
    "Ces scores traduisent plusieurs limitations du modèle booléen :\n",
    "\n",
    "- Pas de notion de pertinence graduelle :\n",
    "\n",
    "    - Le moteur booléen retourne une liste de documents qui correspondent exactement à la requête, sans tenir compte du niveau de pertinence ou de similarité sémantique.\n",
    "\n",
    "    - Il n’y a aucun score de classement : tous les documents retournés sont considérés égaux.\n",
    "\n",
    "- Ordre des mots non pris en compte :\n",
    "\n",
    "    - Le moteur ignore la syntaxe, la sémantique, et l’ordre des mots, ce qui rend les résultats souvent approximatifs ou incomplets.\n",
    "\n",
    "- Manque de flexibilité :\n",
    "\n",
    "    - Une requête contenant plusieurs mots-clés doit correspondre exactement à ces termes, même si d'autres documents très pertinents ne contiennent que certains de ces mots ou utilisent des synonymes.\n",
    "\n",
    "- Faible rappel :\n",
    "\n",
    "    - Le rappel très faible (~1.3%) indique que de nombreux documents pertinents ne sont pas retournés.\n",
    "\n",
    "    - Cela reflète le caractère trop strict des requêtes booléennes, qui négligent la richesse du langage naturel."
   ]
  },
  {
   "cell_type": "markdown",
   "metadata": {},
   "source": [
    "### Modèle sac de mots (représentation binaire)\n",
    "\n",
    "- Matrice document-term avec présence (0/1): chaque ligne est un document, chaque mot est une colonne et chaque cellule vaut (0/1) en fonction de si le mot y est ou pas \n",
    "- Similarité avec la requête via le nombre de mots communs \n",
    "\n",
    "Nous ferons une comparaison naive (cosine binaire)\n"
   ]
  },
  {
   "cell_type": "markdown",
   "metadata": {},
   "source": [
    "### Création de la matrice binaire document-term "
   ]
  },
  {
   "cell_type": "code",
   "execution_count": 26,
   "metadata": {},
   "outputs": [],
   "source": [
    "from sklearn.feature_extraction.text import CountVectorizer\n",
    "\n",
    "vectorizer_binary = CountVectorizer(binary=True)  # On veut 0 ou 1, pas les fréquences\n",
    "X_binary = vectorizer_binary.fit_transform(documents_df[\"tokens\"].apply(lambda tokens: \" \".join(tokens)))\n",
    "\n",
    "# apply(lambda tokens: \" \".join(tokens)): On joint les tokens pour obtenir une phrase exploitable par CountVectorizer \n"
   ]
  },
  {
   "cell_type": "markdown",
   "metadata": {},
   "source": [
    "Il s'agit d'une matrice sparse dans laquelle seule les cellules avec des 1 sont retenus afin d'éviter d'avoir une matrice trop creuse "
   ]
  },
  {
   "cell_type": "code",
   "execution_count": 27,
   "metadata": {},
   "outputs": [
    {
     "data": {
      "text/plain": [
       "<Compressed Sparse Row sparse matrix of dtype 'int64'\n",
       "\twith 3834095 stored elements and shape (51078, 137890)>"
      ]
     },
     "execution_count": 27,
     "metadata": {},
     "output_type": "execute_result"
    }
   ],
   "source": [
    "X_binary # est une matrice n_documents x n_mots "
   ]
  },
  {
   "cell_type": "code",
   "execution_count": 28,
   "metadata": {},
   "outputs": [
    {
     "data": {
      "text/html": [
       "<style>#sk-container-id-1 {\n",
       "  /* Definition of color scheme common for light and dark mode */\n",
       "  --sklearn-color-text: #000;\n",
       "  --sklearn-color-text-muted: #666;\n",
       "  --sklearn-color-line: gray;\n",
       "  /* Definition of color scheme for unfitted estimators */\n",
       "  --sklearn-color-unfitted-level-0: #fff5e6;\n",
       "  --sklearn-color-unfitted-level-1: #f6e4d2;\n",
       "  --sklearn-color-unfitted-level-2: #ffe0b3;\n",
       "  --sklearn-color-unfitted-level-3: chocolate;\n",
       "  /* Definition of color scheme for fitted estimators */\n",
       "  --sklearn-color-fitted-level-0: #f0f8ff;\n",
       "  --sklearn-color-fitted-level-1: #d4ebff;\n",
       "  --sklearn-color-fitted-level-2: #b3dbfd;\n",
       "  --sklearn-color-fitted-level-3: cornflowerblue;\n",
       "\n",
       "  /* Specific color for light theme */\n",
       "  --sklearn-color-text-on-default-background: var(--sg-text-color, var(--theme-code-foreground, var(--jp-content-font-color1, black)));\n",
       "  --sklearn-color-background: var(--sg-background-color, var(--theme-background, var(--jp-layout-color0, white)));\n",
       "  --sklearn-color-border-box: var(--sg-text-color, var(--theme-code-foreground, var(--jp-content-font-color1, black)));\n",
       "  --sklearn-color-icon: #696969;\n",
       "\n",
       "  @media (prefers-color-scheme: dark) {\n",
       "    /* Redefinition of color scheme for dark theme */\n",
       "    --sklearn-color-text-on-default-background: var(--sg-text-color, var(--theme-code-foreground, var(--jp-content-font-color1, white)));\n",
       "    --sklearn-color-background: var(--sg-background-color, var(--theme-background, var(--jp-layout-color0, #111)));\n",
       "    --sklearn-color-border-box: var(--sg-text-color, var(--theme-code-foreground, var(--jp-content-font-color1, white)));\n",
       "    --sklearn-color-icon: #878787;\n",
       "  }\n",
       "}\n",
       "\n",
       "#sk-container-id-1 {\n",
       "  color: var(--sklearn-color-text);\n",
       "}\n",
       "\n",
       "#sk-container-id-1 pre {\n",
       "  padding: 0;\n",
       "}\n",
       "\n",
       "#sk-container-id-1 input.sk-hidden--visually {\n",
       "  border: 0;\n",
       "  clip: rect(1px 1px 1px 1px);\n",
       "  clip: rect(1px, 1px, 1px, 1px);\n",
       "  height: 1px;\n",
       "  margin: -1px;\n",
       "  overflow: hidden;\n",
       "  padding: 0;\n",
       "  position: absolute;\n",
       "  width: 1px;\n",
       "}\n",
       "\n",
       "#sk-container-id-1 div.sk-dashed-wrapped {\n",
       "  border: 1px dashed var(--sklearn-color-line);\n",
       "  margin: 0 0.4em 0.5em 0.4em;\n",
       "  box-sizing: border-box;\n",
       "  padding-bottom: 0.4em;\n",
       "  background-color: var(--sklearn-color-background);\n",
       "}\n",
       "\n",
       "#sk-container-id-1 div.sk-container {\n",
       "  /* jupyter's `normalize.less` sets `[hidden] { display: none; }`\n",
       "     but bootstrap.min.css set `[hidden] { display: none !important; }`\n",
       "     so we also need the `!important` here to be able to override the\n",
       "     default hidden behavior on the sphinx rendered scikit-learn.org.\n",
       "     See: https://github.com/scikit-learn/scikit-learn/issues/21755 */\n",
       "  display: inline-block !important;\n",
       "  position: relative;\n",
       "}\n",
       "\n",
       "#sk-container-id-1 div.sk-text-repr-fallback {\n",
       "  display: none;\n",
       "}\n",
       "\n",
       "div.sk-parallel-item,\n",
       "div.sk-serial,\n",
       "div.sk-item {\n",
       "  /* draw centered vertical line to link estimators */\n",
       "  background-image: linear-gradient(var(--sklearn-color-text-on-default-background), var(--sklearn-color-text-on-default-background));\n",
       "  background-size: 2px 100%;\n",
       "  background-repeat: no-repeat;\n",
       "  background-position: center center;\n",
       "}\n",
       "\n",
       "/* Parallel-specific style estimator block */\n",
       "\n",
       "#sk-container-id-1 div.sk-parallel-item::after {\n",
       "  content: \"\";\n",
       "  width: 100%;\n",
       "  border-bottom: 2px solid var(--sklearn-color-text-on-default-background);\n",
       "  flex-grow: 1;\n",
       "}\n",
       "\n",
       "#sk-container-id-1 div.sk-parallel {\n",
       "  display: flex;\n",
       "  align-items: stretch;\n",
       "  justify-content: center;\n",
       "  background-color: var(--sklearn-color-background);\n",
       "  position: relative;\n",
       "}\n",
       "\n",
       "#sk-container-id-1 div.sk-parallel-item {\n",
       "  display: flex;\n",
       "  flex-direction: column;\n",
       "}\n",
       "\n",
       "#sk-container-id-1 div.sk-parallel-item:first-child::after {\n",
       "  align-self: flex-end;\n",
       "  width: 50%;\n",
       "}\n",
       "\n",
       "#sk-container-id-1 div.sk-parallel-item:last-child::after {\n",
       "  align-self: flex-start;\n",
       "  width: 50%;\n",
       "}\n",
       "\n",
       "#sk-container-id-1 div.sk-parallel-item:only-child::after {\n",
       "  width: 0;\n",
       "}\n",
       "\n",
       "/* Serial-specific style estimator block */\n",
       "\n",
       "#sk-container-id-1 div.sk-serial {\n",
       "  display: flex;\n",
       "  flex-direction: column;\n",
       "  align-items: center;\n",
       "  background-color: var(--sklearn-color-background);\n",
       "  padding-right: 1em;\n",
       "  padding-left: 1em;\n",
       "}\n",
       "\n",
       "\n",
       "/* Toggleable style: style used for estimator/Pipeline/ColumnTransformer box that is\n",
       "clickable and can be expanded/collapsed.\n",
       "- Pipeline and ColumnTransformer use this feature and define the default style\n",
       "- Estimators will overwrite some part of the style using the `sk-estimator` class\n",
       "*/\n",
       "\n",
       "/* Pipeline and ColumnTransformer style (default) */\n",
       "\n",
       "#sk-container-id-1 div.sk-toggleable {\n",
       "  /* Default theme specific background. It is overwritten whether we have a\n",
       "  specific estimator or a Pipeline/ColumnTransformer */\n",
       "  background-color: var(--sklearn-color-background);\n",
       "}\n",
       "\n",
       "/* Toggleable label */\n",
       "#sk-container-id-1 label.sk-toggleable__label {\n",
       "  cursor: pointer;\n",
       "  display: flex;\n",
       "  width: 100%;\n",
       "  margin-bottom: 0;\n",
       "  padding: 0.5em;\n",
       "  box-sizing: border-box;\n",
       "  text-align: center;\n",
       "  align-items: start;\n",
       "  justify-content: space-between;\n",
       "  gap: 0.5em;\n",
       "}\n",
       "\n",
       "#sk-container-id-1 label.sk-toggleable__label .caption {\n",
       "  font-size: 0.6rem;\n",
       "  font-weight: lighter;\n",
       "  color: var(--sklearn-color-text-muted);\n",
       "}\n",
       "\n",
       "#sk-container-id-1 label.sk-toggleable__label-arrow:before {\n",
       "  /* Arrow on the left of the label */\n",
       "  content: \"▸\";\n",
       "  float: left;\n",
       "  margin-right: 0.25em;\n",
       "  color: var(--sklearn-color-icon);\n",
       "}\n",
       "\n",
       "#sk-container-id-1 label.sk-toggleable__label-arrow:hover:before {\n",
       "  color: var(--sklearn-color-text);\n",
       "}\n",
       "\n",
       "/* Toggleable content - dropdown */\n",
       "\n",
       "#sk-container-id-1 div.sk-toggleable__content {\n",
       "  max-height: 0;\n",
       "  max-width: 0;\n",
       "  overflow: hidden;\n",
       "  text-align: left;\n",
       "  /* unfitted */\n",
       "  background-color: var(--sklearn-color-unfitted-level-0);\n",
       "}\n",
       "\n",
       "#sk-container-id-1 div.sk-toggleable__content.fitted {\n",
       "  /* fitted */\n",
       "  background-color: var(--sklearn-color-fitted-level-0);\n",
       "}\n",
       "\n",
       "#sk-container-id-1 div.sk-toggleable__content pre {\n",
       "  margin: 0.2em;\n",
       "  border-radius: 0.25em;\n",
       "  color: var(--sklearn-color-text);\n",
       "  /* unfitted */\n",
       "  background-color: var(--sklearn-color-unfitted-level-0);\n",
       "}\n",
       "\n",
       "#sk-container-id-1 div.sk-toggleable__content.fitted pre {\n",
       "  /* unfitted */\n",
       "  background-color: var(--sklearn-color-fitted-level-0);\n",
       "}\n",
       "\n",
       "#sk-container-id-1 input.sk-toggleable__control:checked~div.sk-toggleable__content {\n",
       "  /* Expand drop-down */\n",
       "  max-height: 200px;\n",
       "  max-width: 100%;\n",
       "  overflow: auto;\n",
       "}\n",
       "\n",
       "#sk-container-id-1 input.sk-toggleable__control:checked~label.sk-toggleable__label-arrow:before {\n",
       "  content: \"▾\";\n",
       "}\n",
       "\n",
       "/* Pipeline/ColumnTransformer-specific style */\n",
       "\n",
       "#sk-container-id-1 div.sk-label input.sk-toggleable__control:checked~label.sk-toggleable__label {\n",
       "  color: var(--sklearn-color-text);\n",
       "  background-color: var(--sklearn-color-unfitted-level-2);\n",
       "}\n",
       "\n",
       "#sk-container-id-1 div.sk-label.fitted input.sk-toggleable__control:checked~label.sk-toggleable__label {\n",
       "  background-color: var(--sklearn-color-fitted-level-2);\n",
       "}\n",
       "\n",
       "/* Estimator-specific style */\n",
       "\n",
       "/* Colorize estimator box */\n",
       "#sk-container-id-1 div.sk-estimator input.sk-toggleable__control:checked~label.sk-toggleable__label {\n",
       "  /* unfitted */\n",
       "  background-color: var(--sklearn-color-unfitted-level-2);\n",
       "}\n",
       "\n",
       "#sk-container-id-1 div.sk-estimator.fitted input.sk-toggleable__control:checked~label.sk-toggleable__label {\n",
       "  /* fitted */\n",
       "  background-color: var(--sklearn-color-fitted-level-2);\n",
       "}\n",
       "\n",
       "#sk-container-id-1 div.sk-label label.sk-toggleable__label,\n",
       "#sk-container-id-1 div.sk-label label {\n",
       "  /* The background is the default theme color */\n",
       "  color: var(--sklearn-color-text-on-default-background);\n",
       "}\n",
       "\n",
       "/* On hover, darken the color of the background */\n",
       "#sk-container-id-1 div.sk-label:hover label.sk-toggleable__label {\n",
       "  color: var(--sklearn-color-text);\n",
       "  background-color: var(--sklearn-color-unfitted-level-2);\n",
       "}\n",
       "\n",
       "/* Label box, darken color on hover, fitted */\n",
       "#sk-container-id-1 div.sk-label.fitted:hover label.sk-toggleable__label.fitted {\n",
       "  color: var(--sklearn-color-text);\n",
       "  background-color: var(--sklearn-color-fitted-level-2);\n",
       "}\n",
       "\n",
       "/* Estimator label */\n",
       "\n",
       "#sk-container-id-1 div.sk-label label {\n",
       "  font-family: monospace;\n",
       "  font-weight: bold;\n",
       "  display: inline-block;\n",
       "  line-height: 1.2em;\n",
       "}\n",
       "\n",
       "#sk-container-id-1 div.sk-label-container {\n",
       "  text-align: center;\n",
       "}\n",
       "\n",
       "/* Estimator-specific */\n",
       "#sk-container-id-1 div.sk-estimator {\n",
       "  font-family: monospace;\n",
       "  border: 1px dotted var(--sklearn-color-border-box);\n",
       "  border-radius: 0.25em;\n",
       "  box-sizing: border-box;\n",
       "  margin-bottom: 0.5em;\n",
       "  /* unfitted */\n",
       "  background-color: var(--sklearn-color-unfitted-level-0);\n",
       "}\n",
       "\n",
       "#sk-container-id-1 div.sk-estimator.fitted {\n",
       "  /* fitted */\n",
       "  background-color: var(--sklearn-color-fitted-level-0);\n",
       "}\n",
       "\n",
       "/* on hover */\n",
       "#sk-container-id-1 div.sk-estimator:hover {\n",
       "  /* unfitted */\n",
       "  background-color: var(--sklearn-color-unfitted-level-2);\n",
       "}\n",
       "\n",
       "#sk-container-id-1 div.sk-estimator.fitted:hover {\n",
       "  /* fitted */\n",
       "  background-color: var(--sklearn-color-fitted-level-2);\n",
       "}\n",
       "\n",
       "/* Specification for estimator info (e.g. \"i\" and \"?\") */\n",
       "\n",
       "/* Common style for \"i\" and \"?\" */\n",
       "\n",
       ".sk-estimator-doc-link,\n",
       "a:link.sk-estimator-doc-link,\n",
       "a:visited.sk-estimator-doc-link {\n",
       "  float: right;\n",
       "  font-size: smaller;\n",
       "  line-height: 1em;\n",
       "  font-family: monospace;\n",
       "  background-color: var(--sklearn-color-background);\n",
       "  border-radius: 1em;\n",
       "  height: 1em;\n",
       "  width: 1em;\n",
       "  text-decoration: none !important;\n",
       "  margin-left: 0.5em;\n",
       "  text-align: center;\n",
       "  /* unfitted */\n",
       "  border: var(--sklearn-color-unfitted-level-1) 1pt solid;\n",
       "  color: var(--sklearn-color-unfitted-level-1);\n",
       "}\n",
       "\n",
       ".sk-estimator-doc-link.fitted,\n",
       "a:link.sk-estimator-doc-link.fitted,\n",
       "a:visited.sk-estimator-doc-link.fitted {\n",
       "  /* fitted */\n",
       "  border: var(--sklearn-color-fitted-level-1) 1pt solid;\n",
       "  color: var(--sklearn-color-fitted-level-1);\n",
       "}\n",
       "\n",
       "/* On hover */\n",
       "div.sk-estimator:hover .sk-estimator-doc-link:hover,\n",
       ".sk-estimator-doc-link:hover,\n",
       "div.sk-label-container:hover .sk-estimator-doc-link:hover,\n",
       ".sk-estimator-doc-link:hover {\n",
       "  /* unfitted */\n",
       "  background-color: var(--sklearn-color-unfitted-level-3);\n",
       "  color: var(--sklearn-color-background);\n",
       "  text-decoration: none;\n",
       "}\n",
       "\n",
       "div.sk-estimator.fitted:hover .sk-estimator-doc-link.fitted:hover,\n",
       ".sk-estimator-doc-link.fitted:hover,\n",
       "div.sk-label-container:hover .sk-estimator-doc-link.fitted:hover,\n",
       ".sk-estimator-doc-link.fitted:hover {\n",
       "  /* fitted */\n",
       "  background-color: var(--sklearn-color-fitted-level-3);\n",
       "  color: var(--sklearn-color-background);\n",
       "  text-decoration: none;\n",
       "}\n",
       "\n",
       "/* Span, style for the box shown on hovering the info icon */\n",
       ".sk-estimator-doc-link span {\n",
       "  display: none;\n",
       "  z-index: 9999;\n",
       "  position: relative;\n",
       "  font-weight: normal;\n",
       "  right: .2ex;\n",
       "  padding: .5ex;\n",
       "  margin: .5ex;\n",
       "  width: min-content;\n",
       "  min-width: 20ex;\n",
       "  max-width: 50ex;\n",
       "  color: var(--sklearn-color-text);\n",
       "  box-shadow: 2pt 2pt 4pt #999;\n",
       "  /* unfitted */\n",
       "  background: var(--sklearn-color-unfitted-level-0);\n",
       "  border: .5pt solid var(--sklearn-color-unfitted-level-3);\n",
       "}\n",
       "\n",
       ".sk-estimator-doc-link.fitted span {\n",
       "  /* fitted */\n",
       "  background: var(--sklearn-color-fitted-level-0);\n",
       "  border: var(--sklearn-color-fitted-level-3);\n",
       "}\n",
       "\n",
       ".sk-estimator-doc-link:hover span {\n",
       "  display: block;\n",
       "}\n",
       "\n",
       "/* \"?\"-specific style due to the `<a>` HTML tag */\n",
       "\n",
       "#sk-container-id-1 a.estimator_doc_link {\n",
       "  float: right;\n",
       "  font-size: 1rem;\n",
       "  line-height: 1em;\n",
       "  font-family: monospace;\n",
       "  background-color: var(--sklearn-color-background);\n",
       "  border-radius: 1rem;\n",
       "  height: 1rem;\n",
       "  width: 1rem;\n",
       "  text-decoration: none;\n",
       "  /* unfitted */\n",
       "  color: var(--sklearn-color-unfitted-level-1);\n",
       "  border: var(--sklearn-color-unfitted-level-1) 1pt solid;\n",
       "}\n",
       "\n",
       "#sk-container-id-1 a.estimator_doc_link.fitted {\n",
       "  /* fitted */\n",
       "  border: var(--sklearn-color-fitted-level-1) 1pt solid;\n",
       "  color: var(--sklearn-color-fitted-level-1);\n",
       "}\n",
       "\n",
       "/* On hover */\n",
       "#sk-container-id-1 a.estimator_doc_link:hover {\n",
       "  /* unfitted */\n",
       "  background-color: var(--sklearn-color-unfitted-level-3);\n",
       "  color: var(--sklearn-color-background);\n",
       "  text-decoration: none;\n",
       "}\n",
       "\n",
       "#sk-container-id-1 a.estimator_doc_link.fitted:hover {\n",
       "  /* fitted */\n",
       "  background-color: var(--sklearn-color-fitted-level-3);\n",
       "}\n",
       "</style><div id=\"sk-container-id-1\" class=\"sk-top-container\"><div class=\"sk-text-repr-fallback\"><pre>CountVectorizer(binary=True)</pre><b>In a Jupyter environment, please rerun this cell to show the HTML representation or trust the notebook. <br />On GitHub, the HTML representation is unable to render, please try loading this page with nbviewer.org.</b></div><div class=\"sk-container\" hidden><div class=\"sk-item\"><div class=\"sk-estimator fitted sk-toggleable\"><input class=\"sk-toggleable__control sk-hidden--visually\" id=\"sk-estimator-id-1\" type=\"checkbox\" checked><label for=\"sk-estimator-id-1\" class=\"sk-toggleable__label fitted sk-toggleable__label-arrow\"><div><div>CountVectorizer</div></div><div><a class=\"sk-estimator-doc-link fitted\" rel=\"noreferrer\" target=\"_blank\" href=\"https://scikit-learn.org/1.6/modules/generated/sklearn.feature_extraction.text.CountVectorizer.html\">?<span>Documentation for CountVectorizer</span></a><span class=\"sk-estimator-doc-link fitted\">i<span>Fitted</span></span></div></label><div class=\"sk-toggleable__content fitted\"><pre>CountVectorizer(binary=True)</pre></div> </div></div></div></div>"
      ],
      "text/plain": [
       "CountVectorizer(binary=True)"
      ]
     },
     "execution_count": 28,
     "metadata": {},
     "output_type": "execute_result"
    }
   ],
   "source": [
    "vectorizer_binary # contient le mapping mot -> indice de la colonne "
   ]
  },
  {
   "cell_type": "markdown",
   "metadata": {},
   "source": [
    "### Transformer une requête "
   ]
  },
  {
   "cell_type": "code",
   "execution_count": 29,
   "metadata": {},
   "outputs": [],
   "source": [
    "def vectorize_query_binary(query_text):\n",
    "    query_tokens = clean_text(query_text) \n",
    "    query_str = \" \".join(query_tokens)  # Afin de pouvoir appliquer la transformation, on forme une phrase avec les tokens \n",
    "    return vectorizer_binary.transform([query_str]) # On vectorise avec le même vectorizer que pour les documents donc le même vocabulaire\n"
   ]
  },
  {
   "cell_type": "markdown",
   "metadata": {},
   "source": [
    "### Calcul de la similarité cosinus \n",
    "\n",
    "On calcule la similarité entre la requête et chaque document"
   ]
  },
  {
   "cell_type": "code",
   "execution_count": 30,
   "metadata": {},
   "outputs": [],
   "source": [
    "from sklearn.metrics.pairwise import cosine_similarity\n",
    "\n",
    "def search_binary(query_text, top_k=10):\n",
    "    query_vec = vectorize_query_binary(query_text)\n",
    "    scores = cosine_similarity(query_vec, X_binary).flatten()\n",
    "    top_indices = scores.argsort()[::-1][:top_k]\n",
    "    return documents_df.iloc[top_indices][['doc_id', 'text']].assign(score=scores[top_indices]).to_dict(orient='records')\n",
    "\n",
    "\n",
    "def search_binary_document(query_text, documents_df, top_k=10):\n",
    "    \"\"\"\n",
    "    Recherche binaire avec affichage enrichi trié par score.\n",
    "    \"\"\"\n",
    "    raw_results = search_binary(query_text, top_k=top_k)\n",
    "\n",
    "    if not raw_results:\n",
    "        return []\n",
    "\n",
    "    # Extraire les doc_ids\n",
    "    matched_ids = [r['doc_id'] for r in raw_results]\n",
    "    score_dict = {r['doc_id']: r['score'] for r in raw_results}\n",
    "\n",
    "    # Récupérer les documents correspondants\n",
    "    results = documents_df[documents_df[\"doc_id\"].isin(matched_ids)].copy()\n",
    "\n",
    "    # Ajouter titre / abstract\n",
    "    results[\"title\"] = results[\"text\"].apply(lambda t: t.split(\". \")[0] if \". \" in t else t[:100])\n",
    "    results[\"abstract\"] = results[\"text\"].apply(lambda t: t if \". \" not in t else \". \".join(t.split(\". \")[1:]))\n",
    "\n",
    "    # Ajouter les scores puis trier\n",
    "    results[\"score\"] = results[\"doc_id\"].map(score_dict)\n",
    "    results = results.sort_values(by=\"score\", ascending=False)\n",
    "\n",
    "    return results[[\"doc_id\", \"title\", \"abstract\", \"score\"]].to_dict(orient=\"records\")\n",
    "\n"
   ]
  },
  {
   "cell_type": "code",
   "execution_count": 31,
   "metadata": {},
   "outputs": [
    {
     "data": {
      "text/plain": [
       "[{'doc_id': 'gv1k7u7j',\n",
       "  'title': 'Strategies to trace back the origin of COVID-19',\n",
       "  'abstract': 'Strategies to trace back the origin of COVID-19',\n",
       "  'score': 0.7745966692414834},\n",
       " {'doc_id': '8m3wg1tg',\n",
       "  'title': 'O Anestesiologista e a COVID-19',\n",
       "  'abstract': 'O Anestesiologista e a COVID-19',\n",
       "  'score': 0.6666666666666669},\n",
       " {'doc_id': '3gbxbg5f',\n",
       "  'title': 'COVID-19 and Interconnectedness',\n",
       "  'abstract': 'COVID-19 and Interconnectedness',\n",
       "  'score': 0.6666666666666669}]"
      ]
     },
     "execution_count": 31,
     "metadata": {},
     "output_type": "execute_result"
    }
   ],
   "source": [
    "### Exemple d'application sur une requête: \n",
    "\n",
    "query = \"origin of COVID-19\"\n",
    "\n",
    "search_binary_document(query_text=query, documents_df=documents_df, top_k=3)"
   ]
  },
  {
   "cell_type": "code",
   "execution_count": 32,
   "metadata": {},
   "outputs": [
    {
     "data": {
      "text/html": [
       "<style type=\"text/css\">\n",
       "#T_ee487 th {\n",
       "  background-color: #208A9D;\n",
       "  color: white;\n",
       "  font-weight: bold;\n",
       "}\n",
       "#T_ee487_row0_col0, #T_ee487_row0_col1, #T_ee487_row0_col2, #T_ee487_row0_col3, #T_ee487_row1_col0, #T_ee487_row1_col1, #T_ee487_row1_col2, #T_ee487_row1_col3, #T_ee487_row2_col0, #T_ee487_row2_col1, #T_ee487_row2_col2, #T_ee487_row2_col3 {\n",
       "  border: 1px solid #ccc;\n",
       "  padding: 8px;\n",
       "  text-align: left;\n",
       "}\n",
       "</style>\n",
       "<table id=\"T_ee487\" style='width:100%; border-collapse:collapse'>\n",
       "  <thead>\n",
       "    <tr>\n",
       "      <th class=\"blank level0\" >&nbsp;</th>\n",
       "      <th id=\"T_ee487_level0_col0\" class=\"col_heading level0 col0\" >doc_id</th>\n",
       "      <th id=\"T_ee487_level0_col1\" class=\"col_heading level0 col1\" >score</th>\n",
       "      <th id=\"T_ee487_level0_col2\" class=\"col_heading level0 col2\" >title</th>\n",
       "      <th id=\"T_ee487_level0_col3\" class=\"col_heading level0 col3\" >abstract</th>\n",
       "    </tr>\n",
       "  </thead>\n",
       "  <tbody>\n",
       "    <tr>\n",
       "      <th id=\"T_ee487_level0_row0\" class=\"row_heading level0 row0\" >0</th>\n",
       "      <td id=\"T_ee487_row0_col0\" class=\"data row0 col0\" >gv1k7u7j</td>\n",
       "      <td id=\"T_ee487_row0_col1\" class=\"data row0 col1\" >0.774597</td>\n",
       "      <td id=\"T_ee487_row0_col2\" class=\"data row0 col2\" >Strategies to trace back the <mark style=\"background-color: #ffd54f;\">origin</mark> <mark style=\"background-color: #ffd54f;\">of</mark> <mark style=\"background-color: #ffd54f;\">COVID</mark>-<mark style=\"background-color: #ffd54f;\">19</mark></td>\n",
       "      <td id=\"T_ee487_row0_col3\" class=\"data row0 col3\" >Strategies to trace back the <mark style=\"background-color: #ffd54f;\">origin</mark> <mark style=\"background-color: #ffd54f;\">of</mark> <mark style=\"background-color: #ffd54f;\">COVID</mark>-<mark style=\"background-color: #ffd54f;\">19</mark></td>\n",
       "    </tr>\n",
       "    <tr>\n",
       "      <th id=\"T_ee487_level0_row1\" class=\"row_heading level0 row1\" >1</th>\n",
       "      <td id=\"T_ee487_row1_col0\" class=\"data row1 col0\" >8m3wg1tg</td>\n",
       "      <td id=\"T_ee487_row1_col1\" class=\"data row1 col1\" >0.666667</td>\n",
       "      <td id=\"T_ee487_row1_col2\" class=\"data row1 col2\" >O Anestesiologista e a <mark style=\"background-color: #ffd54f;\">COVID</mark>-<mark style=\"background-color: #ffd54f;\">19</mark></td>\n",
       "      <td id=\"T_ee487_row1_col3\" class=\"data row1 col3\" >O Anestesiologista e a <mark style=\"background-color: #ffd54f;\">COVID</mark>-<mark style=\"background-color: #ffd54f;\">19</mark></td>\n",
       "    </tr>\n",
       "    <tr>\n",
       "      <th id=\"T_ee487_level0_row2\" class=\"row_heading level0 row2\" >2</th>\n",
       "      <td id=\"T_ee487_row2_col0\" class=\"data row2 col0\" >3gbxbg5f</td>\n",
       "      <td id=\"T_ee487_row2_col1\" class=\"data row2 col1\" >0.666667</td>\n",
       "      <td id=\"T_ee487_row2_col2\" class=\"data row2 col2\" ><mark style=\"background-color: #ffd54f;\">COVID</mark>-<mark style=\"background-color: #ffd54f;\">19</mark> and Interconnectedness</td>\n",
       "      <td id=\"T_ee487_row2_col3\" class=\"data row2 col3\" ><mark style=\"background-color: #ffd54f;\">COVID</mark>-<mark style=\"background-color: #ffd54f;\">19</mark> and Interconnectedness</td>\n",
       "    </tr>\n",
       "  </tbody>\n",
       "</table>\n"
      ],
      "text/plain": [
       "<pandas.io.formats.style.Styler at 0x2c485bac990>"
      ]
     },
     "metadata": {},
     "output_type": "display_data"
    }
   ],
   "source": [
    "query = \"origin of COVID-19\"\n",
    "results = search_binary_document(query, documents_df, top_k=3)\n",
    "display_search_results(results, query)\n"
   ]
  },
  {
   "cell_type": "code",
   "execution_count": 33,
   "metadata": {},
   "outputs": [
    {
     "name": "stdout",
     "output_type": "stream",
     "text": [
      "Résultats du modèle sac de mots (binaire) :\n",
      "- precision@k: 0.0667\n",
      "- recall@k: 0.0025\n",
      "- F1@k: 0.0049\n",
      "- MRR: 0.3235\n",
      "- nDCG@k: 0.3803\n",
      "- MAP: 0.0013\n"
     ]
    }
   ],
   "source": [
    "results_binary = evaluate_model(search_binary, queries_df, qrels_df, k=10)\n",
    "\n",
    "print(\"Résultats du modèle sac de mots (binaire) :\")\n",
    "for metric, score in results_binary.items():\n",
    "    print(f\"- {metric}: {score:.4f}\")\n"
   ]
  },
  {
   "cell_type": "markdown",
   "metadata": {},
   "source": [
    "### Commentaire\n",
    "\n",
    " Le modèle sac de mots binaire montre une précision très faible (6%) et un rappel quasi nul (0,2%), ce qui signifie qu'il retrouve peu de documents pertinents dans les premiers résultats. Cela peut s’expliquer par le fait que cette représentation (0/1) ne prend ni en compte la fréquence des mots ni leur importance contextuelle, rendant les résultats peu discriminants."
   ]
  },
  {
   "cell_type": "markdown",
   "metadata": {},
   "source": [
    "### Fréquence des mots (Term Frequency): Une variante du modèle sac de mots\n",
    "\n",
    "- Poids selon le nombre d’occurrences dans le document.\n",
    "\n",
    "- Matrice pondérée.\n",
    "\n",
    "- Cosine similarity avec une requête vectorisée également."
   ]
  },
  {
   "cell_type": "markdown",
   "metadata": {},
   "source": [
    "#### Création de la matrice term-document basé sur les fréquences des mots dans les documents "
   ]
  },
  {
   "cell_type": "code",
   "execution_count": 34,
   "metadata": {},
   "outputs": [
    {
     "name": "stderr",
     "output_type": "stream",
     "text": [
      "C:\\Users\\12407156\\AppData\\Local\\Packages\\PythonSoftwareFoundation.Python.3.11_qbz5n2kfra8p0\\LocalCache\\local-packages\\Python311\\site-packages\\sklearn\\feature_extraction\\text.py:517: UserWarning: The parameter 'token_pattern' will not be used since 'tokenizer' is not None'\n",
      "  warnings.warn(\n"
     ]
    }
   ],
   "source": [
    "from sklearn.feature_extraction.text import CountVectorizer\n",
    "\n",
    "# On réutilise les documents nettoyés précédemment\n",
    "tf_vectorizer = CountVectorizer(tokenizer=lambda x: x, lowercase=False)  # car nos tokens sont déjà nettoyés\n",
    "X_tf = tf_vectorizer.fit_transform(documents_df[\"tokens\"])\n"
   ]
  },
  {
   "cell_type": "markdown",
   "metadata": {},
   "source": [
    "#### Fonction pour vectoriser la requête avec le même vocabulaire "
   ]
  },
  {
   "cell_type": "code",
   "execution_count": 35,
   "metadata": {},
   "outputs": [],
   "source": [
    "def vectorize_query_tf(query_text):\n",
    "    tokens = clean_text(query_text)\n",
    "    return tf_vectorizer.transform([tokens])\n"
   ]
  },
  {
   "cell_type": "markdown",
   "metadata": {},
   "source": [
    "#### Fonction de recherche avec similarité cosinus "
   ]
  },
  {
   "cell_type": "code",
   "execution_count": 36,
   "metadata": {},
   "outputs": [],
   "source": [
    "from sklearn.metrics.pairwise import cosine_similarity\n",
    "\n",
    "def search_tf(query_text, top_k=10):\n",
    "    query_vec = vectorize_query_tf(query_text)\n",
    "    scores = cosine_similarity(query_vec, X_tf).flatten()\n",
    "    top_indices = scores.argsort()[::-1][:top_k]\n",
    "    \n",
    "    results = documents_df.iloc[top_indices].copy()\n",
    "    results[\"score\"] = scores[top_indices]\n",
    "    \n",
    "    # Séparer titre / abstract\n",
    "    results[\"title\"] = results[\"text\"].apply(lambda t: t.split(\". \")[0] if \". \" in t else t[:100])\n",
    "    results[\"abstract\"] = results[\"text\"].apply(lambda t: t if \". \" not in t else \". \".join(t.split(\". \")[1:]))\n",
    "    \n",
    "    return results[[\"doc_id\", \"title\", \"abstract\", \"score\"]].to_dict(orient=\"records\")\n"
   ]
  },
  {
   "cell_type": "markdown",
   "metadata": {},
   "source": [
    "#### Exemple de recherche "
   ]
  },
  {
   "cell_type": "code",
   "execution_count": 37,
   "metadata": {},
   "outputs": [
    {
     "data": {
      "text/html": [
       "<style type=\"text/css\">\n",
       "#T_f44d5 th {\n",
       "  background-color: #208A9D;\n",
       "  color: white;\n",
       "  font-weight: bold;\n",
       "}\n",
       "#T_f44d5_row0_col0, #T_f44d5_row0_col1, #T_f44d5_row0_col2, #T_f44d5_row0_col3, #T_f44d5_row1_col0, #T_f44d5_row1_col1, #T_f44d5_row1_col2, #T_f44d5_row1_col3, #T_f44d5_row2_col0, #T_f44d5_row2_col1, #T_f44d5_row2_col2, #T_f44d5_row2_col3, #T_f44d5_row3_col0, #T_f44d5_row3_col1, #T_f44d5_row3_col2, #T_f44d5_row3_col3, #T_f44d5_row4_col0, #T_f44d5_row4_col1, #T_f44d5_row4_col2, #T_f44d5_row4_col3, #T_f44d5_row5_col0, #T_f44d5_row5_col1, #T_f44d5_row5_col2, #T_f44d5_row5_col3, #T_f44d5_row6_col0, #T_f44d5_row6_col1, #T_f44d5_row6_col2, #T_f44d5_row6_col3, #T_f44d5_row7_col0, #T_f44d5_row7_col1, #T_f44d5_row7_col2, #T_f44d5_row7_col3, #T_f44d5_row8_col0, #T_f44d5_row8_col1, #T_f44d5_row8_col2, #T_f44d5_row8_col3, #T_f44d5_row9_col0, #T_f44d5_row9_col1, #T_f44d5_row9_col2, #T_f44d5_row9_col3 {\n",
       "  border: 1px solid #ccc;\n",
       "  padding: 8px;\n",
       "  text-align: left;\n",
       "}\n",
       "</style>\n",
       "<table id=\"T_f44d5\" style='width:100%; border-collapse:collapse'>\n",
       "  <thead>\n",
       "    <tr>\n",
       "      <th class=\"blank level0\" >&nbsp;</th>\n",
       "      <th id=\"T_f44d5_level0_col0\" class=\"col_heading level0 col0\" >doc_id</th>\n",
       "      <th id=\"T_f44d5_level0_col1\" class=\"col_heading level0 col1\" >score</th>\n",
       "      <th id=\"T_f44d5_level0_col2\" class=\"col_heading level0 col2\" >title</th>\n",
       "      <th id=\"T_f44d5_level0_col3\" class=\"col_heading level0 col3\" >abstract</th>\n",
       "    </tr>\n",
       "  </thead>\n",
       "  <tbody>\n",
       "    <tr>\n",
       "      <th id=\"T_f44d5_level0_row0\" class=\"row_heading level0 row0\" >0</th>\n",
       "      <td id=\"T_f44d5_row0_col0\" class=\"data row0 col0\" >gv1k7u7j</td>\n",
       "      <td id=\"T_f44d5_row0_col1\" class=\"data row0 col1\" >0.774597</td>\n",
       "      <td id=\"T_f44d5_row0_col2\" class=\"data row0 col2\" >Strategies to trace back the <mark style=\"background-color: #ffd54f;\">origin</mark> <mark style=\"background-color: #ffd54f;\">of</mark> <mark style=\"background-color: #ffd54f;\">COVID</mark>-<mark style=\"background-color: #ffd54f;\">19</mark></td>\n",
       "      <td id=\"T_f44d5_row0_col3\" class=\"data row0 col3\" >Strategies to trace back the <mark style=\"background-color: #ffd54f;\">origin</mark> <mark style=\"background-color: #ffd54f;\">of</mark> <mark style=\"background-color: #ffd54f;\">COVID</mark>-<mark style=\"background-color: #ffd54f;\">19</mark></td>\n",
       "    </tr>\n",
       "    <tr>\n",
       "      <th id=\"T_f44d5_level0_row1\" class=\"row_heading level0 row1\" >1</th>\n",
       "      <td id=\"T_f44d5_row1_col0\" class=\"data row1 col0\" >3gbxbg5f</td>\n",
       "      <td id=\"T_f44d5_row1_col1\" class=\"data row1 col1\" >0.666667</td>\n",
       "      <td id=\"T_f44d5_row1_col2\" class=\"data row1 col2\" ><mark style=\"background-color: #ffd54f;\">COVID</mark>-<mark style=\"background-color: #ffd54f;\">19</mark> and Interconnectedness</td>\n",
       "      <td id=\"T_f44d5_row1_col3\" class=\"data row1 col3\" ><mark style=\"background-color: #ffd54f;\">COVID</mark>-<mark style=\"background-color: #ffd54f;\">19</mark> and Interconnectedness</td>\n",
       "    </tr>\n",
       "    <tr>\n",
       "      <th id=\"T_f44d5_level0_row2\" class=\"row_heading level0 row2\" >2</th>\n",
       "      <td id=\"T_f44d5_row2_col0\" class=\"data row2 col0\" >450z0tv1</td>\n",
       "      <td id=\"T_f44d5_row2_col1\" class=\"data row2 col1\" >0.666667</td>\n",
       "      <td id=\"T_f44d5_row2_col2\" class=\"data row2 col2\" >The Anesthesiologist and <mark style=\"background-color: #ffd54f;\">COVID</mark>-<mark style=\"background-color: #ffd54f;\">19</mark></td>\n",
       "      <td id=\"T_f44d5_row2_col3\" class=\"data row2 col3\" >The Anesthesiologist and <mark style=\"background-color: #ffd54f;\">COVID</mark>-<mark style=\"background-color: #ffd54f;\">19</mark></td>\n",
       "    </tr>\n",
       "    <tr>\n",
       "      <th id=\"T_f44d5_level0_row3\" class=\"row_heading level0 row3\" >3</th>\n",
       "      <td id=\"T_f44d5_row3_col0\" class=\"data row3 col0\" >pttcysvc</td>\n",
       "      <td id=\"T_f44d5_row3_col1\" class=\"data row3 col1\" >0.666667</td>\n",
       "      <td id=\"T_f44d5_row3_col2\" class=\"data row3 col2\" ><mark style=\"background-color: #ffd54f;\">COVID</mark>-<mark style=\"background-color: #ffd54f;\">19</mark>, a pandemic or not?</td>\n",
       "      <td id=\"T_f44d5_row3_col3\" class=\"data row3 col3\" ><mark style=\"background-color: #ffd54f;\">COVID</mark>-<mark style=\"background-color: #ffd54f;\">19</mark>, a pandemic or not?</td>\n",
       "    </tr>\n",
       "    <tr>\n",
       "      <th id=\"T_f44d5_level0_row4\" class=\"row_heading level0 row4\" >4</th>\n",
       "      <td id=\"T_f44d5_row4_col0\" class=\"data row4 col0\" >s7idehep</td>\n",
       "      <td id=\"T_f44d5_row4_col1\" class=\"data row4 col1\" >0.666667</td>\n",
       "      <td id=\"T_f44d5_row4_col2\" class=\"data row4 col2\" >Medicine: before <mark style=\"background-color: #ffd54f;\">COVID</mark>-<mark style=\"background-color: #ffd54f;\">19</mark>, and after</td>\n",
       "      <td id=\"T_f44d5_row4_col3\" class=\"data row4 col3\" >Medicine: before <mark style=\"background-color: #ffd54f;\">COVID</mark>-<mark style=\"background-color: #ffd54f;\">19</mark>, and after</td>\n",
       "    </tr>\n",
       "    <tr>\n",
       "      <th id=\"T_f44d5_level0_row5\" class=\"row_heading level0 row5\" >5</th>\n",
       "      <td id=\"T_f44d5_row5_col0\" class=\"data row5 col0\" >s4dqx9en</td>\n",
       "      <td id=\"T_f44d5_row5_col1\" class=\"data row5 col1\" >0.636524</td>\n",
       "      <td id=\"T_f44d5_row5_col2\" class=\"data row5 col2\" >Plasma Metabolomic and Lipidomic Alterations Associated with <mark style=\"background-color: #ffd54f;\">COVID</mark>-19The pandemic <mark style=\"background-color: #ffd54f;\">of</mark> the coronavirus disease 2019 (<mark style=\"background-color: #ffd54f;\">COVID</mark>-<mark style=\"background-color: #ffd54f;\">19</mark>) has become a global public health crisis</td>\n",
       "      <td id=\"T_f44d5_row5_col3\" class=\"data row5 col3\" ><mark style=\"background-color: #ffd54f;\">COVID</mark>-<mark style=\"background-color: #ffd54f;\">19</mark> is marked by its rapid progression from mild to severe conditions, particularly in the absence <mark style=\"background-color: #ffd54f;\">of</mark> adequate medical care. However, the physiological changes associated with <mark style=\"background-color: #ffd54f;\">COVID</mark>-<mark style=\"background-color: #ffd54f;\">19</mark> are barely understood. In this study, we performed untargeted metabolomic and lipidomic analyses <mark style=\"background-color: #ffd54f;\">of</mark> plasma from a cohort <mark style=\"background-color: #ffd54f;\">of</mark> <mark style=\"background-color: #ffd54f;\">COVID</mark>-<mark style=\"background-color: #ffd54f;\">19</mark> patients who had experienced different symptoms. We found the metabolite and lipid alterations exhibit apparent correlation with the course <mark style=\"background-color: #ffd54f;\">of</mark> disease in these <mark style=\"background-color: #ffd54f;\">COVID</mark>-<mark style=\"background-color: #ffd54f;\">19</mark> patients, indicating that the development <mark style=\"background-color: #ffd54f;\">of</mark> <mark style=\"background-color: #ffd54f;\">COVID</mark>-<mark style=\"background-color: #ffd54f;\">19</mark> affected patient metabolism. Moreover, many <mark style=\"background-color: #ffd54f;\">of</mark> the metabolite and lipid alterations, particularly ones associated with hepatic functions, have been found to align with the progress and severity <mark style=\"background-color: #ffd54f;\">of</mark> <mark style=\"background-color: #ffd54f;\">COVID</mark>-<mark style=\"background-color: #ffd54f;\">19</mark>. This work provides valuable knowledge about blood biomarkers associated with <mark style=\"background-color: #ffd54f;\">COVID</mark>-<mark style=\"background-color: #ffd54f;\">19</mark> and potential therapeutic targets, and presents important resource for further studies <mark style=\"background-color: #ffd54f;\">of</mark> <mark style=\"background-color: #ffd54f;\">COVID</mark>-<mark style=\"background-color: #ffd54f;\">19</mark> pathogenesis.</td>\n",
       "    </tr>\n",
       "    <tr>\n",
       "      <th id=\"T_f44d5_level0_row6\" class=\"row_heading level0 row6\" >6</th>\n",
       "      <td id=\"T_f44d5_row6_col0\" class=\"data row6 col0\" >awitk3se</td>\n",
       "      <td id=\"T_f44d5_row6_col1\" class=\"data row6 col1\" >0.620337</td>\n",
       "      <td id=\"T_f44d5_row6_col2\" class=\"data row6 col2\" ><mark style=\"background-color: #ffd54f;\">COVID</mark>-<mark style=\"background-color: #ffd54f;\">19</mark> (Novel Coronavirus 2019) - recent trendsThe World Health Organization (WHO) has issued a warning that, although the 2019 novel coronavirus (<mark style=\"background-color: #ffd54f;\">COVID</mark>-<mark style=\"background-color: #ffd54f;\">19</mark>) from Wuhan City (China), is not pandemic, it should be contained to prevent the global spread</td>\n",
       "      <td id=\"T_f44d5_row6_col3\" class=\"data row6 col3\" >The <mark style=\"background-color: #ffd54f;\">COVID</mark>-<mark style=\"background-color: #ffd54f;\">19</mark> virus was known earlier as 2019-nCoV. As <mark style=\"background-color: #ffd54f;\">of</mark> 12 February 2020, WHO reported 45,171 cases and 1115 deaths related to <mark style=\"background-color: #ffd54f;\">COVID</mark>-<mark style=\"background-color: #ffd54f;\">19</mark>. <mark style=\"background-color: #ffd54f;\">COVID</mark>-<mark style=\"background-color: #ffd54f;\">19</mark> is similar to Severe Acute Respiratory Syndrome coronavirus (SARS-CoV) virus in its pathogenicity, clinical spectrum, and epidemiology. Comparison <mark style=\"background-color: #ffd54f;\">of</mark> the genome sequences <mark style=\"background-color: #ffd54f;\">of</mark> <mark style=\"background-color: #ffd54f;\">COVID</mark>-<mark style=\"background-color: #ffd54f;\">19</mark>, SARS-CoV, and Middle East Respiratory Syndrome coronavirus (MERS-CoV) showed that <mark style=\"background-color: #ffd54f;\">COVID</mark>-<mark style=\"background-color: #ffd54f;\">19</mark> has a better sequence identity with SARS-CoV compared to MERS CoV. However, the amino acid sequence <mark style=\"background-color: #ffd54f;\">of</mark> <mark style=\"background-color: #ffd54f;\">COVID</mark>-<mark style=\"background-color: #ffd54f;\">19</mark> differs from other coronaviruses specifically in the regions <mark style=\"background-color: #ffd54f;\">of</mark> 1ab polyprotein and surface glycoprotein or S-protein. Although several animals have been speculated to be a reservoir for <mark style=\"background-color: #ffd54f;\">COVID</mark>-<mark style=\"background-color: #ffd54f;\">19</mark>, no animal reservoir has been already confirmed. <mark style=\"background-color: #ffd54f;\">COVID</mark>-<mark style=\"background-color: #ffd54f;\">19</mark> causes <mark style=\"background-color: #ffd54f;\">COVID</mark>-<mark style=\"background-color: #ffd54f;\">19</mark> disease that has similar symptoms as SARS-CoV. Studies suggest that the human receptor for <mark style=\"background-color: #ffd54f;\">COVID</mark>-<mark style=\"background-color: #ffd54f;\">19</mark> may be angiotensin-converting enzyme 2 (ACE2) receptor similar to that <mark style=\"background-color: #ffd54f;\">of</mark> SARS-CoV. The nucleocapsid (N) protein <mark style=\"background-color: #ffd54f;\">of</mark> <mark style=\"background-color: #ffd54f;\">COVID</mark>-<mark style=\"background-color: #ffd54f;\">19</mark> has nearly 90% amino acid sequence identity with SARS-CoV. The N protein antibodies <mark style=\"background-color: #ffd54f;\">of</mark> SARS-CoV may cross react with <mark style=\"background-color: #ffd54f;\">COVID</mark>-<mark style=\"background-color: #ffd54f;\">19</mark> but may not provide cross-immunity. In a similar fashion to SARS-CoV, the N protein <mark style=\"background-color: #ffd54f;\">of</mark> <mark style=\"background-color: #ffd54f;\">COVID</mark>-<mark style=\"background-color: #ffd54f;\">19</mark> may play an important role in suppressing the RNA interference (RNAi) to overcome the host defense. This mini-review aims at investigating the most recent trend <mark style=\"background-color: #ffd54f;\">of</mark> <mark style=\"background-color: #ffd54f;\">COVID</mark>-<mark style=\"background-color: #ffd54f;\">19</mark>.</td>\n",
       "    </tr>\n",
       "    <tr>\n",
       "      <th id=\"T_f44d5_level0_row7\" class=\"row_heading level0 row7\" >7</th>\n",
       "      <td id=\"T_f44d5_row7_col0\" class=\"data row7 col0\" >sjyrr2bn</td>\n",
       "      <td id=\"T_f44d5_row7_col1\" class=\"data row7 col1\" >0.605228</td>\n",
       "      <td id=\"T_f44d5_row7_col2\" class=\"data row7 col2\" ><mark style=\"background-color: #ffd54f;\">COVID</mark>-<mark style=\"background-color: #ffd54f;\">19</mark>: A promising cure for the global panicAbstract The novel Coronavirus disease 2019 (<mark style=\"background-color: #ffd54f;\">COVID</mark>-<mark style=\"background-color: #ffd54f;\">19</mark>) is caused by SARS-CoV-2, which is the causative agent <mark style=\"background-color: #ffd54f;\">of</mark> a potentially fatal disease that is <mark style=\"background-color: #ffd54f;\">of</mark> great global public health concern</td>\n",
       "      <td id=\"T_f44d5_row7_col3\" class=\"data row7 col3\" >The outbreak <mark style=\"background-color: #ffd54f;\">of</mark> <mark style=\"background-color: #ffd54f;\">COVID</mark>-<mark style=\"background-color: #ffd54f;\">19</mark> is wreaking havoc worldwide due to inadequate risk assessment regarding the urgency <mark style=\"background-color: #ffd54f;\">of</mark> the situation. The <mark style=\"background-color: #ffd54f;\">COVID</mark>-<mark style=\"background-color: #ffd54f;\">19</mark> pandemic has entered a dangerous new phase. When compared with SARS and MERS, <mark style=\"background-color: #ffd54f;\">COVID</mark>-<mark style=\"background-color: #ffd54f;\">19</mark> has spread more rapidly, due to increased globalization and adaptation <mark style=\"background-color: #ffd54f;\">of</mark> the virus in every environment. Slowing the spread <mark style=\"background-color: #ffd54f;\">of</mark> the <mark style=\"background-color: #ffd54f;\">COVID</mark>-<mark style=\"background-color: #ffd54f;\">19</mark> cases will significantly reduce the strain on the healthcare system <mark style=\"background-color: #ffd54f;\">of</mark> the country by limiting the number <mark style=\"background-color: #ffd54f;\">of</mark> people who are severely sick by <mark style=\"background-color: #ffd54f;\">COVID</mark>-<mark style=\"background-color: #ffd54f;\">19</mark> and need hospital care. Hence, the recent outburst <mark style=\"background-color: #ffd54f;\">of</mark> <mark style=\"background-color: #ffd54f;\">COVID</mark>-<mark style=\"background-color: #ffd54f;\">19</mark> highlights an urgent need for therapeutics targeting SARS-CoV-2. Here, we have discussed the structure <mark style=\"background-color: #ffd54f;\">of</mark> virus; varying symptoms among <mark style=\"background-color: #ffd54f;\">COVID</mark>-<mark style=\"background-color: #ffd54f;\">19</mark>, SARS, MERS and common flu; the probable mechanism behind the infection and its immune response. Further, the current treatment options, drugs available, ongoing trials and recent diagnostics for <mark style=\"background-color: #ffd54f;\">COVID</mark>-<mark style=\"background-color: #ffd54f;\">19</mark> have been discussed. We suggest traditional Indian medicinal plants as possible novel therapeutic approaches, exclusively targeting SARS-CoV-2 and its pathways.</td>\n",
       "    </tr>\n",
       "    <tr>\n",
       "      <th id=\"T_f44d5_level0_row8\" class=\"row_heading level0 row8\" >8</th>\n",
       "      <td id=\"T_f44d5_row8_col0\" class=\"data row8 col0\" >1s0exznp</td>\n",
       "      <td id=\"T_f44d5_row8_col1\" class=\"data row8 col1\" >0.591377</td>\n",
       "      <td id=\"T_f44d5_row8_col2\" class=\"data row8 col2\" >Generation <mark style=\"background-color: #ffd54f;\">of</mark> antibodies against <mark style=\"background-color: #ffd54f;\">COVID</mark>-<mark style=\"background-color: #ffd54f;\">19</mark> virus for development <mark style=\"background-color: #ffd54f;\">of</mark> diagnostic toolsThe <mark style=\"background-color: #ffd54f;\">COVID</mark>-<mark style=\"background-color: #ffd54f;\">19</mark> China coronavirus started in Dec 2019 was challenged by the lack <mark style=\"background-color: #ffd54f;\">of</mark> accurate serological diagnostic tool for this deadly disease to quickly identify and isolate the infected patients</td>\n",
       "      <td id=\"T_f44d5_row8_col3\" class=\"data row8 col3\" >The generation <mark style=\"background-color: #ffd54f;\">of</mark> <mark style=\"background-color: #ffd54f;\">COVID</mark>-<mark style=\"background-color: #ffd54f;\">19</mark>-specific antibodies is essential for such tasks. Here we report that polyclonal and monoclonal antibodies were generated by immunizing animals with synthetic peptides corresponding to different areas <mark style=\"background-color: #ffd54f;\">of</mark> Nucleoprotein (N) <mark style=\"background-color: #ffd54f;\">of</mark> <mark style=\"background-color: #ffd54f;\">COVID</mark>-<mark style=\"background-color: #ffd54f;\">19</mark>. The specificities <mark style=\"background-color: #ffd54f;\">of</mark> the <mark style=\"background-color: #ffd54f;\">COVID</mark>-<mark style=\"background-color: #ffd54f;\">19</mark> antibodies were assessed by Western Blot analysis against NPs from <mark style=\"background-color: #ffd54f;\">COVID</mark>-<mark style=\"background-color: #ffd54f;\">19</mark>, MERS and SARS. Antibodies were used for immunohistochemistry staining <mark style=\"background-color: #ffd54f;\">of</mark> the tissue sections from <mark style=\"background-color: #ffd54f;\">COVID</mark>-<mark style=\"background-color: #ffd54f;\">19</mark> infected patient, as a potential diagnostic tool. A Sandwich ELISA kit was quickly assembled for quantitation <mark style=\"background-color: #ffd54f;\">of</mark> the virus/NP <mark style=\"background-color: #ffd54f;\">of</mark> <mark style=\"background-color: #ffd54f;\">COVID</mark>-<mark style=\"background-color: #ffd54f;\">19</mark> concentrations in the vaccine preparations. Development <mark style=\"background-color: #ffd54f;\">of</mark> POCT is also aggressively undergoing.</td>\n",
       "    </tr>\n",
       "    <tr>\n",
       "      <th id=\"T_f44d5_level0_row9\" class=\"row_heading level0 row9\" >9</th>\n",
       "      <td id=\"T_f44d5_row9_col0\" class=\"data row9 col0\" >nxfr24sp</td>\n",
       "      <td id=\"T_f44d5_row9_col1\" class=\"data row9 col1\" >0.583072</td>\n",
       "      <td id=\"T_f44d5_row9_col2\" class=\"data row9 col2\" >Coronavirus Disease 2019 (<mark style=\"background-color: #ffd54f;\">COVID</mark>-<mark style=\"background-color: #ffd54f;\">19</mark>) Pneumonia in a Hemodialysis PatientCoronavirus disease 2019 (<mark style=\"background-color: #ffd54f;\">COVID</mark>-<mark style=\"background-color: #ffd54f;\">19</mark>) is a highly infective disease caused by the severe acute respiratory syndrome coronavirus 2 virus (SARS-CoV-2)</td>\n",
       "      <td id=\"T_f44d5_row9_col3\" class=\"data row9 col3\" >Previous studies <mark style=\"background-color: #ffd54f;\">of</mark> the <mark style=\"background-color: #ffd54f;\">COVID</mark>-<mark style=\"background-color: #ffd54f;\">19</mark> pneumonia outbreak were based on information from the general population. Limited data are available for hemodialysis patients with <mark style=\"background-color: #ffd54f;\">COVID</mark>-<mark style=\"background-color: #ffd54f;\">19</mark> pneumonia. This report describes the clinical characteristics <mark style=\"background-color: #ffd54f;\">of</mark> <mark style=\"background-color: #ffd54f;\">COVID</mark>-<mark style=\"background-color: #ffd54f;\">19</mark> in an in-center hemodialysis patient, as well as our experience in implementing steps to prevent the spread <mark style=\"background-color: #ffd54f;\">of</mark> <mark style=\"background-color: #ffd54f;\">COVID</mark>-<mark style=\"background-color: #ffd54f;\">19</mark> pneumonia among in-center hemodialysis patients. The diagnosis, infection control, and treatment <mark style=\"background-color: #ffd54f;\">of</mark> <mark style=\"background-color: #ffd54f;\">COVID</mark>-<mark style=\"background-color: #ffd54f;\">19</mark> in hemodialysis patients are discussed in this report, and we conclude with recommendations for how a dialysis facility can respond to <mark style=\"background-color: #ffd54f;\">COVID</mark>-<mark style=\"background-color: #ffd54f;\">19</mark> based on our experiences.</td>\n",
       "    </tr>\n",
       "  </tbody>\n",
       "</table>\n"
      ],
      "text/plain": [
       "<pandas.io.formats.style.Styler at 0x2c485bac990>"
      ]
     },
     "metadata": {},
     "output_type": "display_data"
    }
   ],
   "source": [
    "query = \"origin of COVID-19\"\n",
    "results = search_tf(query, top_k=10)\n",
    "display_search_results(results, query)\n"
   ]
  },
  {
   "cell_type": "markdown",
   "metadata": {},
   "source": [
    "#### Evaluation du moteur de recherche tf"
   ]
  },
  {
   "cell_type": "code",
   "execution_count": 38,
   "metadata": {},
   "outputs": [
    {
     "name": "stdout",
     "output_type": "stream",
     "text": [
      "Résultats du modèle sac de mots (tf) :\n",
      "- precision@k: 0.1733\n",
      "- recall@k: 0.0067\n",
      "- F1@k: 0.0128\n",
      "- MRR: 0.4356\n",
      "- nDCG@k: 0.5374\n",
      "- MAP: 0.0035\n"
     ]
    }
   ],
   "source": [
    "results_tf = evaluate_model(search_tf, queries_df, qrels_df, k=10)\n",
    "\n",
    "print(\"Résultats du modèle sac de mots (tf) :\")\n",
    "for metric, score in results_tf.items():\n",
    "    print(f\"- {metric}: {score:.4f}\")\n"
   ]
  },
  {
   "cell_type": "markdown",
   "metadata": {},
   "source": [
    "### Commentaire \n",
    "Ici on constate une légère amélioration des scores \n",
    "\n",
    "Comme nous l'avions dit précédemment, le moteur binaire ne prenait pas en compte la fréquence des mots. Ce nouveau moteur ne prend certe pas en compte le contexte (semantique), l'ordre des mots, mais il est mieux que le modèle précédent et mieux que le modèle booléen que nous avons effectué plus haut "
   ]
  },
  {
   "cell_type": "markdown",
   "metadata": {},
   "source": [
    "### TF-IDF (Term Frequency-Inverse Document Frequency)\n",
    "\n",
    "- Ici nous ajoutons l'aspect de rareté au moteur précédent (TF)\n",
    "-  Nous allons faire une évaluation (Précision, rappel, nDCG, MRR (découvert lors des recherches, qui permet de savoir si le premier document est toujours celui qui est pertinent))\n",
    "\n",
    "**MRR** : Mean Reciprocal Rank, si le document pertinent est à la position 1 alors le score est de 1, si c'est en deuxième, le score est de 1/2 ainsi de suite. Puis on fait la moyenne de tous ces scores ce qui donne le MRR global, si cela vaut 1 alors le moteur de recherche met toujours le document pertinent comme premier document "
   ]
  },
  {
   "cell_type": "markdown",
   "metadata": {},
   "source": [
    "### Construction de la matrice tf-idf \n",
    "\n",
    "Ici, à la place des fréquences, on utilise les poids tfidf = tf x idf (tf = nombre d'occurence du mot divisé par la taille du vocabulaire, idf = logarithme du nombre total de documents, divisé par le nombre de documents dans lequels le mots apparait)"
   ]
  },
  {
   "cell_type": "code",
   "execution_count": 39,
   "metadata": {},
   "outputs": [],
   "source": [
    "from sklearn.feature_extraction.text import TfidfVectorizer\n",
    "\n",
    "vectorizer_tfidf = TfidfVectorizer()\n",
    "X_tfidf = vectorizer_tfidf.fit_transform(documents_df[\"tokens\"].apply(lambda tokens: \" \".join(tokens)))"
   ]
  },
  {
   "cell_type": "code",
   "execution_count": 40,
   "metadata": {},
   "outputs": [
    {
     "data": {
      "text/plain": [
       "(51078, 3)"
      ]
     },
     "execution_count": 40,
     "metadata": {},
     "output_type": "execute_result"
    }
   ],
   "source": [
    "documents_df.shape"
   ]
  },
  {
   "cell_type": "markdown",
   "metadata": {},
   "source": [
    "#### Vectorisation de la requête avec le même vectorizer "
   ]
  },
  {
   "cell_type": "code",
   "execution_count": 41,
   "metadata": {},
   "outputs": [],
   "source": [
    "def vectorize_query_tfidf(query_text):\n",
    "    tokens = clean_text(query_text)\n",
    "    query_string = \" \".join(tokens)\n",
    "    return vectorizer_tfidf.transform([query_string])\n"
   ]
  },
  {
   "cell_type": "markdown",
   "metadata": {},
   "source": [
    "#### Recherche par similarité cosinus "
   ]
  },
  {
   "cell_type": "code",
   "execution_count": 42,
   "metadata": {},
   "outputs": [],
   "source": [
    "from sklearn.metrics.pairwise import cosine_similarity\n",
    "\n",
    "def search_tfidf(query_text, top_k=10):\n",
    "    # Dans cette fonction de recherche on applique sur la requête la vectorisation avec le même vectorizer qu'on a utilisé pour les \n",
    "    # documents afin de pouvoir faire le calcul de similarité cosinus entre la requête et les documents\n",
    "    query_vec = vectorize_query_tfidf(query_text)\n",
    "    scores = cosine_similarity(query_vec, X_tfidf).flatten()\n",
    "    top_indices = scores.argsort()[::-1][:top_k]\n",
    "    \n",
    "    results = documents_df.iloc[top_indices].copy()\n",
    "    results[\"score\"] = scores[top_indices]\n",
    "    results[\"title\"] = results[\"text\"].apply(lambda t: t.split(\". \")[0] if \". \" in t else t[:100])\n",
    "    results[\"abstract\"] = results[\"text\"].apply(lambda t: t if \". \" not in t else \". \".join(t.split(\". \")[1:]))\n",
    "    \n",
    "    return results[[\"doc_id\", \"title\", \"abstract\", \"score\"]].to_dict(orient=\"records\")\n"
   ]
  },
  {
   "cell_type": "markdown",
   "metadata": {},
   "source": [
    "#### Test sur la requête "
   ]
  },
  {
   "cell_type": "code",
   "execution_count": 43,
   "metadata": {},
   "outputs": [
    {
     "data": {
      "text/html": [
       "<style type=\"text/css\">\n",
       "#T_ada75 th {\n",
       "  background-color: #208A9D;\n",
       "  color: white;\n",
       "  font-weight: bold;\n",
       "}\n",
       "#T_ada75_row0_col0, #T_ada75_row0_col1, #T_ada75_row0_col2, #T_ada75_row0_col3, #T_ada75_row1_col0, #T_ada75_row1_col1, #T_ada75_row1_col2, #T_ada75_row1_col3, #T_ada75_row2_col0, #T_ada75_row2_col1, #T_ada75_row2_col2, #T_ada75_row2_col3, #T_ada75_row3_col0, #T_ada75_row3_col1, #T_ada75_row3_col2, #T_ada75_row3_col3, #T_ada75_row4_col0, #T_ada75_row4_col1, #T_ada75_row4_col2, #T_ada75_row4_col3, #T_ada75_row5_col0, #T_ada75_row5_col1, #T_ada75_row5_col2, #T_ada75_row5_col3, #T_ada75_row6_col0, #T_ada75_row6_col1, #T_ada75_row6_col2, #T_ada75_row6_col3, #T_ada75_row7_col0, #T_ada75_row7_col1, #T_ada75_row7_col2, #T_ada75_row7_col3, #T_ada75_row8_col0, #T_ada75_row8_col1, #T_ada75_row8_col2, #T_ada75_row8_col3, #T_ada75_row9_col0, #T_ada75_row9_col1, #T_ada75_row9_col2, #T_ada75_row9_col3 {\n",
       "  border: 1px solid #ccc;\n",
       "  padding: 8px;\n",
       "  text-align: left;\n",
       "}\n",
       "</style>\n",
       "<table id=\"T_ada75\" style='width:100%; border-collapse:collapse'>\n",
       "  <thead>\n",
       "    <tr>\n",
       "      <th class=\"blank level0\" >&nbsp;</th>\n",
       "      <th id=\"T_ada75_level0_col0\" class=\"col_heading level0 col0\" >doc_id</th>\n",
       "      <th id=\"T_ada75_level0_col1\" class=\"col_heading level0 col1\" >score</th>\n",
       "      <th id=\"T_ada75_level0_col2\" class=\"col_heading level0 col2\" >title</th>\n",
       "      <th id=\"T_ada75_level0_col3\" class=\"col_heading level0 col3\" >abstract</th>\n",
       "    </tr>\n",
       "  </thead>\n",
       "  <tbody>\n",
       "    <tr>\n",
       "      <th id=\"T_ada75_level0_row0\" class=\"row_heading level0 row0\" >0</th>\n",
       "      <td id=\"T_ada75_row0_col0\" class=\"data row0 col0\" >gv1k7u7j</td>\n",
       "      <td id=\"T_ada75_row0_col1\" class=\"data row0 col1\" >0.660956</td>\n",
       "      <td id=\"T_ada75_row0_col2\" class=\"data row0 col2\" >Strategies to trace back the <mark style=\"background-color: #ffd54f;\">origin</mark> <mark style=\"background-color: #ffd54f;\">of</mark> <mark style=\"background-color: #ffd54f;\">COVID</mark>-<mark style=\"background-color: #ffd54f;\">19</mark></td>\n",
       "      <td id=\"T_ada75_row0_col3\" class=\"data row0 col3\" >Strategies to trace back the <mark style=\"background-color: #ffd54f;\">origin</mark> <mark style=\"background-color: #ffd54f;\">of</mark> <mark style=\"background-color: #ffd54f;\">COVID</mark>-<mark style=\"background-color: #ffd54f;\">19</mark></td>\n",
       "    </tr>\n",
       "    <tr>\n",
       "      <th id=\"T_ada75_level0_row1\" class=\"row_heading level0 row1\" >1</th>\n",
       "      <td id=\"T_ada75_row1_col0\" class=\"data row1 col0\" >pttcysvc</td>\n",
       "      <td id=\"T_ada75_row1_col1\" class=\"data row1 col1\" >0.584060</td>\n",
       "      <td id=\"T_ada75_row1_col2\" class=\"data row1 col2\" ><mark style=\"background-color: #ffd54f;\">COVID</mark>-<mark style=\"background-color: #ffd54f;\">19</mark>, a pandemic or not?</td>\n",
       "      <td id=\"T_ada75_row1_col3\" class=\"data row1 col3\" ><mark style=\"background-color: #ffd54f;\">COVID</mark>-<mark style=\"background-color: #ffd54f;\">19</mark>, a pandemic or not?</td>\n",
       "    </tr>\n",
       "    <tr>\n",
       "      <th id=\"T_ada75_level0_row2\" class=\"row_heading level0 row2\" >2</th>\n",
       "      <td id=\"T_ada75_row2_col0\" class=\"data row2 col0\" >13veedct</td>\n",
       "      <td id=\"T_ada75_row2_col1\" class=\"data row2 col1\" >0.553684</td>\n",
       "      <td id=\"T_ada75_row2_col2\" class=\"data row2 col2\" ><mark style=\"background-color: #ffd54f;\">COVID</mark>-<mark style=\"background-color: #ffd54f;\">19</mark> infection in children</td>\n",
       "      <td id=\"T_ada75_row2_col3\" class=\"data row2 col3\" ><mark style=\"background-color: #ffd54f;\">COVID</mark>-<mark style=\"background-color: #ffd54f;\">19</mark> infection in children</td>\n",
       "    </tr>\n",
       "    <tr>\n",
       "      <th id=\"T_ada75_level0_row3\" class=\"row_heading level0 row3\" >3</th>\n",
       "      <td id=\"T_ada75_row3_col0\" class=\"data row3 col0\" >1g2mup0k</td>\n",
       "      <td id=\"T_ada75_row3_col1\" class=\"data row3 col1\" >0.553567</td>\n",
       "      <td id=\"T_ada75_row3_col2\" class=\"data row3 col2\" ><mark style=\"background-color: #ffd54f;\">COVID</mark>-<mark style=\"background-color: #ffd54f;\">19</mark>: what is next for public health?</td>\n",
       "      <td id=\"T_ada75_row3_col3\" class=\"data row3 col3\" ><mark style=\"background-color: #ffd54f;\">COVID</mark>-<mark style=\"background-color: #ffd54f;\">19</mark>: what is next for public health?</td>\n",
       "    </tr>\n",
       "    <tr>\n",
       "      <th id=\"T_ada75_level0_row4\" class=\"row_heading level0 row4\" >4</th>\n",
       "      <td id=\"T_ada75_row4_col0\" class=\"data row4 col0\" >awitk3se</td>\n",
       "      <td id=\"T_ada75_row4_col1\" class=\"data row4 col1\" >0.551013</td>\n",
       "      <td id=\"T_ada75_row4_col2\" class=\"data row4 col2\" ><mark style=\"background-color: #ffd54f;\">COVID</mark>-<mark style=\"background-color: #ffd54f;\">19</mark> (Novel Coronavirus 2019) - recent trendsThe World Health Organization (WHO) has issued a warning that, although the 2019 novel coronavirus (<mark style=\"background-color: #ffd54f;\">COVID</mark>-<mark style=\"background-color: #ffd54f;\">19</mark>) from Wuhan City (China), is not pandemic, it should be contained to prevent the global spread</td>\n",
       "      <td id=\"T_ada75_row4_col3\" class=\"data row4 col3\" >The <mark style=\"background-color: #ffd54f;\">COVID</mark>-<mark style=\"background-color: #ffd54f;\">19</mark> virus was known earlier as 2019-nCoV. As <mark style=\"background-color: #ffd54f;\">of</mark> 12 February 2020, WHO reported 45,171 cases and 1115 deaths related to <mark style=\"background-color: #ffd54f;\">COVID</mark>-<mark style=\"background-color: #ffd54f;\">19</mark>. <mark style=\"background-color: #ffd54f;\">COVID</mark>-<mark style=\"background-color: #ffd54f;\">19</mark> is similar to Severe Acute Respiratory Syndrome coronavirus (SARS-CoV) virus in its pathogenicity, clinical spectrum, and epidemiology. Comparison <mark style=\"background-color: #ffd54f;\">of</mark> the genome sequences <mark style=\"background-color: #ffd54f;\">of</mark> <mark style=\"background-color: #ffd54f;\">COVID</mark>-<mark style=\"background-color: #ffd54f;\">19</mark>, SARS-CoV, and Middle East Respiratory Syndrome coronavirus (MERS-CoV) showed that <mark style=\"background-color: #ffd54f;\">COVID</mark>-<mark style=\"background-color: #ffd54f;\">19</mark> has a better sequence identity with SARS-CoV compared to MERS CoV. However, the amino acid sequence <mark style=\"background-color: #ffd54f;\">of</mark> <mark style=\"background-color: #ffd54f;\">COVID</mark>-<mark style=\"background-color: #ffd54f;\">19</mark> differs from other coronaviruses specifically in the regions <mark style=\"background-color: #ffd54f;\">of</mark> 1ab polyprotein and surface glycoprotein or S-protein. Although several animals have been speculated to be a reservoir for <mark style=\"background-color: #ffd54f;\">COVID</mark>-<mark style=\"background-color: #ffd54f;\">19</mark>, no animal reservoir has been already confirmed. <mark style=\"background-color: #ffd54f;\">COVID</mark>-<mark style=\"background-color: #ffd54f;\">19</mark> causes <mark style=\"background-color: #ffd54f;\">COVID</mark>-<mark style=\"background-color: #ffd54f;\">19</mark> disease that has similar symptoms as SARS-CoV. Studies suggest that the human receptor for <mark style=\"background-color: #ffd54f;\">COVID</mark>-<mark style=\"background-color: #ffd54f;\">19</mark> may be angiotensin-converting enzyme 2 (ACE2) receptor similar to that <mark style=\"background-color: #ffd54f;\">of</mark> SARS-CoV. The nucleocapsid (N) protein <mark style=\"background-color: #ffd54f;\">of</mark> <mark style=\"background-color: #ffd54f;\">COVID</mark>-<mark style=\"background-color: #ffd54f;\">19</mark> has nearly 90% amino acid sequence identity with SARS-CoV. The N protein antibodies <mark style=\"background-color: #ffd54f;\">of</mark> SARS-CoV may cross react with <mark style=\"background-color: #ffd54f;\">COVID</mark>-<mark style=\"background-color: #ffd54f;\">19</mark> but may not provide cross-immunity. In a similar fashion to SARS-CoV, the N protein <mark style=\"background-color: #ffd54f;\">of</mark> <mark style=\"background-color: #ffd54f;\">COVID</mark>-<mark style=\"background-color: #ffd54f;\">19</mark> may play an important role in suppressing the RNA interference (RNAi) to overcome the host defense. This mini-review aims at investigating the most recent trend <mark style=\"background-color: #ffd54f;\">of</mark> <mark style=\"background-color: #ffd54f;\">COVID</mark>-<mark style=\"background-color: #ffd54f;\">19</mark>.</td>\n",
       "    </tr>\n",
       "    <tr>\n",
       "      <th id=\"T_ada75_level0_row5\" class=\"row_heading level0 row5\" >5</th>\n",
       "      <td id=\"T_ada75_row5_col0\" class=\"data row5 col0\" >s7idehep</td>\n",
       "      <td id=\"T_ada75_row5_col1\" class=\"data row5 col1\" >0.546831</td>\n",
       "      <td id=\"T_ada75_row5_col2\" class=\"data row5 col2\" >Medicine: before <mark style=\"background-color: #ffd54f;\">COVID</mark>-<mark style=\"background-color: #ffd54f;\">19</mark>, and after</td>\n",
       "      <td id=\"T_ada75_row5_col3\" class=\"data row5 col3\" >Medicine: before <mark style=\"background-color: #ffd54f;\">COVID</mark>-<mark style=\"background-color: #ffd54f;\">19</mark>, and after</td>\n",
       "    </tr>\n",
       "    <tr>\n",
       "      <th id=\"T_ada75_level0_row6\" class=\"row_heading level0 row6\" >6</th>\n",
       "      <td id=\"T_ada75_row6_col0\" class=\"data row6 col0\" >tq0dzwy1</td>\n",
       "      <td id=\"T_ada75_row6_col1\" class=\"data row6 col1\" >0.504460</td>\n",
       "      <td id=\"T_ada75_row6_col2\" class=\"data row6 col2\" >The Coronavirus Disease 2019 (<mark style=\"background-color: #ffd54f;\">COVID</mark>-<mark style=\"background-color: #ffd54f;\">19</mark>)</td>\n",
       "      <td id=\"T_ada75_row6_col3\" class=\"data row6 col3\" >The Coronavirus Disease 2019 (<mark style=\"background-color: #ffd54f;\">COVID</mark>-<mark style=\"background-color: #ffd54f;\">19</mark>)</td>\n",
       "    </tr>\n",
       "    <tr>\n",
       "      <th id=\"T_ada75_level0_row7\" class=\"row_heading level0 row7\" >7</th>\n",
       "      <td id=\"T_ada75_row7_col0\" class=\"data row7 col0\" >sjyrr2bn</td>\n",
       "      <td id=\"T_ada75_row7_col1\" class=\"data row7 col1\" >0.501568</td>\n",
       "      <td id=\"T_ada75_row7_col2\" class=\"data row7 col2\" ><mark style=\"background-color: #ffd54f;\">COVID</mark>-<mark style=\"background-color: #ffd54f;\">19</mark>: A promising cure for the global panicAbstract The novel Coronavirus disease 2019 (<mark style=\"background-color: #ffd54f;\">COVID</mark>-<mark style=\"background-color: #ffd54f;\">19</mark>) is caused by SARS-CoV-2, which is the causative agent <mark style=\"background-color: #ffd54f;\">of</mark> a potentially fatal disease that is <mark style=\"background-color: #ffd54f;\">of</mark> great global public health concern</td>\n",
       "      <td id=\"T_ada75_row7_col3\" class=\"data row7 col3\" >The outbreak <mark style=\"background-color: #ffd54f;\">of</mark> <mark style=\"background-color: #ffd54f;\">COVID</mark>-<mark style=\"background-color: #ffd54f;\">19</mark> is wreaking havoc worldwide due to inadequate risk assessment regarding the urgency <mark style=\"background-color: #ffd54f;\">of</mark> the situation. The <mark style=\"background-color: #ffd54f;\">COVID</mark>-<mark style=\"background-color: #ffd54f;\">19</mark> pandemic has entered a dangerous new phase. When compared with SARS and MERS, <mark style=\"background-color: #ffd54f;\">COVID</mark>-<mark style=\"background-color: #ffd54f;\">19</mark> has spread more rapidly, due to increased globalization and adaptation <mark style=\"background-color: #ffd54f;\">of</mark> the virus in every environment. Slowing the spread <mark style=\"background-color: #ffd54f;\">of</mark> the <mark style=\"background-color: #ffd54f;\">COVID</mark>-<mark style=\"background-color: #ffd54f;\">19</mark> cases will significantly reduce the strain on the healthcare system <mark style=\"background-color: #ffd54f;\">of</mark> the country by limiting the number <mark style=\"background-color: #ffd54f;\">of</mark> people who are severely sick by <mark style=\"background-color: #ffd54f;\">COVID</mark>-<mark style=\"background-color: #ffd54f;\">19</mark> and need hospital care. Hence, the recent outburst <mark style=\"background-color: #ffd54f;\">of</mark> <mark style=\"background-color: #ffd54f;\">COVID</mark>-<mark style=\"background-color: #ffd54f;\">19</mark> highlights an urgent need for therapeutics targeting SARS-CoV-2. Here, we have discussed the structure <mark style=\"background-color: #ffd54f;\">of</mark> virus; varying symptoms among <mark style=\"background-color: #ffd54f;\">COVID</mark>-<mark style=\"background-color: #ffd54f;\">19</mark>, SARS, MERS and common flu; the probable mechanism behind the infection and its immune response. Further, the current treatment options, drugs available, ongoing trials and recent diagnostics for <mark style=\"background-color: #ffd54f;\">COVID</mark>-<mark style=\"background-color: #ffd54f;\">19</mark> have been discussed. We suggest traditional Indian medicinal plants as possible novel therapeutic approaches, exclusively targeting SARS-CoV-2 and its pathways.</td>\n",
       "    </tr>\n",
       "    <tr>\n",
       "      <th id=\"T_ada75_level0_row8\" class=\"row_heading level0 row8\" >8</th>\n",
       "      <td id=\"T_ada75_row8_col0\" class=\"data row8 col0\" >05xedq1l</td>\n",
       "      <td id=\"T_ada75_row8_col1\" class=\"data row8 col1\" >0.501422</td>\n",
       "      <td id=\"T_ada75_row8_col2\" class=\"data row8 col2\" ><mark style=\"background-color: #ffd54f;\">COVID</mark>-<mark style=\"background-color: #ffd54f;\">19</mark> Therapeutic and Prevention</td>\n",
       "      <td id=\"T_ada75_row8_col3\" class=\"data row8 col3\" ><mark style=\"background-color: #ffd54f;\">COVID</mark>-<mark style=\"background-color: #ffd54f;\">19</mark> Therapeutic and Prevention</td>\n",
       "    </tr>\n",
       "    <tr>\n",
       "      <th id=\"T_ada75_level0_row9\" class=\"row_heading level0 row9\" >9</th>\n",
       "      <td id=\"T_ada75_row9_col0\" class=\"data row9 col0\" >s4dqx9en</td>\n",
       "      <td id=\"T_ada75_row9_col1\" class=\"data row9 col1\" >0.491117</td>\n",
       "      <td id=\"T_ada75_row9_col2\" class=\"data row9 col2\" >Plasma Metabolomic and Lipidomic Alterations Associated with <mark style=\"background-color: #ffd54f;\">COVID</mark>-19The pandemic <mark style=\"background-color: #ffd54f;\">of</mark> the coronavirus disease 2019 (<mark style=\"background-color: #ffd54f;\">COVID</mark>-<mark style=\"background-color: #ffd54f;\">19</mark>) has become a global public health crisis</td>\n",
       "      <td id=\"T_ada75_row9_col3\" class=\"data row9 col3\" ><mark style=\"background-color: #ffd54f;\">COVID</mark>-<mark style=\"background-color: #ffd54f;\">19</mark> is marked by its rapid progression from mild to severe conditions, particularly in the absence <mark style=\"background-color: #ffd54f;\">of</mark> adequate medical care. However, the physiological changes associated with <mark style=\"background-color: #ffd54f;\">COVID</mark>-<mark style=\"background-color: #ffd54f;\">19</mark> are barely understood. In this study, we performed untargeted metabolomic and lipidomic analyses <mark style=\"background-color: #ffd54f;\">of</mark> plasma from a cohort <mark style=\"background-color: #ffd54f;\">of</mark> <mark style=\"background-color: #ffd54f;\">COVID</mark>-<mark style=\"background-color: #ffd54f;\">19</mark> patients who had experienced different symptoms. We found the metabolite and lipid alterations exhibit apparent correlation with the course <mark style=\"background-color: #ffd54f;\">of</mark> disease in these <mark style=\"background-color: #ffd54f;\">COVID</mark>-<mark style=\"background-color: #ffd54f;\">19</mark> patients, indicating that the development <mark style=\"background-color: #ffd54f;\">of</mark> <mark style=\"background-color: #ffd54f;\">COVID</mark>-<mark style=\"background-color: #ffd54f;\">19</mark> affected patient metabolism. Moreover, many <mark style=\"background-color: #ffd54f;\">of</mark> the metabolite and lipid alterations, particularly ones associated with hepatic functions, have been found to align with the progress and severity <mark style=\"background-color: #ffd54f;\">of</mark> <mark style=\"background-color: #ffd54f;\">COVID</mark>-<mark style=\"background-color: #ffd54f;\">19</mark>. This work provides valuable knowledge about blood biomarkers associated with <mark style=\"background-color: #ffd54f;\">COVID</mark>-<mark style=\"background-color: #ffd54f;\">19</mark> and potential therapeutic targets, and presents important resource for further studies <mark style=\"background-color: #ffd54f;\">of</mark> <mark style=\"background-color: #ffd54f;\">COVID</mark>-<mark style=\"background-color: #ffd54f;\">19</mark> pathogenesis.</td>\n",
       "    </tr>\n",
       "  </tbody>\n",
       "</table>\n"
      ],
      "text/plain": [
       "<pandas.io.formats.style.Styler at 0x2c4902ae250>"
      ]
     },
     "metadata": {},
     "output_type": "display_data"
    }
   ],
   "source": [
    "query = \"origin of COVID-19\"\n",
    "display_search_results(search_tfidf(query, top_k=10), query)\n"
   ]
  },
  {
   "cell_type": "markdown",
   "metadata": {},
   "source": [
    "#### Evaluation du moteur de recherche "
   ]
  },
  {
   "cell_type": "code",
   "execution_count": 44,
   "metadata": {},
   "outputs": [
    {
     "name": "stdout",
     "output_type": "stream",
     "text": [
      "Résultats du modèle TF-IDF :\n",
      "- precision@k: 0.5233\n",
      "- recall@k: 0.0205\n",
      "- F1@k: 0.0394\n",
      "- MRR: 0.6667\n",
      "- nDCG@k: 0.7355\n",
      "- MAP: 0.0164\n"
     ]
    }
   ],
   "source": [
    "results_tfidf = evaluate_model(search_tfidf, queries_df, qrels_df, k=10)\n",
    "\n",
    "print(\"Résultats du modèle TF-IDF :\")\n",
    "for metric, score in results_tfidf.items():\n",
    "    print(f\"- {metric}: {score:.4f}\")\n"
   ]
  },
  {
   "cell_type": "markdown",
   "metadata": {},
   "source": [
    "### Commentaire\n",
    "\n",
    "L'ajout de la notion de rareté des termes à travers le TF-IDF marque un tournant significatif dans la qualité du moteur de recherche. On observe une amélioration notable de toutes les métriques, notamment une nDCG@k de 73%, indiquant que les documents jugés pertinents sont désormais mieux classés dans les résultats.\n",
    "\n",
    "Ce modèle commence à véritablement capturer l'intention des requêtes. Pour aller plus loin, nous allons explorer des techniques de prétraitement plus poussées afin d’affiner encore davantage la pertinence des documents retournés."
   ]
  },
  {
   "cell_type": "markdown",
   "metadata": {},
   "source": [
    "### Représentation graphique des scores en fonction des valeurs de k "
   ]
  },
  {
   "cell_type": "code",
   "execution_count": 45,
   "metadata": {},
   "outputs": [],
   "source": [
    "ks = list(range(5, 200, 5))\n",
    "precision_scores = []\n",
    "recall_scores = []\n",
    "ndcg_scores = []\n",
    "\n",
    "for k in ks:\n",
    "    results = evaluate_model(search_tfidf, queries_df, qrels_df, k=k)\n",
    "    precision_scores.append(results[\"precision@k\"])\n",
    "    recall_scores.append(results[\"recall@k\"])\n",
    "    ndcg_scores.append(results['nDCG@k'])\n"
   ]
  },
  {
   "cell_type": "code",
   "execution_count": 46,
   "metadata": {},
   "outputs": [
    {
     "data": {
      "image/png": "[encoded data removed]",
      "text/plain": [
       "<Figure size 800x600 with 1 Axes>"
      ]
     },
     "metadata": {},
     "output_type": "display_data"
    }
   ],
   "source": [
    "import matplotlib.pyplot as plt\n",
    "\n",
    "# Supposons que tu as déjà ces listes\n",
    "# ks, precision_scores, recall_scores, ndcg_scores\n",
    "\n",
    "plt.figure(figsize=(8, 6))\n",
    "\n",
    "# Tracer chaque courbe avec un marqueur et une couleur\n",
    "plt.plot(ks, precision_scores, label='Précision@k', color='blue', marker='o')\n",
    "plt.plot(ks, recall_scores, label='Rappel@k', color='green', marker='s')\n",
    "plt.plot(ks, ndcg_scores, label='nDCG@k', color='red', marker='^')\n",
    "\n",
    "# Ajouter les labels et titre\n",
    "plt.xlabel('Valeur de k')\n",
    "plt.ylabel('Score')\n",
    "plt.title(\"Évolution des métriques en fonction de k (TF-IDF avec lemmatisation)\")\n",
    "\n",
    "# Ajouter une légende\n",
    "plt.legend(loc='lower right')\n",
    "\n",
    "# Ajouter une grille pour plus de lisibilité\n",
    "plt.grid(True)\n",
    "\n",
    "# Affichage\n",
    "plt.tight_layout()\n",
    "plt.show()\n"
   ]
  },
  {
   "cell_type": "markdown",
   "metadata": {},
   "source": [
    "### Ce comportement est typique des moteurs de recherche, plus on ajoute des documents plus on a la chance d'avoir des documents pertinents ce qui augmente le rappel. Mais au contraire on ramène plus de documents non pertinent ce qui réduit la précision. Donc il est presque difficile d'avoir la précision et le rappel très grand surtout avec ce grand jeu de données, c'est pourquoi notre objectif sera plutot de rendre les premiers résultats pertinents (voir MRR et nDCG grands)"
   ]
  },
  {
   "cell_type": "markdown",
   "metadata": {},
   "source": [
    "### Prétraitement avancé et application avec le moteur TF-IDF \n",
    "\n",
    "Nous allons maintenant :\n",
    "\n",
    "1. Appliquer la lemmatisation (réduction des mots à leur forme canonique) avec spaCy pour rendre les textes plus homogènes.\n",
    "\n",
    "2. Utiliser un dictionnaire de synonymes (que nous allons constituer nous même pour le moment car nous n'avons pas pu avoir accès au dictionnaire MeSH, UMLS ou un thesaurus médical simple) afin de détecter les variantes terminologiques fréquentes dans les documents médicaux. Cela permettra :\n",
    "\n",
    "    - D’élargir la couverture des requêtes (récupérer plus de documents pertinents).\n",
    "\n",
    "    - D’améliorer le rappel sans trop sacrifier la précision.\n",
    "\n",
    "3. la suppression des stopwords,\n",
    "\n",
    "4. le filtrage alphabetique,\n",
    "\n",
    "5. l’enrichissement avec un dictionnaire de synonymes (comme le medical_synonyms que nous allons définir).\n",
    "\n"
   ]
  },
  {
   "cell_type": "markdown",
   "metadata": {},
   "source": [
    "### Lemmatisation sur les documents (nous avons déjà combiné le titre et l'abstract) "
   ]
  },
  {
   "cell_type": "code",
   "execution_count": 47,
   "metadata": {},
   "outputs": [
    {
     "name": "stdout",
     "output_type": "stream",
     "text": [
      "Collecting en-core-web-sm==3.8.0\n",
      "  Downloading https://github.com/explosion/spacy-models/releases/download/en_core_web_sm-3.8.0/en_core_web_sm-3.8.0-py3-none-any.whl (12.8 MB)\n",
      "     ---------------------------------------- 0.0/12.8 MB ? eta -:--:--\n",
      "     ---- ----------------------------------- 1.6/12.8 MB 8.3 MB/s eta 0:00:02\n",
      "     ----------- ---------------------------- 3.7/12.8 MB 9.5 MB/s eta 0:00:01\n",
      "     ------------------ --------------------- 6.0/12.8 MB 10.0 MB/s eta 0:00:01\n",
      "     -------------------------- ------------- 8.4/12.8 MB 10.4 MB/s eta 0:00:01\n",
      "     --------------------------------- ----- 11.0/12.8 MB 10.6 MB/s eta 0:00:01\n",
      "     --------------------------------------  12.6/12.8 MB 10.0 MB/s eta 0:00:01\n",
      "     ---------------------------------------- 12.8/12.8 MB 9.8 MB/s eta 0:00:00\n",
      "\u001b[38;5;2m✔ Download and installation successful\u001b[0m\n",
      "You can now load the package via spacy.load('en_core_web_sm')\n"
     ]
    },
    {
     "name": "stderr",
     "output_type": "stream",
     "text": [
      "\n",
      "[notice] A new release of pip is available: 25.0.1 -> 25.1\n",
      "[notice] To update, run: C:\\Users\\12407156\\AppData\\Local\\Microsoft\\WindowsApps\\PythonSoftwareFoundation.Python.3.11_qbz5n2kfra8p0\\python.exe -m pip install --upgrade pip\n"
     ]
    }
   ],
   "source": [
    "!python -m spacy download en_core_web_sm\n"
   ]
  },
  {
   "cell_type": "code",
   "execution_count": 5,
   "metadata": {},
   "outputs": [],
   "source": [
    "import spacy\n",
    "from nltk.tokenize import RegexpTokenizer\n",
    "from sklearn.feature_extraction.text import ENGLISH_STOP_WORDS\n",
    "\n",
    "# Initialisation\n",
    "nlp = spacy.load(\"en_core_web_sm\")\n",
    "tokenizer = RegexpTokenizer(r'\\w+')\n",
    "stop_words = ENGLISH_STOP_WORDS\n",
    "\n",
    "# Dictionnaire médical enrichi\n",
    "medical_synonyms = {\n",
    "    \"covid\": [\"covid19\", \"covid-19\", \"coronavirus\", \"sars-cov-2\", \"2019-ncov\", \"covid19 virus\"],\n",
    "    \"coronavirus\": [\"sars-cov-2\", \"2019-ncov\", \"covid\"],\n",
    "    \"pandemic\": [\"epidemic\", \"outbreak\", \"pandemia\"],\n",
    "    \"mask\": [\"face mask\", \"surgical mask\", \"n95\", \"respirator\"],\n",
    "    \"quarantine\": [\"isolation\", \"lockdown\", \"social distancing\"],\n",
    "    \"vaccine\": [\"vaccination\", \"immunization\", \"inoculation\", \"jab\"],\n",
    "    \"infection\": [\"contamination\", \"transmission\", \"infectious disease\"],\n",
    "    \"treatment\": [\"therapy\", \"medication\", \"intervention\", \"cure\"],\n",
    "    \"hospital\": [\"clinic\", \"medical center\", \"healthcare facility\"],\n",
    "    \"symptom\": [\"clinical sign\", \"manifestation\", \"indicator\"],\n",
    "    \"fever\": [\"pyrexia\", \"high temperature\"],\n",
    "    \"cough\": [\"dry cough\", \"wet cough\"],\n",
    "    \"breathlessness\": [\"shortness of breath\", \"dyspnea\"],\n",
    "    \"fatigue\": [\"tiredness\", \"exhaustion\", \"lethargy\"],\n",
    "    \"headache\": [\"cephalalgia\", \"migraine\"],\n",
    "    \"diabetes\": [\"hyperglycemia\", \"type 2 diabetes\", \"type 1 diabetes\"],\n",
    "    \"heart disease\": [\"cardiovascular disease\", \"cardiac disease\"],\n",
    "    \"lung\": [\"pulmonary\", \"respiratory system\"],\n",
    "    \"death\": [\"mortality\", \"fatality\"],\n",
    "    \"testing\": [\"diagnosis\", \"diagnostic\", \"screening\"],\n",
    "    \"variant\": [\"strain\", \"mutation\", \"lineage\"],\n",
    "    \"research\": [\"study\", \"analysis\", \"investigation\"],\n",
    "    \"health\": [\"wellness\", \"medical\", \"care\"],\n",
    "    \"immune\": [\"immunity\", \"resistance\", \"defense system\"],\n",
    "    \"virus\": [\"pathogen\", \"microbe\", \"infectious agent\"],\n",
    "    \"contagion\": [\"transmissibility\", \"spread\", \"infectivity\"],\n",
    "    \"lockdown\": [\"confinement\", \"shutdown\", \"restriction\"]\n",
    "}\n",
    "\n",
    "# Inversion pour que chaque synonyme pointe vers le mot canonique\n",
    "synonym_map = {}\n",
    "for canonical, syns in medical_synonyms.items():\n",
    "    synonym_map[canonical] = canonical\n",
    "    for s in syns:\n",
    "        synonym_map[s] = canonical\n",
    "\n",
    "def preprocess_advanced(text):\n",
    "    \"\"\"\n",
    "    Nettoyage + lemmatisation + remplacement par mot canonique selon dictionnaire.\n",
    "    \"\"\"\n",
    "    doc = nlp(text.lower())\n",
    "    processed_tokens = []\n",
    "    \n",
    "    for token in doc:\n",
    "        if token.is_alpha and token.text not in stop_words and not token.is_stop:\n",
    "            lemma = token.lemma_\n",
    "            canonical = synonym_map.get(lemma, lemma)\n",
    "            processed_tokens.append(canonical)\n",
    "    \n",
    "    return \" \".join(processed_tokens)\n"
   ]
  },
  {
   "cell_type": "markdown",
   "metadata": {},
   "source": [
    "### Application sur les documents "
   ]
  },
  {
   "cell_type": "code",
   "execution_count": 49,
   "metadata": {},
   "outputs": [
    {
     "name": "stderr",
     "output_type": "stream",
     "text": [
      "100%|██████████| 51078/51078 [31:17<00:00, 27.20it/s]  \n"
     ]
    }
   ],
   "source": [
    "from tqdm import tqdm\n",
    "\n",
    "tqdm.pandas()\n",
    "\n",
    "# Ajoute une nouvelle colonne \"processed_text\"\n",
    "documents_df[\"processed_text\"] = documents_df[\"text\"].progress_apply(preprocess_advanced)\n"
   ]
  },
  {
   "cell_type": "markdown",
   "metadata": {},
   "source": [
    "### Application sur les requêtes"
   ]
  },
  {
   "cell_type": "code",
   "execution_count": 50,
   "metadata": {},
   "outputs": [
    {
     "name": "stderr",
     "output_type": "stream",
     "text": [
      "100%|██████████| 30/30 [00:00<00:00, 182.88it/s]\n"
     ]
    }
   ],
   "source": [
    "queries_df[\"processed_title\"] = queries_df[\"title\"].progress_apply(preprocess_advanced)\n"
   ]
  },
  {
   "cell_type": "code",
   "execution_count": 51,
   "metadata": {},
   "outputs": [
    {
     "data": {
      "text/plain": [
       "(30, 6)"
      ]
     },
     "execution_count": 51,
     "metadata": {},
     "output_type": "execute_result"
    }
   ],
   "source": [
    "queries_df.shape"
   ]
  },
  {
   "cell_type": "markdown",
   "metadata": {},
   "source": [
    "### Construction de la nouvelle matrice tf-idf avec ces données prétraitées"
   ]
  },
  {
   "cell_type": "code",
   "execution_count": 52,
   "metadata": {},
   "outputs": [],
   "source": [
    "from sklearn.feature_extraction.text import TfidfVectorizer\n",
    "\n",
    "vectorizer_tfidf = TfidfVectorizer()\n",
    "X_tfidf = vectorizer_tfidf.fit_transform(documents_df[\"processed_text\"])"
   ]
  },
  {
   "cell_type": "markdown",
   "metadata": {},
   "source": [
    "### Vectorisation de la requête avec le même vectorizer "
   ]
  },
  {
   "cell_type": "code",
   "execution_count": 53,
   "metadata": {},
   "outputs": [],
   "source": [
    "def vectorize_query_tfidf(query_text):\n",
    "    query_processed = preprocess_advanced(query_text)\n",
    "    return vectorizer_tfidf.transform([query_processed])\n"
   ]
  },
  {
   "cell_type": "markdown",
   "metadata": {},
   "source": [
    "### Recherche par similarité cosinus "
   ]
  },
  {
   "cell_type": "code",
   "execution_count": 54,
   "metadata": {},
   "outputs": [],
   "source": [
    "from sklearn.metrics.pairwise import cosine_similarity\n",
    "\n",
    "def search_tfidf(query_text, top_k=10):\n",
    "    query_vec = vectorize_query_tfidf(query_text)\n",
    "    scores = cosine_similarity(query_vec, X_tfidf).flatten()\n",
    "    top_indices = scores.argsort()[::-1][:top_k]\n",
    "    \n",
    "    results = documents_df.iloc[top_indices].copy()\n",
    "    results[\"score\"] = scores[top_indices]\n",
    "    results[\"title\"] = results[\"text\"].apply(lambda t: t.split(\". \")[0] if \". \" in t else t[:100])\n",
    "    results[\"abstract\"] = results[\"text\"].apply(lambda t: t if \". \" not in t else \". \".join(t.split(\". \")[1:]))\n",
    "    \n",
    "    return results[[\"doc_id\", \"title\", \"abstract\", \"score\"]].to_dict(orient=\"records\")\n"
   ]
  },
  {
   "cell_type": "markdown",
   "metadata": {},
   "source": [
    "#### Application sur une requête "
   ]
  },
  {
   "cell_type": "code",
   "execution_count": 55,
   "metadata": {},
   "outputs": [
    {
     "data": {
      "text/html": [
       "<style type=\"text/css\">\n",
       "#T_3d9f7 th {\n",
       "  background-color: #208A9D;\n",
       "  color: white;\n",
       "  font-weight: bold;\n",
       "}\n",
       "#T_3d9f7_row0_col0, #T_3d9f7_row0_col1, #T_3d9f7_row0_col2, #T_3d9f7_row0_col3, #T_3d9f7_row1_col0, #T_3d9f7_row1_col1, #T_3d9f7_row1_col2, #T_3d9f7_row1_col3, #T_3d9f7_row2_col0, #T_3d9f7_row2_col1, #T_3d9f7_row2_col2, #T_3d9f7_row2_col3, #T_3d9f7_row3_col0, #T_3d9f7_row3_col1, #T_3d9f7_row3_col2, #T_3d9f7_row3_col3, #T_3d9f7_row4_col0, #T_3d9f7_row4_col1, #T_3d9f7_row4_col2, #T_3d9f7_row4_col3, #T_3d9f7_row5_col0, #T_3d9f7_row5_col1, #T_3d9f7_row5_col2, #T_3d9f7_row5_col3, #T_3d9f7_row6_col0, #T_3d9f7_row6_col1, #T_3d9f7_row6_col2, #T_3d9f7_row6_col3, #T_3d9f7_row7_col0, #T_3d9f7_row7_col1, #T_3d9f7_row7_col2, #T_3d9f7_row7_col3, #T_3d9f7_row8_col0, #T_3d9f7_row8_col1, #T_3d9f7_row8_col2, #T_3d9f7_row8_col3, #T_3d9f7_row9_col0, #T_3d9f7_row9_col1, #T_3d9f7_row9_col2, #T_3d9f7_row9_col3 {\n",
       "  border: 1px solid #ccc;\n",
       "  padding: 8px;\n",
       "  text-align: left;\n",
       "}\n",
       "</style>\n",
       "<table id=\"T_3d9f7\" style='width:100%; border-collapse:collapse'>\n",
       "  <thead>\n",
       "    <tr>\n",
       "      <th class=\"blank level0\" >&nbsp;</th>\n",
       "      <th id=\"T_3d9f7_level0_col0\" class=\"col_heading level0 col0\" >doc_id</th>\n",
       "      <th id=\"T_3d9f7_level0_col1\" class=\"col_heading level0 col1\" >score</th>\n",
       "      <th id=\"T_3d9f7_level0_col2\" class=\"col_heading level0 col2\" >title</th>\n",
       "      <th id=\"T_3d9f7_level0_col3\" class=\"col_heading level0 col3\" >abstract</th>\n",
       "    </tr>\n",
       "  </thead>\n",
       "  <tbody>\n",
       "    <tr>\n",
       "      <th id=\"T_3d9f7_level0_row0\" class=\"row_heading level0 row0\" >0</th>\n",
       "      <td id=\"T_3d9f7_row0_col0\" class=\"data row0 col0\" >73xil5op</td>\n",
       "      <td id=\"T_3d9f7_row0_col1\" class=\"data row0 col1\" >0.565891</td>\n",
       "      <td id=\"T_3d9f7_row0_col2\" class=\"data row0 col2\" >Bat <mark style=\"background-color: #ffd54f;\">origin</mark> <mark style=\"background-color: #ffd54f;\">of</mark> a new human coronavirus: there and back again</td>\n",
       "      <td id=\"T_3d9f7_row0_col3\" class=\"data row0 col3\" >Bat <mark style=\"background-color: #ffd54f;\">origin</mark> <mark style=\"background-color: #ffd54f;\">of</mark> a new human coronavirus: there and back again</td>\n",
       "    </tr>\n",
       "    <tr>\n",
       "      <th id=\"T_3d9f7_level0_row1\" class=\"row_heading level0 row1\" >1</th>\n",
       "      <td id=\"T_3d9f7_row1_col0\" class=\"data row1 col0\" >gv1k7u7j</td>\n",
       "      <td id=\"T_3d9f7_row1_col1\" class=\"data row1 col1\" >0.553640</td>\n",
       "      <td id=\"T_3d9f7_row1_col2\" class=\"data row1 col2\" >Strategies to trace back the <mark style=\"background-color: #ffd54f;\">origin</mark> <mark style=\"background-color: #ffd54f;\">of</mark> <mark style=\"background-color: #ffd54f;\">COVID</mark>-<mark style=\"background-color: #ffd54f;\">19</mark></td>\n",
       "      <td id=\"T_3d9f7_row1_col3\" class=\"data row1 col3\" >Strategies to trace back the <mark style=\"background-color: #ffd54f;\">origin</mark> <mark style=\"background-color: #ffd54f;\">of</mark> <mark style=\"background-color: #ffd54f;\">COVID</mark>-<mark style=\"background-color: #ffd54f;\">19</mark></td>\n",
       "    </tr>\n",
       "    <tr>\n",
       "      <th id=\"T_3d9f7_level0_row2\" class=\"row_heading level0 row2\" >2</th>\n",
       "      <td id=\"T_3d9f7_row2_col0\" class=\"data row2 col0\" >jphbdxhw</td>\n",
       "      <td id=\"T_3d9f7_row2_col1\" class=\"data row2 col1\" >0.517366</td>\n",
       "      <td id=\"T_3d9f7_row2_col2\" class=\"data row2 col2\" >Early life origins <mark style=\"background-color: #ffd54f;\">of</mark> asthma</td>\n",
       "      <td id=\"T_3d9f7_row2_col3\" class=\"data row2 col3\" >Early life origins <mark style=\"background-color: #ffd54f;\">of</mark> asthma</td>\n",
       "    </tr>\n",
       "    <tr>\n",
       "      <th id=\"T_3d9f7_level0_row3\" class=\"row_heading level0 row3\" >3</th>\n",
       "      <td id=\"T_3d9f7_row3_col0\" class=\"data row3 col0\" >9dj07sac</td>\n",
       "      <td id=\"T_3d9f7_row3_col1\" class=\"data row3 col1\" >0.467781</td>\n",
       "      <td id=\"T_3d9f7_row3_col2\" class=\"data row3 col2\" >The prevalence, <mark style=\"background-color: #ffd54f;\">origin</mark>, and prevention <mark style=\"background-color: #ffd54f;\">of</mark> six human coronaviruses[Image: see text]</td>\n",
       "      <td id=\"T_3d9f7_row3_col3\" class=\"data row3 col3\" >The prevalence, <mark style=\"background-color: #ffd54f;\">origin</mark>, and prevention <mark style=\"background-color: #ffd54f;\">of</mark> six human coronaviruses[Image: see text]</td>\n",
       "    </tr>\n",
       "    <tr>\n",
       "      <th id=\"T_3d9f7_level0_row4\" class=\"row_heading level0 row4\" >4</th>\n",
       "      <td id=\"T_3d9f7_row4_col0\" class=\"data row4 col0\" >80e5xkht</td>\n",
       "      <td id=\"T_3d9f7_row4_col1\" class=\"data row4 col1\" >0.447901</td>\n",
       "      <td id=\"T_3d9f7_row4_col2\" class=\"data row4 col2\" >Reacting to the emergence <mark style=\"background-color: #ffd54f;\">of</mark> swine-<mark style=\"background-color: #ffd54f;\">origin</mark> influenza A H1N1</td>\n",
       "      <td id=\"T_3d9f7_row4_col3\" class=\"data row4 col3\" >Reacting to the emergence <mark style=\"background-color: #ffd54f;\">of</mark> swine-<mark style=\"background-color: #ffd54f;\">origin</mark> influenza A H1N1</td>\n",
       "    </tr>\n",
       "    <tr>\n",
       "      <th id=\"T_3d9f7_level0_row5\" class=\"row_heading level0 row5\" >5</th>\n",
       "      <td id=\"T_3d9f7_row5_col0\" class=\"data row5 col0\" >9i8z6l3a</td>\n",
       "      <td id=\"T_3d9f7_row5_col1\" class=\"data row5 col1\" >0.444004</td>\n",
       "      <td id=\"T_3d9f7_row5_col2\" class=\"data row5 col2\" >Animal Origins <mark style=\"background-color: #ffd54f;\">of</mark> the Severe Acute Respiratory Syndrome Coronavirus: Insight from ACE2-S-Protein Int</td>\n",
       "      <td id=\"T_3d9f7_row5_col3\" class=\"data row5 col3\" >Animal Origins <mark style=\"background-color: #ffd54f;\">of</mark> the Severe Acute Respiratory Syndrome Coronavirus: Insight from ACE2-S-Protein Interactions</td>\n",
       "    </tr>\n",
       "    <tr>\n",
       "      <th id=\"T_3d9f7_level0_row6\" class=\"row_heading level0 row6\" >6</th>\n",
       "      <td id=\"T_3d9f7_row6_col0\" class=\"data row6 col0\" >gyj5213f</td>\n",
       "      <td id=\"T_3d9f7_row6_col1\" class=\"data row6 col1\" >0.438252</td>\n",
       "      <td id=\"T_3d9f7_row6_col2\" class=\"data row6 col2\" >Origins <mark style=\"background-color: #ffd54f;\">of</mark> MERS-CoV, and lessons for 2019-nCoV</td>\n",
       "      <td id=\"T_3d9f7_row6_col3\" class=\"data row6 col3\" >Origins <mark style=\"background-color: #ffd54f;\">of</mark> MERS-CoV, and lessons for 2019-nCoV</td>\n",
       "    </tr>\n",
       "    <tr>\n",
       "      <th id=\"T_3d9f7_level0_row7\" class=\"row_heading level0 row7\" >7</th>\n",
       "      <td id=\"T_3d9f7_row7_col0\" class=\"data row7 col0\" >6foz003n</td>\n",
       "      <td id=\"T_3d9f7_row7_col1\" class=\"data row7 col1\" >0.409651</td>\n",
       "      <td id=\"T_3d9f7_row7_col2\" class=\"data row7 col2\" >Diversity <mark style=\"background-color: #ffd54f;\">of</mark> Coronaviruses in Bats: Insights Into <mark style=\"background-color: #ffd54f;\">Origin</mark> <mark style=\"background-color: #ffd54f;\">of</mark> SARS Coronavirus</td>\n",
       "      <td id=\"T_3d9f7_row7_col3\" class=\"data row7 col3\" >Diversity <mark style=\"background-color: #ffd54f;\">of</mark> Coronaviruses in Bats: Insights Into <mark style=\"background-color: #ffd54f;\">Origin</mark> <mark style=\"background-color: #ffd54f;\">of</mark> SARS Coronavirus</td>\n",
       "    </tr>\n",
       "    <tr>\n",
       "      <th id=\"T_3d9f7_level0_row8\" class=\"row_heading level0 row8\" >8</th>\n",
       "      <td id=\"T_3d9f7_row8_col0\" class=\"data row8 col0\" >wuegn0jg</td>\n",
       "      <td id=\"T_3d9f7_row8_col1\" class=\"data row8 col1\" >0.406891</td>\n",
       "      <td id=\"T_3d9f7_row8_col2\" class=\"data row8 col2\" >Bat-<mark style=\"background-color: #ffd54f;\">Origin</mark> Coronaviruses Expand Their Host Range to PigsInfections with bat-<mark style=\"background-color: #ffd54f;\">origin</mark> coronaviruses have caused severe illness in humans by ‘host jump’</td>\n",
       "      <td id=\"T_3d9f7_row8_col3\" class=\"data row8 col3\" >Recently, novel bat-<mark style=\"background-color: #ffd54f;\">origin</mark> coronaviruses were found in pigs. The large number <mark style=\"background-color: #ffd54f;\">of</mark> mutations on the receptor-binding domain allowed the viruses to infect the new host, posing a potential threat to both agriculture and public health.</td>\n",
       "    </tr>\n",
       "    <tr>\n",
       "      <th id=\"T_3d9f7_level0_row9\" class=\"row_heading level0 row9\" >9</th>\n",
       "      <td id=\"T_3d9f7_row9_col0\" class=\"data row9 col0\" >ycvu5l5f</td>\n",
       "      <td id=\"T_3d9f7_row9_col1\" class=\"data row9 col1\" >0.387537</td>\n",
       "      <td id=\"T_3d9f7_row9_col2\" class=\"data row9 col2\" >A glimpse into the origins <mark style=\"background-color: #ffd54f;\">of</mark> genetic diversity in SARS-CoV-2</td>\n",
       "      <td id=\"T_3d9f7_row9_col3\" class=\"data row9 col3\" >A glimpse into the origins <mark style=\"background-color: #ffd54f;\">of</mark> genetic diversity in SARS-CoV-2</td>\n",
       "    </tr>\n",
       "  </tbody>\n",
       "</table>\n"
      ],
      "text/plain": [
       "<pandas.io.formats.style.Styler at 0x2c4ac8b9050>"
      ]
     },
     "metadata": {},
     "output_type": "display_data"
    }
   ],
   "source": [
    "query = \"origin of COVID-19\"\n",
    "display_search_results(search_tfidf(query, top_k=10), query)\n"
   ]
  },
  {
   "cell_type": "markdown",
   "metadata": {},
   "source": [
    "#### Evaluation du moteur de recherche "
   ]
  },
  {
   "cell_type": "code",
   "execution_count": 56,
   "metadata": {},
   "outputs": [
    {
     "name": "stdout",
     "output_type": "stream",
     "text": [
      "Résultats du modèle TF-IDF avec prétraitement avancé :\n",
      "- precision@k: 0.2573\n",
      "- recall@k: 0.0978\n",
      "- F1@k: 0.1406\n",
      "- MRR: 0.6958\n",
      "- nDCG@k: 0.7480\n",
      "- MAP: 0.0568\n"
     ]
    }
   ],
   "source": [
    "results_tfidf = evaluate_model(search_tfidf, queries_df, qrels_df, k=100)\n",
    "\n",
    "print(\"Résultats du modèle TF-IDF avec prétraitement avancé :\")\n",
    "for metric, score in results_tfidf.items():\n",
    "    print(f\"- {metric}: {score:.4f}\")\n"
   ]
  },
  {
   "cell_type": "markdown",
   "metadata": {},
   "source": [
    "#### Commentaire \n",
    "\n",
    "Avec ces prétraitements avancés, on constate que la précision diminue, mais le rappel, le f1-score, le MRR et le nDCG augmentent ce qui n'est pas négligeable car si le rappel augmente cela veut dire qu'il y a plus de documents pertinents et sir nDCG augmente cela veut dire que ces documents pertinents sont placés dans les débuts. Ces scores varient en fonction de la valeur de k, du coup, nous allons effectuer un graphe d'évolution de ces scores en fonctions de k avec une légende pour plus de lisibilité "
   ]
  },
  {
   "cell_type": "code",
   "execution_count": 57,
   "metadata": {},
   "outputs": [],
   "source": [
    "ks = list(range(5, 200, 5))\n",
    "precision_scores = []\n",
    "recall_scores = []\n",
    "ndcg_scores = []\n",
    "\n",
    "for k in ks:\n",
    "    results = evaluate_model(search_tfidf, queries_df, qrels_df, k=k)\n",
    "    precision_scores.append(results[\"precision@k\"])\n",
    "    recall_scores.append(results[\"recall@k\"])\n",
    "    ndcg_scores.append(results['nDCG@k'])\n"
   ]
  },
  {
   "cell_type": "code",
   "execution_count": 58,
   "metadata": {},
   "outputs": [
    {
     "data": {
      "image/png": "[encoded data removed]",
      "text/plain": [
       "<Figure size 800x600 with 1 Axes>"
      ]
     },
     "metadata": {},
     "output_type": "display_data"
    }
   ],
   "source": [
    "import matplotlib.pyplot as plt\n",
    "\n",
    "# Supposons que tu as déjà ces listes\n",
    "# ks, precision_scores, recall_scores, ndcg_scores\n",
    "\n",
    "plt.figure(figsize=(8, 6))\n",
    "\n",
    "# Tracer chaque courbe avec un marqueur et une couleur\n",
    "plt.plot(ks, precision_scores, label='Précision@k', color='blue', marker='o')\n",
    "plt.plot(ks, recall_scores, label='Rappel@k', color='green', marker='s')\n",
    "plt.plot(ks, ndcg_scores, label='nDCG@k', color='red', marker='^')\n",
    "\n",
    "# Ajouter les labels et titre\n",
    "plt.xlabel('Valeur de k')\n",
    "plt.ylabel('Score')\n",
    "plt.title(\"Évolution des métriques en fonction de k (TF-IDF avec lemmatisation)\")\n",
    "\n",
    "# Ajouter une légende\n",
    "plt.legend(loc='lower right')\n",
    "\n",
    "# Ajouter une grille pour plus de lisibilité\n",
    "plt.grid(True)\n",
    "\n",
    "# Affichage\n",
    "plt.tight_layout()\n",
    "plt.show()\n"
   ]
  },
  {
   "cell_type": "markdown",
   "metadata": {},
   "source": [
    "### Interprétation, \n",
    "\n",
    "Le rappel lui même ne semble pas vouloir vraiment évoluer malgré les valeurs grandes de k qu'on lui donne.\n",
    "\n",
    "Mais l'idéal serait d'avoir un MRR = 1 et un nDCG qui se rapproche beaucoup plus de 1 "
   ]
  },
  {
   "cell_type": "code",
   "execution_count": 59,
   "metadata": {},
   "outputs": [
    {
     "name": "stdout",
     "output_type": "stream",
     "text": [
      "Résultats du modèle TF-IDF avec prétraitement avancé :\n",
      "- precision@k: 0.2573\n",
      "- recall@k: 0.0978\n",
      "- F1@k: 0.1406\n",
      "- MRR: 0.6958\n",
      "- nDCG@k: 0.7480\n",
      "- MAP: 0.0568\n"
     ]
    }
   ],
   "source": [
    "results_tfidf = evaluate_model(search_tfidf, queries_df, qrels_df, k=100)\n",
    "\n",
    "print(\"Résultats du modèle TF-IDF avec prétraitement avancé :\")\n",
    "for metric, score in results_tfidf.items():\n",
    "    print(f\"- {metric}: {score:.4f}\")\n"
   ]
  },
  {
   "cell_type": "markdown",
   "metadata": {},
   "source": [
    "#### L'odre des mots peut aussi être la cause de tout ceci, nous allons rester avec ces prétraitements, mais nous allons plutot effectuer un moteur basé sur les n-grammes "
   ]
  },
  {
   "cell_type": "code",
   "execution_count": 60,
   "metadata": {},
   "outputs": [],
   "source": [
    "from sklearn.feature_extraction.text import TfidfVectorizer\n",
    "\n",
    "vectorizer = TfidfVectorizer(\n",
    "    ngram_range=(1, 2),  # unigrammes + bigrammes\n",
    "    max_df=0.95,\n",
    "    min_df=2,\n",
    "    max_features=20000,\n",
    "    stop_words='english'\n",
    ")\n",
    "\n",
    "X_tfidf_ngramm = vectorizer.fit_transform(documents_df[\"processed_text\"])  # si texte déjà nettoyé/lemmatisé\n"
   ]
  },
  {
   "cell_type": "markdown",
   "metadata": {},
   "source": [
    "#### Appliquons aussi ce vectorizer sur les requêtes"
   ]
  },
  {
   "cell_type": "code",
   "execution_count": 61,
   "metadata": {},
   "outputs": [],
   "source": [
    "def vectorize_query_tfidf(query_text):\n",
    "    query_processed = preprocess_advanced(query_text)\n",
    "    return vectorizer.transform([query_processed])\n"
   ]
  },
  {
   "cell_type": "markdown",
   "metadata": {},
   "source": [
    "#### Similarité cosinus "
   ]
  },
  {
   "cell_type": "code",
   "execution_count": 62,
   "metadata": {},
   "outputs": [],
   "source": [
    "from sklearn.metrics.pairwise import cosine_similarity\n",
    "\n",
    "def search_tfidf(query_text, top_k=10):\n",
    "    query_vec = vectorize_query_tfidf(query_text)\n",
    "    scores = cosine_similarity(query_vec, X_tfidf_ngramm).flatten()\n",
    "    top_indices = scores.argsort()[::-1][:top_k]\n",
    "    \n",
    "    results = documents_df.iloc[top_indices].copy()\n",
    "    results[\"score\"] = scores[top_indices]\n",
    "    results[\"title\"] = results[\"text\"].apply(lambda t: t.split(\". \")[0] if \". \" in t else t[:100])\n",
    "    results[\"abstract\"] = results[\"text\"].apply(lambda t: t if \". \" not in t else \". \".join(t.split(\". \")[1:]))\n",
    "    \n",
    "    return results[[\"doc_id\", \"title\", \"abstract\", \"score\"]].to_dict(orient=\"records\")\n"
   ]
  },
  {
   "cell_type": "markdown",
   "metadata": {},
   "source": [
    "#### Exemple d'application sur une requête "
   ]
  },
  {
   "cell_type": "code",
   "execution_count": 63,
   "metadata": {},
   "outputs": [
    {
     "data": {
      "text/html": [
       "<style type=\"text/css\">\n",
       "#T_930f2 th {\n",
       "  background-color: #208A9D;\n",
       "  color: white;\n",
       "  font-weight: bold;\n",
       "}\n",
       "#T_930f2_row0_col0, #T_930f2_row0_col1, #T_930f2_row0_col2, #T_930f2_row0_col3, #T_930f2_row1_col0, #T_930f2_row1_col1, #T_930f2_row1_col2, #T_930f2_row1_col3, #T_930f2_row2_col0, #T_930f2_row2_col1, #T_930f2_row2_col2, #T_930f2_row2_col3, #T_930f2_row3_col0, #T_930f2_row3_col1, #T_930f2_row3_col2, #T_930f2_row3_col3, #T_930f2_row4_col0, #T_930f2_row4_col1, #T_930f2_row4_col2, #T_930f2_row4_col3, #T_930f2_row5_col0, #T_930f2_row5_col1, #T_930f2_row5_col2, #T_930f2_row5_col3, #T_930f2_row6_col0, #T_930f2_row6_col1, #T_930f2_row6_col2, #T_930f2_row6_col3, #T_930f2_row7_col0, #T_930f2_row7_col1, #T_930f2_row7_col2, #T_930f2_row7_col3, #T_930f2_row8_col0, #T_930f2_row8_col1, #T_930f2_row8_col2, #T_930f2_row8_col3, #T_930f2_row9_col0, #T_930f2_row9_col1, #T_930f2_row9_col2, #T_930f2_row9_col3 {\n",
       "  border: 1px solid #ccc;\n",
       "  padding: 8px;\n",
       "  text-align: left;\n",
       "}\n",
       "</style>\n",
       "<table id=\"T_930f2\" style='width:100%; border-collapse:collapse'>\n",
       "  <thead>\n",
       "    <tr>\n",
       "      <th class=\"blank level0\" >&nbsp;</th>\n",
       "      <th id=\"T_930f2_level0_col0\" class=\"col_heading level0 col0\" >doc_id</th>\n",
       "      <th id=\"T_930f2_level0_col1\" class=\"col_heading level0 col1\" >score</th>\n",
       "      <th id=\"T_930f2_level0_col2\" class=\"col_heading level0 col2\" >title</th>\n",
       "      <th id=\"T_930f2_level0_col3\" class=\"col_heading level0 col3\" >abstract</th>\n",
       "    </tr>\n",
       "  </thead>\n",
       "  <tbody>\n",
       "    <tr>\n",
       "      <th id=\"T_930f2_level0_row0\" class=\"row_heading level0 row0\" >0</th>\n",
       "      <td id=\"T_930f2_row0_col0\" class=\"data row0 col0\" >gv1k7u7j</td>\n",
       "      <td id=\"T_930f2_row0_col1\" class=\"data row0 col1\" >0.553640</td>\n",
       "      <td id=\"T_930f2_row0_col2\" class=\"data row0 col2\" >Strategies to trace back the <mark style=\"background-color: #ffd54f;\">origin</mark> <mark style=\"background-color: #ffd54f;\">of</mark> <mark style=\"background-color: #ffd54f;\">COVID</mark>-<mark style=\"background-color: #ffd54f;\">19</mark></td>\n",
       "      <td id=\"T_930f2_row0_col3\" class=\"data row0 col3\" >Strategies to trace back the <mark style=\"background-color: #ffd54f;\">origin</mark> <mark style=\"background-color: #ffd54f;\">of</mark> <mark style=\"background-color: #ffd54f;\">COVID</mark>-<mark style=\"background-color: #ffd54f;\">19</mark></td>\n",
       "    </tr>\n",
       "    <tr>\n",
       "      <th id=\"T_930f2_level0_row1\" class=\"row_heading level0 row1\" >1</th>\n",
       "      <td id=\"T_930f2_row1_col0\" class=\"data row1 col0\" >9dj07sac</td>\n",
       "      <td id=\"T_930f2_row1_col1\" class=\"data row1 col1\" >0.467781</td>\n",
       "      <td id=\"T_930f2_row1_col2\" class=\"data row1 col2\" >The prevalence, <mark style=\"background-color: #ffd54f;\">origin</mark>, and prevention <mark style=\"background-color: #ffd54f;\">of</mark> six human coronaviruses[Image: see text]</td>\n",
       "      <td id=\"T_930f2_row1_col3\" class=\"data row1 col3\" >The prevalence, <mark style=\"background-color: #ffd54f;\">origin</mark>, and prevention <mark style=\"background-color: #ffd54f;\">of</mark> six human coronaviruses[Image: see text]</td>\n",
       "    </tr>\n",
       "    <tr>\n",
       "      <th id=\"T_930f2_level0_row2\" class=\"row_heading level0 row2\" >2</th>\n",
       "      <td id=\"T_930f2_row2_col0\" class=\"data row2 col0\" >ycvu5l5f</td>\n",
       "      <td id=\"T_930f2_row2_col1\" class=\"data row2 col1\" >0.455356</td>\n",
       "      <td id=\"T_930f2_row2_col2\" class=\"data row2 col2\" >A glimpse into the origins <mark style=\"background-color: #ffd54f;\">of</mark> genetic diversity in SARS-CoV-2</td>\n",
       "      <td id=\"T_930f2_row2_col3\" class=\"data row2 col3\" >A glimpse into the origins <mark style=\"background-color: #ffd54f;\">of</mark> genetic diversity in SARS-CoV-2</td>\n",
       "    </tr>\n",
       "    <tr>\n",
       "      <th id=\"T_930f2_level0_row3\" class=\"row_heading level0 row3\" >3</th>\n",
       "      <td id=\"T_930f2_row3_col0\" class=\"data row3 col0\" >gyj5213f</td>\n",
       "      <td id=\"T_930f2_row3_col1\" class=\"data row3 col1\" >0.403088</td>\n",
       "      <td id=\"T_930f2_row3_col2\" class=\"data row3 col2\" >Origins <mark style=\"background-color: #ffd54f;\">of</mark> MERS-CoV, and lessons for 2019-nCoV</td>\n",
       "      <td id=\"T_930f2_row3_col3\" class=\"data row3 col3\" >Origins <mark style=\"background-color: #ffd54f;\">of</mark> MERS-CoV, and lessons for 2019-nCoV</td>\n",
       "    </tr>\n",
       "    <tr>\n",
       "      <th id=\"T_930f2_level0_row4\" class=\"row_heading level0 row4\" >4</th>\n",
       "      <td id=\"T_930f2_row4_col0\" class=\"data row4 col0\" >vp5358rr</td>\n",
       "      <td id=\"T_930f2_row4_col1\" class=\"data row4 col1\" >0.398471</td>\n",
       "      <td id=\"T_930f2_row4_col2\" class=\"data row4 col2\" >PARENTAL <mark style=\"background-color: #ffd54f;\">ORIGIN</mark> <mark style=\"background-color: #ffd54f;\">OF</mark> CHROMOSOME 15 DELETION IN PRADER-WILLI SYNDROME</td>\n",
       "      <td id=\"T_930f2_row4_col3\" class=\"data row4 col3\" >PARENTAL <mark style=\"background-color: #ffd54f;\">ORIGIN</mark> <mark style=\"background-color: #ffd54f;\">OF</mark> CHROMOSOME 15 DELETION IN PRADER-WILLI SYNDROME</td>\n",
       "    </tr>\n",
       "    <tr>\n",
       "      <th id=\"T_930f2_level0_row5\" class=\"row_heading level0 row5\" >5</th>\n",
       "      <td id=\"T_930f2_row5_col0\" class=\"data row5 col0\" >vp5358rr</td>\n",
       "      <td id=\"T_930f2_row5_col1\" class=\"data row5 col1\" >0.398471</td>\n",
       "      <td id=\"T_930f2_row5_col2\" class=\"data row5 col2\" >PARENTAL <mark style=\"background-color: #ffd54f;\">ORIGIN</mark> <mark style=\"background-color: #ffd54f;\">OF</mark> CHROMOSOME 15 DELETION IN PRADER-WILLI SYNDROME</td>\n",
       "      <td id=\"T_930f2_row5_col3\" class=\"data row5 col3\" >PARENTAL <mark style=\"background-color: #ffd54f;\">ORIGIN</mark> <mark style=\"background-color: #ffd54f;\">OF</mark> CHROMOSOME 15 DELETION IN PRADER-WILLI SYNDROME</td>\n",
       "    </tr>\n",
       "    <tr>\n",
       "      <th id=\"T_930f2_level0_row6\" class=\"row_heading level0 row6\" >6</th>\n",
       "      <td id=\"T_930f2_row6_col0\" class=\"data row6 col0\" >jphbdxhw</td>\n",
       "      <td id=\"T_930f2_row6_col1\" class=\"data row6 col1\" >0.397933</td>\n",
       "      <td id=\"T_930f2_row6_col2\" class=\"data row6 col2\" >Early life origins <mark style=\"background-color: #ffd54f;\">of</mark> asthma</td>\n",
       "      <td id=\"T_930f2_row6_col3\" class=\"data row6 col3\" >Early life origins <mark style=\"background-color: #ffd54f;\">of</mark> asthma</td>\n",
       "    </tr>\n",
       "    <tr>\n",
       "      <th id=\"T_930f2_level0_row7\" class=\"row_heading level0 row7\" >7</th>\n",
       "      <td id=\"T_930f2_row7_col0\" class=\"data row7 col0\" >49360l2a</td>\n",
       "      <td id=\"T_930f2_row7_col1\" class=\"data row7 col1\" >0.366003</td>\n",
       "      <td id=\"T_930f2_row7_col2\" class=\"data row7 col2\" >A phylogenomic data-driven exploration <mark style=\"background-color: #ffd54f;\">of</mark> viral origins and evolutionThe <mark style=\"background-color: #ffd54f;\">origin</mark> <mark style=\"background-color: #ffd54f;\">of</mark> viruses remains mysterious because <mark style=\"background-color: #ffd54f;\">of</mark> their diverse and patchy molecular and functional makeup</td>\n",
       "      <td id=\"T_930f2_row7_col3\" class=\"data row7 col3\" >Although numerous hypotheses have attempted to explain viral origins, none is backed by substantive data. We take full advantage <mark style=\"background-color: #ffd54f;\">of</mark> the wealth <mark style=\"background-color: #ffd54f;\">of</mark> available protein structural and functional data to explore the evolution <mark style=\"background-color: #ffd54f;\">of</mark> the proteomic makeup <mark style=\"background-color: #ffd54f;\">of</mark> thousands <mark style=\"background-color: #ffd54f;\">of</mark> cells and viruses. Despite the extremely reduced nature <mark style=\"background-color: #ffd54f;\">of</mark> viral proteomes, we established an ancient <mark style=\"background-color: #ffd54f;\">origin</mark> <mark style=\"background-color: #ffd54f;\">of</mark> the “viral supergroup” and the existence <mark style=\"background-color: #ffd54f;\">of</mark> widespread episodes <mark style=\"background-color: #ffd54f;\">of</mark> horizontal transfer <mark style=\"background-color: #ffd54f;\">of</mark> genetic information. Viruses harboring different replicon types and infecting distantly related hosts shared many metabolic and informational protein structural domains <mark style=\"background-color: #ffd54f;\">of</mark> ancient <mark style=\"background-color: #ffd54f;\">origin</mark> that were also widespread in cellular proteomes. Phylogenomic analysis uncovered a universal tree <mark style=\"background-color: #ffd54f;\">of</mark> life and revealed that modern viruses reduced from multiple ancient cells that harbored segmented RNA genomes and coexisted with the ancestors <mark style=\"background-color: #ffd54f;\">of</mark> modern cells. The model for the <mark style=\"background-color: #ffd54f;\">origin</mark> and evolution <mark style=\"background-color: #ffd54f;\">of</mark> viruses and cells is backed by strong genomic and structural evidence and can be reconciled with existing models <mark style=\"background-color: #ffd54f;\">of</mark> viral evolution if one considers viruses to have originated from ancient cells and not from modern counterparts.</td>\n",
       "    </tr>\n",
       "    <tr>\n",
       "      <th id=\"T_930f2_level0_row8\" class=\"row_heading level0 row8\" >8</th>\n",
       "      <td id=\"T_930f2_row8_col0\" class=\"data row8 col0\" >ec8lpgl3</td>\n",
       "      <td id=\"T_930f2_row8_col1\" class=\"data row8 col1\" >0.325618</td>\n",
       "      <td id=\"T_930f2_row8_col2\" class=\"data row8 col2\" >Scientists ‘strongly condemn’ rumors and conspiracy theories about <mark style=\"background-color: #ffd54f;\">origin</mark> <mark style=\"background-color: #ffd54f;\">of</mark> coronavirus outbreak | Science | AAASA group <mark style=\"background-color: #ffd54f;\">of</mark> 27 prominent public health scientists from outside China is pushing back against a steady stream <mark style=\"background-color: #ffd54f;\">of</mark> stories and even a scientific paper suggesting a laboratory in Wuhan, China, may be the <mark style=\"background-color: #ffd54f;\">origin</mark> <mark style=\"background-color: #ffd54f;\">of</mark> the outbreak <mark style=\"background-color: #ffd54f;\">of</mark> <mark style=\"background-color: #ffd54f;\">COVID</mark>-<mark style=\"background-color: #ffd54f;\">19</mark></td>\n",
       "      <td id=\"T_930f2_row8_col3\" class=\"data row8 col3\" >“The rapid, open, and transparent sharing <mark style=\"background-color: #ffd54f;\">of</mark> data on this outbreak is now being threatened by rumours and misinformation around its origins,” the scientists, from nine countries, write in a statement published online by The Lancet yesterday</td>\n",
       "    </tr>\n",
       "    <tr>\n",
       "      <th id=\"T_930f2_level0_row9\" class=\"row_heading level0 row9\" >9</th>\n",
       "      <td id=\"T_930f2_row9_col0\" class=\"data row9 col0\" >73xil5op</td>\n",
       "      <td id=\"T_930f2_row9_col1\" class=\"data row9 col1\" >0.317464</td>\n",
       "      <td id=\"T_930f2_row9_col2\" class=\"data row9 col2\" >Bat <mark style=\"background-color: #ffd54f;\">origin</mark> <mark style=\"background-color: #ffd54f;\">of</mark> a new human coronavirus: there and back again</td>\n",
       "      <td id=\"T_930f2_row9_col3\" class=\"data row9 col3\" >Bat <mark style=\"background-color: #ffd54f;\">origin</mark> <mark style=\"background-color: #ffd54f;\">of</mark> a new human coronavirus: there and back again</td>\n",
       "    </tr>\n",
       "  </tbody>\n",
       "</table>\n"
      ],
      "text/plain": [
       "<pandas.io.formats.style.Styler at 0x2c4acf61d10>"
      ]
     },
     "metadata": {},
     "output_type": "display_data"
    }
   ],
   "source": [
    "query = \"origin of COVID-19\"\n",
    "display_search_results(search_tfidf(query, top_k=10), query)\n"
   ]
  },
  {
   "cell_type": "code",
   "execution_count": 64,
   "metadata": {},
   "outputs": [
    {
     "name": "stdout",
     "output_type": "stream",
     "text": [
      "Résultats du modèle TF-IDF avec prétraitement avancé avec n-gramme :\n",
      "- precision@k: 0.2982\n",
      "- recall@k: 0.0864\n",
      "- F1@k: 0.1330\n",
      "- MRR: 0.6226\n",
      "- nDCG@k: 0.7040\n",
      "- MAP: 0.0490\n"
     ]
    }
   ],
   "source": [
    "results_tfidf = evaluate_model(search_tfidf, queries_df, qrels_df, k=75)\n",
    "\n",
    "print(\"Résultats du modèle TF-IDF avec prétraitement avancé avec n-gramme :\")\n",
    "for metric, score in results_tfidf.items():\n",
    "    print(f\"- {metric}: {score:.4f}\")\n"
   ]
  },
  {
   "cell_type": "markdown",
   "metadata": {},
   "source": [
    "### Commentaire\n",
    "\n",
    "On constate que ceci a plutôt réduit le nDCG ce qui n'était pas le cas lorsqu'on ne l'a pas utilisé \n",
    "\n",
    "Donc l'ordre des mots n'est pas vraiment un problème ici"
   ]
  },
  {
   "cell_type": "markdown",
   "metadata": {},
   "source": [
    "#### Plot des scores en fonction de k pour ce moteur avec n-gramme"
   ]
  },
  {
   "cell_type": "code",
   "execution_count": 65,
   "metadata": {},
   "outputs": [],
   "source": [
    "ks = list(range(5, 200, 5))\n",
    "precision_scores = []\n",
    "recall_scores = []\n",
    "ndcg_scores = []\n",
    "\n",
    "for k in ks:\n",
    "    results = evaluate_model(search_tfidf, queries_df, qrels_df, k=k)\n",
    "    precision_scores.append(results[\"precision@k\"])\n",
    "    recall_scores.append(results[\"recall@k\"])\n",
    "    ndcg_scores.append(results['nDCG@k'])\n"
   ]
  },
  {
   "cell_type": "code",
   "execution_count": 66,
   "metadata": {},
   "outputs": [
    {
     "data": {
      "image/png": "[encoded data removed]",
      "text/plain": [
       "<Figure size 800x600 with 1 Axes>"
      ]
     },
     "metadata": {},
     "output_type": "display_data"
    }
   ],
   "source": [
    "import matplotlib.pyplot as plt\n",
    "\n",
    "# Supposons que tu as déjà ces listes\n",
    "# ks, precision_scores, recall_scores, ndcg_scores\n",
    "\n",
    "plt.figure(figsize=(8, 6))\n",
    "\n",
    "# Tracer chaque courbe avec un marqueur et une couleur\n",
    "plt.plot(ks, precision_scores, label='Précision@k', color='blue', marker='o')\n",
    "plt.plot(ks, recall_scores, label='Rappel@k', color='green', marker='s')\n",
    "plt.plot(ks, ndcg_scores, label='nDCG@k', color='red', marker='^')\n",
    "\n",
    "# Ajouter les labels et titre\n",
    "plt.xlabel('Valeur de k')\n",
    "plt.ylabel('Score')\n",
    "plt.title(\"Évolution des métriques en fonction de k (TF-IDF avec lemmatisation et n-gramme)\")\n",
    "\n",
    "# Ajouter une légende\n",
    "plt.legend(loc='lower right')\n",
    "\n",
    "# Ajouter une grille pour plus de lisibilité\n",
    "plt.grid(True)\n",
    "\n",
    "# Affichage\n",
    "plt.tight_layout()\n",
    "plt.show()\n"
   ]
  },
  {
   "cell_type": "markdown",
   "metadata": {},
   "source": [
    "### Commentaire\n",
    "\n",
    "Nous constatons qu'il n'y a pas vraiment une grande évolution malgré les valeurs de k que nous faisons varier \n",
    "\n",
    "#### Essayons de passer à un trigramme, faire du LSA pour capturer les relations semantiques latentes, personnalisation des poids (nous donnerons plus de poids aux titres qu'aux abstracts)\n",
    "\n",
    "Car le but ici c'est qu'au moins le premier résultat soit toujours le meilleur, que les premiers documents retournés soient les meilleurs "
   ]
  },
  {
   "cell_type": "code",
   "execution_count": 67,
   "metadata": {},
   "outputs": [
    {
     "data": {
      "text/html": [
       "<div>\n",
       "<style scoped>\n",
       "    .dataframe tbody tr th:only-of-type {\n",
       "        vertical-align: middle;\n",
       "    }\n",
       "\n",
       "    .dataframe tbody tr th {\n",
       "        vertical-align: top;\n",
       "    }\n",
       "\n",
       "    .dataframe thead th {\n",
       "        text-align: right;\n",
       "    }\n",
       "</style>\n",
       "<table border=\"1\" class=\"dataframe\">\n",
       "  <thead>\n",
       "    <tr style=\"text-align: right;\">\n",
       "      <th></th>\n",
       "      <th>doc_id</th>\n",
       "      <th>title</th>\n",
       "      <th>abstract</th>\n",
       "    </tr>\n",
       "  </thead>\n",
       "  <tbody>\n",
       "    <tr>\n",
       "      <th>0</th>\n",
       "      <td>xqhn0vbp</td>\n",
       "      <td>Airborne rhinovirus detection and effect of ul...</td>\n",
       "      <td>BACKGROUND: Rhinovirus, the most common cause ...</td>\n",
       "    </tr>\n",
       "    <tr>\n",
       "      <th>1</th>\n",
       "      <td>gi6uaa83</td>\n",
       "      <td>Discovering human history from stomach bacteria</td>\n",
       "      <td>Recent analyses of human pathogens have reveal...</td>\n",
       "    </tr>\n",
       "    <tr>\n",
       "      <th>2</th>\n",
       "      <td>le0ogx1s</td>\n",
       "      <td>A new recruit for the army of the men of death</td>\n",
       "      <td>The army of the men of death, in John Bunyan's...</td>\n",
       "    </tr>\n",
       "    <tr>\n",
       "      <th>3</th>\n",
       "      <td>fy4w7xz8</td>\n",
       "      <td>Association of HLA class I with severe acute r...</td>\n",
       "      <td>BACKGROUND: The human leukocyte antigen (HLA) ...</td>\n",
       "    </tr>\n",
       "    <tr>\n",
       "      <th>4</th>\n",
       "      <td>0qaoam29</td>\n",
       "      <td>A double epidemic model for the SARS propagation</td>\n",
       "      <td>BACKGROUND: An epidemic of a Severe Acute Resp...</td>\n",
       "    </tr>\n",
       "  </tbody>\n",
       "</table>\n",
       "</div>"
      ],
      "text/plain": [
       "     doc_id                                              title  \\\n",
       "0  xqhn0vbp  Airborne rhinovirus detection and effect of ul...   \n",
       "1  gi6uaa83    Discovering human history from stomach bacteria   \n",
       "2  le0ogx1s     A new recruit for the army of the men of death   \n",
       "3  fy4w7xz8  Association of HLA class I with severe acute r...   \n",
       "4  0qaoam29   A double epidemic model for the SARS propagation   \n",
       "\n",
       "                                            abstract  \n",
       "0  BACKGROUND: Rhinovirus, the most common cause ...  \n",
       "1  Recent analyses of human pathogens have reveal...  \n",
       "2  The army of the men of death, in John Bunyan's...  \n",
       "3  BACKGROUND: The human leukocyte antigen (HLA) ...  \n",
       "4  BACKGROUND: An epidemic of a Severe Acute Resp...  "
      ]
     },
     "execution_count": 67,
     "metadata": {},
     "output_type": "execute_result"
    }
   ],
   "source": [
    "df_docs.head()"
   ]
  },
  {
   "cell_type": "markdown",
   "metadata": {},
   "source": [
    "Ajout de plus de poids sur les titres "
   ]
  },
  {
   "cell_type": "code",
   "execution_count": 74,
   "metadata": {},
   "outputs": [],
   "source": [
    "# On donne 2x plus de poids au titre\n",
    "documents_df[\"weighted_text\"] = df_docs[\"title\"].fillna(\"\") * 2 + \" \" + df_docs[\"abstract\"].fillna(\"\")\n"
   ]
  },
  {
   "cell_type": "markdown",
   "metadata": {},
   "source": [
    "Prétraitement avancé sur les nouvelles données : les titres ont plus de poids "
   ]
  },
  {
   "cell_type": "code",
   "execution_count": 69,
   "metadata": {},
   "outputs": [
    {
     "name": "stderr",
     "output_type": "stream",
     "text": [
      "100%|██████████| 51078/51078 [36:30<00:00, 23.32it/s]  \n"
     ]
    }
   ],
   "source": [
    "from tqdm import tqdm\n",
    "\n",
    "tqdm.pandas()\n",
    "\n",
    "# Nettoyage avec le prétraitement avancé (lemmatisation)\n",
    "documents_df[\"processed_weighted_text\"] = documents_df[\"weighted_text\"].progress_apply(preprocess_advanced)\n"
   ]
  },
  {
   "cell_type": "markdown",
   "metadata": {},
   "source": [
    "Passons à la vectorisation en utilisant \"processed_weighted_text\" comme source "
   ]
  },
  {
   "cell_type": "code",
   "execution_count": 75,
   "metadata": {},
   "outputs": [],
   "source": [
    "from sklearn.feature_extraction.text import TfidfVectorizer\n",
    "\n",
    "vectorizer_weighted = TfidfVectorizer(\n",
    "    ngram_range=(1, 2),\n",
    "    max_df=0.95,\n",
    "    min_df=2,\n",
    "    stop_words='english',\n",
    "    max_features=30000\n",
    ")\n",
    "\n",
    "X_weighted_tfidf = vectorizer_weighted.fit_transform(documents_df[\"processed_weighted_text\"])\n"
   ]
  },
  {
   "cell_type": "markdown",
   "metadata": {},
   "source": [
    "Extraction des composantes semantiques principales dans les documents ainsi que dans les requêtes "
   ]
  },
  {
   "cell_type": "code",
   "execution_count": null,
   "metadata": {},
   "outputs": [],
   "source": [
    "from sklearn.decomposition import TruncatedSVD\n",
    "\n",
    "\n",
    "# Nettoyage + lemmatisation \n",
    "queries_df[\"processed_query\"] = queries_df[\"title\"].fillna(\"\").apply(preprocess_advanced)\n",
    "\n",
    "# Vectorisation des requêtes avec le même vectorizer\n",
    "queries_tfidf = vectorizer_weighted.transform(queries_df[\"processed_query\"])\n",
    "\n",
    "lsa = TruncatedSVD(n_components=3000, random_state=42)\n",
    "X_lsa = lsa.fit_transform(X_weighted_tfidf)  # fit sur les documents\n",
    "queries_lsa = lsa.transform(queries_tfidf)   # transform sur les requêtes\n",
    "\n"
   ]
  },
  {
   "cell_type": "markdown",
   "metadata": {},
   "source": [
    "Fonction de recherche"
   ]
  },
  {
   "cell_type": "code",
   "execution_count": null,
   "metadata": {},
   "outputs": [],
   "source": [
    "def search_weighted_lsa(query_text, top_k=10):\n",
    "    \"\"\"\n",
    "    Recherche de documents avec TF-IDF + LSA + pondération du titre.\n",
    "    Retourne doc_id, title, abstract, score.\n",
    "    \"\"\"\n",
    "    # Prétraitement et vectorisation\n",
    "    processed_query = preprocess_advanced(query_text)\n",
    "    query_vec_tfidf = vectorizer_weighted.transform([processed_query])\n",
    "    query_vec_lsa = lsa.transform(query_vec_tfidf)\n",
    "\n",
    "    # Similarité cosinus avec les documents (déjà réduits)\n",
    "    scores = cosine_similarity(query_vec_lsa, X_lsa).flatten()\n",
    "    top_indices = scores.argsort()[::-1][:top_k]\n",
    "\n",
    "    top_docs = documents_df.iloc[top_indices].copy()\n",
    "    top_docs[\"title\"] = top_docs[\"text\"].apply(lambda t: t.split(\". \")[0] if \". \" in t else t[:100])\n",
    "    top_docs[\"abstract\"] = top_docs[\"text\"].apply(lambda t: t if \". \" not in t else \". \".join(t.split(\". \")[1:]))\n",
    "    top_docs[\"score\"] = scores[top_indices]\n",
    "\n",
    "    return top_docs[[\"doc_id\", \"title\", \"abstract\", \"score\"]].to_dict(orient=\"records\")\n"
   ]
  },
  {
   "cell_type": "markdown",
   "metadata": {},
   "source": [
    "Faisons un test sur une requête et affichons le résultat"
   ]
  },
  {
   "cell_type": "code",
   "execution_count": null,
   "metadata": {},
   "outputs": [
    {
     "data": {
      "text/html": [
       "<style type=\"text/css\">\n",
       "#T_ab1d7 th {\n",
       "  background-color: #208A9D;\n",
       "  color: white;\n",
       "  font-weight: bold;\n",
       "}\n",
       "#T_ab1d7_row0_col0, #T_ab1d7_row0_col1, #T_ab1d7_row0_col2, #T_ab1d7_row0_col3, #T_ab1d7_row1_col0, #T_ab1d7_row1_col1, #T_ab1d7_row1_col2, #T_ab1d7_row1_col3, #T_ab1d7_row2_col0, #T_ab1d7_row2_col1, #T_ab1d7_row2_col2, #T_ab1d7_row2_col3, #T_ab1d7_row3_col0, #T_ab1d7_row3_col1, #T_ab1d7_row3_col2, #T_ab1d7_row3_col3, #T_ab1d7_row4_col0, #T_ab1d7_row4_col1, #T_ab1d7_row4_col2, #T_ab1d7_row4_col3, #T_ab1d7_row5_col0, #T_ab1d7_row5_col1, #T_ab1d7_row5_col2, #T_ab1d7_row5_col3, #T_ab1d7_row6_col0, #T_ab1d7_row6_col1, #T_ab1d7_row6_col2, #T_ab1d7_row6_col3, #T_ab1d7_row7_col0, #T_ab1d7_row7_col1, #T_ab1d7_row7_col2, #T_ab1d7_row7_col3, #T_ab1d7_row8_col0, #T_ab1d7_row8_col1, #T_ab1d7_row8_col2, #T_ab1d7_row8_col3, #T_ab1d7_row9_col0, #T_ab1d7_row9_col1, #T_ab1d7_row9_col2, #T_ab1d7_row9_col3 {\n",
       "  border: 1px solid #ccc;\n",
       "  padding: 8px;\n",
       "  text-align: left;\n",
       "}\n",
       "</style>\n",
       "<table id=\"T_ab1d7\" style='width:100%; border-collapse:collapse'>\n",
       "  <thead>\n",
       "    <tr>\n",
       "      <th class=\"blank level0\" >&nbsp;</th>\n",
       "      <th id=\"T_ab1d7_level0_col0\" class=\"col_heading level0 col0\" >doc_id</th>\n",
       "      <th id=\"T_ab1d7_level0_col1\" class=\"col_heading level0 col1\" >score</th>\n",
       "      <th id=\"T_ab1d7_level0_col2\" class=\"col_heading level0 col2\" >title</th>\n",
       "      <th id=\"T_ab1d7_level0_col3\" class=\"col_heading level0 col3\" >abstract</th>\n",
       "    </tr>\n",
       "  </thead>\n",
       "  <tbody>\n",
       "    <tr>\n",
       "      <th id=\"T_ab1d7_level0_row0\" class=\"row_heading level0 row0\" >0</th>\n",
       "      <td id=\"T_ab1d7_row0_col0\" class=\"data row0 col0\" >gv1k7u7j</td>\n",
       "      <td id=\"T_ab1d7_row0_col1\" class=\"data row0 col1\" >0.699698</td>\n",
       "      <td id=\"T_ab1d7_row0_col2\" class=\"data row0 col2\" >Strategies to trace back the <mark style=\"background-color: #ffd54f;\">origin</mark> <mark style=\"background-color: #ffd54f;\">of</mark> <mark style=\"background-color: #ffd54f;\">COVID</mark>-<mark style=\"background-color: #ffd54f;\">19</mark></td>\n",
       "      <td id=\"T_ab1d7_row0_col3\" class=\"data row0 col3\" >Strategies to trace back the <mark style=\"background-color: #ffd54f;\">origin</mark> <mark style=\"background-color: #ffd54f;\">of</mark> <mark style=\"background-color: #ffd54f;\">COVID</mark>-<mark style=\"background-color: #ffd54f;\">19</mark></td>\n",
       "    </tr>\n",
       "    <tr>\n",
       "      <th id=\"T_ab1d7_level0_row1\" class=\"row_heading level0 row1\" >1</th>\n",
       "      <td id=\"T_ab1d7_row1_col0\" class=\"data row1 col0\" >jphbdxhw</td>\n",
       "      <td id=\"T_ab1d7_row1_col1\" class=\"data row1 col1\" >0.644856</td>\n",
       "      <td id=\"T_ab1d7_row1_col2\" class=\"data row1 col2\" >Early life origins <mark style=\"background-color: #ffd54f;\">of</mark> asthma</td>\n",
       "      <td id=\"T_ab1d7_row1_col3\" class=\"data row1 col3\" >Early life origins <mark style=\"background-color: #ffd54f;\">of</mark> asthma</td>\n",
       "    </tr>\n",
       "    <tr>\n",
       "      <th id=\"T_ab1d7_level0_row2\" class=\"row_heading level0 row2\" >2</th>\n",
       "      <td id=\"T_ab1d7_row2_col0\" class=\"data row2 col0\" >80e5xkht</td>\n",
       "      <td id=\"T_ab1d7_row2_col1\" class=\"data row2 col1\" >0.547729</td>\n",
       "      <td id=\"T_ab1d7_row2_col2\" class=\"data row2 col2\" >Reacting to the emergence <mark style=\"background-color: #ffd54f;\">of</mark> swine-<mark style=\"background-color: #ffd54f;\">origin</mark> influenza A H1N1</td>\n",
       "      <td id=\"T_ab1d7_row2_col3\" class=\"data row2 col3\" >Reacting to the emergence <mark style=\"background-color: #ffd54f;\">of</mark> swine-<mark style=\"background-color: #ffd54f;\">origin</mark> influenza A H1N1</td>\n",
       "    </tr>\n",
       "    <tr>\n",
       "      <th id=\"T_ab1d7_level0_row3\" class=\"row_heading level0 row3\" >3</th>\n",
       "      <td id=\"T_ab1d7_row3_col0\" class=\"data row3 col0\" >73xil5op</td>\n",
       "      <td id=\"T_ab1d7_row3_col1\" class=\"data row3 col1\" >0.534396</td>\n",
       "      <td id=\"T_ab1d7_row3_col2\" class=\"data row3 col2\" >Bat <mark style=\"background-color: #ffd54f;\">origin</mark> <mark style=\"background-color: #ffd54f;\">of</mark> a new human coronavirus: there and back again</td>\n",
       "      <td id=\"T_ab1d7_row3_col3\" class=\"data row3 col3\" >Bat <mark style=\"background-color: #ffd54f;\">origin</mark> <mark style=\"background-color: #ffd54f;\">of</mark> a new human coronavirus: there and back again</td>\n",
       "    </tr>\n",
       "    <tr>\n",
       "      <th id=\"T_ab1d7_level0_row4\" class=\"row_heading level0 row4\" >4</th>\n",
       "      <td id=\"T_ab1d7_row4_col0\" class=\"data row4 col0\" >49360l2a</td>\n",
       "      <td id=\"T_ab1d7_row4_col1\" class=\"data row4 col1\" >0.512495</td>\n",
       "      <td id=\"T_ab1d7_row4_col2\" class=\"data row4 col2\" >A phylogenomic data-driven exploration <mark style=\"background-color: #ffd54f;\">of</mark> viral origins and evolutionThe <mark style=\"background-color: #ffd54f;\">origin</mark> <mark style=\"background-color: #ffd54f;\">of</mark> viruses remains mysterious because <mark style=\"background-color: #ffd54f;\">of</mark> their diverse and patchy molecular and functional makeup</td>\n",
       "      <td id=\"T_ab1d7_row4_col3\" class=\"data row4 col3\" >Although numerous hypotheses have attempted to explain viral origins, none is backed by substantive data. We take full advantage <mark style=\"background-color: #ffd54f;\">of</mark> the wealth <mark style=\"background-color: #ffd54f;\">of</mark> available protein structural and functional data to explore the evolution <mark style=\"background-color: #ffd54f;\">of</mark> the proteomic makeup <mark style=\"background-color: #ffd54f;\">of</mark> thousands <mark style=\"background-color: #ffd54f;\">of</mark> cells and viruses. Despite the extremely reduced nature <mark style=\"background-color: #ffd54f;\">of</mark> viral proteomes, we established an ancient <mark style=\"background-color: #ffd54f;\">origin</mark> <mark style=\"background-color: #ffd54f;\">of</mark> the “viral supergroup” and the existence <mark style=\"background-color: #ffd54f;\">of</mark> widespread episodes <mark style=\"background-color: #ffd54f;\">of</mark> horizontal transfer <mark style=\"background-color: #ffd54f;\">of</mark> genetic information. Viruses harboring different replicon types and infecting distantly related hosts shared many metabolic and informational protein structural domains <mark style=\"background-color: #ffd54f;\">of</mark> ancient <mark style=\"background-color: #ffd54f;\">origin</mark> that were also widespread in cellular proteomes. Phylogenomic analysis uncovered a universal tree <mark style=\"background-color: #ffd54f;\">of</mark> life and revealed that modern viruses reduced from multiple ancient cells that harbored segmented RNA genomes and coexisted with the ancestors <mark style=\"background-color: #ffd54f;\">of</mark> modern cells. The model for the <mark style=\"background-color: #ffd54f;\">origin</mark> and evolution <mark style=\"background-color: #ffd54f;\">of</mark> viruses and cells is backed by strong genomic and structural evidence and can be reconciled with existing models <mark style=\"background-color: #ffd54f;\">of</mark> viral evolution if one considers viruses to have originated from ancient cells and not from modern counterparts.</td>\n",
       "    </tr>\n",
       "    <tr>\n",
       "      <th id=\"T_ab1d7_level0_row5\" class=\"row_heading level0 row5\" >5</th>\n",
       "      <td id=\"T_ab1d7_row5_col0\" class=\"data row5 col0\" >vp5358rr</td>\n",
       "      <td id=\"T_ab1d7_row5_col1\" class=\"data row5 col1\" >0.508130</td>\n",
       "      <td id=\"T_ab1d7_row5_col2\" class=\"data row5 col2\" >PARENTAL <mark style=\"background-color: #ffd54f;\">ORIGIN</mark> <mark style=\"background-color: #ffd54f;\">OF</mark> CHROMOSOME 15 DELETION IN PRADER-WILLI SYNDROME</td>\n",
       "      <td id=\"T_ab1d7_row5_col3\" class=\"data row5 col3\" >PARENTAL <mark style=\"background-color: #ffd54f;\">ORIGIN</mark> <mark style=\"background-color: #ffd54f;\">OF</mark> CHROMOSOME 15 DELETION IN PRADER-WILLI SYNDROME</td>\n",
       "    </tr>\n",
       "    <tr>\n",
       "      <th id=\"T_ab1d7_level0_row6\" class=\"row_heading level0 row6\" >6</th>\n",
       "      <td id=\"T_ab1d7_row6_col0\" class=\"data row6 col0\" >vp5358rr</td>\n",
       "      <td id=\"T_ab1d7_row6_col1\" class=\"data row6 col1\" >0.508130</td>\n",
       "      <td id=\"T_ab1d7_row6_col2\" class=\"data row6 col2\" >PARENTAL <mark style=\"background-color: #ffd54f;\">ORIGIN</mark> <mark style=\"background-color: #ffd54f;\">OF</mark> CHROMOSOME 15 DELETION IN PRADER-WILLI SYNDROME</td>\n",
       "      <td id=\"T_ab1d7_row6_col3\" class=\"data row6 col3\" >PARENTAL <mark style=\"background-color: #ffd54f;\">ORIGIN</mark> <mark style=\"background-color: #ffd54f;\">OF</mark> CHROMOSOME 15 DELETION IN PRADER-WILLI SYNDROME</td>\n",
       "    </tr>\n",
       "    <tr>\n",
       "      <th id=\"T_ab1d7_level0_row7\" class=\"row_heading level0 row7\" >7</th>\n",
       "      <td id=\"T_ab1d7_row7_col0\" class=\"data row7 col0\" >ycvu5l5f</td>\n",
       "      <td id=\"T_ab1d7_row7_col1\" class=\"data row7 col1\" >0.496270</td>\n",
       "      <td id=\"T_ab1d7_row7_col2\" class=\"data row7 col2\" >A glimpse into the origins <mark style=\"background-color: #ffd54f;\">of</mark> genetic diversity in SARS-CoV-2</td>\n",
       "      <td id=\"T_ab1d7_row7_col3\" class=\"data row7 col3\" >A glimpse into the origins <mark style=\"background-color: #ffd54f;\">of</mark> genetic diversity in SARS-CoV-2</td>\n",
       "    </tr>\n",
       "    <tr>\n",
       "      <th id=\"T_ab1d7_level0_row8\" class=\"row_heading level0 row8\" >8</th>\n",
       "      <td id=\"T_ab1d7_row8_col0\" class=\"data row8 col0\" >mcj078if</td>\n",
       "      <td id=\"T_ab1d7_row8_col1\" class=\"data row8 col1\" >0.467524</td>\n",
       "      <td id=\"T_ab1d7_row8_col2\" class=\"data row8 col2\" >Retinal degenerations <mark style=\"background-color: #ffd54f;\">of</mark> hereditary, viral and autoimmune origins: Studies on opsin and IRBP</td>\n",
       "      <td id=\"T_ab1d7_row8_col3\" class=\"data row8 col3\" >Retinal degenerations <mark style=\"background-color: #ffd54f;\">of</mark> hereditary, viral and autoimmune origins: Studies on opsin and IRBP</td>\n",
       "    </tr>\n",
       "    <tr>\n",
       "      <th id=\"T_ab1d7_level0_row9\" class=\"row_heading level0 row9\" >9</th>\n",
       "      <td id=\"T_ab1d7_row9_col0\" class=\"data row9 col0\" >9dj07sac</td>\n",
       "      <td id=\"T_ab1d7_row9_col1\" class=\"data row9 col1\" >0.464838</td>\n",
       "      <td id=\"T_ab1d7_row9_col2\" class=\"data row9 col2\" >The prevalence, <mark style=\"background-color: #ffd54f;\">origin</mark>, and prevention <mark style=\"background-color: #ffd54f;\">of</mark> six human coronaviruses[Image: see text]</td>\n",
       "      <td id=\"T_ab1d7_row9_col3\" class=\"data row9 col3\" >The prevalence, <mark style=\"background-color: #ffd54f;\">origin</mark>, and prevention <mark style=\"background-color: #ffd54f;\">of</mark> six human coronaviruses[Image: see text]</td>\n",
       "    </tr>\n",
       "  </tbody>\n",
       "</table>\n"
      ],
      "text/plain": [
       "<pandas.io.formats.style.Styler at 0x27133def850>"
      ]
     },
     "metadata": {},
     "output_type": "display_data"
    }
   ],
   "source": [
    "# Exemple de requête\n",
    "query = \"origin of COVID-19\"\n",
    "\n",
    "# Recherche avec le moteur pondéré TF-IDF\n",
    "results = search_weighted_lsa(query_text=query, top_k=10)\n",
    "\n",
    "# Affichage des résultats\n",
    "display_search_results(results, query)\n"
   ]
  },
  {
   "cell_type": "markdown",
   "metadata": {},
   "source": [
    "Evaluons le nouveau modèle "
   ]
  },
  {
   "cell_type": "code",
   "execution_count": null,
   "metadata": {},
   "outputs": [
    {
     "name": "stdout",
     "output_type": "stream",
     "text": [
      "Résultats du moteur TF-IDF pondéré avec LSA :\n",
      "- precision@k: 0.4367\n",
      "- recall@k: 0.0173\n",
      "- F1@k: 0.0332\n",
      "- MRR: 0.6104\n",
      "- nDCG@k: 0.6894\n",
      "- MAP: 0.0129\n"
     ]
    }
   ],
   "source": [
    "results_lsa = evaluate_model(search_weighted_lsa, queries_df, qrels_df, k=10)\n",
    "\n",
    "print(\"Résultats du moteur TF-IDF pondéré avec LSA :\")\n",
    "for metric, score in results_lsa.items():\n",
    "    print(f\"- {metric}: {score:.4f}\")\n"
   ]
  },
  {
   "cell_type": "markdown",
   "metadata": {},
   "source": [
    "Les scores des métriques ne sont pas meilleures que les précédentes (du moins TFIDF avec nettoyages avancés). La semantique latente extraite n'a pa été d'une très grande aide\n",
    "\n",
    " On va donc se concentrer sur la version sans LSA, avec les améliorations suivantes déjà intégrées :\n",
    "\n",
    "- Nettoyage avancé + lemmatisation via spaCy\n",
    "\n",
    "- Dictionnaire enrichi de synonymes adapté au domaine médical\n",
    "\n",
    "- TF-IDF avec n-grammes (1,2)\n",
    "\n",
    "- Pondération du titre\n",
    "\n",
    "- Évaluation avec précision, rappel, F1, MRR, nDCG\n",
    "\n",
    "- Fonction d’affichage avec surlignage des mots-clés\n",
    "\n",
    "On va utiliser cela comme notre modèle de base et passer à autre chose (modèle )"
   ]
  },
  {
   "cell_type": "markdown",
   "metadata": {},
   "source": [
    "## PRF avec tfidf sans LSA \n",
    "\n",
    "Nous allons à présent utiliser le modèle tfidf avec nettoyage avancé pour faire du PRF (Pseudo Relevance Feedback)"
   ]
  },
  {
   "cell_type": "markdown",
   "metadata": {},
   "source": [
    "Fonction pour extraire les top_n termes : qu'on utilisera dans les premiers retours des documents pour une requête "
   ]
  },
  {
   "cell_type": "code",
   "execution_count": 78,
   "metadata": {},
   "outputs": [],
   "source": [
    "from collections import Counter\n",
    "\n",
    "def extract_top_terms(documents, top_n=5):\n",
    "    \"\"\"\n",
    "    Extrait les top_n termes les plus fréquents des documents (déjà prétraités).\n",
    "    \"\"\"\n",
    "    all_tokens = \" \".join(documents[\"processed_text\"]).split()\n",
    "    most_common = Counter(all_tokens).most_common(top_n)\n",
    "    return [term for term, _ in most_common]\n"
   ]
  },
  {
   "cell_type": "markdown",
   "metadata": {},
   "source": [
    "Fonction de recherche avec PRF"
   ]
  },
  {
   "cell_type": "code",
   "execution_count": 79,
   "metadata": {},
   "outputs": [],
   "source": [
    "def search_with_prf(query_text, top_k=10, feedback_docs=5, feedback_terms=5):\n",
    "    # Étape 1 : recherche initiale\n",
    "    initial_results = search_tfidf(query_text, top_k=feedback_docs)\n",
    "    feedback_doc_ids = [res[\"doc_id\"] for res in initial_results]\n",
    "\n",
    "    # Récupération des textes prétraités de ces documents\n",
    "    feedback_docs_df = documents_df[documents_df[\"doc_id\"].isin(feedback_doc_ids)]\n",
    "    top_terms = extract_top_terms(feedback_docs_df, top_n=feedback_terms)\n",
    "\n",
    "    # Étape 2 : enrichissement de la requête\n",
    "    enriched_query = query_text + \" \" + \" \".join(top_terms)\n",
    "\n",
    "    # Étape 3 : nouvelle recherche\n",
    "    return search_tfidf(enriched_query, top_k=top_k)\n"
   ]
  },
  {
   "cell_type": "markdown",
   "metadata": {},
   "source": [
    "Exemple d'utilisation sur une requête"
   ]
  },
  {
   "cell_type": "code",
   "execution_count": 80,
   "metadata": {},
   "outputs": [
    {
     "data": {
      "text/html": [
       "<style type=\"text/css\">\n",
       "#T_d69ff th {\n",
       "  background-color: #208A9D;\n",
       "  color: white;\n",
       "  font-weight: bold;\n",
       "}\n",
       "#T_d69ff_row0_col0, #T_d69ff_row0_col1, #T_d69ff_row0_col2, #T_d69ff_row0_col3, #T_d69ff_row1_col0, #T_d69ff_row1_col1, #T_d69ff_row1_col2, #T_d69ff_row1_col3, #T_d69ff_row2_col0, #T_d69ff_row2_col1, #T_d69ff_row2_col2, #T_d69ff_row2_col3, #T_d69ff_row3_col0, #T_d69ff_row3_col1, #T_d69ff_row3_col2, #T_d69ff_row3_col3, #T_d69ff_row4_col0, #T_d69ff_row4_col1, #T_d69ff_row4_col2, #T_d69ff_row4_col3, #T_d69ff_row5_col0, #T_d69ff_row5_col1, #T_d69ff_row5_col2, #T_d69ff_row5_col3, #T_d69ff_row6_col0, #T_d69ff_row6_col1, #T_d69ff_row6_col2, #T_d69ff_row6_col3, #T_d69ff_row7_col0, #T_d69ff_row7_col1, #T_d69ff_row7_col2, #T_d69ff_row7_col3, #T_d69ff_row8_col0, #T_d69ff_row8_col1, #T_d69ff_row8_col2, #T_d69ff_row8_col3, #T_d69ff_row9_col0, #T_d69ff_row9_col1, #T_d69ff_row9_col2, #T_d69ff_row9_col3 {\n",
       "  border: 1px solid #ccc;\n",
       "  padding: 8px;\n",
       "  text-align: left;\n",
       "}\n",
       "</style>\n",
       "<table id=\"T_d69ff\" style='width:100%; border-collapse:collapse'>\n",
       "  <thead>\n",
       "    <tr>\n",
       "      <th class=\"blank level0\" >&nbsp;</th>\n",
       "      <th id=\"T_d69ff_level0_col0\" class=\"col_heading level0 col0\" >doc_id</th>\n",
       "      <th id=\"T_d69ff_level0_col1\" class=\"col_heading level0 col1\" >score</th>\n",
       "      <th id=\"T_d69ff_level0_col2\" class=\"col_heading level0 col2\" >title</th>\n",
       "      <th id=\"T_d69ff_level0_col3\" class=\"col_heading level0 col3\" >abstract</th>\n",
       "    </tr>\n",
       "  </thead>\n",
       "  <tbody>\n",
       "    <tr>\n",
       "      <th id=\"T_d69ff_level0_row0\" class=\"row_heading level0 row0\" >0</th>\n",
       "      <td id=\"T_d69ff_row0_col0\" class=\"data row0 col0\" >vp5358rr</td>\n",
       "      <td id=\"T_d69ff_row0_col1\" class=\"data row0 col1\" >0.919084</td>\n",
       "      <td id=\"T_d69ff_row0_col2\" class=\"data row0 col2\" >PARENTAL <mark style=\"background-color: #ffd54f;\">ORIGIN</mark> <mark style=\"background-color: #ffd54f;\">OF</mark> CHROMOSOME 15 DELETION IN PRADER-WILLI SYNDROME</td>\n",
       "      <td id=\"T_d69ff_row0_col3\" class=\"data row0 col3\" >PARENTAL <mark style=\"background-color: #ffd54f;\">ORIGIN</mark> <mark style=\"background-color: #ffd54f;\">OF</mark> CHROMOSOME 15 DELETION IN PRADER-WILLI SYNDROME</td>\n",
       "    </tr>\n",
       "    <tr>\n",
       "      <th id=\"T_d69ff_level0_row1\" class=\"row_heading level0 row1\" >1</th>\n",
       "      <td id=\"T_d69ff_row1_col0\" class=\"data row1 col0\" >vp5358rr</td>\n",
       "      <td id=\"T_d69ff_row1_col1\" class=\"data row1 col1\" >0.919084</td>\n",
       "      <td id=\"T_d69ff_row1_col2\" class=\"data row1 col2\" >PARENTAL <mark style=\"background-color: #ffd54f;\">ORIGIN</mark> <mark style=\"background-color: #ffd54f;\">OF</mark> CHROMOSOME 15 DELETION IN PRADER-WILLI SYNDROME</td>\n",
       "      <td id=\"T_d69ff_row1_col3\" class=\"data row1 col3\" >PARENTAL <mark style=\"background-color: #ffd54f;\">ORIGIN</mark> <mark style=\"background-color: #ffd54f;\">OF</mark> CHROMOSOME 15 DELETION IN PRADER-WILLI SYNDROME</td>\n",
       "    </tr>\n",
       "    <tr>\n",
       "      <th id=\"T_d69ff_level0_row2\" class=\"row_heading level0 row2\" >2</th>\n",
       "      <td id=\"T_d69ff_row2_col0\" class=\"data row2 col0\" >3onooc4v</td>\n",
       "      <td id=\"T_d69ff_row2_col1\" class=\"data row2 col1\" >0.385588</td>\n",
       "      <td id=\"T_d69ff_row2_col2\" class=\"data row2 col2\" >Chromosomes and expression mechanisms</td>\n",
       "      <td id=\"T_d69ff_row2_col3\" class=\"data row2 col3\" >Chromosomes and expression mechanisms</td>\n",
       "    </tr>\n",
       "    <tr>\n",
       "      <th id=\"T_d69ff_level0_row3\" class=\"row_heading level0 row3\" >3</th>\n",
       "      <td id=\"T_d69ff_row3_col0\" class=\"data row3 col0\" >1uy405i3</td>\n",
       "      <td id=\"T_d69ff_row3_col1\" class=\"data row3 col1\" >0.385588</td>\n",
       "      <td id=\"T_d69ff_row3_col2\" class=\"data row3 col2\" >Chromosomes and expression mechanisms</td>\n",
       "      <td id=\"T_d69ff_row3_col3\" class=\"data row3 col3\" >Chromosomes and expression mechanisms</td>\n",
       "    </tr>\n",
       "    <tr>\n",
       "      <th id=\"T_d69ff_level0_row4\" class=\"row_heading level0 row4\" >4</th>\n",
       "      <td id=\"T_d69ff_row4_col0\" class=\"data row4 col0\" >rda1k81w</td>\n",
       "      <td id=\"T_d69ff_row4_col1\" class=\"data row4 col1\" >0.385588</td>\n",
       "      <td id=\"T_d69ff_row4_col2\" class=\"data row4 col2\" >Chromosomes and expression mechanisms</td>\n",
       "      <td id=\"T_d69ff_row4_col3\" class=\"data row4 col3\" >Chromosomes and expression mechanisms</td>\n",
       "    </tr>\n",
       "    <tr>\n",
       "      <th id=\"T_d69ff_level0_row5\" class=\"row_heading level0 row5\" >5</th>\n",
       "      <td id=\"T_d69ff_row5_col0\" class=\"data row5 col0\" >gv1k7u7j</td>\n",
       "      <td id=\"T_d69ff_row5_col1\" class=\"data row5 col1\" >0.371808</td>\n",
       "      <td id=\"T_d69ff_row5_col2\" class=\"data row5 col2\" >Strategies to trace back the <mark style=\"background-color: #ffd54f;\">origin</mark> <mark style=\"background-color: #ffd54f;\">of</mark> <mark style=\"background-color: #ffd54f;\">COVID</mark>-<mark style=\"background-color: #ffd54f;\">19</mark></td>\n",
       "      <td id=\"T_d69ff_row5_col3\" class=\"data row5 col3\" >Strategies to trace back the <mark style=\"background-color: #ffd54f;\">origin</mark> <mark style=\"background-color: #ffd54f;\">of</mark> <mark style=\"background-color: #ffd54f;\">COVID</mark>-<mark style=\"background-color: #ffd54f;\">19</mark></td>\n",
       "    </tr>\n",
       "    <tr>\n",
       "      <th id=\"T_d69ff_level0_row6\" class=\"row_heading level0 row6\" >6</th>\n",
       "      <td id=\"T_d69ff_row6_col0\" class=\"data row6 col0\" >9dj07sac</td>\n",
       "      <td id=\"T_d69ff_row6_col1\" class=\"data row6 col1\" >0.314148</td>\n",
       "      <td id=\"T_d69ff_row6_col2\" class=\"data row6 col2\" >The prevalence, <mark style=\"background-color: #ffd54f;\">origin</mark>, and prevention <mark style=\"background-color: #ffd54f;\">of</mark> six human coronaviruses[Image: see text]</td>\n",
       "      <td id=\"T_d69ff_row6_col3\" class=\"data row6 col3\" >The prevalence, <mark style=\"background-color: #ffd54f;\">origin</mark>, and prevention <mark style=\"background-color: #ffd54f;\">of</mark> six human coronaviruses[Image: see text]</td>\n",
       "    </tr>\n",
       "    <tr>\n",
       "      <th id=\"T_d69ff_level0_row7\" class=\"row_heading level0 row7\" >7</th>\n",
       "      <td id=\"T_d69ff_row7_col0\" class=\"data row7 col0\" >ycvu5l5f</td>\n",
       "      <td id=\"T_d69ff_row7_col1\" class=\"data row7 col1\" >0.305803</td>\n",
       "      <td id=\"T_d69ff_row7_col2\" class=\"data row7 col2\" >A glimpse into the origins <mark style=\"background-color: #ffd54f;\">of</mark> genetic diversity in SARS-CoV-2</td>\n",
       "      <td id=\"T_d69ff_row7_col3\" class=\"data row7 col3\" >A glimpse into the origins <mark style=\"background-color: #ffd54f;\">of</mark> genetic diversity in SARS-CoV-2</td>\n",
       "    </tr>\n",
       "    <tr>\n",
       "      <th id=\"T_d69ff_level0_row8\" class=\"row_heading level0 row8\" >8</th>\n",
       "      <td id=\"T_d69ff_row8_col0\" class=\"data row8 col0\" >gyj5213f</td>\n",
       "      <td id=\"T_d69ff_row8_col1\" class=\"data row8 col1\" >0.270702</td>\n",
       "      <td id=\"T_d69ff_row8_col2\" class=\"data row8 col2\" >Origins <mark style=\"background-color: #ffd54f;\">of</mark> MERS-CoV, and lessons for 2019-nCoV</td>\n",
       "      <td id=\"T_d69ff_row8_col3\" class=\"data row8 col3\" >Origins <mark style=\"background-color: #ffd54f;\">of</mark> MERS-CoV, and lessons for 2019-nCoV</td>\n",
       "    </tr>\n",
       "    <tr>\n",
       "      <th id=\"T_d69ff_level0_row9\" class=\"row_heading level0 row9\" >9</th>\n",
       "      <td id=\"T_d69ff_row9_col0\" class=\"data row9 col0\" >jphbdxhw</td>\n",
       "      <td id=\"T_d69ff_row9_col1\" class=\"data row9 col1\" >0.267240</td>\n",
       "      <td id=\"T_d69ff_row9_col2\" class=\"data row9 col2\" >Early life origins <mark style=\"background-color: #ffd54f;\">of</mark> asthma</td>\n",
       "      <td id=\"T_d69ff_row9_col3\" class=\"data row9 col3\" >Early life origins <mark style=\"background-color: #ffd54f;\">of</mark> asthma</td>\n",
       "    </tr>\n",
       "  </tbody>\n",
       "</table>\n"
      ],
      "text/plain": [
       "<pandas.io.formats.style.Styler at 0x2c4acf6c990>"
      ]
     },
     "metadata": {},
     "output_type": "display_data"
    }
   ],
   "source": [
    "# Requête test\n",
    "query = \"origin of covid-19\"\n",
    "\n",
    "# Résultats enrichis par PRF\n",
    "results = search_with_prf(query_text=query, top_k=10, feedback_docs=5, feedback_terms=5)\n",
    "\n",
    "display_search_results(results, query)\n"
   ]
  },
  {
   "cell_type": "markdown",
   "metadata": {},
   "source": [
    "Evaluation"
   ]
  },
  {
   "cell_type": "code",
   "execution_count": 81,
   "metadata": {},
   "outputs": [
    {
     "name": "stdout",
     "output_type": "stream",
     "text": [
      "- precision@k: 0.4367\n",
      "- recall@k: 0.0178\n",
      "- F1@k: 0.0342\n",
      "- MRR: 0.6270\n",
      "- nDCG@k: 0.6379\n",
      "- MAP: 0.0149\n"
     ]
    }
   ],
   "source": [
    "results_prf = evaluate_model(search_with_prf, queries_df, qrels_df, k=10)\n",
    "\n",
    "for metric, score in results_prf.items():\n",
    "    print(f\"- {metric}: {score:.4f}\")\n"
   ]
  },
  {
   "cell_type": "markdown",
   "metadata": {},
   "source": [
    "### Commentaire \n",
    "\n",
    "Avec PRF on perd entièrement en pertinence sur les premiers résultats retournés, les termes qu'on récupère pour rencherir la requête n'est pas toujours assez pour contextualiser. Nous allons passer à un modèle avancé en gardant notre modèle tfidf sans LSA et sans ngramme comme modèle de base.\n",
    "\n",
    "Ce modèle de base a donné les résultats suivants comme évaluation:\n",
    "\n",
    "**Résultats du modèle TF-IDF avec prétraitement avancé** :\n",
    "- precision@k: 0.2573\n",
    "- recall@k: 0.0978\n",
    "- F1@k: 0.1406\n",
    "- MRR: 0.6958\n",
    "- nDCG@k: 0.7480\n",
    "- MAP: 0.0568\n",
    "\n",
    "Ceci est le modèle que nous retenons comme modèle de base "
   ]
  },
  {
   "cell_type": "markdown",
   "metadata": {},
   "source": [
    "### SBERT (Sentence-BERT)\n",
    "\n",
    "Nous allons passer à ce modèle avancé qui lui capte plus de semantique dans les termes nous verrons si cela est plus performant que notre modèle de ba"
   ]
  },
  {
   "cell_type": "code",
   "execution_count": 82,
   "metadata": {},
   "outputs": [
    {
     "name": "stdout",
     "output_type": "stream",
     "text": [
      "Requirement already satisfied: sentence-transformers in c:\\users\\12407156\\appdata\\local\\packages\\pythonsoftwarefoundation.python.3.11_qbz5n2kfra8p0\\localcache\\local-packages\\python311\\site-packages (4.1.0)\n",
      "Requirement already satisfied: transformers<5.0.0,>=4.41.0 in c:\\users\\12407156\\appdata\\local\\packages\\pythonsoftwarefoundation.python.3.11_qbz5n2kfra8p0\\localcache\\local-packages\\python311\\site-packages (from sentence-transformers) (4.51.3)\n",
      "Requirement already satisfied: tqdm in c:\\users\\12407156\\appdata\\local\\packages\\pythonsoftwarefoundation.python.3.11_qbz5n2kfra8p0\\localcache\\local-packages\\python311\\site-packages (from sentence-transformers) (4.67.1)\n",
      "Requirement already satisfied: torch>=1.11.0 in c:\\users\\12407156\\appdata\\local\\packages\\pythonsoftwarefoundation.python.3.11_qbz5n2kfra8p0\\localcache\\local-packages\\python311\\site-packages (from sentence-transformers) (2.6.0)\n",
      "Requirement already satisfied: scikit-learn in c:\\users\\12407156\\appdata\\local\\packages\\pythonsoftwarefoundation.python.3.11_qbz5n2kfra8p0\\localcache\\local-packages\\python311\\site-packages (from sentence-transformers) (1.6.1)\n",
      "Requirement already satisfied: scipy in c:\\users\\12407156\\appdata\\local\\packages\\pythonsoftwarefoundation.python.3.11_qbz5n2kfra8p0\\localcache\\local-packages\\python311\\site-packages (from sentence-transformers) (1.15.2)\n",
      "Requirement already satisfied: huggingface-hub>=0.20.0 in c:\\users\\12407156\\appdata\\local\\packages\\pythonsoftwarefoundation.python.3.11_qbz5n2kfra8p0\\localcache\\local-packages\\python311\\site-packages (from sentence-transformers) (0.30.2)\n",
      "Requirement already satisfied: Pillow in c:\\users\\12407156\\appdata\\local\\packages\\pythonsoftwarefoundation.python.3.11_qbz5n2kfra8p0\\localcache\\local-packages\\python311\\site-packages (from sentence-transformers) (11.1.0)\n",
      "Requirement already satisfied: typing_extensions>=4.5.0 in c:\\users\\12407156\\appdata\\local\\packages\\pythonsoftwarefoundation.python.3.11_qbz5n2kfra8p0\\localcache\\local-packages\\python311\\site-packages (from sentence-transformers) (4.12.2)\n",
      "Requirement already satisfied: filelock in c:\\users\\12407156\\appdata\\local\\packages\\pythonsoftwarefoundation.python.3.11_qbz5n2kfra8p0\\localcache\\local-packages\\python311\\site-packages (from huggingface-hub>=0.20.0->sentence-transformers) (3.18.0)\n",
      "Requirement already satisfied: fsspec>=2023.5.0 in c:\\users\\12407156\\appdata\\local\\packages\\pythonsoftwarefoundation.python.3.11_qbz5n2kfra8p0\\localcache\\local-packages\\python311\\site-packages (from huggingface-hub>=0.20.0->sentence-transformers) (2025.3.2)\n",
      "Requirement already satisfied: packaging>=20.9 in c:\\users\\12407156\\appdata\\local\\packages\\pythonsoftwarefoundation.python.3.11_qbz5n2kfra8p0\\localcache\\local-packages\\python311\\site-packages (from huggingface-hub>=0.20.0->sentence-transformers) (24.2)\n",
      "Requirement already satisfied: pyyaml>=5.1 in c:\\users\\12407156\\appdata\\local\\packages\\pythonsoftwarefoundation.python.3.11_qbz5n2kfra8p0\\localcache\\local-packages\\python311\\site-packages (from huggingface-hub>=0.20.0->sentence-transformers) (6.0.2)\n",
      "Requirement already satisfied: requests in c:\\users\\12407156\\appdata\\local\\packages\\pythonsoftwarefoundation.python.3.11_qbz5n2kfra8p0\\localcache\\local-packages\\python311\\site-packages (from huggingface-hub>=0.20.0->sentence-transformers) (2.32.3)\n",
      "Requirement already satisfied: networkx in c:\\users\\12407156\\appdata\\local\\packages\\pythonsoftwarefoundation.python.3.11_qbz5n2kfra8p0\\localcache\\local-packages\\python311\\site-packages (from torch>=1.11.0->sentence-transformers) (3.4.2)\n",
      "Requirement already satisfied: jinja2 in c:\\users\\12407156\\appdata\\local\\packages\\pythonsoftwarefoundation.python.3.11_qbz5n2kfra8p0\\localcache\\local-packages\\python311\\site-packages (from torch>=1.11.0->sentence-transformers) (3.1.6)\n",
      "Requirement already satisfied: sympy==1.13.1 in c:\\users\\12407156\\appdata\\local\\packages\\pythonsoftwarefoundation.python.3.11_qbz5n2kfra8p0\\localcache\\local-packages\\python311\\site-packages (from torch>=1.11.0->sentence-transformers) (1.13.1)\n",
      "Requirement already satisfied: mpmath<1.4,>=1.1.0 in c:\\users\\12407156\\appdata\\local\\packages\\pythonsoftwarefoundation.python.3.11_qbz5n2kfra8p0\\localcache\\local-packages\\python311\\site-packages (from sympy==1.13.1->torch>=1.11.0->sentence-transformers) (1.3.0)\n",
      "Requirement already satisfied: colorama in c:\\users\\12407156\\appdata\\local\\packages\\pythonsoftwarefoundation.python.3.11_qbz5n2kfra8p0\\localcache\\local-packages\\python311\\site-packages (from tqdm->sentence-transformers) (0.4.6)\n",
      "Requirement already satisfied: numpy>=1.17 in c:\\users\\12407156\\appdata\\local\\packages\\pythonsoftwarefoundation.python.3.11_qbz5n2kfra8p0\\localcache\\local-packages\\python311\\site-packages (from transformers<5.0.0,>=4.41.0->sentence-transformers) (2.0.2)\n",
      "Requirement already satisfied: regex!=2019.12.17 in c:\\users\\12407156\\appdata\\local\\packages\\pythonsoftwarefoundation.python.3.11_qbz5n2kfra8p0\\localcache\\local-packages\\python311\\site-packages (from transformers<5.0.0,>=4.41.0->sentence-transformers) (2024.11.6)\n",
      "Requirement already satisfied: tokenizers<0.22,>=0.21 in c:\\users\\12407156\\appdata\\local\\packages\\pythonsoftwarefoundation.python.3.11_qbz5n2kfra8p0\\localcache\\local-packages\\python311\\site-packages (from transformers<5.0.0,>=4.41.0->sentence-transformers) (0.21.1)\n",
      "Requirement already satisfied: safetensors>=0.4.3 in c:\\users\\12407156\\appdata\\local\\packages\\pythonsoftwarefoundation.python.3.11_qbz5n2kfra8p0\\localcache\\local-packages\\python311\\site-packages (from transformers<5.0.0,>=4.41.0->sentence-transformers) (0.5.3)\n",
      "Requirement already satisfied: joblib>=1.2.0 in c:\\users\\12407156\\appdata\\local\\packages\\pythonsoftwarefoundation.python.3.11_qbz5n2kfra8p0\\localcache\\local-packages\\python311\\site-packages (from scikit-learn->sentence-transformers) (1.4.2)\n",
      "Requirement already satisfied: threadpoolctl>=3.1.0 in c:\\users\\12407156\\appdata\\local\\packages\\pythonsoftwarefoundation.python.3.11_qbz5n2kfra8p0\\localcache\\local-packages\\python311\\site-packages (from scikit-learn->sentence-transformers) (3.5.0)\n",
      "Requirement already satisfied: MarkupSafe>=2.0 in c:\\users\\12407156\\appdata\\local\\packages\\pythonsoftwarefoundation.python.3.11_qbz5n2kfra8p0\\localcache\\local-packages\\python311\\site-packages (from jinja2->torch>=1.11.0->sentence-transformers) (3.0.2)\n",
      "Requirement already satisfied: charset-normalizer<4,>=2 in c:\\users\\12407156\\appdata\\local\\packages\\pythonsoftwarefoundation.python.3.11_qbz5n2kfra8p0\\localcache\\local-packages\\python311\\site-packages (from requests->huggingface-hub>=0.20.0->sentence-transformers) (3.4.1)\n",
      "Requirement already satisfied: idna<4,>=2.5 in c:\\users\\12407156\\appdata\\local\\packages\\pythonsoftwarefoundation.python.3.11_qbz5n2kfra8p0\\localcache\\local-packages\\python311\\site-packages (from requests->huggingface-hub>=0.20.0->sentence-transformers) (3.10)\n",
      "Requirement already satisfied: urllib3<3,>=1.21.1 in c:\\users\\12407156\\appdata\\local\\packages\\pythonsoftwarefoundation.python.3.11_qbz5n2kfra8p0\\localcache\\local-packages\\python311\\site-packages (from requests->huggingface-hub>=0.20.0->sentence-transformers) (2.3.0)\n",
      "Requirement already satisfied: certifi>=2017.4.17 in c:\\users\\12407156\\appdata\\local\\packages\\pythonsoftwarefoundation.python.3.11_qbz5n2kfra8p0\\localcache\\local-packages\\python311\\site-packages (from requests->huggingface-hub>=0.20.0->sentence-transformers) (2025.1.31)\n"
     ]
    },
    {
     "name": "stderr",
     "output_type": "stream",
     "text": [
      "\n",
      "[notice] A new release of pip is available: 25.0.1 -> 25.1\n",
      "[notice] To update, run: C:\\Users\\12407156\\AppData\\Local\\Microsoft\\WindowsApps\\PythonSoftwareFoundation.Python.3.11_qbz5n2kfra8p0\\python.exe -m pip install --upgrade pip\n"
     ]
    }
   ],
   "source": [
    "!pip install -U sentence-transformers\n"
   ]
  },
  {
   "cell_type": "markdown",
   "metadata": {},
   "source": [
    "Chargement du modèle à utiliser pour encoder les documents et les requêtes"
   ]
  },
  {
   "cell_type": "code",
   "execution_count": 6,
   "metadata": {},
   "outputs": [
    {
     "name": "stderr",
     "output_type": "stream",
     "text": [
      "W0826 09:55:32.774000 7804 torch\\distributed\\elastic\\multiprocessing\\redirects.py:29] NOTE: Redirects are currently not supported in Windows or MacOs.\n",
      "C:\\Users\\stginrae.AFRIQUE-TP02\\AppData\\Roaming\\Python\\Python312\\site-packages\\huggingface_hub\\file_download.py:943: FutureWarning: `resume_download` is deprecated and will be removed in version 1.0.0. Downloads always resume when possible. If you want to force a new download, use `force_download=True`.\n",
      "  warnings.warn(\n"
     ]
    }
   ],
   "source": [
    "from sentence_transformers import SentenceTransformer\n",
    "\n",
    "\n",
    "model_sbert = SentenceTransformer('all-MiniLM-L6-v2')  \n"
   ]
  },
  {
   "cell_type": "markdown",
   "metadata": {},
   "source": [
    "#### Encodage des documents prétraités \n",
    "\n",
    "Nous allons former les embeddings de nos documents "
   ]
  },
  {
   "cell_type": "code",
   "execution_count": 10,
   "metadata": {},
   "outputs": [],
   "source": [
    "documents_df = pd.read_csv(\"./api/documents_cleaned.csv\")"
   ]
  },
  {
   "cell_type": "code",
   "execution_count": 11,
   "metadata": {},
   "outputs": [
    {
     "data": {
      "application/vnd.jupyter.widget-view+json": {
       "model_id": "df8b8a267ca94fcda24233ec32abb483",
       "version_major": 2,
       "version_minor": 0
      },
      "text/plain": [
       "Batches:   0%|          | 0/1597 [00:00<?, ?it/s]"
      ]
     },
     "metadata": {},
     "output_type": "display_data"
    },
    {
     "ename": "KeyboardInterrupt",
     "evalue": "",
     "output_type": "error",
     "traceback": [
      "\u001b[1;31m---------------------------------------------------------------------------\u001b[0m",
      "\u001b[1;31mKeyboardInterrupt\u001b[0m                         Traceback (most recent call last)",
      "Cell \u001b[1;32mIn[11], line 1\u001b[0m\n\u001b[1;32m----> 1\u001b[0m doc_embeddings \u001b[38;5;241m=\u001b[39m model_sbert\u001b[38;5;241m.\u001b[39mencode(documents_df[\u001b[38;5;124m\"\u001b[39m\u001b[38;5;124mprocessed_text\u001b[39m\u001b[38;5;124m\"\u001b[39m]\u001b[38;5;241m.\u001b[39mtolist(), show_progress_bar\u001b[38;5;241m=\u001b[39m\u001b[38;5;28;01mTrue\u001b[39;00m, convert_to_tensor\u001b[38;5;241m=\u001b[39m\u001b[38;5;28;01mTrue\u001b[39;00m)\n",
      "File \u001b[1;32m~\\AppData\\Roaming\\Python\\Python312\\site-packages\\sentence_transformers\\SentenceTransformer.py:685\u001b[0m, in \u001b[0;36mSentenceTransformer.encode\u001b[1;34m(self, sentences, prompt_name, prompt, batch_size, show_progress_bar, output_value, precision, convert_to_numpy, convert_to_tensor, device, normalize_embeddings, **kwargs)\u001b[0m\n\u001b[0;32m    682\u001b[0m features\u001b[38;5;241m.\u001b[39mupdate(extra_features)\n\u001b[0;32m    684\u001b[0m \u001b[38;5;28;01mwith\u001b[39;00m torch\u001b[38;5;241m.\u001b[39mno_grad():\n\u001b[1;32m--> 685\u001b[0m     out_features \u001b[38;5;241m=\u001b[39m \u001b[38;5;28mself\u001b[39m\u001b[38;5;241m.\u001b[39mforward(features, \u001b[38;5;241m*\u001b[39m\u001b[38;5;241m*\u001b[39mkwargs)\n\u001b[0;32m    686\u001b[0m     \u001b[38;5;28;01mif\u001b[39;00m \u001b[38;5;28mself\u001b[39m\u001b[38;5;241m.\u001b[39mdevice\u001b[38;5;241m.\u001b[39mtype \u001b[38;5;241m==\u001b[39m \u001b[38;5;124m\"\u001b[39m\u001b[38;5;124mhpu\u001b[39m\u001b[38;5;124m\"\u001b[39m:\n\u001b[0;32m    687\u001b[0m         out_features \u001b[38;5;241m=\u001b[39m copy\u001b[38;5;241m.\u001b[39mdeepcopy(out_features)\n",
      "File \u001b[1;32m~\\AppData\\Roaming\\Python\\Python312\\site-packages\\sentence_transformers\\SentenceTransformer.py:758\u001b[0m, in \u001b[0;36mSentenceTransformer.forward\u001b[1;34m(self, input, **kwargs)\u001b[0m\n\u001b[0;32m    756\u001b[0m     module_kwarg_keys \u001b[38;5;241m=\u001b[39m \u001b[38;5;28mself\u001b[39m\u001b[38;5;241m.\u001b[39mmodule_kwargs\u001b[38;5;241m.\u001b[39mget(module_name, [])\n\u001b[0;32m    757\u001b[0m     module_kwargs \u001b[38;5;241m=\u001b[39m {key: value \u001b[38;5;28;01mfor\u001b[39;00m key, value \u001b[38;5;129;01min\u001b[39;00m kwargs\u001b[38;5;241m.\u001b[39mitems() \u001b[38;5;28;01mif\u001b[39;00m key \u001b[38;5;129;01min\u001b[39;00m module_kwarg_keys}\n\u001b[1;32m--> 758\u001b[0m     \u001b[38;5;28minput\u001b[39m \u001b[38;5;241m=\u001b[39m module(\u001b[38;5;28minput\u001b[39m, \u001b[38;5;241m*\u001b[39m\u001b[38;5;241m*\u001b[39mmodule_kwargs)\n\u001b[0;32m    759\u001b[0m \u001b[38;5;28;01mreturn\u001b[39;00m \u001b[38;5;28minput\u001b[39m\n",
      "File \u001b[1;32m~\\AppData\\Roaming\\Python\\Python312\\site-packages\\torch\\nn\\modules\\module.py:1751\u001b[0m, in \u001b[0;36mModule._wrapped_call_impl\u001b[1;34m(self, *args, **kwargs)\u001b[0m\n\u001b[0;32m   1749\u001b[0m     \u001b[38;5;28;01mreturn\u001b[39;00m \u001b[38;5;28mself\u001b[39m\u001b[38;5;241m.\u001b[39m_compiled_call_impl(\u001b[38;5;241m*\u001b[39margs, \u001b[38;5;241m*\u001b[39m\u001b[38;5;241m*\u001b[39mkwargs)  \u001b[38;5;66;03m# type: ignore[misc]\u001b[39;00m\n\u001b[0;32m   1750\u001b[0m \u001b[38;5;28;01melse\u001b[39;00m:\n\u001b[1;32m-> 1751\u001b[0m     \u001b[38;5;28;01mreturn\u001b[39;00m \u001b[38;5;28mself\u001b[39m\u001b[38;5;241m.\u001b[39m_call_impl(\u001b[38;5;241m*\u001b[39margs, \u001b[38;5;241m*\u001b[39m\u001b[38;5;241m*\u001b[39mkwargs)\n",
      "File \u001b[1;32m~\\AppData\\Roaming\\Python\\Python312\\site-packages\\torch\\nn\\modules\\module.py:1762\u001b[0m, in \u001b[0;36mModule._call_impl\u001b[1;34m(self, *args, **kwargs)\u001b[0m\n\u001b[0;32m   1757\u001b[0m \u001b[38;5;66;03m# If we don't have any hooks, we want to skip the rest of the logic in\u001b[39;00m\n\u001b[0;32m   1758\u001b[0m \u001b[38;5;66;03m# this function, and just call forward.\u001b[39;00m\n\u001b[0;32m   1759\u001b[0m \u001b[38;5;28;01mif\u001b[39;00m \u001b[38;5;129;01mnot\u001b[39;00m (\u001b[38;5;28mself\u001b[39m\u001b[38;5;241m.\u001b[39m_backward_hooks \u001b[38;5;129;01mor\u001b[39;00m \u001b[38;5;28mself\u001b[39m\u001b[38;5;241m.\u001b[39m_backward_pre_hooks \u001b[38;5;129;01mor\u001b[39;00m \u001b[38;5;28mself\u001b[39m\u001b[38;5;241m.\u001b[39m_forward_hooks \u001b[38;5;129;01mor\u001b[39;00m \u001b[38;5;28mself\u001b[39m\u001b[38;5;241m.\u001b[39m_forward_pre_hooks\n\u001b[0;32m   1760\u001b[0m         \u001b[38;5;129;01mor\u001b[39;00m _global_backward_pre_hooks \u001b[38;5;129;01mor\u001b[39;00m _global_backward_hooks\n\u001b[0;32m   1761\u001b[0m         \u001b[38;5;129;01mor\u001b[39;00m _global_forward_hooks \u001b[38;5;129;01mor\u001b[39;00m _global_forward_pre_hooks):\n\u001b[1;32m-> 1762\u001b[0m     \u001b[38;5;28;01mreturn\u001b[39;00m forward_call(\u001b[38;5;241m*\u001b[39margs, \u001b[38;5;241m*\u001b[39m\u001b[38;5;241m*\u001b[39mkwargs)\n\u001b[0;32m   1764\u001b[0m result \u001b[38;5;241m=\u001b[39m \u001b[38;5;28;01mNone\u001b[39;00m\n\u001b[0;32m   1765\u001b[0m called_always_called_hooks \u001b[38;5;241m=\u001b[39m \u001b[38;5;28mset\u001b[39m()\n",
      "File \u001b[1;32m~\\AppData\\Roaming\\Python\\Python312\\site-packages\\sentence_transformers\\models\\Transformer.py:442\u001b[0m, in \u001b[0;36mTransformer.forward\u001b[1;34m(self, features, **kwargs)\u001b[0m\n\u001b[0;32m    435\u001b[0m \u001b[38;5;250m\u001b[39m\u001b[38;5;124;03m\"\"\"Returns token_embeddings, cls_token\"\"\"\u001b[39;00m\n\u001b[0;32m    436\u001b[0m trans_features \u001b[38;5;241m=\u001b[39m {\n\u001b[0;32m    437\u001b[0m     key: value\n\u001b[0;32m    438\u001b[0m     \u001b[38;5;28;01mfor\u001b[39;00m key, value \u001b[38;5;129;01min\u001b[39;00m features\u001b[38;5;241m.\u001b[39mitems()\n\u001b[0;32m    439\u001b[0m     \u001b[38;5;28;01mif\u001b[39;00m key \u001b[38;5;129;01min\u001b[39;00m [\u001b[38;5;124m\"\u001b[39m\u001b[38;5;124minput_ids\u001b[39m\u001b[38;5;124m\"\u001b[39m, \u001b[38;5;124m\"\u001b[39m\u001b[38;5;124mattention_mask\u001b[39m\u001b[38;5;124m\"\u001b[39m, \u001b[38;5;124m\"\u001b[39m\u001b[38;5;124mtoken_type_ids\u001b[39m\u001b[38;5;124m\"\u001b[39m, \u001b[38;5;124m\"\u001b[39m\u001b[38;5;124minputs_embeds\u001b[39m\u001b[38;5;124m\"\u001b[39m]\n\u001b[0;32m    440\u001b[0m }\n\u001b[1;32m--> 442\u001b[0m outputs \u001b[38;5;241m=\u001b[39m \u001b[38;5;28mself\u001b[39m\u001b[38;5;241m.\u001b[39mauto_model(\u001b[38;5;241m*\u001b[39m\u001b[38;5;241m*\u001b[39mtrans_features, \u001b[38;5;241m*\u001b[39m\u001b[38;5;241m*\u001b[39mkwargs, return_dict\u001b[38;5;241m=\u001b[39m\u001b[38;5;28;01mTrue\u001b[39;00m)\n\u001b[0;32m    443\u001b[0m token_embeddings \u001b[38;5;241m=\u001b[39m outputs[\u001b[38;5;241m0\u001b[39m]\n\u001b[0;32m    444\u001b[0m features[\u001b[38;5;124m\"\u001b[39m\u001b[38;5;124mtoken_embeddings\u001b[39m\u001b[38;5;124m\"\u001b[39m] \u001b[38;5;241m=\u001b[39m token_embeddings\n",
      "File \u001b[1;32m~\\AppData\\Roaming\\Python\\Python312\\site-packages\\torch\\nn\\modules\\module.py:1751\u001b[0m, in \u001b[0;36mModule._wrapped_call_impl\u001b[1;34m(self, *args, **kwargs)\u001b[0m\n\u001b[0;32m   1749\u001b[0m     \u001b[38;5;28;01mreturn\u001b[39;00m \u001b[38;5;28mself\u001b[39m\u001b[38;5;241m.\u001b[39m_compiled_call_impl(\u001b[38;5;241m*\u001b[39margs, \u001b[38;5;241m*\u001b[39m\u001b[38;5;241m*\u001b[39mkwargs)  \u001b[38;5;66;03m# type: ignore[misc]\u001b[39;00m\n\u001b[0;32m   1750\u001b[0m \u001b[38;5;28;01melse\u001b[39;00m:\n\u001b[1;32m-> 1751\u001b[0m     \u001b[38;5;28;01mreturn\u001b[39;00m \u001b[38;5;28mself\u001b[39m\u001b[38;5;241m.\u001b[39m_call_impl(\u001b[38;5;241m*\u001b[39margs, \u001b[38;5;241m*\u001b[39m\u001b[38;5;241m*\u001b[39mkwargs)\n",
      "File \u001b[1;32m~\\AppData\\Roaming\\Python\\Python312\\site-packages\\torch\\nn\\modules\\module.py:1762\u001b[0m, in \u001b[0;36mModule._call_impl\u001b[1;34m(self, *args, **kwargs)\u001b[0m\n\u001b[0;32m   1757\u001b[0m \u001b[38;5;66;03m# If we don't have any hooks, we want to skip the rest of the logic in\u001b[39;00m\n\u001b[0;32m   1758\u001b[0m \u001b[38;5;66;03m# this function, and just call forward.\u001b[39;00m\n\u001b[0;32m   1759\u001b[0m \u001b[38;5;28;01mif\u001b[39;00m \u001b[38;5;129;01mnot\u001b[39;00m (\u001b[38;5;28mself\u001b[39m\u001b[38;5;241m.\u001b[39m_backward_hooks \u001b[38;5;129;01mor\u001b[39;00m \u001b[38;5;28mself\u001b[39m\u001b[38;5;241m.\u001b[39m_backward_pre_hooks \u001b[38;5;129;01mor\u001b[39;00m \u001b[38;5;28mself\u001b[39m\u001b[38;5;241m.\u001b[39m_forward_hooks \u001b[38;5;129;01mor\u001b[39;00m \u001b[38;5;28mself\u001b[39m\u001b[38;5;241m.\u001b[39m_forward_pre_hooks\n\u001b[0;32m   1760\u001b[0m         \u001b[38;5;129;01mor\u001b[39;00m _global_backward_pre_hooks \u001b[38;5;129;01mor\u001b[39;00m _global_backward_hooks\n\u001b[0;32m   1761\u001b[0m         \u001b[38;5;129;01mor\u001b[39;00m _global_forward_hooks \u001b[38;5;129;01mor\u001b[39;00m _global_forward_pre_hooks):\n\u001b[1;32m-> 1762\u001b[0m     \u001b[38;5;28;01mreturn\u001b[39;00m forward_call(\u001b[38;5;241m*\u001b[39margs, \u001b[38;5;241m*\u001b[39m\u001b[38;5;241m*\u001b[39mkwargs)\n\u001b[0;32m   1764\u001b[0m result \u001b[38;5;241m=\u001b[39m \u001b[38;5;28;01mNone\u001b[39;00m\n\u001b[0;32m   1765\u001b[0m called_always_called_hooks \u001b[38;5;241m=\u001b[39m \u001b[38;5;28mset\u001b[39m()\n",
      "File \u001b[1;32m~\\AppData\\Roaming\\Python\\Python312\\site-packages\\transformers\\models\\bert\\modeling_bert.py:1013\u001b[0m, in \u001b[0;36mBertModel.forward\u001b[1;34m(self, input_ids, attention_mask, token_type_ids, position_ids, head_mask, inputs_embeds, encoder_hidden_states, encoder_attention_mask, past_key_values, use_cache, output_attentions, output_hidden_states, return_dict)\u001b[0m\n\u001b[0;32m   1004\u001b[0m head_mask \u001b[38;5;241m=\u001b[39m \u001b[38;5;28mself\u001b[39m\u001b[38;5;241m.\u001b[39mget_head_mask(head_mask, \u001b[38;5;28mself\u001b[39m\u001b[38;5;241m.\u001b[39mconfig\u001b[38;5;241m.\u001b[39mnum_hidden_layers)\n\u001b[0;32m   1006\u001b[0m embedding_output \u001b[38;5;241m=\u001b[39m \u001b[38;5;28mself\u001b[39m\u001b[38;5;241m.\u001b[39membeddings(\n\u001b[0;32m   1007\u001b[0m     input_ids\u001b[38;5;241m=\u001b[39minput_ids,\n\u001b[0;32m   1008\u001b[0m     position_ids\u001b[38;5;241m=\u001b[39mposition_ids,\n\u001b[1;32m   (...)\u001b[0m\n\u001b[0;32m   1011\u001b[0m     past_key_values_length\u001b[38;5;241m=\u001b[39mpast_key_values_length,\n\u001b[0;32m   1012\u001b[0m )\n\u001b[1;32m-> 1013\u001b[0m encoder_outputs \u001b[38;5;241m=\u001b[39m \u001b[38;5;28mself\u001b[39m\u001b[38;5;241m.\u001b[39mencoder(\n\u001b[0;32m   1014\u001b[0m     embedding_output,\n\u001b[0;32m   1015\u001b[0m     attention_mask\u001b[38;5;241m=\u001b[39mextended_attention_mask,\n\u001b[0;32m   1016\u001b[0m     head_mask\u001b[38;5;241m=\u001b[39mhead_mask,\n\u001b[0;32m   1017\u001b[0m     encoder_hidden_states\u001b[38;5;241m=\u001b[39mencoder_hidden_states,\n\u001b[0;32m   1018\u001b[0m     encoder_attention_mask\u001b[38;5;241m=\u001b[39mencoder_extended_attention_mask,\n\u001b[0;32m   1019\u001b[0m     past_key_values\u001b[38;5;241m=\u001b[39mpast_key_values,\n\u001b[0;32m   1020\u001b[0m     use_cache\u001b[38;5;241m=\u001b[39muse_cache,\n\u001b[0;32m   1021\u001b[0m     output_attentions\u001b[38;5;241m=\u001b[39moutput_attentions,\n\u001b[0;32m   1022\u001b[0m     output_hidden_states\u001b[38;5;241m=\u001b[39moutput_hidden_states,\n\u001b[0;32m   1023\u001b[0m     return_dict\u001b[38;5;241m=\u001b[39mreturn_dict,\n\u001b[0;32m   1024\u001b[0m )\n\u001b[0;32m   1025\u001b[0m sequence_output \u001b[38;5;241m=\u001b[39m encoder_outputs[\u001b[38;5;241m0\u001b[39m]\n\u001b[0;32m   1026\u001b[0m pooled_output \u001b[38;5;241m=\u001b[39m \u001b[38;5;28mself\u001b[39m\u001b[38;5;241m.\u001b[39mpooler(sequence_output) \u001b[38;5;28;01mif\u001b[39;00m \u001b[38;5;28mself\u001b[39m\u001b[38;5;241m.\u001b[39mpooler \u001b[38;5;129;01mis\u001b[39;00m \u001b[38;5;129;01mnot\u001b[39;00m \u001b[38;5;28;01mNone\u001b[39;00m \u001b[38;5;28;01melse\u001b[39;00m \u001b[38;5;28;01mNone\u001b[39;00m\n",
      "File \u001b[1;32m~\\AppData\\Roaming\\Python\\Python312\\site-packages\\torch\\nn\\modules\\module.py:1751\u001b[0m, in \u001b[0;36mModule._wrapped_call_impl\u001b[1;34m(self, *args, **kwargs)\u001b[0m\n\u001b[0;32m   1749\u001b[0m     \u001b[38;5;28;01mreturn\u001b[39;00m \u001b[38;5;28mself\u001b[39m\u001b[38;5;241m.\u001b[39m_compiled_call_impl(\u001b[38;5;241m*\u001b[39margs, \u001b[38;5;241m*\u001b[39m\u001b[38;5;241m*\u001b[39mkwargs)  \u001b[38;5;66;03m# type: ignore[misc]\u001b[39;00m\n\u001b[0;32m   1750\u001b[0m \u001b[38;5;28;01melse\u001b[39;00m:\n\u001b[1;32m-> 1751\u001b[0m     \u001b[38;5;28;01mreturn\u001b[39;00m \u001b[38;5;28mself\u001b[39m\u001b[38;5;241m.\u001b[39m_call_impl(\u001b[38;5;241m*\u001b[39margs, \u001b[38;5;241m*\u001b[39m\u001b[38;5;241m*\u001b[39mkwargs)\n",
      "File \u001b[1;32m~\\AppData\\Roaming\\Python\\Python312\\site-packages\\torch\\nn\\modules\\module.py:1762\u001b[0m, in \u001b[0;36mModule._call_impl\u001b[1;34m(self, *args, **kwargs)\u001b[0m\n\u001b[0;32m   1757\u001b[0m \u001b[38;5;66;03m# If we don't have any hooks, we want to skip the rest of the logic in\u001b[39;00m\n\u001b[0;32m   1758\u001b[0m \u001b[38;5;66;03m# this function, and just call forward.\u001b[39;00m\n\u001b[0;32m   1759\u001b[0m \u001b[38;5;28;01mif\u001b[39;00m \u001b[38;5;129;01mnot\u001b[39;00m (\u001b[38;5;28mself\u001b[39m\u001b[38;5;241m.\u001b[39m_backward_hooks \u001b[38;5;129;01mor\u001b[39;00m \u001b[38;5;28mself\u001b[39m\u001b[38;5;241m.\u001b[39m_backward_pre_hooks \u001b[38;5;129;01mor\u001b[39;00m \u001b[38;5;28mself\u001b[39m\u001b[38;5;241m.\u001b[39m_forward_hooks \u001b[38;5;129;01mor\u001b[39;00m \u001b[38;5;28mself\u001b[39m\u001b[38;5;241m.\u001b[39m_forward_pre_hooks\n\u001b[0;32m   1760\u001b[0m         \u001b[38;5;129;01mor\u001b[39;00m _global_backward_pre_hooks \u001b[38;5;129;01mor\u001b[39;00m _global_backward_hooks\n\u001b[0;32m   1761\u001b[0m         \u001b[38;5;129;01mor\u001b[39;00m _global_forward_hooks \u001b[38;5;129;01mor\u001b[39;00m _global_forward_pre_hooks):\n\u001b[1;32m-> 1762\u001b[0m     \u001b[38;5;28;01mreturn\u001b[39;00m forward_call(\u001b[38;5;241m*\u001b[39margs, \u001b[38;5;241m*\u001b[39m\u001b[38;5;241m*\u001b[39mkwargs)\n\u001b[0;32m   1764\u001b[0m result \u001b[38;5;241m=\u001b[39m \u001b[38;5;28;01mNone\u001b[39;00m\n\u001b[0;32m   1765\u001b[0m called_always_called_hooks \u001b[38;5;241m=\u001b[39m \u001b[38;5;28mset\u001b[39m()\n",
      "File \u001b[1;32m~\\AppData\\Roaming\\Python\\Python312\\site-packages\\transformers\\models\\bert\\modeling_bert.py:607\u001b[0m, in \u001b[0;36mBertEncoder.forward\u001b[1;34m(self, hidden_states, attention_mask, head_mask, encoder_hidden_states, encoder_attention_mask, past_key_values, use_cache, output_attentions, output_hidden_states, return_dict)\u001b[0m\n\u001b[0;32m    596\u001b[0m     layer_outputs \u001b[38;5;241m=\u001b[39m \u001b[38;5;28mself\u001b[39m\u001b[38;5;241m.\u001b[39m_gradient_checkpointing_func(\n\u001b[0;32m    597\u001b[0m         layer_module\u001b[38;5;241m.\u001b[39m\u001b[38;5;21m__call__\u001b[39m,\n\u001b[0;32m    598\u001b[0m         hidden_states,\n\u001b[1;32m   (...)\u001b[0m\n\u001b[0;32m    604\u001b[0m         output_attentions,\n\u001b[0;32m    605\u001b[0m     )\n\u001b[0;32m    606\u001b[0m \u001b[38;5;28;01melse\u001b[39;00m:\n\u001b[1;32m--> 607\u001b[0m     layer_outputs \u001b[38;5;241m=\u001b[39m layer_module(\n\u001b[0;32m    608\u001b[0m         hidden_states,\n\u001b[0;32m    609\u001b[0m         attention_mask,\n\u001b[0;32m    610\u001b[0m         layer_head_mask,\n\u001b[0;32m    611\u001b[0m         encoder_hidden_states,\n\u001b[0;32m    612\u001b[0m         encoder_attention_mask,\n\u001b[0;32m    613\u001b[0m         past_key_value,\n\u001b[0;32m    614\u001b[0m         output_attentions,\n\u001b[0;32m    615\u001b[0m     )\n\u001b[0;32m    617\u001b[0m hidden_states \u001b[38;5;241m=\u001b[39m layer_outputs[\u001b[38;5;241m0\u001b[39m]\n\u001b[0;32m    618\u001b[0m \u001b[38;5;28;01mif\u001b[39;00m use_cache:\n",
      "File \u001b[1;32m~\\AppData\\Roaming\\Python\\Python312\\site-packages\\torch\\nn\\modules\\module.py:1751\u001b[0m, in \u001b[0;36mModule._wrapped_call_impl\u001b[1;34m(self, *args, **kwargs)\u001b[0m\n\u001b[0;32m   1749\u001b[0m     \u001b[38;5;28;01mreturn\u001b[39;00m \u001b[38;5;28mself\u001b[39m\u001b[38;5;241m.\u001b[39m_compiled_call_impl(\u001b[38;5;241m*\u001b[39margs, \u001b[38;5;241m*\u001b[39m\u001b[38;5;241m*\u001b[39mkwargs)  \u001b[38;5;66;03m# type: ignore[misc]\u001b[39;00m\n\u001b[0;32m   1750\u001b[0m \u001b[38;5;28;01melse\u001b[39;00m:\n\u001b[1;32m-> 1751\u001b[0m     \u001b[38;5;28;01mreturn\u001b[39;00m \u001b[38;5;28mself\u001b[39m\u001b[38;5;241m.\u001b[39m_call_impl(\u001b[38;5;241m*\u001b[39margs, \u001b[38;5;241m*\u001b[39m\u001b[38;5;241m*\u001b[39mkwargs)\n",
      "File \u001b[1;32m~\\AppData\\Roaming\\Python\\Python312\\site-packages\\torch\\nn\\modules\\module.py:1762\u001b[0m, in \u001b[0;36mModule._call_impl\u001b[1;34m(self, *args, **kwargs)\u001b[0m\n\u001b[0;32m   1757\u001b[0m \u001b[38;5;66;03m# If we don't have any hooks, we want to skip the rest of the logic in\u001b[39;00m\n\u001b[0;32m   1758\u001b[0m \u001b[38;5;66;03m# this function, and just call forward.\u001b[39;00m\n\u001b[0;32m   1759\u001b[0m \u001b[38;5;28;01mif\u001b[39;00m \u001b[38;5;129;01mnot\u001b[39;00m (\u001b[38;5;28mself\u001b[39m\u001b[38;5;241m.\u001b[39m_backward_hooks \u001b[38;5;129;01mor\u001b[39;00m \u001b[38;5;28mself\u001b[39m\u001b[38;5;241m.\u001b[39m_backward_pre_hooks \u001b[38;5;129;01mor\u001b[39;00m \u001b[38;5;28mself\u001b[39m\u001b[38;5;241m.\u001b[39m_forward_hooks \u001b[38;5;129;01mor\u001b[39;00m \u001b[38;5;28mself\u001b[39m\u001b[38;5;241m.\u001b[39m_forward_pre_hooks\n\u001b[0;32m   1760\u001b[0m         \u001b[38;5;129;01mor\u001b[39;00m _global_backward_pre_hooks \u001b[38;5;129;01mor\u001b[39;00m _global_backward_hooks\n\u001b[0;32m   1761\u001b[0m         \u001b[38;5;129;01mor\u001b[39;00m _global_forward_hooks \u001b[38;5;129;01mor\u001b[39;00m _global_forward_pre_hooks):\n\u001b[1;32m-> 1762\u001b[0m     \u001b[38;5;28;01mreturn\u001b[39;00m forward_call(\u001b[38;5;241m*\u001b[39margs, \u001b[38;5;241m*\u001b[39m\u001b[38;5;241m*\u001b[39mkwargs)\n\u001b[0;32m   1764\u001b[0m result \u001b[38;5;241m=\u001b[39m \u001b[38;5;28;01mNone\u001b[39;00m\n\u001b[0;32m   1765\u001b[0m called_always_called_hooks \u001b[38;5;241m=\u001b[39m \u001b[38;5;28mset\u001b[39m()\n",
      "File \u001b[1;32m~\\AppData\\Roaming\\Python\\Python312\\site-packages\\transformers\\models\\bert\\modeling_bert.py:539\u001b[0m, in \u001b[0;36mBertLayer.forward\u001b[1;34m(self, hidden_states, attention_mask, head_mask, encoder_hidden_states, encoder_attention_mask, past_key_value, output_attentions)\u001b[0m\n\u001b[0;32m    536\u001b[0m     cross_attn_present_key_value \u001b[38;5;241m=\u001b[39m cross_attention_outputs[\u001b[38;5;241m-\u001b[39m\u001b[38;5;241m1\u001b[39m]\n\u001b[0;32m    537\u001b[0m     present_key_value \u001b[38;5;241m=\u001b[39m present_key_value \u001b[38;5;241m+\u001b[39m cross_attn_present_key_value\n\u001b[1;32m--> 539\u001b[0m layer_output \u001b[38;5;241m=\u001b[39m apply_chunking_to_forward(\n\u001b[0;32m    540\u001b[0m     \u001b[38;5;28mself\u001b[39m\u001b[38;5;241m.\u001b[39mfeed_forward_chunk, \u001b[38;5;28mself\u001b[39m\u001b[38;5;241m.\u001b[39mchunk_size_feed_forward, \u001b[38;5;28mself\u001b[39m\u001b[38;5;241m.\u001b[39mseq_len_dim, attention_output\n\u001b[0;32m    541\u001b[0m )\n\u001b[0;32m    542\u001b[0m outputs \u001b[38;5;241m=\u001b[39m (layer_output,) \u001b[38;5;241m+\u001b[39m outputs\n\u001b[0;32m    544\u001b[0m \u001b[38;5;66;03m# if decoder, return the attn key/values as the last output\u001b[39;00m\n",
      "File \u001b[1;32m~\\AppData\\Roaming\\Python\\Python312\\site-packages\\transformers\\pytorch_utils.py:237\u001b[0m, in \u001b[0;36mapply_chunking_to_forward\u001b[1;34m(forward_fn, chunk_size, chunk_dim, *input_tensors)\u001b[0m\n\u001b[0;32m    234\u001b[0m     \u001b[38;5;66;03m# concatenate output at same dimension\u001b[39;00m\n\u001b[0;32m    235\u001b[0m     \u001b[38;5;28;01mreturn\u001b[39;00m torch\u001b[38;5;241m.\u001b[39mcat(output_chunks, dim\u001b[38;5;241m=\u001b[39mchunk_dim)\n\u001b[1;32m--> 237\u001b[0m \u001b[38;5;28;01mreturn\u001b[39;00m forward_fn(\u001b[38;5;241m*\u001b[39minput_tensors)\n",
      "File \u001b[1;32m~\\AppData\\Roaming\\Python\\Python312\\site-packages\\transformers\\models\\bert\\modeling_bert.py:552\u001b[0m, in \u001b[0;36mBertLayer.feed_forward_chunk\u001b[1;34m(self, attention_output)\u001b[0m\n\u001b[0;32m    550\u001b[0m \u001b[38;5;28;01mdef\u001b[39;00m \u001b[38;5;21mfeed_forward_chunk\u001b[39m(\u001b[38;5;28mself\u001b[39m, attention_output):\n\u001b[0;32m    551\u001b[0m     intermediate_output \u001b[38;5;241m=\u001b[39m \u001b[38;5;28mself\u001b[39m\u001b[38;5;241m.\u001b[39mintermediate(attention_output)\n\u001b[1;32m--> 552\u001b[0m     layer_output \u001b[38;5;241m=\u001b[39m \u001b[38;5;28mself\u001b[39m\u001b[38;5;241m.\u001b[39moutput(intermediate_output, attention_output)\n\u001b[0;32m    553\u001b[0m     \u001b[38;5;28;01mreturn\u001b[39;00m layer_output\n",
      "File \u001b[1;32m~\\AppData\\Roaming\\Python\\Python312\\site-packages\\torch\\nn\\modules\\module.py:1751\u001b[0m, in \u001b[0;36mModule._wrapped_call_impl\u001b[1;34m(self, *args, **kwargs)\u001b[0m\n\u001b[0;32m   1749\u001b[0m     \u001b[38;5;28;01mreturn\u001b[39;00m \u001b[38;5;28mself\u001b[39m\u001b[38;5;241m.\u001b[39m_compiled_call_impl(\u001b[38;5;241m*\u001b[39margs, \u001b[38;5;241m*\u001b[39m\u001b[38;5;241m*\u001b[39mkwargs)  \u001b[38;5;66;03m# type: ignore[misc]\u001b[39;00m\n\u001b[0;32m   1750\u001b[0m \u001b[38;5;28;01melse\u001b[39;00m:\n\u001b[1;32m-> 1751\u001b[0m     \u001b[38;5;28;01mreturn\u001b[39;00m \u001b[38;5;28mself\u001b[39m\u001b[38;5;241m.\u001b[39m_call_impl(\u001b[38;5;241m*\u001b[39margs, \u001b[38;5;241m*\u001b[39m\u001b[38;5;241m*\u001b[39mkwargs)\n",
      "File \u001b[1;32m~\\AppData\\Roaming\\Python\\Python312\\site-packages\\torch\\nn\\modules\\module.py:1762\u001b[0m, in \u001b[0;36mModule._call_impl\u001b[1;34m(self, *args, **kwargs)\u001b[0m\n\u001b[0;32m   1757\u001b[0m \u001b[38;5;66;03m# If we don't have any hooks, we want to skip the rest of the logic in\u001b[39;00m\n\u001b[0;32m   1758\u001b[0m \u001b[38;5;66;03m# this function, and just call forward.\u001b[39;00m\n\u001b[0;32m   1759\u001b[0m \u001b[38;5;28;01mif\u001b[39;00m \u001b[38;5;129;01mnot\u001b[39;00m (\u001b[38;5;28mself\u001b[39m\u001b[38;5;241m.\u001b[39m_backward_hooks \u001b[38;5;129;01mor\u001b[39;00m \u001b[38;5;28mself\u001b[39m\u001b[38;5;241m.\u001b[39m_backward_pre_hooks \u001b[38;5;129;01mor\u001b[39;00m \u001b[38;5;28mself\u001b[39m\u001b[38;5;241m.\u001b[39m_forward_hooks \u001b[38;5;129;01mor\u001b[39;00m \u001b[38;5;28mself\u001b[39m\u001b[38;5;241m.\u001b[39m_forward_pre_hooks\n\u001b[0;32m   1760\u001b[0m         \u001b[38;5;129;01mor\u001b[39;00m _global_backward_pre_hooks \u001b[38;5;129;01mor\u001b[39;00m _global_backward_hooks\n\u001b[0;32m   1761\u001b[0m         \u001b[38;5;129;01mor\u001b[39;00m _global_forward_hooks \u001b[38;5;129;01mor\u001b[39;00m _global_forward_pre_hooks):\n\u001b[1;32m-> 1762\u001b[0m     \u001b[38;5;28;01mreturn\u001b[39;00m forward_call(\u001b[38;5;241m*\u001b[39margs, \u001b[38;5;241m*\u001b[39m\u001b[38;5;241m*\u001b[39mkwargs)\n\u001b[0;32m   1764\u001b[0m result \u001b[38;5;241m=\u001b[39m \u001b[38;5;28;01mNone\u001b[39;00m\n\u001b[0;32m   1765\u001b[0m called_always_called_hooks \u001b[38;5;241m=\u001b[39m \u001b[38;5;28mset\u001b[39m()\n",
      "File \u001b[1;32m~\\AppData\\Roaming\\Python\\Python312\\site-packages\\transformers\\models\\bert\\modeling_bert.py:464\u001b[0m, in \u001b[0;36mBertOutput.forward\u001b[1;34m(self, hidden_states, input_tensor)\u001b[0m\n\u001b[0;32m    463\u001b[0m \u001b[38;5;28;01mdef\u001b[39;00m \u001b[38;5;21mforward\u001b[39m(\u001b[38;5;28mself\u001b[39m, hidden_states: torch\u001b[38;5;241m.\u001b[39mTensor, input_tensor: torch\u001b[38;5;241m.\u001b[39mTensor) \u001b[38;5;241m-\u001b[39m\u001b[38;5;241m>\u001b[39m torch\u001b[38;5;241m.\u001b[39mTensor:\n\u001b[1;32m--> 464\u001b[0m     hidden_states \u001b[38;5;241m=\u001b[39m \u001b[38;5;28mself\u001b[39m\u001b[38;5;241m.\u001b[39mdense(hidden_states)\n\u001b[0;32m    465\u001b[0m     hidden_states \u001b[38;5;241m=\u001b[39m \u001b[38;5;28mself\u001b[39m\u001b[38;5;241m.\u001b[39mdropout(hidden_states)\n\u001b[0;32m    466\u001b[0m     hidden_states \u001b[38;5;241m=\u001b[39m \u001b[38;5;28mself\u001b[39m\u001b[38;5;241m.\u001b[39mLayerNorm(hidden_states \u001b[38;5;241m+\u001b[39m input_tensor)\n",
      "File \u001b[1;32m~\\AppData\\Roaming\\Python\\Python312\\site-packages\\torch\\nn\\modules\\module.py:1751\u001b[0m, in \u001b[0;36mModule._wrapped_call_impl\u001b[1;34m(self, *args, **kwargs)\u001b[0m\n\u001b[0;32m   1749\u001b[0m     \u001b[38;5;28;01mreturn\u001b[39;00m \u001b[38;5;28mself\u001b[39m\u001b[38;5;241m.\u001b[39m_compiled_call_impl(\u001b[38;5;241m*\u001b[39margs, \u001b[38;5;241m*\u001b[39m\u001b[38;5;241m*\u001b[39mkwargs)  \u001b[38;5;66;03m# type: ignore[misc]\u001b[39;00m\n\u001b[0;32m   1750\u001b[0m \u001b[38;5;28;01melse\u001b[39;00m:\n\u001b[1;32m-> 1751\u001b[0m     \u001b[38;5;28;01mreturn\u001b[39;00m \u001b[38;5;28mself\u001b[39m\u001b[38;5;241m.\u001b[39m_call_impl(\u001b[38;5;241m*\u001b[39margs, \u001b[38;5;241m*\u001b[39m\u001b[38;5;241m*\u001b[39mkwargs)\n",
      "File \u001b[1;32m~\\AppData\\Roaming\\Python\\Python312\\site-packages\\torch\\nn\\modules\\module.py:1762\u001b[0m, in \u001b[0;36mModule._call_impl\u001b[1;34m(self, *args, **kwargs)\u001b[0m\n\u001b[0;32m   1757\u001b[0m \u001b[38;5;66;03m# If we don't have any hooks, we want to skip the rest of the logic in\u001b[39;00m\n\u001b[0;32m   1758\u001b[0m \u001b[38;5;66;03m# this function, and just call forward.\u001b[39;00m\n\u001b[0;32m   1759\u001b[0m \u001b[38;5;28;01mif\u001b[39;00m \u001b[38;5;129;01mnot\u001b[39;00m (\u001b[38;5;28mself\u001b[39m\u001b[38;5;241m.\u001b[39m_backward_hooks \u001b[38;5;129;01mor\u001b[39;00m \u001b[38;5;28mself\u001b[39m\u001b[38;5;241m.\u001b[39m_backward_pre_hooks \u001b[38;5;129;01mor\u001b[39;00m \u001b[38;5;28mself\u001b[39m\u001b[38;5;241m.\u001b[39m_forward_hooks \u001b[38;5;129;01mor\u001b[39;00m \u001b[38;5;28mself\u001b[39m\u001b[38;5;241m.\u001b[39m_forward_pre_hooks\n\u001b[0;32m   1760\u001b[0m         \u001b[38;5;129;01mor\u001b[39;00m _global_backward_pre_hooks \u001b[38;5;129;01mor\u001b[39;00m _global_backward_hooks\n\u001b[0;32m   1761\u001b[0m         \u001b[38;5;129;01mor\u001b[39;00m _global_forward_hooks \u001b[38;5;129;01mor\u001b[39;00m _global_forward_pre_hooks):\n\u001b[1;32m-> 1762\u001b[0m     \u001b[38;5;28;01mreturn\u001b[39;00m forward_call(\u001b[38;5;241m*\u001b[39margs, \u001b[38;5;241m*\u001b[39m\u001b[38;5;241m*\u001b[39mkwargs)\n\u001b[0;32m   1764\u001b[0m result \u001b[38;5;241m=\u001b[39m \u001b[38;5;28;01mNone\u001b[39;00m\n\u001b[0;32m   1765\u001b[0m called_always_called_hooks \u001b[38;5;241m=\u001b[39m \u001b[38;5;28mset\u001b[39m()\n",
      "File \u001b[1;32m~\\AppData\\Roaming\\Python\\Python312\\site-packages\\torch\\nn\\modules\\linear.py:125\u001b[0m, in \u001b[0;36mLinear.forward\u001b[1;34m(self, input)\u001b[0m\n\u001b[0;32m    124\u001b[0m \u001b[38;5;28;01mdef\u001b[39;00m \u001b[38;5;21mforward\u001b[39m(\u001b[38;5;28mself\u001b[39m, \u001b[38;5;28minput\u001b[39m: Tensor) \u001b[38;5;241m-\u001b[39m\u001b[38;5;241m>\u001b[39m Tensor:\n\u001b[1;32m--> 125\u001b[0m     \u001b[38;5;28;01mreturn\u001b[39;00m F\u001b[38;5;241m.\u001b[39mlinear(\u001b[38;5;28minput\u001b[39m, \u001b[38;5;28mself\u001b[39m\u001b[38;5;241m.\u001b[39mweight, \u001b[38;5;28mself\u001b[39m\u001b[38;5;241m.\u001b[39mbias)\n",
      "\u001b[1;31mKeyboardInterrupt\u001b[0m: "
     ]
    }
   ],
   "source": [
    "doc_embeddings = model_sbert.encode(documents_df[\"processed_text\"].tolist(), show_progress_bar=True, convert_to_tensor=True)"
   ]
  },
  {
   "cell_type": "markdown",
   "metadata": {},
   "source": [
    "#### Fonction de recherche avec S-BERT, \n",
    "\n",
    "Nous allons encoder les requêtes dans cette fonction puis calculer le score de similarité entre les embeddings des documents et ceux des requêtes "
   ]
  },
  {
   "cell_type": "code",
   "execution_count": 86,
   "metadata": {},
   "outputs": [],
   "source": [
    "def search_sbert(query_text, top_k=10):\n",
    "    query_embedding = model_sbert.encode(query_text, convert_to_tensor=True)\n",
    "    similarities = cosine_similarity(query_embedding.cpu().numpy().reshape(1, -1), doc_embeddings.cpu().numpy()).flatten()\n",
    "    top_indices = similarities.argsort()[::-1][:top_k]\n",
    "    \n",
    "    top_docs = documents_df.iloc[top_indices].copy()\n",
    "    top_docs[\"score\"] = similarities[top_indices]\n",
    "    top_docs[\"title\"] = top_docs[\"text\"].apply(lambda t: t.split(\". \")[0] if \". \" in t else t[:100])\n",
    "    top_docs[\"abstract\"] = top_docs[\"text\"].apply(lambda t: t if \". \" not in t else \". \".join(t.split(\". \")[1:]))\n",
    "\n",
    "    return top_docs[[\"doc_id\", \"title\", \"abstract\", \"score\"]].to_dict(orient=\"records\")\n"
   ]
  },
  {
   "cell_type": "markdown",
   "metadata": {},
   "source": [
    "Application sur une requête "
   ]
  },
  {
   "cell_type": "code",
   "execution_count": 87,
   "metadata": {},
   "outputs": [
    {
     "data": {
      "text/html": [
       "<style type=\"text/css\">\n",
       "#T_613a2 th {\n",
       "  background-color: #208A9D;\n",
       "  color: white;\n",
       "  font-weight: bold;\n",
       "}\n",
       "#T_613a2_row0_col0, #T_613a2_row0_col1, #T_613a2_row0_col2, #T_613a2_row0_col3, #T_613a2_row1_col0, #T_613a2_row1_col1, #T_613a2_row1_col2, #T_613a2_row1_col3, #T_613a2_row2_col0, #T_613a2_row2_col1, #T_613a2_row2_col2, #T_613a2_row2_col3, #T_613a2_row3_col0, #T_613a2_row3_col1, #T_613a2_row3_col2, #T_613a2_row3_col3, #T_613a2_row4_col0, #T_613a2_row4_col1, #T_613a2_row4_col2, #T_613a2_row4_col3, #T_613a2_row5_col0, #T_613a2_row5_col1, #T_613a2_row5_col2, #T_613a2_row5_col3, #T_613a2_row6_col0, #T_613a2_row6_col1, #T_613a2_row6_col2, #T_613a2_row6_col3, #T_613a2_row7_col0, #T_613a2_row7_col1, #T_613a2_row7_col2, #T_613a2_row7_col3, #T_613a2_row8_col0, #T_613a2_row8_col1, #T_613a2_row8_col2, #T_613a2_row8_col3, #T_613a2_row9_col0, #T_613a2_row9_col1, #T_613a2_row9_col2, #T_613a2_row9_col3 {\n",
       "  border: 1px solid #ccc;\n",
       "  padding: 8px;\n",
       "  text-align: left;\n",
       "}\n",
       "</style>\n",
       "<table id=\"T_613a2\" style='width:100%; border-collapse:collapse'>\n",
       "  <thead>\n",
       "    <tr>\n",
       "      <th class=\"blank level0\" >&nbsp;</th>\n",
       "      <th id=\"T_613a2_level0_col0\" class=\"col_heading level0 col0\" >doc_id</th>\n",
       "      <th id=\"T_613a2_level0_col1\" class=\"col_heading level0 col1\" >score</th>\n",
       "      <th id=\"T_613a2_level0_col2\" class=\"col_heading level0 col2\" >title</th>\n",
       "      <th id=\"T_613a2_level0_col3\" class=\"col_heading level0 col3\" >abstract</th>\n",
       "    </tr>\n",
       "  </thead>\n",
       "  <tbody>\n",
       "    <tr>\n",
       "      <th id=\"T_613a2_level0_row0\" class=\"row_heading level0 row0\" >0</th>\n",
       "      <td id=\"T_613a2_row0_col0\" class=\"data row0 col0\" >34e5054s</td>\n",
       "      <td id=\"T_613a2_row0_col1\" class=\"data row0 col1\" >0.553586</td>\n",
       "      <td id=\"T_613a2_row0_col2\" class=\"data row0 col2\" >The emergence <mark style=\"background-color: #ffd54f;\">of</mark> a new corona virus—MERS-CoV: Hind sight is always 20/20</td>\n",
       "      <td id=\"T_613a2_row0_col3\" class=\"data row0 col3\" >The emergence <mark style=\"background-color: #ffd54f;\">of</mark> a new corona virus—MERS-CoV: Hind sight is always 20/20</td>\n",
       "    </tr>\n",
       "    <tr>\n",
       "      <th id=\"T_613a2_level0_row1\" class=\"row_heading level0 row1\" >1</th>\n",
       "      <td id=\"T_613a2_row1_col0\" class=\"data row1 col0\" >73xil5op</td>\n",
       "      <td id=\"T_613a2_row1_col1\" class=\"data row1 col1\" >0.544710</td>\n",
       "      <td id=\"T_613a2_row1_col2\" class=\"data row1 col2\" >Bat <mark style=\"background-color: #ffd54f;\">origin</mark> <mark style=\"background-color: #ffd54f;\">of</mark> a new human coronavirus: there and back again</td>\n",
       "      <td id=\"T_613a2_row1_col3\" class=\"data row1 col3\" >Bat <mark style=\"background-color: #ffd54f;\">origin</mark> <mark style=\"background-color: #ffd54f;\">of</mark> a new human coronavirus: there and back again</td>\n",
       "    </tr>\n",
       "    <tr>\n",
       "      <th id=\"T_613a2_level0_row2\" class=\"row_heading level0 row2\" >2</th>\n",
       "      <td id=\"T_613a2_row2_col0\" class=\"data row2 col0\" >ne5r4d4b</td>\n",
       "      <td id=\"T_613a2_row2_col1\" class=\"data row2 col1\" >0.544477</td>\n",
       "      <td id=\"T_613a2_row2_col2\" class=\"data row2 col2\" ><mark style=\"background-color: #ffd54f;\">Origin</mark> and evolution <mark style=\"background-color: #ffd54f;\">of</mark> pathogenic coronavirusesSevere acute respiratory syndrome coronavirus (SARS-CoV) and Middle East respiratory syndrome coronavirus (MERS-CoV) are two highly transmissible and pathogenic viruses that emerged in humans at the beginning <mark style=\"background-color: #ffd54f;\">of</mark> the 21st century</td>\n",
       "      <td id=\"T_613a2_row2_col3\" class=\"data row2 col3\" >Both viruses likely originated in bats, and genetically diverse coronaviruses that are related to SARS-CoV and MERS-CoV were discovered in bats worldwide. In this Review, we summarize the current knowledge on the <mark style=\"background-color: #ffd54f;\">origin</mark> and evolution <mark style=\"background-color: #ffd54f;\">of</mark> these two pathogenic coronaviruses and discuss their receptor usage; we also highlight the diversity and potential <mark style=\"background-color: #ffd54f;\">of</mark> spillover <mark style=\"background-color: #ffd54f;\">of</mark> bat-borne coronaviruses, as evidenced by the recent spillover <mark style=\"background-color: #ffd54f;\">of</mark> swine acute diarrhoea syndrome coronavirus (SADS-CoV) to pigs.</td>\n",
       "    </tr>\n",
       "    <tr>\n",
       "      <th id=\"T_613a2_level0_row3\" class=\"row_heading level0 row3\" >3</th>\n",
       "      <td id=\"T_613a2_row3_col0\" class=\"data row3 col0\" >k1yknsgf</td>\n",
       "      <td id=\"T_613a2_row3_col1\" class=\"data row3 col1\" >0.538876</td>\n",
       "      <td id=\"T_613a2_row3_col2\" class=\"data row3 col2\" >Coronavirus motif</td>\n",
       "      <td id=\"T_613a2_row3_col3\" class=\"data row3 col3\" >Coronavirus motif</td>\n",
       "    </tr>\n",
       "    <tr>\n",
       "      <th id=\"T_613a2_level0_row4\" class=\"row_heading level0 row4\" >4</th>\n",
       "      <td id=\"T_613a2_row4_col0\" class=\"data row4 col0\" >kh21pnbw</td>\n",
       "      <td id=\"T_613a2_row4_col1\" class=\"data row4 col1\" >0.532307</td>\n",
       "      <td id=\"T_613a2_row4_col2\" class=\"data row4 col2\" >New coronavirus</td>\n",
       "      <td id=\"T_613a2_row4_col3\" class=\"data row4 col3\" >New coronavirus</td>\n",
       "    </tr>\n",
       "    <tr>\n",
       "      <th id=\"T_613a2_level0_row5\" class=\"row_heading level0 row5\" >5</th>\n",
       "      <td id=\"T_613a2_row5_col0\" class=\"data row5 col0\" >yymzeor9</td>\n",
       "      <td id=\"T_613a2_row5_col1\" class=\"data row5 col1\" >0.526167</td>\n",
       "      <td id=\"T_613a2_row5_col2\" class=\"data row5 col2\" >NOVEL CORONAVIRUS THAT RECENTLY EMERGED IN CHINA</td>\n",
       "      <td id=\"T_613a2_row5_col3\" class=\"data row5 col3\" >NOVEL CORONAVIRUS THAT RECENTLY EMERGED IN CHINA</td>\n",
       "    </tr>\n",
       "    <tr>\n",
       "      <th id=\"T_613a2_level0_row6\" class=\"row_heading level0 row6\" >6</th>\n",
       "      <td id=\"T_613a2_row6_col0\" class=\"data row6 col0\" >spwtwcy5</td>\n",
       "      <td id=\"T_613a2_row6_col1\" class=\"data row6 col1\" >0.519928</td>\n",
       "      <td id=\"T_613a2_row6_col2\" class=\"data row6 col2\" >The genomes <mark style=\"background-color: #ffd54f;\">of</mark> three coronaviruses</td>\n",
       "      <td id=\"T_613a2_row6_col3\" class=\"data row6 col3\" >The genomes <mark style=\"background-color: #ffd54f;\">of</mark> three coronaviruses</td>\n",
       "    </tr>\n",
       "    <tr>\n",
       "      <th id=\"T_613a2_level0_row7\" class=\"row_heading level0 row7\" >7</th>\n",
       "      <td id=\"T_613a2_row7_col0\" class=\"data row7 col0\" >7v22eib4</td>\n",
       "      <td id=\"T_613a2_row7_col1\" class=\"data row7 col1\" >0.518679</td>\n",
       "      <td id=\"T_613a2_row7_col2\" class=\"data row7 col2\" >A Contemporary View <mark style=\"background-color: #ffd54f;\">of</mark> Coronavirus Transcription</td>\n",
       "      <td id=\"T_613a2_row7_col3\" class=\"data row7 col3\" >A Contemporary View <mark style=\"background-color: #ffd54f;\">of</mark> Coronavirus Transcription</td>\n",
       "    </tr>\n",
       "    <tr>\n",
       "      <th id=\"T_613a2_level0_row8\" class=\"row_heading level0 row8\" >8</th>\n",
       "      <td id=\"T_613a2_row8_col0\" class=\"data row8 col0\" >2twiejju</td>\n",
       "      <td id=\"T_613a2_row8_col1\" class=\"data row8 col1\" >0.516137</td>\n",
       "      <td id=\"T_613a2_row8_col2\" class=\"data row8 col2\" >Human coronaviruses</td>\n",
       "      <td id=\"T_613a2_row8_col3\" class=\"data row8 col3\" >Human coronaviruses</td>\n",
       "    </tr>\n",
       "    <tr>\n",
       "      <th id=\"T_613a2_level0_row9\" class=\"row_heading level0 row9\" >9</th>\n",
       "      <td id=\"T_613a2_row9_col0\" class=\"data row9 col0\" >3svqyeml</td>\n",
       "      <td id=\"T_613a2_row9_col1\" class=\"data row9 col1\" >0.516137</td>\n",
       "      <td id=\"T_613a2_row9_col2\" class=\"data row9 col2\" >222 Human Coronaviruses</td>\n",
       "      <td id=\"T_613a2_row9_col3\" class=\"data row9 col3\" >222 Human Coronaviruses</td>\n",
       "    </tr>\n",
       "  </tbody>\n",
       "</table>\n"
      ],
      "text/plain": [
       "<pandas.io.formats.style.Styler at 0x2c4cb484990>"
      ]
     },
     "metadata": {},
     "output_type": "display_data"
    }
   ],
   "source": [
    "# Requête test\n",
    "query = \"origin of covid-19\"\n",
    "\n",
    "# Résultats enrichis par PRF\n",
    "results = search_sbert(query, top_k=10)\n",
    "\n",
    "display_search_results(results, query)\n"
   ]
  },
  {
   "cell_type": "markdown",
   "metadata": {},
   "source": [
    "#### Evaluation du moteur S-BERT "
   ]
  },
  {
   "cell_type": "code",
   "execution_count": 88,
   "metadata": {},
   "outputs": [
    {
     "name": "stdout",
     "output_type": "stream",
     "text": [
      "- precision@k: 0.0933\n",
      "- recall@k: 0.0037\n",
      "- F1@k: 0.0070\n",
      "- MRR: 0.3665\n",
      "- nDCG@k: 0.3931\n",
      "- MAP: 0.0023\n"
     ]
    }
   ],
   "source": [
    "results_sbert = evaluate_model(search_sbert, queries_df, qrels_df, k=10)\n",
    "\n",
    "for metric, score in results_sbert.items():\n",
    "    print(f\"- {metric}: {score:.4f}\")\n"
   ]
  },
  {
   "cell_type": "markdown",
   "metadata": {},
   "source": [
    "#### Commentaire\n",
    "\n",
    "Ce modèle ne performe pas bien avec ces documents pour plusieurs raisons : \n",
    "\n",
    "**Corpus spécialisé (domaine médical)**\n",
    "- SBERT est entraîné sur des données générales (Wikipedia, Reddit, etc.). Il comprend mal les subtilités du domaine biomédical comme les termes spécialisés, acronymes ou synonymes complexes.\n",
    "\n",
    "**Manque d’adaptation à la tâche**\n",
    "- SBERT n’a pas été fine-tuné sur une tâche de retrieval biomédical (contrairement à des modèles comme BioBERT, SciBERT, ou SapBERT).\n",
    "\n",
    "**Prétraitement différent**\n",
    "- SBERT est souvent plus efficace sans trop de nettoyage, car le modèle a été entraîné sur des phrases entières naturelles. Trop de nettoyage (lemmatisation, suppression) peut nuire à ses performances.\n",
    "\n"
   ]
  },
  {
   "cell_type": "markdown",
   "metadata": {},
   "source": [
    "### Nous allons essayer de repartir sur des données qui n'ont pas subit de prétraitement avancés comme nous l'avons fait plus haut nous allons également utiliser un modèle SciBERT qui est adapté aux documents scientifiques"
   ]
  },
  {
   "cell_type": "code",
   "execution_count": null,
   "metadata": {},
   "outputs": [],
   "source": [
    "df_docs[\"full_text\"] = df_docs[\"title\"].fillna(\"\") + \". \" + df_docs[\"abstract\"].fillna(\"\")"
   ]
  },
  {
   "cell_type": "code",
   "execution_count": null,
   "metadata": {},
   "outputs": [
    {
     "name": "stderr",
     "output_type": "stream",
     "text": [
      "Batches: 100%|██████████| 1597/1597 [26:05<00:00,  1.02it/s] \n"
     ]
    }
   ],
   "source": [
    "doc_embeddings_none_preprocess = model_sbert.encode(df_docs[\"full_text\"].tolist(), show_progress_bar=True, convert_to_tensor=True)"
   ]
  },
  {
   "cell_type": "markdown",
   "metadata": {},
   "source": [
    "Fonction de recherche SBERT sans prétraitement sur les documents \n",
    "\n",
    "Nous allons encoder les requêtes dans la fonction "
   ]
  },
  {
   "cell_type": "code",
   "execution_count": null,
   "metadata": {},
   "outputs": [],
   "source": [
    "def search_sbert_no_preprocess(query_text, top_k=10):\n",
    "    query_embedding = model_sbert.encode(query_text, convert_to_tensor=True)\n",
    "    similarities = cosine_similarity(query_embedding.cpu().numpy().reshape(1, -1), doc_embeddings_none_preprocess.cpu().numpy()).flatten() # Utilions doc_embeddings_none_preprocess\n",
    "    top_indices = similarities.argsort()[::-1][:top_k]\n",
    "    \n",
    "    top_docs = documents_df.iloc[top_indices].copy()\n",
    "    top_docs[\"score\"] = similarities[top_indices]\n",
    "    top_docs[\"title\"] = top_docs[\"text\"].apply(lambda t: t.split(\". \")[0] if \". \" in t else t[:100])\n",
    "    top_docs[\"abstract\"] = top_docs[\"text\"].apply(lambda t: t if \". \" not in t else \". \".join(t.split(\". \")[1:]))\n",
    "\n",
    "    return top_docs[[\"doc_id\", \"title\", \"abstract\", \"score\"]].to_dict(orient=\"records\")\n"
   ]
  },
  {
   "cell_type": "markdown",
   "metadata": {},
   "source": [
    "Application à une requête"
   ]
  },
  {
   "cell_type": "code",
   "execution_count": null,
   "metadata": {},
   "outputs": [
    {
     "data": {
      "text/html": [
       "<style type=\"text/css\">\n",
       "#T_ac187 th {\n",
       "  background-color: #208A9D;\n",
       "  color: white;\n",
       "  font-weight: bold;\n",
       "}\n",
       "#T_ac187_row0_col0, #T_ac187_row0_col1, #T_ac187_row0_col2, #T_ac187_row0_col3, #T_ac187_row1_col0, #T_ac187_row1_col1, #T_ac187_row1_col2, #T_ac187_row1_col3, #T_ac187_row2_col0, #T_ac187_row2_col1, #T_ac187_row2_col2, #T_ac187_row2_col3, #T_ac187_row3_col0, #T_ac187_row3_col1, #T_ac187_row3_col2, #T_ac187_row3_col3, #T_ac187_row4_col0, #T_ac187_row4_col1, #T_ac187_row4_col2, #T_ac187_row4_col3, #T_ac187_row5_col0, #T_ac187_row5_col1, #T_ac187_row5_col2, #T_ac187_row5_col3, #T_ac187_row6_col0, #T_ac187_row6_col1, #T_ac187_row6_col2, #T_ac187_row6_col3, #T_ac187_row7_col0, #T_ac187_row7_col1, #T_ac187_row7_col2, #T_ac187_row7_col3, #T_ac187_row8_col0, #T_ac187_row8_col1, #T_ac187_row8_col2, #T_ac187_row8_col3, #T_ac187_row9_col0, #T_ac187_row9_col1, #T_ac187_row9_col2, #T_ac187_row9_col3 {\n",
       "  border: 1px solid #ccc;\n",
       "  padding: 8px;\n",
       "  text-align: left;\n",
       "}\n",
       "</style>\n",
       "<table id=\"T_ac187\" style='width:100%; border-collapse:collapse'>\n",
       "  <thead>\n",
       "    <tr>\n",
       "      <th class=\"blank level0\" >&nbsp;</th>\n",
       "      <th id=\"T_ac187_level0_col0\" class=\"col_heading level0 col0\" >doc_id</th>\n",
       "      <th id=\"T_ac187_level0_col1\" class=\"col_heading level0 col1\" >score</th>\n",
       "      <th id=\"T_ac187_level0_col2\" class=\"col_heading level0 col2\" >title</th>\n",
       "      <th id=\"T_ac187_level0_col3\" class=\"col_heading level0 col3\" >abstract</th>\n",
       "    </tr>\n",
       "  </thead>\n",
       "  <tbody>\n",
       "    <tr>\n",
       "      <th id=\"T_ac187_level0_row0\" class=\"row_heading level0 row0\" >0</th>\n",
       "      <td id=\"T_ac187_row0_col0\" class=\"data row0 col0\" >34e5054s</td>\n",
       "      <td id=\"T_ac187_row0_col1\" class=\"data row0 col1\" >0.553586</td>\n",
       "      <td id=\"T_ac187_row0_col2\" class=\"data row0 col2\" >The emergence <mark style=\"background-color: #ffd54f;\">of</mark> a new corona virus—MERS-CoV: Hind sight is always 20/20</td>\n",
       "      <td id=\"T_ac187_row0_col3\" class=\"data row0 col3\" >The emergence <mark style=\"background-color: #ffd54f;\">of</mark> a new corona virus—MERS-CoV: Hind sight is always 20/20</td>\n",
       "    </tr>\n",
       "    <tr>\n",
       "      <th id=\"T_ac187_level0_row1\" class=\"row_heading level0 row1\" >1</th>\n",
       "      <td id=\"T_ac187_row1_col0\" class=\"data row1 col0\" >73xil5op</td>\n",
       "      <td id=\"T_ac187_row1_col1\" class=\"data row1 col1\" >0.544710</td>\n",
       "      <td id=\"T_ac187_row1_col2\" class=\"data row1 col2\" >Bat <mark style=\"background-color: #ffd54f;\">origin</mark> <mark style=\"background-color: #ffd54f;\">of</mark> a new human coronavirus: there and back again</td>\n",
       "      <td id=\"T_ac187_row1_col3\" class=\"data row1 col3\" >Bat <mark style=\"background-color: #ffd54f;\">origin</mark> <mark style=\"background-color: #ffd54f;\">of</mark> a new human coronavirus: there and back again</td>\n",
       "    </tr>\n",
       "    <tr>\n",
       "      <th id=\"T_ac187_level0_row2\" class=\"row_heading level0 row2\" >2</th>\n",
       "      <td id=\"T_ac187_row2_col0\" class=\"data row2 col0\" >ne5r4d4b</td>\n",
       "      <td id=\"T_ac187_row2_col1\" class=\"data row2 col1\" >0.544477</td>\n",
       "      <td id=\"T_ac187_row2_col2\" class=\"data row2 col2\" ><mark style=\"background-color: #ffd54f;\">Origin</mark> and evolution <mark style=\"background-color: #ffd54f;\">of</mark> pathogenic coronavirusesSevere acute respiratory syndrome coronavirus (SARS-CoV) and Middle East respiratory syndrome coronavirus (MERS-CoV) are two highly transmissible and pathogenic viruses that emerged in humans at the beginning <mark style=\"background-color: #ffd54f;\">of</mark> the 21st century</td>\n",
       "      <td id=\"T_ac187_row2_col3\" class=\"data row2 col3\" >Both viruses likely originated in bats, and genetically diverse coronaviruses that are related to SARS-CoV and MERS-CoV were discovered in bats worldwide. In this Review, we summarize the current knowledge on the <mark style=\"background-color: #ffd54f;\">origin</mark> and evolution <mark style=\"background-color: #ffd54f;\">of</mark> these two pathogenic coronaviruses and discuss their receptor usage; we also highlight the diversity and potential <mark style=\"background-color: #ffd54f;\">of</mark> spillover <mark style=\"background-color: #ffd54f;\">of</mark> bat-borne coronaviruses, as evidenced by the recent spillover <mark style=\"background-color: #ffd54f;\">of</mark> swine acute diarrhoea syndrome coronavirus (SADS-CoV) to pigs.</td>\n",
       "    </tr>\n",
       "    <tr>\n",
       "      <th id=\"T_ac187_level0_row3\" class=\"row_heading level0 row3\" >3</th>\n",
       "      <td id=\"T_ac187_row3_col0\" class=\"data row3 col0\" >k1yknsgf</td>\n",
       "      <td id=\"T_ac187_row3_col1\" class=\"data row3 col1\" >0.538876</td>\n",
       "      <td id=\"T_ac187_row3_col2\" class=\"data row3 col2\" >Coronavirus motif</td>\n",
       "      <td id=\"T_ac187_row3_col3\" class=\"data row3 col3\" >Coronavirus motif</td>\n",
       "    </tr>\n",
       "    <tr>\n",
       "      <th id=\"T_ac187_level0_row4\" class=\"row_heading level0 row4\" >4</th>\n",
       "      <td id=\"T_ac187_row4_col0\" class=\"data row4 col0\" >kh21pnbw</td>\n",
       "      <td id=\"T_ac187_row4_col1\" class=\"data row4 col1\" >0.532307</td>\n",
       "      <td id=\"T_ac187_row4_col2\" class=\"data row4 col2\" >New coronavirus</td>\n",
       "      <td id=\"T_ac187_row4_col3\" class=\"data row4 col3\" >New coronavirus</td>\n",
       "    </tr>\n",
       "    <tr>\n",
       "      <th id=\"T_ac187_level0_row5\" class=\"row_heading level0 row5\" >5</th>\n",
       "      <td id=\"T_ac187_row5_col0\" class=\"data row5 col0\" >yymzeor9</td>\n",
       "      <td id=\"T_ac187_row5_col1\" class=\"data row5 col1\" >0.526167</td>\n",
       "      <td id=\"T_ac187_row5_col2\" class=\"data row5 col2\" >NOVEL CORONAVIRUS THAT RECENTLY EMERGED IN CHINA</td>\n",
       "      <td id=\"T_ac187_row5_col3\" class=\"data row5 col3\" >NOVEL CORONAVIRUS THAT RECENTLY EMERGED IN CHINA</td>\n",
       "    </tr>\n",
       "    <tr>\n",
       "      <th id=\"T_ac187_level0_row6\" class=\"row_heading level0 row6\" >6</th>\n",
       "      <td id=\"T_ac187_row6_col0\" class=\"data row6 col0\" >spwtwcy5</td>\n",
       "      <td id=\"T_ac187_row6_col1\" class=\"data row6 col1\" >0.519928</td>\n",
       "      <td id=\"T_ac187_row6_col2\" class=\"data row6 col2\" >The genomes <mark style=\"background-color: #ffd54f;\">of</mark> three coronaviruses</td>\n",
       "      <td id=\"T_ac187_row6_col3\" class=\"data row6 col3\" >The genomes <mark style=\"background-color: #ffd54f;\">of</mark> three coronaviruses</td>\n",
       "    </tr>\n",
       "    <tr>\n",
       "      <th id=\"T_ac187_level0_row7\" class=\"row_heading level0 row7\" >7</th>\n",
       "      <td id=\"T_ac187_row7_col0\" class=\"data row7 col0\" >7v22eib4</td>\n",
       "      <td id=\"T_ac187_row7_col1\" class=\"data row7 col1\" >0.518679</td>\n",
       "      <td id=\"T_ac187_row7_col2\" class=\"data row7 col2\" >A Contemporary View <mark style=\"background-color: #ffd54f;\">of</mark> Coronavirus Transcription</td>\n",
       "      <td id=\"T_ac187_row7_col3\" class=\"data row7 col3\" >A Contemporary View <mark style=\"background-color: #ffd54f;\">of</mark> Coronavirus Transcription</td>\n",
       "    </tr>\n",
       "    <tr>\n",
       "      <th id=\"T_ac187_level0_row8\" class=\"row_heading level0 row8\" >8</th>\n",
       "      <td id=\"T_ac187_row8_col0\" class=\"data row8 col0\" >2twiejju</td>\n",
       "      <td id=\"T_ac187_row8_col1\" class=\"data row8 col1\" >0.516137</td>\n",
       "      <td id=\"T_ac187_row8_col2\" class=\"data row8 col2\" >Human coronaviruses</td>\n",
       "      <td id=\"T_ac187_row8_col3\" class=\"data row8 col3\" >Human coronaviruses</td>\n",
       "    </tr>\n",
       "    <tr>\n",
       "      <th id=\"T_ac187_level0_row9\" class=\"row_heading level0 row9\" >9</th>\n",
       "      <td id=\"T_ac187_row9_col0\" class=\"data row9 col0\" >3svqyeml</td>\n",
       "      <td id=\"T_ac187_row9_col1\" class=\"data row9 col1\" >0.516137</td>\n",
       "      <td id=\"T_ac187_row9_col2\" class=\"data row9 col2\" >222 Human Coronaviruses</td>\n",
       "      <td id=\"T_ac187_row9_col3\" class=\"data row9 col3\" >222 Human Coronaviruses</td>\n",
       "    </tr>\n",
       "  </tbody>\n",
       "</table>\n"
      ],
      "text/plain": [
       "<pandas.io.formats.style.Styler at 0x27136191d90>"
      ]
     },
     "metadata": {},
     "output_type": "display_data"
    }
   ],
   "source": [
    "# Requête test\n",
    "query = \"origin of covid-19\"\n",
    "\n",
    "# Résultats enrichis par PRF\n",
    "results = search_sbert_no_preprocess(query, top_k=10)\n",
    "\n",
    "display_search_results(results, query)\n"
   ]
  },
  {
   "cell_type": "markdown",
   "metadata": {},
   "source": [
    "#### Evaluation de SBERT sur les données non nettoyées "
   ]
  },
  {
   "cell_type": "code",
   "execution_count": null,
   "metadata": {},
   "outputs": [
    {
     "name": "stdout",
     "output_type": "stream",
     "text": [
      "- precision@k: 0.0933\n",
      "- recall@k: 0.0037\n",
      "- F1@k: 0.0070\n",
      "- MRR: 0.3665\n",
      "- nDCG@k: 0.3931\n",
      "- MAP: 0.0023\n"
     ]
    }
   ],
   "source": [
    "results_sbert = evaluate_model(search_sbert_no_preprocess, queries_df, qrels_df, k=10)\n",
    "\n",
    "print(\"Score de SBERT sur TREC-COVID brut\")\n",
    "for metric, score in results_sbert.items():\n",
    "    print(f\"- {metric}: {score:.4f}\")\n"
   ]
  },
  {
   "cell_type": "markdown",
   "metadata": {},
   "source": [
    "#### SBERT n'est pas spécialisé pour les documents scientifiques, nous allons donc utiliser SciBERT qui est un modèle préentrainé sur les documents scientifiques "
   ]
  },
  {
   "cell_type": "markdown",
   "metadata": {},
   "source": [
    "### SciBERT est utilisé sur les données brutes, pas de prétraitements car ce modèle comporte déjà un tokenizer puissant"
   ]
  },
  {
   "cell_type": "code",
   "execution_count": null,
   "metadata": {},
   "outputs": [],
   "source": [
    "from transformers import AutoTokenizer, AutoModel\n",
    "import torch\n",
    "from sklearn.metrics.pairwise import cosine_similarity\n",
    "\n",
    "tokenizer_sci = AutoTokenizer.from_pretrained(\"allenai/scibert_scivocab_uncased\")\n",
    "model_sci = AutoModel.from_pretrained(\"allenai/scibert_scivocab_uncased\")\n",
    "\n",
    "# Fonction pour générer l'embedding moyen\n",
    "def mean_pooling(model_output, attention_mask):\n",
    "    token_embeddings = model_output[0]  # (batch_size, seq_len, hidden_size)\n",
    "    input_mask_expanded = attention_mask.unsqueeze(-1).expand(token_embeddings.size())\n",
    "    return (token_embeddings * input_mask_expanded).sum(1) / input_mask_expanded.sum(1)\n",
    "\n",
    "# Préparation des embeddings (à faire une fois)\n",
    "with torch.no_grad():\n",
    "    doc_embeddings_sci = []\n",
    "    for text in documents_df[\"text\"]:\n",
    "        inputs = tokenizer_sci(text, return_tensors=\"pt\", truncation=True, padding=True, max_length=512)\n",
    "        outputs = model_sci(**inputs)\n",
    "        emb = mean_pooling(outputs, inputs[\"attention_mask\"])\n",
    "        doc_embeddings_sci.append(emb.squeeze(0))\n",
    "    doc_embeddings_sci = torch.stack(doc_embeddings_sci)\n",
    "\n",
    "def search_scibert(query_text, top_k=10):\n",
    "    with torch.no_grad():\n",
    "        inputs = tokenizer_sci(query_text, return_tensors=\"pt\", truncation=True, padding=True, max_length=512)\n",
    "        outputs = model_sci(**inputs)\n",
    "        query_embedding = mean_pooling(outputs, inputs[\"attention_mask\"]).cpu().numpy()\n",
    "    \n",
    "    similarities = cosine_similarity(query_embedding.reshape(1, -1), doc_embeddings_sci.cpu().numpy()).flatten()\n",
    "    top_indices = similarities.argsort()[::-1][:top_k]\n",
    "\n",
    "    top_docs = documents_df.iloc[top_indices].copy()\n",
    "    top_docs[\"score\"] = similarities[top_indices]\n",
    "    top_docs[\"title\"] = top_docs[\"text\"].apply(lambda t: t.split(\". \")[0] if \". \" in t else t[:100])\n",
    "    top_docs[\"abstract\"] = top_docs[\"text\"].apply(lambda t: t if \". \" not in t else \". \".join(t.split(\". \")[1:]))\n",
    "\n",
    "    return top_docs[[\"doc_id\", \"title\", \"abstract\", \"score\"]].to_dict(orient=\"records\")\n"
   ]
  },
  {
   "cell_type": "markdown",
   "metadata": {},
   "source": [
    "## Problème avec ce modèle\n",
    "\n",
    "Ce modèle nécessite énormément de ressources, nous n'avons pas pu terminer son entrainement, nous allons tout de même mettre le script pour la suite comme on le faisait avec les modèles précédents, "
   ]
  },
  {
   "cell_type": "markdown",
   "metadata": {},
   "source": [
    "#### Exemple sur une requête "
   ]
  },
  {
   "cell_type": "code",
   "execution_count": null,
   "metadata": {},
   "outputs": [],
   "source": [
    "# Requête test\n",
    "query = \"origin of covid-19\"\n",
    "\n",
    "# Résultats enrichis par PRF\n",
    "results = search_scibert(query, top_k=10)\n",
    "\n",
    "display_search_results(results, query)\n"
   ]
  },
  {
   "cell_type": "markdown",
   "metadata": {},
   "source": [
    "#### Evaluation du modèle SciBERT "
   ]
  },
  {
   "cell_type": "code",
   "execution_count": null,
   "metadata": {},
   "outputs": [],
   "source": [
    "results_scibert = evaluate_model(search_scibert, queries_df, qrels_df, k=10)\n",
    "print(\"Evaluation du modèle SciBERT\")\n",
    "for metric, score in results_sbert.items():\n",
    "    print(f\"- {metric}: {score:.4f}\")\n"
   ]
  },
  {
   "cell_type": "markdown",
   "metadata": {},
   "source": [
    "### Explorons également le modèle probabiliste d'état de l'art BM25 \n",
    "\n",
    "Ce modèle doit être utilisé sur les données prétraitées, nous allons donc utiliser la colonne de preprocessed_text"
   ]
  },
  {
   "cell_type": "markdown",
   "metadata": {},
   "source": [
    "Nous allons construire encore les embeddings pour les documents nettoyés "
   ]
  },
  {
   "cell_type": "code",
   "execution_count": null,
   "metadata": {},
   "outputs": [],
   "source": [
    "## Nous les avions déjà dans \"doc_embeddings\" donc nous allons simplement l'utiliser dans la fonction de recherche avec \"search_BM25\""
   ]
  },
  {
   "cell_type": "code",
   "execution_count": 90,
   "metadata": {},
   "outputs": [
    {
     "name": "stdout",
     "output_type": "stream",
     "text": [
      "Requirement already satisfied: rank-bm25 in c:\\users\\12407156\\appdata\\local\\packages\\pythonsoftwarefoundation.python.3.11_qbz5n2kfra8p0\\localcache\\local-packages\\python311\\site-packages (0.2.2)\n",
      "Requirement already satisfied: numpy in c:\\users\\12407156\\appdata\\local\\packages\\pythonsoftwarefoundation.python.3.11_qbz5n2kfra8p0\\localcache\\local-packages\\python311\\site-packages (from rank-bm25) (2.0.2)\n"
     ]
    },
    {
     "name": "stderr",
     "output_type": "stream",
     "text": [
      "\n",
      "[notice] A new release of pip is available: 25.0.1 -> 25.1\n",
      "[notice] To update, run: C:\\Users\\12407156\\AppData\\Local\\Microsoft\\WindowsApps\\PythonSoftwareFoundation.Python.3.11_qbz5n2kfra8p0\\python.exe -m pip install --upgrade pip\n"
     ]
    }
   ],
   "source": [
    "!pip install rank-bm25\n"
   ]
  },
  {
   "cell_type": "markdown",
   "metadata": {},
   "source": [
    "### Un dictionnaire pour enrichir le vocabulaire car bm25 ne tient pas compte de la semantique"
   ]
  },
  {
   "cell_type": "code",
   "execution_count": 101,
   "metadata": {},
   "outputs": [],
   "source": [
    "synonym_dict = {\n",
    "    \"covid\": [\"covid-19\", \"coronavirus\", \"sars-cov-2\", \"sars cov 2\", \"ncov\", \"2019-ncov\"],\n",
    "    \"origin\": [\"source\", \"emergence\", \"evolution\", \"beginning\", \"birth\"],\n",
    "    \"pandemic\": [\"outbreak\", \"epidemic\", \"global health crisis\"],\n",
    "    \"vaccine\": [\"vaccination\", \"immunization\", \"injection\"],\n",
    "    \"transmission\": [\"spread\", \"contagion\", \"infection path\", \"propagation\"],\n",
    "    \"face mask\": [\"mask\", \"surgical mask\", \"protective mask\", \"n95\"],\n",
    "    \"lockdown\": [\"shutdown\", \"quarantine\", \"confinement\", \"isolation\"],\n",
    "    \"hospital\": [\"clinic\", \"medical center\", \"health facility\"],\n",
    "    \"test\": [\"diagnostic\", \"screening\", \"pcr\", \"swab\"],\n",
    "    \"treatment\": [\"therapy\", \"medication\", \"drug\", \"remedy\", \"intervention\"],\n",
    "    \"symptom\": [\"sign\", \"clinical sign\", \"manifestation\"],\n",
    "    \"respiratory\": [\"breathing\", \"lung\", \"pulmonary\", \"airway\"],\n",
    "    \"healthcare\": [\"medical care\", \"health system\", \"hospital system\"],\n",
    "    \"death\": [\"mortality\", \"fatality\", \"loss of life\"],\n",
    "    \"prevention\": [\"protection\", \"avoidance\", \"barrier\", \"control measures\"],\n",
    "    \"mutation\": [\"variant\", \"strain\", \"genetic change\", \"genomic shift\"],\n",
    "    \"children\": [\"kids\", \"infants\", \"minors\", \"young people\"],\n",
    "    \"elderly\": [\"older adults\", \"seniors\", \"aged population\", \"geriatrics\"],\n",
    "    \"vulnerable\": [\"at-risk\", \"immunocompromised\", \"fragile\", \"susceptible\"],\n",
    "    \"public health\": [\"population health\", \"community health\", \"health policy\"]\n",
    "}\n",
    "\n",
    "\n",
    "\n",
    "## Fonction pour l'utiliser \n",
    "def enrich_with_synonyms(text, synonym_dict):\n",
    "    text = text.lower()\n",
    "    for key, synonyms in synonym_dict.items():\n",
    "        for synonym in synonyms:\n",
    "            if synonym in text:\n",
    "                text = text.replace(synonym, key)\n",
    "    return text\n"
   ]
  },
  {
   "cell_type": "markdown",
   "metadata": {},
   "source": [
    "### Prétraitement adapté pour le modèle probabiliste bm25 avec vocabulaire enrichi"
   ]
  },
  {
   "cell_type": "code",
   "execution_count": 102,
   "metadata": {},
   "outputs": [
    {
     "name": "stderr",
     "output_type": "stream",
     "text": [
      "[nltk_data] Downloading package punkt to\n",
      "[nltk_data]     C:\\Users\\12407156\\AppData\\Roaming\\nltk_data...\n",
      "[nltk_data]   Package punkt is already up-to-date!\n",
      "[nltk_data] Downloading package stopwords to\n",
      "[nltk_data]     C:\\Users\\12407156\\AppData\\Roaming\\nltk_data...\n",
      "[nltk_data]   Package stopwords is already up-to-date!\n",
      "[nltk_data] Downloading package wordnet to\n",
      "[nltk_data]     C:\\Users\\12407156\\AppData\\Roaming\\nltk_data...\n",
      "[nltk_data]   Package wordnet is already up-to-date!\n"
     ]
    }
   ],
   "source": [
    "import nltk\n",
    "from nltk.corpus import stopwords\n",
    "from nltk.stem import WordNetLemmatizer\n",
    "from nltk.tokenize import word_tokenize\n",
    "\n",
    "nltk.download(\"punkt\")\n",
    "nltk.download(\"stopwords\")\n",
    "nltk.download(\"wordnet\")\n",
    "\n",
    "stop_words = set(stopwords.words(\"english\"))\n",
    "lemmatizer = WordNetLemmatizer()\n",
    "\n",
    "def preprocess_bm25(text):\n",
    "    text = enrich_with_synonyms(text, synonym_dict)\n",
    "    tokens = word_tokenize(text)\n",
    "    tokens = [\n",
    "        lemmatizer.lemmatize(token)\n",
    "        for token in tokens\n",
    "        if token not in stop_words and token.isalnum()\n",
    "    ]\n",
    "    return tokens\n",
    "\n"
   ]
  },
  {
   "cell_type": "markdown",
   "metadata": {},
   "source": [
    "#### Application sur les documents une seule fois et construction de la fonction pour la recherche"
   ]
  },
  {
   "cell_type": "code",
   "execution_count": 103,
   "metadata": {},
   "outputs": [],
   "source": [
    "from rank_bm25 import BM25Okapi\n",
    "\n",
    "# Tokeniser + nettoyer tous les documents une seule fois :\n",
    "tokenized_corpus = [preprocess_bm25(doc) for doc in documents_df[\"text\"]]\n",
    "\n",
    "# Créer le modèle BM25\n",
    "bm25 = BM25Okapi(tokenized_corpus)\n",
    "\n",
    "def search_bm25(query_text, top_k=10):\n",
    "    tokenized_query = preprocess_bm25(query_text)\n",
    "    scores = bm25.get_scores(tokenized_query)\n",
    "\n",
    "    top_indices = sorted(range(len(scores)), key=lambda i: scores[i], reverse=True)[:top_k]\n",
    "    top_docs = documents_df.iloc[top_indices].copy()\n",
    "    top_docs[\"score\"] = [scores[i] for i in top_indices]\n",
    "    top_docs[\"title\"] = top_docs[\"text\"].apply(lambda t: t.split(\". \")[0] if \". \" in t else t[:100])\n",
    "    top_docs[\"abstract\"] = top_docs[\"text\"].apply(lambda t: t if \". \" not in t else \". \".join(t.split(\". \")[1:]))\n",
    "\n",
    "    return top_docs[[\"doc_id\", \"title\", \"abstract\", \"score\"]].to_dict(orient=\"records\")"
   ]
  },
  {
   "cell_type": "markdown",
   "metadata": {},
   "source": [
    "#### Exemple sur une requête "
   ]
  },
  {
   "cell_type": "code",
   "execution_count": 104,
   "metadata": {},
   "outputs": [
    {
     "data": {
      "text/html": [
       "<style type=\"text/css\">\n",
       "#T_5dde6 th {\n",
       "  background-color: #208A9D;\n",
       "  color: white;\n",
       "  font-weight: bold;\n",
       "}\n",
       "#T_5dde6_row0_col0, #T_5dde6_row0_col1, #T_5dde6_row0_col2, #T_5dde6_row0_col3, #T_5dde6_row1_col0, #T_5dde6_row1_col1, #T_5dde6_row1_col2, #T_5dde6_row1_col3, #T_5dde6_row2_col0, #T_5dde6_row2_col1, #T_5dde6_row2_col2, #T_5dde6_row2_col3, #T_5dde6_row3_col0, #T_5dde6_row3_col1, #T_5dde6_row3_col2, #T_5dde6_row3_col3, #T_5dde6_row4_col0, #T_5dde6_row4_col1, #T_5dde6_row4_col2, #T_5dde6_row4_col3, #T_5dde6_row5_col0, #T_5dde6_row5_col1, #T_5dde6_row5_col2, #T_5dde6_row5_col3, #T_5dde6_row6_col0, #T_5dde6_row6_col1, #T_5dde6_row6_col2, #T_5dde6_row6_col3, #T_5dde6_row7_col0, #T_5dde6_row7_col1, #T_5dde6_row7_col2, #T_5dde6_row7_col3, #T_5dde6_row8_col0, #T_5dde6_row8_col1, #T_5dde6_row8_col2, #T_5dde6_row8_col3, #T_5dde6_row9_col0, #T_5dde6_row9_col1, #T_5dde6_row9_col2, #T_5dde6_row9_col3 {\n",
       "  border: 1px solid #ccc;\n",
       "  padding: 8px;\n",
       "  text-align: left;\n",
       "}\n",
       "</style>\n",
       "<table id=\"T_5dde6\" style='width:100%; border-collapse:collapse'>\n",
       "  <thead>\n",
       "    <tr>\n",
       "      <th class=\"blank level0\" >&nbsp;</th>\n",
       "      <th id=\"T_5dde6_level0_col0\" class=\"col_heading level0 col0\" >doc_id</th>\n",
       "      <th id=\"T_5dde6_level0_col1\" class=\"col_heading level0 col1\" >score</th>\n",
       "      <th id=\"T_5dde6_level0_col2\" class=\"col_heading level0 col2\" >title</th>\n",
       "      <th id=\"T_5dde6_level0_col3\" class=\"col_heading level0 col3\" >abstract</th>\n",
       "    </tr>\n",
       "  </thead>\n",
       "  <tbody>\n",
       "    <tr>\n",
       "      <th id=\"T_5dde6_level0_row0\" class=\"row_heading level0 row0\" >0</th>\n",
       "      <td id=\"T_5dde6_row0_col0\" class=\"data row0 col0\" >h8abjsxr</td>\n",
       "      <td id=\"T_5dde6_row0_col1\" class=\"data row0 col1\" >7.291247</td>\n",
       "      <td id=\"T_5dde6_row0_col2\" class=\"data row0 col2\" >新型冠状病毒SARS-CoV-2的变异和进化分析OBJECTIVE: To analyze the evolution and variation <mark style=\"background-color: #ffd54f;\">of</mark> SARS-CoV-2 during the epidemic starting at the end <mark style=\"background-color: #ffd54f;\">of</mark> 2019</td>\n",
       "      <td id=\"T_5dde6_row0_col3\" class=\"data row0 col3\" >METHODS: We downloaded the full-length genome sequence <mark style=\"background-color: #ffd54f;\">of</mark> SARS-CoV-2 from the databases <mark style=\"background-color: #ffd54f;\">of</mark> GISAID and NCBI. Using the software for bioinformatics including MEGA-X, BEAST, and TempEst, we constructed the genomic evolution tree, inferred the time evolution signal <mark style=\"background-color: #ffd54f;\">of</mark> the virus, calculated the tMRCA time <mark style=\"background-color: #ffd54f;\">of</mark> the virus and analyzed the selection pressure <mark style=\"background-color: #ffd54f;\">of</mark> the virus during evolution. RESULTS: The phylogenetic tree showed that SARS-CoV-2 belonged to the Sarbecovirus subgenus <mark style=\"background-color: #ffd54f;\">of</mark> β Coronavirus genus together with bat coronavirus BetaCoV/bat/Yunnan/RaTG13/2013, bat-SL-CoVZC45, bat-SL-CoVZXC21 and SARS-CoV. The genomic sequences <mark style=\"background-color: #ffd54f;\">of</mark> SARS-CoV-2 isolated from the ongoing epidemic showed a weak time evolution signal with an average tMRCA time <mark style=\"background-color: #ffd54f;\">of</mark> 73 days (95% CI: 38.9-119.3 days). No positive time evolution signal was found between SARS-CoV-2 and BetaCoV/bat/Yunnan/RaTG13/2013, but the former virus had a strong positive temporal evolution relationship with bat-SL-CoVZC45 and SARS-CoV. The major cause for mutations <mark style=\"background-color: #ffd54f;\">of</mark> SARS-CoV-2 was the pressure <mark style=\"background-color: #ffd54f;\">of</mark> purification selection during the epidemic. CONCLUSION: SARS-CoV-2 may have emerged as early as November, 2019, originating most likely from bat-associated coronavirus. This finding may provide evidence for tracing the sources and evolution <mark style=\"background-color: #ffd54f;\">of</mark> the virus.</td>\n",
       "    </tr>\n",
       "    <tr>\n",
       "      <th id=\"T_5dde6_level0_row1\" class=\"row_heading level0 row1\" >1</th>\n",
       "      <td id=\"T_5dde6_row1_col0\" class=\"data row1 col0\" >ne5r4d4b</td>\n",
       "      <td id=\"T_5dde6_row1_col1\" class=\"data row1 col1\" >6.778319</td>\n",
       "      <td id=\"T_5dde6_row1_col2\" class=\"data row1 col2\" ><mark style=\"background-color: #ffd54f;\">Origin</mark> and evolution <mark style=\"background-color: #ffd54f;\">of</mark> pathogenic coronavirusesSevere acute respiratory syndrome coronavirus (SARS-CoV) and Middle East respiratory syndrome coronavirus (MERS-CoV) are two highly transmissible and pathogenic viruses that emerged in humans at the beginning <mark style=\"background-color: #ffd54f;\">of</mark> the 21st century</td>\n",
       "      <td id=\"T_5dde6_row1_col3\" class=\"data row1 col3\" >Both viruses likely originated in bats, and genetically diverse coronaviruses that are related to SARS-CoV and MERS-CoV were discovered in bats worldwide. In this Review, we summarize the current knowledge on the <mark style=\"background-color: #ffd54f;\">origin</mark> and evolution <mark style=\"background-color: #ffd54f;\">of</mark> these two pathogenic coronaviruses and discuss their receptor usage; we also highlight the diversity and potential <mark style=\"background-color: #ffd54f;\">of</mark> spillover <mark style=\"background-color: #ffd54f;\">of</mark> bat-borne coronaviruses, as evidenced by the recent spillover <mark style=\"background-color: #ffd54f;\">of</mark> swine acute diarrhoea syndrome coronavirus (SADS-CoV) to pigs.</td>\n",
       "    </tr>\n",
       "    <tr>\n",
       "      <th id=\"T_5dde6_level0_row2\" class=\"row_heading level0 row2\" >2</th>\n",
       "      <td id=\"T_5dde6_row2_col0\" class=\"data row2 col0\" >h2uc7ria</td>\n",
       "      <td id=\"T_5dde6_row2_col1\" class=\"data row2 col1\" >6.709783</td>\n",
       "      <td id=\"T_5dde6_row2_col2\" class=\"data row2 col2\" >Evolutionary origins <mark style=\"background-color: #ffd54f;\">of</mark> the SARS-CoV-2 sarbecovirus lineage responsible for the <mark style=\"background-color: #ffd54f;\">COVID</mark>-<mark style=\"background-color: #ffd54f;\">19</mark> pandemicThere are outstanding evolutionary questions on the recent emergence <mark style=\"background-color: #ffd54f;\">of</mark> coronavirus SARS-CoV-2/hCoV-<mark style=\"background-color: #ffd54f;\">19</mark> in Hubei province that caused the <mark style=\"background-color: #ffd54f;\">COVID</mark>-<mark style=\"background-color: #ffd54f;\">19</mark> pandemic, including (1) the relationship <mark style=\"background-color: #ffd54f;\">of</mark> the new virus to the SARS-related coronaviruses, (2) the role <mark style=\"background-color: #ffd54f;\">of</mark> bats as a reservoir species, (3) the potential role <mark style=\"background-color: #ffd54f;\">of</mark> other mammals in the emergence event, and (4) the role <mark style=\"background-color: #ffd54f;\">of</mark> recombination in viral emergence</td>\n",
       "      <td id=\"T_5dde6_row2_col3\" class=\"data row2 col3\" >Here, we address these questions and find that the sarbecoviruses -- the viral subgenus responsible for the emergence <mark style=\"background-color: #ffd54f;\">of</mark> SARS-CoV and SARS-CoV-2 -- exhibit frequent recombination, but the SARS-CoV-2 lineage itself is not a recombinant <mark style=\"background-color: #ffd54f;\">of</mark> any viruses detected to date. In order to employ phylogenetic methods to date the divergence events between SARS-CoV-2 and the bat sarbecovirus reservoir, recombinant regions <mark style=\"background-color: #ffd54f;\">of</mark> a 68-genome sarbecovirus alignment were removed with three independent methods. Bayesian evolutionary rate and divergence date estimates were consistent for all three recombination-free alignments and robust to two different prior specifications based on HCoV-OC43 and MERS-CoV evolutionary rates. Divergence dates between SARS-CoV-2 and the bat sarbecovirus reservoir were estimated as 1948 (95% HPD: 1879-1999), 1969 (95% HPD: 1930-2000), and 1982 (95% HPD: 1948-2009). Despite intensified characterization <mark style=\"background-color: #ffd54f;\">of</mark> sarbecoviruses since SARS, the lineage giving rise to SARS-CoV-2 has been circulating unnoticed for decades in bats and been transmitted to other hosts such as pangolins. The occurrence <mark style=\"background-color: #ffd54f;\">of</mark> a third significant coronavirus emergence in 17 years together with the high prevalence and virus diversity in bats implies that these viruses are likely to cross species boundaries again.</td>\n",
       "    </tr>\n",
       "    <tr>\n",
       "      <th id=\"T_5dde6_level0_row3\" class=\"row_heading level0 row3\" >3</th>\n",
       "      <td id=\"T_5dde6_row3_col0\" class=\"data row3 col0\" >fw4pmaoc</td>\n",
       "      <td id=\"T_5dde6_row3_col1\" class=\"data row3 col1\" >6.703740</td>\n",
       "      <td id=\"T_5dde6_row3_col2\" class=\"data row3 col2\" >Evidence <mark style=\"background-color: #ffd54f;\">of</mark> the Recombinant <mark style=\"background-color: #ffd54f;\">Origin</mark> and Ongoing Mutations in Severe Acute Respiratory Syndrome Coronavirus 2 (SARS-CoV-2)SUMMARYThe recent global outbreak <mark style=\"background-color: #ffd54f;\">of</mark> viral pneumonia designated as Coronavirus Disease 2019 (<mark style=\"background-color: #ffd54f;\">COVID</mark>-<mark style=\"background-color: #ffd54f;\">19</mark>) by coronavirus (SARS-CoV-2) has threatened global public health and urged to investigate its source</td>\n",
       "      <td id=\"T_5dde6_row3_col3\" class=\"data row3 col3\" >Whole genome analysis <mark style=\"background-color: #ffd54f;\">of</mark> SARS-CoV-2 revealed ~96% genomic similarity with bat CoV (RaTG13) and clustered together in phylogenetic tree. Furthermore, RaTGl3 also showed 97.43% spike protein similarity with SARS-CoV-2 suggesting that RaTGl3 is the closest strain. However, RBD and key amino acid residues supposed to be crucial for human-to-human and cross-species transmission are homologues between SARS-CoV-2 and pangolin CoVs. These results from our analysis suggest that SARS-CoV-2 is a recombinant virus <mark style=\"background-color: #ffd54f;\">of</mark> bat and pangolin CoVs. Moreover, this study also reports mutations in coding regions <mark style=\"background-color: #ffd54f;\">of</mark> 125 SARS-CoV-2 genomes signifying its aptitude for evolution. In short, our findings propose that homologous recombination has been occurred between bat and pangolin CoVs that triggered cross-species transmission and emergence <mark style=\"background-color: #ffd54f;\">of</mark> SARS-CoV-2, and, during the ongoing outbreak, SARS-CoV-2 is still evolving for its adaptability.</td>\n",
       "    </tr>\n",
       "    <tr>\n",
       "      <th id=\"T_5dde6_level0_row4\" class=\"row_heading level0 row4\" >4</th>\n",
       "      <td id=\"T_5dde6_row4_col0\" class=\"data row4 col0\" >luxgc7st</td>\n",
       "      <td id=\"T_5dde6_row4_col1\" class=\"data row4 col1\" >6.659697</td>\n",
       "      <td id=\"T_5dde6_row4_col2\" class=\"data row4 col2\" >From SARS to <mark style=\"background-color: #ffd54f;\">COVID</mark>-<mark style=\"background-color: #ffd54f;\">19</mark>: A previously unknown SARS- related coronavirus (SARS-CoV-2) <mark style=\"background-color: #ffd54f;\">of</mark> pandemic potential infecting humans – Call for a One Health approachHuman coronaviruses continue to pose a threat to human health</td>\n",
       "      <td id=\"T_5dde6_row4_col3\" class=\"data row4 col3\" >The emergence <mark style=\"background-color: #ffd54f;\">of</mark> severe acute respiratory syndrome coronavirus 2 (SARS-CoV-2) in December 2019 which causes coronavirus disease-2019 (<mark style=\"background-color: #ffd54f;\">COVID</mark>-<mark style=\"background-color: #ffd54f;\">19</mark>), an acute respiratory disease marked the third introduction <mark style=\"background-color: #ffd54f;\">of</mark> a highly pathogenic coronavirus into the human population in the twenty-first century. This recent emergence <mark style=\"background-color: #ffd54f;\">of</mark> a previously unknown coronavirus in China leads to huge impacts on humans globally. <mark style=\"background-color: #ffd54f;\">Covid</mark>-<mark style=\"background-color: #ffd54f;\">19</mark> is a challenge to global public health. Here, we discuss the <mark style=\"background-color: #ffd54f;\">COVID</mark>-<mark style=\"background-color: #ffd54f;\">19</mark> outbreak in a one health context, highlighting the need for the implementation <mark style=\"background-color: #ffd54f;\">of</mark> one health measures and practices to improve human health and reduce the emergence <mark style=\"background-color: #ffd54f;\">of</mark> pandemic viruses.</td>\n",
       "    </tr>\n",
       "    <tr>\n",
       "      <th id=\"T_5dde6_level0_row5\" class=\"row_heading level0 row5\" >5</th>\n",
       "      <td id=\"T_5dde6_row5_col0\" class=\"data row5 col0\" >1mjaycee</td>\n",
       "      <td id=\"T_5dde6_row5_col1\" class=\"data row5 col1\" >6.655657</td>\n",
       "      <td id=\"T_5dde6_row5_col2\" class=\"data row5 col2\" ><mark style=\"background-color: #ffd54f;\">COVID</mark>-<mark style=\"background-color: #ffd54f;\">19</mark> infection: <mark style=\"background-color: #ffd54f;\">Origin</mark>, transmission, and characteristics <mark style=\"background-color: #ffd54f;\">of</mark> human coronavirusesThe coronavirus disease <mark style=\"background-color: #ffd54f;\">19</mark> (<mark style=\"background-color: #ffd54f;\">COVID</mark>-<mark style=\"background-color: #ffd54f;\">19</mark>) is a highly transmittable and pathogenic viral infection caused by severe acute respiratory syndrome coronavirus 2 (SARS-CoV-2), which emerged in Wuhan, China and spread around the world</td>\n",
       "      <td id=\"T_5dde6_row5_col3\" class=\"data row5 col3\" >Genomic analysis revealed that SARS-CoV-2 is phylogenetically related to severe acute respiratory syndrome-like (SARS-like) bat viruses, therefore bats could be the possible primary reservoir. The intermediate source <mark style=\"background-color: #ffd54f;\">of</mark> <mark style=\"background-color: #ffd54f;\">origin</mark> and transfer to humans is not known, however, the rapid human to human transfer has been confirmed widely. There is no clinically approved antiviral drug or vaccine available to be used against <mark style=\"background-color: #ffd54f;\">COVID</mark>-<mark style=\"background-color: #ffd54f;\">19</mark>. However, few broad-spectrum antiviral drugs have been evaluated against <mark style=\"background-color: #ffd54f;\">COVID</mark>-<mark style=\"background-color: #ffd54f;\">19</mark> in clinical trials, resulted in clinical recovery. In the current review, we summarize and comparatively analyze the emergence and pathogenicity <mark style=\"background-color: #ffd54f;\">of</mark> <mark style=\"background-color: #ffd54f;\">COVID</mark>-<mark style=\"background-color: #ffd54f;\">19</mark> infection and previous human coronaviruses severe acute respiratory syndrome coronavirus (SARS-CoV) and middle east respiratory syndrome coronavirus (MERS-CoV). We also discuss the approaches for developing effective vaccines and therapeutic combinations to cope with this viral outbreak.</td>\n",
       "    </tr>\n",
       "    <tr>\n",
       "      <th id=\"T_5dde6_level0_row6\" class=\"row_heading level0 row6\" >6</th>\n",
       "      <td id=\"T_5dde6_row6_col0\" class=\"data row6 col0\" >0nh58odf</td>\n",
       "      <td id=\"T_5dde6_row6_col1\" class=\"data row6 col1\" >6.572066</td>\n",
       "      <td id=\"T_5dde6_row6_col2\" class=\"data row6 col2\" >Genetic diversity and evolution <mark style=\"background-color: #ffd54f;\">of</mark> SARS-CoV-2Abstract <mark style=\"background-color: #ffd54f;\">COVID</mark>-<mark style=\"background-color: #ffd54f;\">19</mark> is a viral respiratory illness caused by a new coronavirus called SARS-CoV-2</td>\n",
       "      <td id=\"T_5dde6_row6_col3\" class=\"data row6 col3\" >The World Health Organization declared the SARS-CoV-2 outbreak a global public health emergency. We performed genetic analyses <mark style=\"background-color: #ffd54f;\">of</mark> eighty-six complete or near-complete genomes <mark style=\"background-color: #ffd54f;\">of</mark> SARS-CoV-2 and revealed many mutations and deletions on coding and non-coding regions. These observations provided evidence <mark style=\"background-color: #ffd54f;\">of</mark> the genetic diversity and rapid evolution <mark style=\"background-color: #ffd54f;\">of</mark> this novel coronavirus.</td>\n",
       "    </tr>\n",
       "    <tr>\n",
       "      <th id=\"T_5dde6_level0_row7\" class=\"row_heading level0 row7\" >7</th>\n",
       "      <td id=\"T_5dde6_row7_col0\" class=\"data row7 col0\" >es7q6c90</td>\n",
       "      <td id=\"T_5dde6_row7_col1\" class=\"data row7 col1\" >6.571111</td>\n",
       "      <td id=\"T_5dde6_row7_col2\" class=\"data row7 col2\" >Evidence for a Common Evolutionary <mark style=\"background-color: #ffd54f;\">Origin</mark> <mark style=\"background-color: #ffd54f;\">of</mark> Coronavirus Spike Protein Receptor-Binding SubunitsAmong different coronavirus genera, the receptor-binding S1 subunits <mark style=\"background-color: #ffd54f;\">of</mark> their spike proteins differ in primary, secondary, and tertiary structures</td>\n",
       "      <td id=\"T_5dde6_row7_col3\" class=\"data row7 col3\" >This study identified shared structural topologies (connectivity <mark style=\"background-color: #ffd54f;\">of</mark> secondary structural elements) in S1 domains <mark style=\"background-color: #ffd54f;\">of</mark> different coronavirus genera. The results suggest that coronavirus S1 subunits share a common evolutionary <mark style=\"background-color: #ffd54f;\">origin</mark> but have attained diverse sequences and structures following extensive divergent evolution. The results also increase understanding <mark style=\"background-color: #ffd54f;\">of</mark> the structures and functions <mark style=\"background-color: #ffd54f;\">of</mark> coronavirus S1 domains whose tertiary structures are currently unknown.</td>\n",
       "    </tr>\n",
       "    <tr>\n",
       "      <th id=\"T_5dde6_level0_row8\" class=\"row_heading level0 row8\" >8</th>\n",
       "      <td id=\"T_5dde6_row8_col0\" class=\"data row8 col0\" >9ojile3q</td>\n",
       "      <td id=\"T_5dde6_row8_col1\" class=\"data row8 col1\" >6.528918</td>\n",
       "      <td id=\"T_5dde6_row8_col2\" class=\"data row8 col2\" >Emergence <mark style=\"background-color: #ffd54f;\">of</mark> a group 3 coronavirus through recombinationAbstract Analyses <mark style=\"background-color: #ffd54f;\">of</mark> turkey coronavirus (TCoV), an enteric disease virus that is highly similar to infectious bronchitis virus (IBV) an upper-respiratory tract disease virus in chickens, were conducted to determine the adaptive potential, and genetic changes associated with emergence <mark style=\"background-color: #ffd54f;\">of</mark> this group 3 coronavirus</td>\n",
       "      <td id=\"T_5dde6_row8_col3\" class=\"data row8 col3\" >Strains <mark style=\"background-color: #ffd54f;\">of</mark> TCoV that were pathogenic in poults and nonpathogenic in chickens did not adapt to cause disease in chickens. Comparative genomics revealed two recombination sites that replaced the spike gene in IBV with an unidentified sequence likely from another coronavirus, resulting in cross-species transmission and a pathogenicity shift. Following emergence in turkeys, TCoV diverged to different serotypes through the accumulation <mark style=\"background-color: #ffd54f;\">of</mark> mutations within spike. This is the first evidence that recombination can directly lead to the emergence <mark style=\"background-color: #ffd54f;\">of</mark> new coronaviruses and new coronaviral diseases, emphasizing the importance <mark style=\"background-color: #ffd54f;\">of</mark> limiting exposure to reservoirs <mark style=\"background-color: #ffd54f;\">of</mark> coronaviruses that can serve as a source <mark style=\"background-color: #ffd54f;\">of</mark> genetic material for emerging viruses.</td>\n",
       "    </tr>\n",
       "    <tr>\n",
       "      <th id=\"T_5dde6_level0_row9\" class=\"row_heading level0 row9\" >9</th>\n",
       "      <td id=\"T_5dde6_row9_col0\" class=\"data row9 col0\" >1e28zj1d</td>\n",
       "      <td id=\"T_5dde6_row9_col1\" class=\"data row9 col1\" >6.523772</td>\n",
       "      <td id=\"T_5dde6_row9_col2\" class=\"data row9 col2\" >Insights into the cross-species evolution <mark style=\"background-color: #ffd54f;\">of</mark> 2019 novel coronavirusRecent study reported in this journal that the threats <mark style=\"background-color: #ffd54f;\">of</mark> continuous evolution and dissemination <mark style=\"background-color: #ffd54f;\">of</mark> 2019 human coronaviruses.1 Since its emergence in December 2019, a “seventh” member <mark style=\"background-color: #ffd54f;\">of</mark> the family <mark style=\"background-color: #ffd54f;\">of</mark> 2019 human coronavirus named “SARS-CoV-2” was responsible for an outbreak <mark style=\"background-color: #ffd54f;\">of</mark> coronavirus disease (<mark style=\"background-color: #ffd54f;\">COVID</mark>-<mark style=\"background-color: #ffd54f;\">19</mark>) in Wuhan, China.2 As <mark style=\"background-color: #ffd54f;\">of</mark> February 23, 2020, China had reported more than 77,042 confirmed cases <mark style=\"background-color: #ffd54f;\">of</mark> SARS-CoV-2, with 2,445 fatalities and counting (http://www.nhc.gov.cn)</td>\n",
       "      <td id=\"T_5dde6_row9_col3\" class=\"data row9 col3\" >Strikingly, SARS-CoV-2 had been transmitted rapidly in more than 29 countries to date (https://www.who.int), including Asia, Europe, North America, Africa, and Oceania, posing serious concerns about its pandemic potential. Despite <mark style=\"background-color: #ffd54f;\">of</mark> droplet and contact transmissions <mark style=\"background-color: #ffd54f;\">of</mark> SARS-CoV-2, recent studies demonstrated that SARS-CoV-2 might be transmitted via aerosol and fecal–oral routes 3 (Figure 1), which needs to be paid attention in particular.</td>\n",
       "    </tr>\n",
       "  </tbody>\n",
       "</table>\n"
      ],
      "text/plain": [
       "<pandas.io.formats.style.Styler at 0x2c54b12c990>"
      ]
     },
     "metadata": {},
     "output_type": "display_data"
    }
   ],
   "source": [
    "# Requête test\n",
    "query = \"origin of covid-19\"\n",
    "\n",
    "# Résultats enrichis par PRF\n",
    "results = search_bm25(query, top_k=10)\n",
    "\n",
    "display_search_results(results, query)\n"
   ]
  },
  {
   "cell_type": "markdown",
   "metadata": {},
   "source": [
    "### Remarque\n",
    "Nous constatons que les scores de bm25 ne se situent pas entre 0 et 1. D'après nos recherches, le score de bm25 se situe généralement entre [0,15] ou [0,25]"
   ]
  },
  {
   "cell_type": "markdown",
   "metadata": {},
   "source": [
    "#### Evaluation du modèle BM25"
   ]
  },
  {
   "cell_type": "code",
   "execution_count": 105,
   "metadata": {},
   "outputs": [
    {
     "name": "stdout",
     "output_type": "stream",
     "text": [
      "Evaluation du modèle BM25\n",
      "- precision@k: 0.7333\n",
      "- recall@k: 0.0276\n",
      "- F1@k: 0.0530\n",
      "- MRR: 0.9344\n",
      "- nDCG@k: 0.9353\n",
      "- MAP: 0.0254\n"
     ]
    }
   ],
   "source": [
    "results_bm25 = evaluate_model(search_bm25, queries_df, qrels_df, k=10)\n",
    "print(\"Evaluation du modèle BM25\")\n",
    "for metric, score in results_bm25.items():\n",
    "    print(f\"- {metric}: {score:.4f}\")\n"
   ]
  },
  {
   "cell_type": "markdown",
   "metadata": {},
   "source": [
    "### Commentaire\n",
    "\n",
    "Nous constatons un score bien plus grand que dans les travaux précédents pour ce modèle avancé, pour k=10, nous avons un score de 73% pour la précision, 93% pour le Mean Reciprocal Rank (le premier document est à 93% le document pertinent pour ces requêtes), 93% pour le nDCG (dans les 10 documents retournés, 93% sont pertinents pour les requêtes utilisées). Mais le rappel n'est pas encore très bon ici, c'est la raison pour laquelle nous allons effectuer le graphe afin de voir l'évolution de ces scores en fonction de k "
   ]
  },
  {
   "cell_type": "markdown",
   "metadata": {},
   "source": [
    "### Graphe d'évolution des scores en fonction de k avec bm25 "
   ]
  },
  {
   "cell_type": "code",
   "execution_count": 106,
   "metadata": {},
   "outputs": [],
   "source": [
    "ks = list(range(5, 200, 5))\n",
    "precision_scores = []\n",
    "recall_scores = []\n",
    "ndcg_scores = []\n",
    "f1_score = []\n",
    "mrr_score = []\n",
    "map_score = []\n",
    "\n",
    "for k in ks:\n",
    "    results = evaluate_model(search_bm25, queries_df, qrels_df, k=k)\n",
    "    precision_scores.append(results[\"precision@k\"])\n",
    "    recall_scores.append(results[\"recall@k\"])\n",
    "    ndcg_scores.append(results['nDCG@k'])\n",
    "    f1_score.append(results[\"F1@k\"])\n",
    "    mrr_score.append(results[\"MRR\"])\n",
    "    map_score.append(results[\"MAP\"])\n"
   ]
  },
  {
   "cell_type": "code",
   "execution_count": null,
   "metadata": {},
   "outputs": [
    {
     "data": {
      "image/png": "[encoded data removed]",
      "text/plain": [
       "<Figure size 800x600 with 1 Axes>"
      ]
     },
     "metadata": {},
     "output_type": "display_data"
    }
   ],
   "source": [
    "import matplotlib.pyplot as plt\n",
    "\n",
    "# Supposons que tu as déjà ces listes\n",
    "# ks, precision_scores, recall_scores, ndcg_scores\n",
    "\n",
    "plt.figure(figsize=(8, 6))\n",
    "\n",
    "# Tracer chaque courbe avec un marqueur et une couleur\n",
    "plt.plot(ks, precision_scores, label='Précision@k', color='blue')\n",
    "plt.plot(ks, recall_scores, label='Rappel@k', color='green')\n",
    "plt.plot(ks, ndcg_scores, label='nDCG@k', color='red')\n",
    "plt.plot(ks,f1_score, label='f1_score@k', color='orange' )\n",
    "plt.plot(ks, mrr_score, label='MRR', color='yellow')\n",
    "plt.plot(ks, map_score, label='MAP', color='purple')\n",
    "\n",
    "# Ajouter les labels et titre\n",
    "plt.xlabel('Valeur de k')\n",
    "plt.ylabel('Score')\n",
    "plt.title(\"Évolution des métriques en fonction de k (bm25)\")\n",
    "\n",
    "# Ajouter une légende\n",
    "plt.legend(loc='lower right')\n",
    "\n",
    "# Ajouter une grille pour plus de lisibilité\n",
    "plt.grid(True)\n",
    "\n",
    "# Affichage\n",
    "plt.tight_layout()\n",
    "plt.show()\n"
   ]
  },
  {
   "cell_type": "markdown",
   "metadata": {},
   "source": [
    "### Commentaire\n",
    "\n",
    "Le rappel ne veut pas avancer dans ce projet, il n'y a pas assez de documents pertinents pour les requêtes, nous pensons que c'est mieux de suivre le f1-score au lieu de suivre le rappel et la precision séparé. D'après le graphe, le MRR reste pareil, le ndcg semble regresser avant de devenir stable, mais à k=50, nous pouvons conclure"
   ]
  },
  {
   "cell_type": "code",
   "execution_count": 108,
   "metadata": {},
   "outputs": [
    {
     "name": "stdout",
     "output_type": "stream",
     "text": [
      "Evaluation du modèle BM25\n",
      "- precision@k: 0.4960\n",
      "- recall@k: 0.0941\n",
      "- F1@k: 0.1573\n",
      "- MRR: 0.9344\n",
      "- nDCG@k: 0.8964\n",
      "- MAP: 0.0749\n"
     ]
    }
   ],
   "source": [
    "results_bm25 = evaluate_model(search_bm25, queries_df, qrels_df, k=50)\n",
    "print(\"Evaluation du modèle BM25\")\n",
    "for metric, score in results_bm25.items():\n",
    "    print(f\"- {metric}: {score:.4f}\")\n"
   ]
  },
  {
   "cell_type": "markdown",
   "metadata": {},
   "source": [
    "### Explorons aussi MTMBM25 qui a donné le plus grand score pour les chercheurs en 2020 durant le challenge "
   ]
  },
  {
   "cell_type": "code",
   "execution_count": 109,
   "metadata": {},
   "outputs": [],
   "source": [
    "from sklearn.metrics.pairwise import cosine_similarity\n",
    "\n",
    "def search_mtmbm25(query_text, top_k=10, alpha=0.5):\n",
    "    # alpha : poids SBERT (0.5 = moyenne avec BM25)\n",
    "    query_embedding = model_sbert.encode(query_text, convert_to_tensor=True)\n",
    "    similarities_sbert = cosine_similarity(query_embedding.cpu().numpy().reshape(1, -1), doc_embeddings.cpu().numpy()).flatten()\n",
    "\n",
    "    tokenized_query = word_tokenize(query_text.lower())\n",
    "    scores_bm25 = bm25.get_scores(tokenized_query)\n",
    "\n",
    "    final_scores = alpha * similarities_sbert + (1 - alpha) * scores_bm25\n",
    "    top_indices = final_scores.argsort()[::-1][:top_k]\n",
    "\n",
    "    top_docs = documents_df.iloc[top_indices].copy()\n",
    "    top_docs[\"score\"] = final_scores[top_indices]\n",
    "    top_docs[\"title\"] = top_docs[\"text\"].apply(lambda t: t.split(\". \")[0] if \". \" in t else t[:100])\n",
    "    top_docs[\"abstract\"] = top_docs[\"text\"].apply(lambda t: t if \". \" not in t else \". \".join(t.split(\". \")[1:]))\n",
    "\n",
    "    return top_docs[[\"doc_id\", \"title\", \"abstract\", \"score\"]].to_dict(orient=\"records\")\n"
   ]
  },
  {
   "cell_type": "markdown",
   "metadata": {},
   "source": [
    "#### Exemple sur une requête "
   ]
  },
  {
   "cell_type": "code",
   "execution_count": 110,
   "metadata": {},
   "outputs": [
    {
     "data": {
      "text/html": [
       "<style type=\"text/css\">\n",
       "#T_ac858 th {\n",
       "  background-color: #208A9D;\n",
       "  color: white;\n",
       "  font-weight: bold;\n",
       "}\n",
       "#T_ac858_row0_col0, #T_ac858_row0_col1, #T_ac858_row0_col2, #T_ac858_row0_col3, #T_ac858_row1_col0, #T_ac858_row1_col1, #T_ac858_row1_col2, #T_ac858_row1_col3, #T_ac858_row2_col0, #T_ac858_row2_col1, #T_ac858_row2_col2, #T_ac858_row2_col3, #T_ac858_row3_col0, #T_ac858_row3_col1, #T_ac858_row3_col2, #T_ac858_row3_col3, #T_ac858_row4_col0, #T_ac858_row4_col1, #T_ac858_row4_col2, #T_ac858_row4_col3, #T_ac858_row5_col0, #T_ac858_row5_col1, #T_ac858_row5_col2, #T_ac858_row5_col3, #T_ac858_row6_col0, #T_ac858_row6_col1, #T_ac858_row6_col2, #T_ac858_row6_col3, #T_ac858_row7_col0, #T_ac858_row7_col1, #T_ac858_row7_col2, #T_ac858_row7_col3, #T_ac858_row8_col0, #T_ac858_row8_col1, #T_ac858_row8_col2, #T_ac858_row8_col3, #T_ac858_row9_col0, #T_ac858_row9_col1, #T_ac858_row9_col2, #T_ac858_row9_col3 {\n",
       "  border: 1px solid #ccc;\n",
       "  padding: 8px;\n",
       "  text-align: left;\n",
       "}\n",
       "</style>\n",
       "<table id=\"T_ac858\" style='width:100%; border-collapse:collapse'>\n",
       "  <thead>\n",
       "    <tr>\n",
       "      <th class=\"blank level0\" >&nbsp;</th>\n",
       "      <th id=\"T_ac858_level0_col0\" class=\"col_heading level0 col0\" >doc_id</th>\n",
       "      <th id=\"T_ac858_level0_col1\" class=\"col_heading level0 col1\" >score</th>\n",
       "      <th id=\"T_ac858_level0_col2\" class=\"col_heading level0 col2\" >title</th>\n",
       "      <th id=\"T_ac858_level0_col3\" class=\"col_heading level0 col3\" >abstract</th>\n",
       "    </tr>\n",
       "  </thead>\n",
       "  <tbody>\n",
       "    <tr>\n",
       "      <th id=\"T_ac858_level0_row0\" class=\"row_heading level0 row0\" >0</th>\n",
       "      <td id=\"T_ac858_row0_col0\" class=\"data row0 col0\" >gy8d8285</td>\n",
       "      <td id=\"T_ac858_row0_col1\" class=\"data row0 col1\" >2.472703</td>\n",
       "      <td id=\"T_ac858_row0_col2\" class=\"data row0 col2\" >The <mark style=\"background-color: #ffd54f;\">Origin</mark> and Evolution <mark style=\"background-color: #ffd54f;\">of</mark> VirusesThe lecture covers three main topics: (i) Viruses: properties, pl</td>\n",
       "      <td id=\"T_ac858_row0_col3\" class=\"data row0 col3\" >The <mark style=\"background-color: #ffd54f;\">Origin</mark> and Evolution <mark style=\"background-color: #ffd54f;\">of</mark> VirusesThe lecture covers three main topics: (i) Viruses: properties, place in the living world, and possible <mark style=\"background-color: #ffd54f;\">origin</mark>; (ii) Molecular basis <mark style=\"background-color: #ffd54f;\">of</mark> viral variability and evolution; and (iii) Evolution <mark style=\"background-color: #ffd54f;\">of</mark> viral pathogenicity and emerging viral infections.</td>\n",
       "    </tr>\n",
       "    <tr>\n",
       "      <th id=\"T_ac858_level0_row1\" class=\"row_heading level0 row1\" >1</th>\n",
       "      <td id=\"T_ac858_row1_col0\" class=\"data row1 col0\" >01a8er2v</td>\n",
       "      <td id=\"T_ac858_row1_col1\" class=\"data row1 col1\" >2.414081</td>\n",
       "      <td id=\"T_ac858_row1_col2\" class=\"data row1 col2\" >Evolution <mark style=\"background-color: #ffd54f;\">of</mark> VirusesThe study <mark style=\"background-color: #ffd54f;\">of</mark> virus evolution has historically been concerned with disease and its emergence and has not been integrated into the general study <mark style=\"background-color: #ffd54f;\">of</mark> evolution</td>\n",
       "      <td id=\"T_ac858_row1_col3\" class=\"data row1 col3\" >Yet viruses dominate our planet and their evolution is a broad and applied field that can be studied in the real time (such HIV in human disease) and can also be applied to biotechnological problems. Virus evolution is very similar, but not identical, to host evolution. Darwinian principles apply, such as with Fisher population genetics, but other features, such as reticulated and quasispecies-based evolution, distinguish virus evolution. In RNA viruses, high error rates have led to the quasispecies concept in which collective populations are the basis <mark style=\"background-color: #ffd54f;\">of</mark> evolution. These populations provide viruses with high capacities for adaptation. Yet some RNA viruses show remarkable evolutionary stability. With DNA viruses, especially <mark style=\"background-color: #ffd54f;\">of</mark> bacteria, extensive recombination defines vast dynamic and ancient genetic pools. Temperate viruses can directly affect host gene pools by stable colonization. DNA viruses can be genetically complex and have evolved many unique viral genes. The retroviruses show both quasispecies-based rapid evolution and host-linked slow coevolution (e.g., endogenous retroviruses). Thus, virus evolution impacts all life and viral emergence continues to threaten human health.</td>\n",
       "    </tr>\n",
       "    <tr>\n",
       "      <th id=\"T_ac858_level0_row2\" class=\"row_heading level0 row2\" >2</th>\n",
       "      <td id=\"T_ac858_row2_col0\" class=\"data row2 col0\" >p0kv1pht</td>\n",
       "      <td id=\"T_ac858_row2_col1\" class=\"data row2 col1\" >2.408460</td>\n",
       "      <td id=\"T_ac858_row2_col2\" class=\"data row2 col2\" >Phylogenetic perspectives on the epidemiology and origins <mark style=\"background-color: #ffd54f;\">of</mark> SARS and SARS-like coronavirusesAbstract Severe Acute Respiratory Syndrome (SARS) is a respiratory disease caused by a zoonotic coronavirus (CoV) named SARS-CoV (SCoV), which rapidly swept the globe after its emergence in rural China during late 2002</td>\n",
       "      <td id=\"T_ac858_row2_col3\" class=\"data row2 col3\" >The origins <mark style=\"background-color: #ffd54f;\">of</mark> SCoV have been mysterious and controversial, until the recent discovery <mark style=\"background-color: #ffd54f;\">of</mark> SARS-like CoV (SLCoV) in bats and the proposal <mark style=\"background-color: #ffd54f;\">of</mark> bats as the natural reservior <mark style=\"background-color: #ffd54f;\">of</mark> the Coronaviridae family. In this article, we focused on discussing how phylogenetics contributed to our understanding towards the emergence and transmission <mark style=\"background-color: #ffd54f;\">of</mark> SCoV. We first reviewed the epidemiology <mark style=\"background-color: #ffd54f;\">of</mark> SCoV from a phylogenetic perspective and discussed the controversies over its phylogenetic origins. Then, we summarized the phylogenetic findings in relation to its zoonotic origins and the proposed inter-species viral transmission events. Finally, we also discussed how the discoveries <mark style=\"background-color: #ffd54f;\">of</mark> SCoV and SLCoV expanded our knowledge on the evolution <mark style=\"background-color: #ffd54f;\">of</mark> the Coronaviridae family as well as its implications on the possible future re-emergence <mark style=\"background-color: #ffd54f;\">of</mark> SCoV.</td>\n",
       "    </tr>\n",
       "    <tr>\n",
       "      <th id=\"T_ac858_level0_row3\" class=\"row_heading level0 row3\" >3</th>\n",
       "      <td id=\"T_ac858_row3_col0\" class=\"data row3 col0\" >ne5r4d4b</td>\n",
       "      <td id=\"T_ac858_row3_col1\" class=\"data row3 col1\" >2.401794</td>\n",
       "      <td id=\"T_ac858_row3_col2\" class=\"data row3 col2\" ><mark style=\"background-color: #ffd54f;\">Origin</mark> and evolution <mark style=\"background-color: #ffd54f;\">of</mark> pathogenic coronavirusesSevere acute respiratory syndrome coronavirus (SARS-CoV) and Middle East respiratory syndrome coronavirus (MERS-CoV) are two highly transmissible and pathogenic viruses that emerged in humans at the beginning <mark style=\"background-color: #ffd54f;\">of</mark> the 21st century</td>\n",
       "      <td id=\"T_ac858_row3_col3\" class=\"data row3 col3\" >Both viruses likely originated in bats, and genetically diverse coronaviruses that are related to SARS-CoV and MERS-CoV were discovered in bats worldwide. In this Review, we summarize the current knowledge on the <mark style=\"background-color: #ffd54f;\">origin</mark> and evolution <mark style=\"background-color: #ffd54f;\">of</mark> these two pathogenic coronaviruses and discuss their receptor usage; we also highlight the diversity and potential <mark style=\"background-color: #ffd54f;\">of</mark> spillover <mark style=\"background-color: #ffd54f;\">of</mark> bat-borne coronaviruses, as evidenced by the recent spillover <mark style=\"background-color: #ffd54f;\">of</mark> swine acute diarrhoea syndrome coronavirus (SADS-CoV) to pigs.</td>\n",
       "    </tr>\n",
       "    <tr>\n",
       "      <th id=\"T_ac858_level0_row4\" class=\"row_heading level0 row4\" >4</th>\n",
       "      <td id=\"T_ac858_row4_col0\" class=\"data row4 col0\" >7hw23xae</td>\n",
       "      <td id=\"T_ac858_row4_col1\" class=\"data row4 col1\" >2.367070</td>\n",
       "      <td id=\"T_ac858_row4_col2\" class=\"data row4 col2\" >Deciphering MERS-CoV Evolution in Dromedary CamelsThe emergence <mark style=\"background-color: #ffd54f;\">of</mark> the Middle East respiratory syndrome coronavirus (MERS-CoV) poses a potential threat to global public health</td>\n",
       "      <td id=\"T_ac858_row4_col3\" class=\"data row4 col3\" >Many aspects <mark style=\"background-color: #ffd54f;\">of</mark> the evolution and transmission <mark style=\"background-color: #ffd54f;\">of</mark> MERS-CoV in its animal reservoir remain unclear. A recent study provides new insights into the evolution and transmission <mark style=\"background-color: #ffd54f;\">of</mark> MERS-CoV in dromedary camels.</td>\n",
       "    </tr>\n",
       "    <tr>\n",
       "      <th id=\"T_ac858_level0_row5\" class=\"row_heading level0 row5\" >5</th>\n",
       "      <td id=\"T_ac858_row5_col0\" class=\"data row5 col0\" >h8abjsxr</td>\n",
       "      <td id=\"T_ac858_row5_col1\" class=\"data row5 col1\" >2.365179</td>\n",
       "      <td id=\"T_ac858_row5_col2\" class=\"data row5 col2\" >新型冠状病毒SARS-CoV-2的变异和进化分析OBJECTIVE: To analyze the evolution and variation <mark style=\"background-color: #ffd54f;\">of</mark> SARS-CoV-2 during the epidemic starting at the end <mark style=\"background-color: #ffd54f;\">of</mark> 2019</td>\n",
       "      <td id=\"T_ac858_row5_col3\" class=\"data row5 col3\" >METHODS: We downloaded the full-length genome sequence <mark style=\"background-color: #ffd54f;\">of</mark> SARS-CoV-2 from the databases <mark style=\"background-color: #ffd54f;\">of</mark> GISAID and NCBI. Using the software for bioinformatics including MEGA-X, BEAST, and TempEst, we constructed the genomic evolution tree, inferred the time evolution signal <mark style=\"background-color: #ffd54f;\">of</mark> the virus, calculated the tMRCA time <mark style=\"background-color: #ffd54f;\">of</mark> the virus and analyzed the selection pressure <mark style=\"background-color: #ffd54f;\">of</mark> the virus during evolution. RESULTS: The phylogenetic tree showed that SARS-CoV-2 belonged to the Sarbecovirus subgenus <mark style=\"background-color: #ffd54f;\">of</mark> β Coronavirus genus together with bat coronavirus BetaCoV/bat/Yunnan/RaTG13/2013, bat-SL-CoVZC45, bat-SL-CoVZXC21 and SARS-CoV. The genomic sequences <mark style=\"background-color: #ffd54f;\">of</mark> SARS-CoV-2 isolated from the ongoing epidemic showed a weak time evolution signal with an average tMRCA time <mark style=\"background-color: #ffd54f;\">of</mark> 73 days (95% CI: 38.9-119.3 days). No positive time evolution signal was found between SARS-CoV-2 and BetaCoV/bat/Yunnan/RaTG13/2013, but the former virus had a strong positive temporal evolution relationship with bat-SL-CoVZC45 and SARS-CoV. The major cause for mutations <mark style=\"background-color: #ffd54f;\">of</mark> SARS-CoV-2 was the pressure <mark style=\"background-color: #ffd54f;\">of</mark> purification selection during the epidemic. CONCLUSION: SARS-CoV-2 may have emerged as early as November, 2019, originating most likely from bat-associated coronavirus. This finding may provide evidence for tracing the sources and evolution <mark style=\"background-color: #ffd54f;\">of</mark> the virus.</td>\n",
       "    </tr>\n",
       "    <tr>\n",
       "      <th id=\"T_ac858_level0_row6\" class=\"row_heading level0 row6\" >6</th>\n",
       "      <td id=\"T_ac858_row6_col0\" class=\"data row6 col0\" >any83elf</td>\n",
       "      <td id=\"T_ac858_row6_col1\" class=\"data row6 col1\" >2.355213</td>\n",
       "      <td id=\"T_ac858_row6_col2\" class=\"data row6 col2\" >Parallel molecular evolution and adaptation in virusesParallel molecular evolution is the independent evolution <mark style=\"background-color: #ffd54f;\">of</mark> the same genotype or phenotype from distinct ancestors</td>\n",
       "      <td id=\"T_ac858_row6_col3\" class=\"data row6 col3\" >The simple genomes and rapid evolution <mark style=\"background-color: #ffd54f;\">of</mark> many viruses mean they are useful model systems for studying parallel evolution by natural selection. Parallel adaptation occurs in the context <mark style=\"background-color: #ffd54f;\">of</mark> several viral behaviours, including cross-species transmission, drug resistance, and host immune escape, and its existence suggests that at least some aspects <mark style=\"background-color: #ffd54f;\">of</mark> virus evolution and emergence are repeatable and predictable. We introduce examples <mark style=\"background-color: #ffd54f;\">of</mark> virus parallel evolution and summarise key concepts. We outline the difficulties in detecting parallel adaptation using virus genomes, with a particular focus on phylogenetic and structural approaches, and we discuss future approaches that may improve our understanding <mark style=\"background-color: #ffd54f;\">of</mark> the phenomenon.</td>\n",
       "    </tr>\n",
       "    <tr>\n",
       "      <th id=\"T_ac858_level0_row7\" class=\"row_heading level0 row7\" >7</th>\n",
       "      <td id=\"T_ac858_row7_col0\" class=\"data row7 col0\" >3sacf4wu</td>\n",
       "      <td id=\"T_ac858_row7_col1\" class=\"data row7 col1\" >2.340156</td>\n",
       "      <td id=\"T_ac858_row7_col2\" class=\"data row7 col2\" >Introduction: Conceptualizing and Partitioning the Emergence Process <mark style=\"background-color: #ffd54f;\">of</mark> Zoonotic Viruses from Wildlife to HumansThis introduction provides a telegraphic overview <mark style=\"background-color: #ffd54f;\">of</mark> the processes <mark style=\"background-color: #ffd54f;\">of</mark> zoonotic viral emergence, the intricacies <mark style=\"background-color: #ffd54f;\">of</mark> host–virus interactions, and the distinct role <mark style=\"background-color: #ffd54f;\">of</mark> biological transitions and modifying factors</td>\n",
       "      <td id=\"T_ac858_row7_col3\" class=\"data row7 col3\" >The process <mark style=\"background-color: #ffd54f;\">of</mark> emergence is conceptualized as two transition stages which are common and required for all disease emergence, (1) human contact with the infectious agent and (2) cross-species transmission <mark style=\"background-color: #ffd54f;\">of</mark> the agent, and two transition stages which are not required for emergence and appear unavailable to many zoonotic pathogens, (3) sustained human-to-human transmission and (4) genetic adaptation to the human host. The latter two transitions are presumably prerequisites for the pandemic emergence <mark style=\"background-color: #ffd54f;\">of</mark> a pathogen. The themes introduced herein are amplified and explored in detail by the contributors to this volume. Each author explores the mechanisms and unique circumstances by which evolution, biology, history, and current context have contrived to drive the emergence <mark style=\"background-color: #ffd54f;\">of</mark> different zoonotic agents by a series <mark style=\"background-color: #ffd54f;\">of</mark> related events; although recognizable similarities exist among the events leading to emergence the details and circumstances are never repetitive.</td>\n",
       "    </tr>\n",
       "    <tr>\n",
       "      <th id=\"T_ac858_level0_row8\" class=\"row_heading level0 row8\" >8</th>\n",
       "      <td id=\"T_ac858_row8_col0\" class=\"data row8 col0\" >49360l2a</td>\n",
       "      <td id=\"T_ac858_row8_col1\" class=\"data row8 col1\" >2.338890</td>\n",
       "      <td id=\"T_ac858_row8_col2\" class=\"data row8 col2\" >A phylogenomic data-driven exploration <mark style=\"background-color: #ffd54f;\">of</mark> viral origins and evolutionThe <mark style=\"background-color: #ffd54f;\">origin</mark> <mark style=\"background-color: #ffd54f;\">of</mark> viruses remains mysterious because <mark style=\"background-color: #ffd54f;\">of</mark> their diverse and patchy molecular and functional makeup</td>\n",
       "      <td id=\"T_ac858_row8_col3\" class=\"data row8 col3\" >Although numerous hypotheses have attempted to explain viral origins, none is backed by substantive data. We take full advantage <mark style=\"background-color: #ffd54f;\">of</mark> the wealth <mark style=\"background-color: #ffd54f;\">of</mark> available protein structural and functional data to explore the evolution <mark style=\"background-color: #ffd54f;\">of</mark> the proteomic makeup <mark style=\"background-color: #ffd54f;\">of</mark> thousands <mark style=\"background-color: #ffd54f;\">of</mark> cells and viruses. Despite the extremely reduced nature <mark style=\"background-color: #ffd54f;\">of</mark> viral proteomes, we established an ancient <mark style=\"background-color: #ffd54f;\">origin</mark> <mark style=\"background-color: #ffd54f;\">of</mark> the “viral supergroup” and the existence <mark style=\"background-color: #ffd54f;\">of</mark> widespread episodes <mark style=\"background-color: #ffd54f;\">of</mark> horizontal transfer <mark style=\"background-color: #ffd54f;\">of</mark> genetic information. Viruses harboring different replicon types and infecting distantly related hosts shared many metabolic and informational protein structural domains <mark style=\"background-color: #ffd54f;\">of</mark> ancient <mark style=\"background-color: #ffd54f;\">origin</mark> that were also widespread in cellular proteomes. Phylogenomic analysis uncovered a universal tree <mark style=\"background-color: #ffd54f;\">of</mark> life and revealed that modern viruses reduced from multiple ancient cells that harbored segmented RNA genomes and coexisted with the ancestors <mark style=\"background-color: #ffd54f;\">of</mark> modern cells. The model for the <mark style=\"background-color: #ffd54f;\">origin</mark> and evolution <mark style=\"background-color: #ffd54f;\">of</mark> viruses and cells is backed by strong genomic and structural evidence and can be reconciled with existing models <mark style=\"background-color: #ffd54f;\">of</mark> viral evolution if one considers viruses to have originated from ancient cells and not from modern counterparts.</td>\n",
       "    </tr>\n",
       "    <tr>\n",
       "      <th id=\"T_ac858_level0_row9\" class=\"row_heading level0 row9\" >9</th>\n",
       "      <td id=\"T_ac858_row9_col0\" class=\"data row9 col0\" >x0mz5ae7</td>\n",
       "      <td id=\"T_ac858_row9_col1\" class=\"data row9 col1\" >2.304707</td>\n",
       "      <td id=\"T_ac858_row9_col2\" class=\"data row9 col2\" >Predicting virus emergence amid evolutionary noiseThe study <mark style=\"background-color: #ffd54f;\">of</mark> virus disease emergence, whether it can be predicted and how it might be prevented, has become a major research topic in biomedicine</td>\n",
       "      <td id=\"T_ac858_row9_col3\" class=\"data row9 col3\" >Here we show that efforts to predict disease emergence commonly conflate fundamentally different evolutionary and epidemiological time scales, and are likely to fail because <mark style=\"background-color: #ffd54f;\">of</mark> the enormous number <mark style=\"background-color: #ffd54f;\">of</mark> unsampled viruses that could conceivably emerge in humans. Although we know much about the patterns and processes <mark style=\"background-color: #ffd54f;\">of</mark> virus evolution on evolutionary time scales as depicted in family-scale phylogenetic trees, these data have little predictive power to reveal the short-term microevolutionary processes that underpin cross-species transmission and emergence. Truly understanding disease emergence therefore requires a new mechanistic and integrated view <mark style=\"background-color: #ffd54f;\">of</mark> the factors that allow or prevent viruses spreading in novel hosts. We present such a view, suggesting that both ecological and genetic aspects <mark style=\"background-color: #ffd54f;\">of</mark> virus emergence can be placed within a simple population genetic framework, which in turn highlights the importance <mark style=\"background-color: #ffd54f;\">of</mark> host population size and density in determining whether emergence will be successful. Despite this framework, we conclude that a more practical solution to preventing and containing the successful emergence <mark style=\"background-color: #ffd54f;\">of</mark> new diseases entails ongoing virological surveillance at the human–animal interface and regions <mark style=\"background-color: #ffd54f;\">of</mark> ecological disturbance.</td>\n",
       "    </tr>\n",
       "  </tbody>\n",
       "</table>\n"
      ],
      "text/plain": [
       "<pandas.io.formats.style.Styler at 0x2c54adbbd50>"
      ]
     },
     "metadata": {},
     "output_type": "display_data"
    }
   ],
   "source": [
    "# Requête test\n",
    "query = \"origin of covid-19\"\n",
    "\n",
    "# Résultats enrichis par PRF\n",
    "results = search_mtmbm25(query, top_k=10)\n",
    "\n",
    "display_search_results(results, query)\n"
   ]
  },
  {
   "cell_type": "markdown",
   "metadata": {},
   "source": [
    "#### Evaluation du modèle MTMBM25"
   ]
  },
  {
   "cell_type": "code",
   "execution_count": 116,
   "metadata": {},
   "outputs": [
    {
     "name": "stdout",
     "output_type": "stream",
     "text": [
      "Evaluation du modèle MTMBM25\n",
      "- precision@k: 0.3253\n",
      "- recall@k: 0.0648\n",
      "- F1@k: 0.1074\n",
      "- MRR: 0.7054\n",
      "- nDCG@k: 0.7169\n",
      "- MAP: 0.0469\n"
     ]
    }
   ],
   "source": [
    "results_mtmbm25 = evaluate_model(search_mtmbm25, queries_df, qrels_df, k=50)\n",
    "print(\"Evaluation du modèle MTMBM25\")\n",
    "for metric, score in results_mtmbm25.items():\n",
    "    print(f\"- {metric}: {score:.4f}\")\n"
   ]
  },
  {
   "cell_type": "markdown",
   "metadata": {},
   "source": [
    "### Commentaire,\n",
    "Nous constatons également un bon score de ce côté, mais le modèle bm25 reste tout de même meilleur parmi tous les modèles que nous avons fait jusqu'ici, le modèle SciBERT nécessite plus d'espace pour sa mise en place nous n'avons pas pu le faire.\n",
    "\n",
    "Ainsi, nous allons conserver le modèle bm25 pour concevoir notre application"
   ]
  },
  {
   "cell_type": "markdown",
   "metadata": {},
   "source": [
    "### Graphe d'évolution des scores en fonction de k avec MTMBM25"
   ]
  },
  {
   "cell_type": "code",
   "execution_count": 112,
   "metadata": {},
   "outputs": [],
   "source": [
    "ks = list(range(5, 200, 5))\n",
    "precision_scores = []\n",
    "recall_scores = []\n",
    "ndcg_scores = []\n",
    "f1_score = []\n",
    "mrr_score = []\n",
    "map_score = []\n",
    "\n",
    "for k in ks:\n",
    "    results = evaluate_model(search_mtmbm25, queries_df, qrels_df, k=k)\n",
    "    precision_scores.append(results[\"precision@k\"])\n",
    "    recall_scores.append(results[\"recall@k\"])\n",
    "    ndcg_scores.append(results['nDCG@k'])\n",
    "    f1_score.append(results[\"F1@k\"])\n",
    "    mrr_score.append(results[\"MRR\"])\n",
    "    map_score.append(results[\"MAP\"])\n"
   ]
  },
  {
   "cell_type": "code",
   "execution_count": 115,
   "metadata": {},
   "outputs": [
    {
     "data": {
      "image/png": "[encoded data removed]",
      "text/plain": [
       "<Figure size 800x600 with 1 Axes>"
      ]
     },
     "metadata": {},
     "output_type": "display_data"
    }
   ],
   "source": [
    "import matplotlib.pyplot as plt\n",
    "\n",
    "# Supposons que tu as déjà ces listes\n",
    "# ks, precision_scores, recall_scores, ndcg_scores\n",
    "\n",
    "plt.figure(figsize=(8, 6))\n",
    "\n",
    "# Tracer chaque courbe avec un marqueur et une couleur\n",
    "plt.plot(ks, precision_scores, label='Précision@k', color='blue')\n",
    "plt.plot(ks, recall_scores, label='Rappel@k', color='green')\n",
    "plt.plot(ks, ndcg_scores, label='nDCG@k', color='red')\n",
    "plt.plot(ks,f1_score, label='f1_score@k', color='orange' )\n",
    "plt.plot(ks, mrr_score, label='MRR', color='yellow')\n",
    "plt.plot(ks, map_score, label='MAP', color='purple')\n",
    "\n",
    "# Ajouter les labels et titre\n",
    "plt.xlabel('Valeur de k')\n",
    "plt.ylabel('Score')\n",
    "plt.title(\"Évolution des métriques en fonction de k (mtmbm25)\")\n",
    "\n",
    "# Ajouter une légende\n",
    "plt.legend(loc='lower right')\n",
    "\n",
    "# Ajouter une grille pour plus de lisibilité\n",
    "plt.grid(True)\n",
    "\n",
    "# Affichage\n",
    "plt.tight_layout()\n",
    "plt.show()\n"
   ]
  },
  {
   "cell_type": "markdown",
   "metadata": {},
   "source": [
    "### Sauvegarde du modèle qui a donné le plus grand score afin de concevoir l'API "
   ]
  },
  {
   "cell_type": "markdown",
   "metadata": {},
   "source": [
    "### Sauvegarde des objets avec pickle\n",
    "\n",
    "Nous avons sauvegardés les données néttoyées et les embeddings pour mettre en place l'application"
   ]
  },
  {
   "cell_type": "code",
   "execution_count": 114,
   "metadata": {},
   "outputs": [],
   "source": [
    "import pickle\n",
    "\n",
    "# Sauvegarde du modèle bm25 + documents\n",
    "with open(\"bm25_model.pkl\", \"wb\") as f:\n",
    "    pickle.dump(bm25, f)\n",
    "\n",
    "# Sauvegarde du dataframe\n",
    "documents_df.to_csv(\"documents_cleaned.csv\", index=False)\n",
    "\n",
    "# Sauvegarde du tokenized_corpus \n",
    "with open(\"tokenized_corpus.pkl\", \"wb\") as f:\n",
    "    pickle.dump(tokenized_corpus, f)\n"
   ]
  }
 ],
 "metadata": {
  "kernelspec": {
   "display_name": "base",
   "language": "python",
   "name": "python3"
  },
  "language_info": {
   "codemirror_mode": {
    "name": "ipython",
    "version": 3
   },
   "file_extension": ".py",
   "mimetype": "text/x-python",
   "name": "python",
   "nbconvert_exporter": "python",
   "pygments_lexer": "ipython3",
   "version": "3.12.7"
  }
 },
 "nbformat": 4,
 "nbformat_minor": 2
}
